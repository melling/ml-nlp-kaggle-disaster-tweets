{
 "cells": [
  {
   "cell_type": "markdown",
   "id": "67e63aab",
   "metadata": {
    "papermill": {
     "duration": 0.012956,
     "end_time": "2022-07-21T20:23:43.137588",
     "exception": false,
     "start_time": "2022-07-21T20:23:43.124632",
     "status": "completed"
    },
    "tags": []
   },
   "source": [
    "<div style=\"background-color:rgba(128, 0, 128, 0.6);border-radius:5px;display:fill\"><h1 style=\"text-align: center;padding: 12px 0px 12px 0px;\">Disaster Tweets: Logistic Regression</h1>\n",
    "</div>\n",
    "\n",
    "Problem Type: Binary-classification\n",
    "\n",
    "## Evaluation Metric\n",
    "\n",
    "F1-Score"
   ]
  },
  {
   "cell_type": "code",
   "execution_count": 1,
   "id": "1542deca",
   "metadata": {
    "execution": {
     "iopub.execute_input": "2022-07-21T20:23:43.164102Z",
     "iopub.status.busy": "2022-07-21T20:23:43.163199Z",
     "iopub.status.idle": "2022-07-21T20:23:58.665462Z",
     "shell.execute_reply": "2022-07-21T20:23:58.664311Z"
    },
    "papermill": {
     "duration": 15.518416,
     "end_time": "2022-07-21T20:23:58.668341",
     "exception": false,
     "start_time": "2022-07-21T20:23:43.149925",
     "status": "completed"
    },
    "tags": []
   },
   "outputs": [
    {
     "name": "stdout",
     "output_type": "stream",
     "text": [
      "\u001b[33mWARNING: Running pip as the 'root' user can result in broken permissions and conflicting behaviour with the system package manager. It is recommended to use a virtual environment instead: https://pip.pypa.io/warnings/venv\u001b[0m\u001b[33m\r\n",
      "\u001b[0m"
     ]
    }
   ],
   "source": [
    "# Black formatter https://black.readthedocs.io/en/stable/\n",
    "\n",
    "! pip install nb-black > /dev/null\n",
    "\n",
    "%load_ext lab_black"
   ]
  },
  {
   "cell_type": "markdown",
   "id": "fb00a520",
   "metadata": {
    "papermill": {
     "duration": 0.011861,
     "end_time": "2022-07-21T20:23:58.692209",
     "exception": false,
     "start_time": "2022-07-21T20:23:58.680348",
     "status": "completed"
    },
    "tags": []
   },
   "source": [
    "<div style=\"background-color:rgba(128, 0, 128, 0.6);border-radius:5px;display:fill\"><h1 style=\"text-align: center;padding: 12px 0px 12px 0px;\">Configuration</h1>\n",
    "</div>"
   ]
  },
  {
   "cell_type": "code",
   "execution_count": 2,
   "id": "0dbfe019",
   "metadata": {
    "execution": {
     "iopub.execute_input": "2022-07-21T20:23:58.718458Z",
     "iopub.status.busy": "2022-07-21T20:23:58.718051Z",
     "iopub.status.idle": "2022-07-21T20:23:58.724583Z",
     "shell.execute_reply": "2022-07-21T20:23:58.723784Z"
    },
    "papermill": {
     "duration": 0.022024,
     "end_time": "2022-07-21T20:23:58.726582",
     "exception": false,
     "start_time": "2022-07-21T20:23:58.704558",
     "status": "completed"
    },
    "tags": []
   },
   "outputs": [],
   "source": [
    "data_dir = \"../input/nlp-getting-started/\""
   ]
  },
  {
   "cell_type": "code",
   "execution_count": 3,
   "id": "bd86f704",
   "metadata": {
    "execution": {
     "iopub.execute_input": "2022-07-21T20:23:58.753176Z",
     "iopub.status.busy": "2022-07-21T20:23:58.752510Z",
     "iopub.status.idle": "2022-07-21T20:23:58.758439Z",
     "shell.execute_reply": "2022-07-21T20:23:58.757314Z"
    },
    "papermill": {
     "duration": 0.022241,
     "end_time": "2022-07-21T20:23:58.760721",
     "exception": false,
     "start_time": "2022-07-21T20:23:58.738480",
     "status": "completed"
    },
    "tags": []
   },
   "outputs": [],
   "source": [
    "TARGET = \"target\""
   ]
  },
  {
   "cell_type": "markdown",
   "id": "f8731fcd",
   "metadata": {
    "papermill": {
     "duration": 0.011526,
     "end_time": "2022-07-21T20:23:58.783921",
     "exception": false,
     "start_time": "2022-07-21T20:23:58.772395",
     "status": "completed"
    },
    "tags": []
   },
   "source": [
    "<div style=\"background-color:rgba(128, 0, 128, 0.6);border-radius:5px;display:fill\"><h1 style=\"text-align: center;padding: 12px 0px 12px 0px;\">Import Libraries</h1>\n",
    "</div>\n",
    "\n",
    "A best practise is to include all libraries here.  However, I will put a few imports farther down where they are first used so beginners can learn with an \"as needed\" approach."
   ]
  },
  {
   "cell_type": "code",
   "execution_count": 4,
   "id": "fd0fb8aa",
   "metadata": {
    "execution": {
     "iopub.execute_input": "2022-07-21T20:23:58.809073Z",
     "iopub.status.busy": "2022-07-21T20:23:58.808650Z",
     "iopub.status.idle": "2022-07-21T20:24:00.729617Z",
     "shell.execute_reply": "2022-07-21T20:24:00.728735Z"
    },
    "papermill": {
     "duration": 1.93657,
     "end_time": "2022-07-21T20:24:00.732166",
     "exception": false,
     "start_time": "2022-07-21T20:23:58.795596",
     "status": "completed"
    },
    "tags": []
   },
   "outputs": [],
   "source": [
    "import os\n",
    "import time\n",
    "from pathlib import Path\n",
    "\n",
    "import pandas as pd\n",
    "import numpy as np\n",
    "\n",
    "from sklearn.model_selection import train_test_split\n",
    "\n",
    "from sklearn.metrics import f1_score\n",
    "\n",
    "# Visualization Libraries\n",
    "import matplotlib.pylab as plt\n",
    "import seaborn as sns\n",
    "\n",
    "import nltk\n",
    "from nltk.corpus import stopwords\n",
    "\n",
    "from sklearn.linear_model import LogisticRegression"
   ]
  },
  {
   "cell_type": "markdown",
   "id": "2677fcfc",
   "metadata": {
    "papermill": {
     "duration": 0.011898,
     "end_time": "2022-07-21T20:24:00.755790",
     "exception": false,
     "start_time": "2022-07-21T20:24:00.743892",
     "status": "completed"
    },
    "tags": []
   },
   "source": [
    "<div style=\"background-color:rgba(128, 0, 128, 0.6);border-radius:5px;display:fill\"><h1 style=\"text-align: center;padding: 12px 0px 12px 0px;\">Library</h1>\n",
    "</div>\n",
    "\n",
    "Creating a few functions that we will reuse in each project."
   ]
  },
  {
   "cell_type": "code",
   "execution_count": 5,
   "id": "e8651f23",
   "metadata": {
    "execution": {
     "iopub.execute_input": "2022-07-21T20:24:00.781596Z",
     "iopub.status.busy": "2022-07-21T20:24:00.780866Z",
     "iopub.status.idle": "2022-07-21T20:24:00.796465Z",
     "shell.execute_reply": "2022-07-21T20:24:00.795347Z"
    },
    "papermill": {
     "duration": 0.031043,
     "end_time": "2022-07-21T20:24:00.798878",
     "exception": false,
     "start_time": "2022-07-21T20:24:00.767835",
     "status": "completed"
    },
    "tags": []
   },
   "outputs": [],
   "source": [
    "def read_data(path):\n",
    "    data_dir = Path(path)\n",
    "\n",
    "    train = pd.read_csv(data_dir / \"train.csv\")\n",
    "    test = pd.read_csv(data_dir / \"test.csv\")\n",
    "    submission_df = pd.read_csv(data_dir / \"sample_submission.csv\")\n",
    "\n",
    "    print(f\"train data: Rows={train.shape[0]}, Columns={train.shape[1]}\")\n",
    "    print(f\"test data : Rows={test.shape[0]}, Columns={test.shape[1]}\")\n",
    "    return train, test, submission_df"
   ]
  },
  {
   "cell_type": "code",
   "execution_count": 6,
   "id": "1d351619",
   "metadata": {
    "execution": {
     "iopub.execute_input": "2022-07-21T20:24:00.824146Z",
     "iopub.status.busy": "2022-07-21T20:24:00.823694Z",
     "iopub.status.idle": "2022-07-21T20:24:00.838102Z",
     "shell.execute_reply": "2022-07-21T20:24:00.837116Z"
    },
    "papermill": {
     "duration": 0.029775,
     "end_time": "2022-07-21T20:24:00.840356",
     "exception": false,
     "start_time": "2022-07-21T20:24:00.810581",
     "status": "completed"
    },
    "tags": []
   },
   "outputs": [],
   "source": [
    "def create_submission(model_name, target, preds, is_log_target=False):\n",
    "    if is_log_target:\n",
    "        #         preds = np.exp(preds)\n",
    "        preds = np.expm1(preds)\n",
    "\n",
    "    sample_submission[target] = preds\n",
    "    if len(model_name) > 0:\n",
    "        sample_submission.to_csv(f\"submission_{model_name}.csv\", index=False)\n",
    "    else:\n",
    "        sample_submission.to_csv(f\"submission.csv\", index=False)\n",
    "\n",
    "    return sample_submission"
   ]
  },
  {
   "cell_type": "code",
   "execution_count": 7,
   "id": "aa13f849",
   "metadata": {
    "execution": {
     "iopub.execute_input": "2022-07-21T20:24:00.866168Z",
     "iopub.status.busy": "2022-07-21T20:24:00.865442Z",
     "iopub.status.idle": "2022-07-21T20:24:00.877949Z",
     "shell.execute_reply": "2022-07-21T20:24:00.877098Z"
    },
    "papermill": {
     "duration": 0.028119,
     "end_time": "2022-07-21T20:24:00.880363",
     "exception": false,
     "start_time": "2022-07-21T20:24:00.852244",
     "status": "completed"
    },
    "tags": []
   },
   "outputs": [],
   "source": [
    "from sklearn.metrics import mean_absolute_error, mean_squared_error, f1_score\n",
    "\n",
    "\n",
    "def show_scores(gt, yhat):\n",
    "    f1 = f1_score(gt, yhat, average=\"macro\")\n",
    "    mse = mean_squared_error(gt, yhat)\n",
    "    mae = mean_absolute_error(gt, yhat)\n",
    "    rmse = np.sqrt(mse)\n",
    "    #     r2_square = r2_score(gt, yhat)\n",
    "\n",
    "    print(f\"f1: {f1:.4f}\")"
   ]
  },
  {
   "cell_type": "markdown",
   "id": "3e9e77ab",
   "metadata": {
    "papermill": {
     "duration": 0.011602,
     "end_time": "2022-07-21T20:24:00.903554",
     "exception": false,
     "start_time": "2022-07-21T20:24:00.891952",
     "status": "completed"
    },
    "tags": []
   },
   "source": [
    "<div style=\"background-color:rgba(128, 0, 128, 0.6);border-radius:5px;display:fill\"><h1 style=\"text-align: center;padding: 12px 0px 12px 0px;\">Load Train/Test Data</h1>\n",
    "</div>\n",
    "\n",
    "- train.csv - Data used to build our machine learning model\n",
    "- test.csv - Data used to build our machine learning model. Does not contain the target variable\n",
    "- sample_submission.csv - A file in the proper format to submit test predictions"
   ]
  },
  {
   "cell_type": "code",
   "execution_count": 8,
   "id": "e4c24b0a",
   "metadata": {
    "execution": {
     "iopub.execute_input": "2022-07-21T20:24:00.929615Z",
     "iopub.status.busy": "2022-07-21T20:24:00.928902Z",
     "iopub.status.idle": "2022-07-21T20:24:01.017130Z",
     "shell.execute_reply": "2022-07-21T20:24:01.015943Z"
    },
    "papermill": {
     "duration": 0.10494,
     "end_time": "2022-07-21T20:24:01.020375",
     "exception": false,
     "start_time": "2022-07-21T20:24:00.915435",
     "status": "completed"
    },
    "tags": []
   },
   "outputs": [
    {
     "name": "stdout",
     "output_type": "stream",
     "text": [
      "train data: Rows=7613, Columns=5\n",
      "test data : Rows=3263, Columns=4\n"
     ]
    }
   ],
   "source": [
    "train, test, sample_submission = read_data(data_dir)"
   ]
  },
  {
   "cell_type": "code",
   "execution_count": 9,
   "id": "7e0084c3",
   "metadata": {
    "execution": {
     "iopub.execute_input": "2022-07-21T20:24:01.047578Z",
     "iopub.status.busy": "2022-07-21T20:24:01.046778Z",
     "iopub.status.idle": "2022-07-21T20:24:01.069931Z",
     "shell.execute_reply": "2022-07-21T20:24:01.069071Z"
    },
    "papermill": {
     "duration": 0.039148,
     "end_time": "2022-07-21T20:24:01.072302",
     "exception": false,
     "start_time": "2022-07-21T20:24:01.033154",
     "status": "completed"
    },
    "tags": []
   },
   "outputs": [
    {
     "data": {
      "text/html": [
       "<div>\n",
       "<style scoped>\n",
       "    .dataframe tbody tr th:only-of-type {\n",
       "        vertical-align: middle;\n",
       "    }\n",
       "\n",
       "    .dataframe tbody tr th {\n",
       "        vertical-align: top;\n",
       "    }\n",
       "\n",
       "    .dataframe thead th {\n",
       "        text-align: right;\n",
       "    }\n",
       "</style>\n",
       "<table border=\"1\" class=\"dataframe\">\n",
       "  <thead>\n",
       "    <tr style=\"text-align: right;\">\n",
       "      <th></th>\n",
       "      <th>id</th>\n",
       "      <th>keyword</th>\n",
       "      <th>location</th>\n",
       "      <th>text</th>\n",
       "      <th>target</th>\n",
       "    </tr>\n",
       "  </thead>\n",
       "  <tbody>\n",
       "    <tr>\n",
       "      <th>0</th>\n",
       "      <td>1</td>\n",
       "      <td>NaN</td>\n",
       "      <td>NaN</td>\n",
       "      <td>Our Deeds are the Reason of this #earthquake M...</td>\n",
       "      <td>1</td>\n",
       "    </tr>\n",
       "    <tr>\n",
       "      <th>1</th>\n",
       "      <td>4</td>\n",
       "      <td>NaN</td>\n",
       "      <td>NaN</td>\n",
       "      <td>Forest fire near La Ronge Sask. Canada</td>\n",
       "      <td>1</td>\n",
       "    </tr>\n",
       "    <tr>\n",
       "      <th>2</th>\n",
       "      <td>5</td>\n",
       "      <td>NaN</td>\n",
       "      <td>NaN</td>\n",
       "      <td>All residents asked to 'shelter in place' are ...</td>\n",
       "      <td>1</td>\n",
       "    </tr>\n",
       "    <tr>\n",
       "      <th>3</th>\n",
       "      <td>6</td>\n",
       "      <td>NaN</td>\n",
       "      <td>NaN</td>\n",
       "      <td>13,000 people receive #wildfires evacuation or...</td>\n",
       "      <td>1</td>\n",
       "    </tr>\n",
       "    <tr>\n",
       "      <th>4</th>\n",
       "      <td>7</td>\n",
       "      <td>NaN</td>\n",
       "      <td>NaN</td>\n",
       "      <td>Just got sent this photo from Ruby #Alaska as ...</td>\n",
       "      <td>1</td>\n",
       "    </tr>\n",
       "  </tbody>\n",
       "</table>\n",
       "</div>"
      ],
      "text/plain": [
       "   id keyword location                                               text  \\\n",
       "0   1     NaN      NaN  Our Deeds are the Reason of this #earthquake M...   \n",
       "1   4     NaN      NaN             Forest fire near La Ronge Sask. Canada   \n",
       "2   5     NaN      NaN  All residents asked to 'shelter in place' are ...   \n",
       "3   6     NaN      NaN  13,000 people receive #wildfires evacuation or...   \n",
       "4   7     NaN      NaN  Just got sent this photo from Ruby #Alaska as ...   \n",
       "\n",
       "   target  \n",
       "0       1  \n",
       "1       1  \n",
       "2       1  \n",
       "3       1  \n",
       "4       1  "
      ]
     },
     "execution_count": 9,
     "metadata": {},
     "output_type": "execute_result"
    }
   ],
   "source": [
    "train.head()"
   ]
  },
  {
   "cell_type": "markdown",
   "id": "54180bbe",
   "metadata": {
    "papermill": {
     "duration": 0.012036,
     "end_time": "2022-07-21T20:24:01.096653",
     "exception": false,
     "start_time": "2022-07-21T20:24:01.084617",
     "status": "completed"
    },
    "tags": []
   },
   "source": [
    "<div style=\"background-color:rgba(128, 0, 128, 0.6);border-radius:5px;display:fill\"><h1 style=\"text-align: center;padding: 12px 0px 12px 0px;\">Clean Data</h1>\n",
    "</div>"
   ]
  },
  {
   "cell_type": "code",
   "execution_count": 10,
   "id": "a5b60a1b",
   "metadata": {
    "execution": {
     "iopub.execute_input": "2022-07-21T20:24:01.123847Z",
     "iopub.status.busy": "2022-07-21T20:24:01.123090Z",
     "iopub.status.idle": "2022-07-21T20:24:01.162584Z",
     "shell.execute_reply": "2022-07-21T20:24:01.161353Z"
    },
    "papermill": {
     "duration": 0.056149,
     "end_time": "2022-07-21T20:24:01.165552",
     "exception": false,
     "start_time": "2022-07-21T20:24:01.109403",
     "status": "completed"
    },
    "tags": []
   },
   "outputs": [],
   "source": [
    "import re\n",
    "import string\n",
    "\n",
    "\n",
    "def remove_URL(text):\n",
    "    url = re.compile(r\"https?://\\S+\")\n",
    "    return url.sub(r\" httpsmark \", text)\n",
    "\n",
    "\n",
    "def remove_html(text):\n",
    "    html = re.compile(r\"<.*?>\")\n",
    "    return html.sub(r\"\", text)\n",
    "\n",
    "\n",
    "def remove_atsymbol(text):\n",
    "    name = re.compile(r\"@\\S+\")\n",
    "    return name.sub(r\" atsymbol \", text)\n",
    "\n",
    "\n",
    "def remove_hashtag(text):\n",
    "    hashtag = re.compile(r\"#\")\n",
    "    return hashtag.sub(r\" hashtag \", text)\n",
    "\n",
    "\n",
    "def remove_exclamation(text):\n",
    "    exclamation = re.compile(r\"!\")\n",
    "    return exclamation.sub(r\" exclamation \", text)\n",
    "\n",
    "\n",
    "def remove_question(text):\n",
    "    question = re.compile(r\"?\")\n",
    "    return question.sub(r\" question \", text)\n",
    "\n",
    "\n",
    "def remove_punc(text):\n",
    "    return text.translate(str.maketrans(\"\", \"\", string.punctuation))\n",
    "\n",
    "\n",
    "def remove_number(text):\n",
    "    number = re.compile(r\"\\d+\")\n",
    "    return number.sub(r\" number \", text)\n",
    "\n",
    "\n",
    "def remove_emoji(string):\n",
    "    emoji_pattern = re.compile(\n",
    "        \"[\"\n",
    "        \"\\U0001F600-\\U0001F64F\"  # emoticons\n",
    "        \"\\U0001F300-\\U0001F5FF\"  # symbols & pictographs\n",
    "        \"\\U0001F680-\\U0001F6FF\"  # transport & map symbols\n",
    "        \"\\U0001F1E0-\\U0001F1FF\"  # flags (iOS)\n",
    "        \"\\U00002500-\\U00002BEF\"  # chinese char\n",
    "        \"\\U00002702-\\U000027B0\"\n",
    "        \"\\U00002702-\\U000027B0\"\n",
    "        \"\\U000024C2-\\U0001F251\"\n",
    "        \"\\U0001f926-\\U0001f937\"\n",
    "        \"\\U00010000-\\U0010ffff\"\n",
    "        \"\\u2640-\\u2642\"\n",
    "        \"\\u2600-\\u2B55\"\n",
    "        \"\\u200d\"\n",
    "        \"\\u23cf\"\n",
    "        \"\\u23e9\"\n",
    "        \"\\u231a\"\n",
    "        \"\\ufe0f\"  # dingbats\n",
    "        \"\\u3030\"\n",
    "        \"]+\",\n",
    "        flags=re.UNICODE,\n",
    "    )\n",
    "    return emoji_pattern.sub(r\" emoji \", string)"
   ]
  },
  {
   "cell_type": "code",
   "execution_count": 11,
   "id": "f7aeda09",
   "metadata": {
    "execution": {
     "iopub.execute_input": "2022-07-21T20:24:01.191847Z",
     "iopub.status.busy": "2022-07-21T20:24:01.191091Z",
     "iopub.status.idle": "2022-07-21T20:24:01.577826Z",
     "shell.execute_reply": "2022-07-21T20:24:01.576969Z"
    },
    "papermill": {
     "duration": 0.403065,
     "end_time": "2022-07-21T20:24:01.580527",
     "exception": false,
     "start_time": "2022-07-21T20:24:01.177462",
     "status": "completed"
    },
    "tags": []
   },
   "outputs": [],
   "source": [
    "train[\"text\"] = train[\"text\"].str.lower()\n",
    "train[\"text\"] = train[\"text\"].apply(lambda text: remove_URL(text))\n",
    "train[\"text\"] = train[\"text\"].apply(lambda text: remove_html(text))\n",
    "train[\"text\"] = train[\"text\"].apply(lambda text: remove_atsymbol(text))\n",
    "train[\"text\"] = train[\"text\"].apply(lambda text: remove_hashtag(text))\n",
    "train[\"text\"] = train[\"text\"].apply(lambda text: remove_exclamation(text))\n",
    "train[\"text\"] = train[\"text\"].apply(lambda text: remove_punc(text))\n",
    "train[\"text\"] = train[\"text\"].apply(lambda text: remove_number(text))\n",
    "train[\"text\"] = train[\"text\"].apply(lambda text: remove_emoji(text))\n",
    "\n",
    "\n",
    "test[\"text\"] = test[\"text\"].str.lower()\n",
    "test[\"text\"] = test[\"text\"].apply(lambda text: remove_URL(text))\n",
    "test[\"text\"] = test[\"text\"].apply(lambda text: remove_html(text))\n",
    "test[\"text\"] = test[\"text\"].apply(lambda text: remove_atsymbol(text))\n",
    "test[\"text\"] = test[\"text\"].apply(lambda text: remove_hashtag(text))\n",
    "test[\"text\"] = test[\"text\"].apply(lambda text: remove_exclamation(text))\n",
    "test[\"text\"] = test[\"text\"].apply(lambda text: remove_punc(text))\n",
    "test[\"text\"] = test[\"text\"].apply(lambda text: remove_number(text))\n",
    "test[\"text\"] = test[\"text\"].apply(lambda text: remove_emoji(text))"
   ]
  },
  {
   "cell_type": "code",
   "execution_count": 12,
   "id": "01e2a2ca",
   "metadata": {
    "execution": {
     "iopub.execute_input": "2022-07-21T20:24:01.607645Z",
     "iopub.status.busy": "2022-07-21T20:24:01.606607Z",
     "iopub.status.idle": "2022-07-21T20:24:01.620174Z",
     "shell.execute_reply": "2022-07-21T20:24:01.619268Z"
    },
    "papermill": {
     "duration": 0.029867,
     "end_time": "2022-07-21T20:24:01.622679",
     "exception": false,
     "start_time": "2022-07-21T20:24:01.592812",
     "status": "completed"
    },
    "tags": []
   },
   "outputs": [
    {
     "data": {
      "text/html": [
       "<div>\n",
       "<style scoped>\n",
       "    .dataframe tbody tr th:only-of-type {\n",
       "        vertical-align: middle;\n",
       "    }\n",
       "\n",
       "    .dataframe tbody tr th {\n",
       "        vertical-align: top;\n",
       "    }\n",
       "\n",
       "    .dataframe thead th {\n",
       "        text-align: right;\n",
       "    }\n",
       "</style>\n",
       "<table border=\"1\" class=\"dataframe\">\n",
       "  <thead>\n",
       "    <tr style=\"text-align: right;\">\n",
       "      <th></th>\n",
       "      <th>id</th>\n",
       "      <th>keyword</th>\n",
       "      <th>location</th>\n",
       "      <th>text</th>\n",
       "      <th>target</th>\n",
       "    </tr>\n",
       "  </thead>\n",
       "  <tbody>\n",
       "    <tr>\n",
       "      <th>0</th>\n",
       "      <td>1</td>\n",
       "      <td>NaN</td>\n",
       "      <td>NaN</td>\n",
       "      <td>our deeds are the reason of this  hashtag eart...</td>\n",
       "      <td>1</td>\n",
       "    </tr>\n",
       "    <tr>\n",
       "      <th>1</th>\n",
       "      <td>4</td>\n",
       "      <td>NaN</td>\n",
       "      <td>NaN</td>\n",
       "      <td>forest fire near la ronge sask canada</td>\n",
       "      <td>1</td>\n",
       "    </tr>\n",
       "    <tr>\n",
       "      <th>2</th>\n",
       "      <td>5</td>\n",
       "      <td>NaN</td>\n",
       "      <td>NaN</td>\n",
       "      <td>all residents asked to shelter in place are be...</td>\n",
       "      <td>1</td>\n",
       "    </tr>\n",
       "    <tr>\n",
       "      <th>3</th>\n",
       "      <td>6</td>\n",
       "      <td>NaN</td>\n",
       "      <td>NaN</td>\n",
       "      <td>number  people receive  hashtag wildfires eva...</td>\n",
       "      <td>1</td>\n",
       "    </tr>\n",
       "    <tr>\n",
       "      <th>4</th>\n",
       "      <td>7</td>\n",
       "      <td>NaN</td>\n",
       "      <td>NaN</td>\n",
       "      <td>just got sent this photo from ruby  hashtag al...</td>\n",
       "      <td>1</td>\n",
       "    </tr>\n",
       "  </tbody>\n",
       "</table>\n",
       "</div>"
      ],
      "text/plain": [
       "   id keyword location                                               text  \\\n",
       "0   1     NaN      NaN  our deeds are the reason of this  hashtag eart...   \n",
       "1   4     NaN      NaN              forest fire near la ronge sask canada   \n",
       "2   5     NaN      NaN  all residents asked to shelter in place are be...   \n",
       "3   6     NaN      NaN   number  people receive  hashtag wildfires eva...   \n",
       "4   7     NaN      NaN  just got sent this photo from ruby  hashtag al...   \n",
       "\n",
       "   target  \n",
       "0       1  \n",
       "1       1  \n",
       "2       1  \n",
       "3       1  \n",
       "4       1  "
      ]
     },
     "execution_count": 12,
     "metadata": {},
     "output_type": "execute_result"
    }
   ],
   "source": [
    "train.head()"
   ]
  },
  {
   "cell_type": "code",
   "execution_count": 13,
   "id": "7f407b60",
   "metadata": {
    "execution": {
     "iopub.execute_input": "2022-07-21T20:24:01.649815Z",
     "iopub.status.busy": "2022-07-21T20:24:01.649205Z",
     "iopub.status.idle": "2022-07-21T20:24:01.667515Z",
     "shell.execute_reply": "2022-07-21T20:24:01.666310Z"
    },
    "papermill": {
     "duration": 0.035237,
     "end_time": "2022-07-21T20:24:01.670325",
     "exception": false,
     "start_time": "2022-07-21T20:24:01.635088",
     "status": "completed"
    },
    "tags": []
   },
   "outputs": [],
   "source": [
    "def clean_text(text):\n",
    "    \"\"\"Make text lowercase, remove text in square brackets,remove links,remove punctuation\n",
    "    and remove words containing numbers.\"\"\"\n",
    "    text = text.lower()\n",
    "    text = re.sub(\"\\[.*?\\]\", \"\", text)\n",
    "    text = re.sub(\"https?://\\S+|www\\.\\S+\", \"\", text)\n",
    "    text = re.sub(\"<.*?>+\", \"\", text)\n",
    "    text = re.sub(\"[%s]\" % re.escape(string.punctuation), \"\", text)\n",
    "    text = re.sub(\"\\n\", \"\", text)\n",
    "    text = re.sub(\"\\w*\\d\\w*\", \"\", text)\n",
    "    return text"
   ]
  },
  {
   "cell_type": "code",
   "execution_count": 14,
   "id": "3941af26",
   "metadata": {
    "execution": {
     "iopub.execute_input": "2022-07-21T20:24:01.698091Z",
     "iopub.status.busy": "2022-07-21T20:24:01.696797Z",
     "iopub.status.idle": "2022-07-21T20:24:01.706961Z",
     "shell.execute_reply": "2022-07-21T20:24:01.705884Z"
    },
    "papermill": {
     "duration": 0.026242,
     "end_time": "2022-07-21T20:24:01.709134",
     "exception": false,
     "start_time": "2022-07-21T20:24:01.682892",
     "status": "completed"
    },
    "tags": []
   },
   "outputs": [],
   "source": [
    "def remove_stopwords(text):\n",
    "    words = [w for w in text if w not in stopwords.words(\"english\")]\n",
    "    return words\n",
    "\n",
    "\n",
    "# train[\"text\"] = train[\"text\"].apply(lambda x: remove_stopwords(x))\n",
    "# test[\"text\"] = test[\"text\"].apply(lambda x: remove_stopwords(x))\n",
    "# train.head()"
   ]
  },
  {
   "cell_type": "markdown",
   "id": "5b95d989",
   "metadata": {
    "papermill": {
     "duration": 0.012935,
     "end_time": "2022-07-21T20:24:01.734550",
     "exception": false,
     "start_time": "2022-07-21T20:24:01.721615",
     "status": "completed"
    },
    "tags": []
   },
   "source": [
    "- https://www.kaggle.com/code/parulpandey/getting-started-with-nlp-a-general-intro\n",
    "- https://www.kaggle.com/code/saipkb86/disaster-tweets-logistic-naive\n",
    "- https://www.kaggle.com/code/rhodiumbeng/logistic-regression-baseline"
   ]
  },
  {
   "cell_type": "code",
   "execution_count": 15,
   "id": "faf3eebb",
   "metadata": {
    "execution": {
     "iopub.execute_input": "2022-07-21T20:24:01.762608Z",
     "iopub.status.busy": "2022-07-21T20:24:01.761936Z",
     "iopub.status.idle": "2022-07-21T20:24:01.776053Z",
     "shell.execute_reply": "2022-07-21T20:24:01.775028Z"
    },
    "papermill": {
     "duration": 0.031144,
     "end_time": "2022-07-21T20:24:01.778744",
     "exception": false,
     "start_time": "2022-07-21T20:24:01.747600",
     "status": "completed"
    },
    "tags": []
   },
   "outputs": [],
   "source": [
    "def text_preprocessing(text):\n",
    "    \"\"\"\n",
    "    Cleaning and parsing the text.\n",
    "\n",
    "    \"\"\"\n",
    "    tokenizer = nltk.tokenize.RegexpTokenizer(r\"\\w+\")\n",
    "\n",
    "    nopunc = clean_text(text)\n",
    "    tokenized_text = tokenizer.tokenize(nopunc)\n",
    "    remove_stopwords = [\n",
    "        w for w in tokenized_text if w not in stopwords.words(\"english\")\n",
    "    ]\n",
    "    combined_text = \" \".join(remove_stopwords)\n",
    "    return combined_text"
   ]
  },
  {
   "cell_type": "code",
   "execution_count": 16,
   "id": "edc3e52a",
   "metadata": {
    "execution": {
     "iopub.execute_input": "2022-07-21T20:24:01.806561Z",
     "iopub.status.busy": "2022-07-21T20:24:01.805721Z",
     "iopub.status.idle": "2022-07-21T20:24:01.813054Z",
     "shell.execute_reply": "2022-07-21T20:24:01.812183Z"
    },
    "papermill": {
     "duration": 0.02422,
     "end_time": "2022-07-21T20:24:01.815332",
     "exception": false,
     "start_time": "2022-07-21T20:24:01.791112",
     "status": "completed"
    },
    "tags": []
   },
   "outputs": [],
   "source": [
    "from sklearn.feature_extraction.text import CountVectorizer, TfidfVectorizer\n",
    "\n",
    "# count_vectorizer = CountVectorizer()\n",
    "# train_vectors = count_vectorizer.fit_transform(train['text'])\n",
    "# test_vectors = count_vectorizer.transform(test[\"text\"])\n",
    "\n",
    "# ## Keeping only non-zero elements to preserve space\n",
    "# print(train_vectors[0].todense())"
   ]
  },
  {
   "cell_type": "markdown",
   "id": "284a305b",
   "metadata": {
    "papermill": {
     "duration": 0.011917,
     "end_time": "2022-07-21T20:24:01.839399",
     "exception": false,
     "start_time": "2022-07-21T20:24:01.827482",
     "status": "completed"
    },
    "tags": []
   },
   "source": [
    "<div style=\"background-color:rgba(128, 0, 128, 0.6);border-radius:5px;display:fill\"><h1 style=\"text-align: center;padding: 12px 0px 12px 0px;\">Features</h1>\n",
    "</div>"
   ]
  },
  {
   "cell_type": "code",
   "execution_count": 17,
   "id": "73cabc35",
   "metadata": {
    "execution": {
     "iopub.execute_input": "2022-07-21T20:24:01.865914Z",
     "iopub.status.busy": "2022-07-21T20:24:01.865134Z",
     "iopub.status.idle": "2022-07-21T20:24:01.875345Z",
     "shell.execute_reply": "2022-07-21T20:24:01.874395Z"
    },
    "papermill": {
     "duration": 0.026381,
     "end_time": "2022-07-21T20:24:01.877816",
     "exception": false,
     "start_time": "2022-07-21T20:24:01.851435",
     "status": "completed"
    },
    "tags": []
   },
   "outputs": [],
   "source": [
    "FEATURES = [\n",
    "    col\n",
    "    for col in train.columns\n",
    "    if col\n",
    "    not in [\n",
    "        \"Id\",\n",
    "        TARGET,\n",
    "        #         TARGET_ENC,\n",
    "    ]\n",
    "]"
   ]
  },
  {
   "cell_type": "code",
   "execution_count": 18,
   "id": "d2ad5f3b",
   "metadata": {
    "execution": {
     "iopub.execute_input": "2022-07-21T20:24:01.904655Z",
     "iopub.status.busy": "2022-07-21T20:24:01.903870Z",
     "iopub.status.idle": "2022-07-21T20:24:01.921429Z",
     "shell.execute_reply": "2022-07-21T20:24:01.920376Z"
    },
    "papermill": {
     "duration": 0.034103,
     "end_time": "2022-07-21T20:24:01.924062",
     "exception": false,
     "start_time": "2022-07-21T20:24:01.889959",
     "status": "completed"
    },
    "tags": []
   },
   "outputs": [],
   "source": [
    "y = train[TARGET]\n",
    "X = train[FEATURES].copy()\n",
    "\n",
    "X_test = test[FEATURES].copy()"
   ]
  },
  {
   "cell_type": "markdown",
   "id": "8b302bcb",
   "metadata": {
    "execution": {
     "iopub.execute_input": "2022-07-19T19:44:01.140457Z",
     "iopub.status.busy": "2022-07-19T19:44:01.139714Z",
     "iopub.status.idle": "2022-07-19T19:44:01.157867Z",
     "shell.execute_reply": "2022-07-19T19:44:01.154383Z",
     "shell.execute_reply.started": "2022-07-19T19:44:01.140426Z"
    },
    "papermill": {
     "duration": 0.011968,
     "end_time": "2022-07-21T20:24:01.948580",
     "exception": false,
     "start_time": "2022-07-21T20:24:01.936612",
     "status": "completed"
    },
    "tags": []
   },
   "source": [
    "Tokenize then pad sequence.\n",
    "\n",
    "### Vectorization vs Tokenization\n",
    "\n",
    "- https://datascience.stackexchange.com/questions/104859/what-is-the-difference-between-textvectorization-and-tokenizer\n",
    "- https://stackoverflow.com/questions/71002866/difference-between-tokenizer-and-textvectorization-layer-in-tensorflow\n",
    "- [You should try the new TensorFlow’s TextVectorization layer](https://towardsdatascience.com/you-should-try-the-new-tensorflows-textvectorization-layer-a80b3c6b00ee)"
   ]
  },
  {
   "cell_type": "code",
   "execution_count": null,
   "id": "dbe16008",
   "metadata": {
    "papermill": {
     "duration": 0.011937,
     "end_time": "2022-07-21T20:24:01.972599",
     "exception": false,
     "start_time": "2022-07-21T20:24:01.960662",
     "status": "completed"
    },
    "tags": []
   },
   "outputs": [],
   "source": []
  },
  {
   "cell_type": "code",
   "execution_count": 19,
   "id": "d548d92c",
   "metadata": {
    "execution": {
     "iopub.execute_input": "2022-07-21T20:24:02.000026Z",
     "iopub.status.busy": "2022-07-21T20:24:01.999243Z",
     "iopub.status.idle": "2022-07-21T20:24:02.015999Z",
     "shell.execute_reply": "2022-07-21T20:24:02.015167Z"
    },
    "papermill": {
     "duration": 0.03302,
     "end_time": "2022-07-21T20:24:02.018469",
     "exception": false,
     "start_time": "2022-07-21T20:24:01.985449",
     "status": "completed"
    },
    "tags": []
   },
   "outputs": [
    {
     "data": {
      "text/plain": [
       "((6851, 4), (6851,), (762, 4), (762,))"
      ]
     },
     "execution_count": 19,
     "metadata": {},
     "output_type": "execute_result"
    }
   ],
   "source": [
    "X_train, X_valid, y_train, y_valid = train_test_split(\n",
    "    X,\n",
    "    y,\n",
    "    test_size=0.1,\n",
    "    random_state=42,\n",
    ")\n",
    "X_train.shape, y_train.shape, X_valid.shape, y_valid.shape"
   ]
  },
  {
   "cell_type": "code",
   "execution_count": 20,
   "id": "95670346",
   "metadata": {
    "execution": {
     "iopub.execute_input": "2022-07-21T20:24:02.045068Z",
     "iopub.status.busy": "2022-07-21T20:24:02.044636Z",
     "iopub.status.idle": "2022-07-21T20:24:02.052432Z",
     "shell.execute_reply": "2022-07-21T20:24:02.051630Z"
    },
    "papermill": {
     "duration": 0.023735,
     "end_time": "2022-07-21T20:24:02.054612",
     "exception": false,
     "start_time": "2022-07-21T20:24:02.030877",
     "status": "completed"
    },
    "tags": []
   },
   "outputs": [
    {
     "data": {
      "text/plain": [
       "pandas.core.frame.DataFrame"
      ]
     },
     "execution_count": 20,
     "metadata": {},
     "output_type": "execute_result"
    }
   ],
   "source": [
    "type(X_train)"
   ]
  },
  {
   "cell_type": "code",
   "execution_count": 21,
   "id": "20fb853c",
   "metadata": {
    "execution": {
     "iopub.execute_input": "2022-07-21T20:24:02.082870Z",
     "iopub.status.busy": "2022-07-21T20:24:02.082100Z",
     "iopub.status.idle": "2022-07-21T20:24:02.095632Z",
     "shell.execute_reply": "2022-07-21T20:24:02.094857Z"
    },
    "papermill": {
     "duration": 0.030511,
     "end_time": "2022-07-21T20:24:02.097958",
     "exception": false,
     "start_time": "2022-07-21T20:24:02.067447",
     "status": "completed"
    },
    "tags": []
   },
   "outputs": [
    {
     "data": {
      "text/html": [
       "<div>\n",
       "<style scoped>\n",
       "    .dataframe tbody tr th:only-of-type {\n",
       "        vertical-align: middle;\n",
       "    }\n",
       "\n",
       "    .dataframe tbody tr th {\n",
       "        vertical-align: top;\n",
       "    }\n",
       "\n",
       "    .dataframe thead th {\n",
       "        text-align: right;\n",
       "    }\n",
       "</style>\n",
       "<table border=\"1\" class=\"dataframe\">\n",
       "  <thead>\n",
       "    <tr style=\"text-align: right;\">\n",
       "      <th></th>\n",
       "      <th>id</th>\n",
       "      <th>keyword</th>\n",
       "      <th>location</th>\n",
       "      <th>text</th>\n",
       "    </tr>\n",
       "  </thead>\n",
       "  <tbody>\n",
       "    <tr>\n",
       "      <th>4620</th>\n",
       "      <td>6568</td>\n",
       "      <td>injury</td>\n",
       "      <td>Plano, Texas</td>\n",
       "      <td>mcfadden reportedly to test hamstring thursday...</td>\n",
       "    </tr>\n",
       "    <tr>\n",
       "      <th>2858</th>\n",
       "      <td>4107</td>\n",
       "      <td>drought</td>\n",
       "      <td>Nigeria</td>\n",
       "      <td>w nema warns nigerians to prepare for drought ...</td>\n",
       "    </tr>\n",
       "    <tr>\n",
       "      <th>3098</th>\n",
       "      <td>4448</td>\n",
       "      <td>electrocuted</td>\n",
       "      <td>NaN</td>\n",
       "      <td>when i was cooking earlier i got electrocuted ...</td>\n",
       "    </tr>\n",
       "    <tr>\n",
       "      <th>3751</th>\n",
       "      <td>5330</td>\n",
       "      <td>fire</td>\n",
       "      <td>Canada</td>\n",
       "      <td>im on fire   httpsmark</td>\n",
       "    </tr>\n",
       "    <tr>\n",
       "      <th>5285</th>\n",
       "      <td>7552</td>\n",
       "      <td>outbreak</td>\n",
       "      <td>Indonesia</td>\n",
       "      <td>more than  number  families affected by the fa...</td>\n",
       "    </tr>\n",
       "  </tbody>\n",
       "</table>\n",
       "</div>"
      ],
      "text/plain": [
       "        id       keyword      location  \\\n",
       "4620  6568        injury  Plano, Texas   \n",
       "2858  4107       drought       Nigeria   \n",
       "3098  4448  electrocuted           NaN   \n",
       "3751  5330          fire        Canada   \n",
       "5285  7552      outbreak     Indonesia   \n",
       "\n",
       "                                                   text  \n",
       "4620  mcfadden reportedly to test hamstring thursday...  \n",
       "2858  w nema warns nigerians to prepare for drought ...  \n",
       "3098  when i was cooking earlier i got electrocuted ...  \n",
       "3751                            im on fire   httpsmark   \n",
       "5285  more than  number  families affected by the fa...  "
      ]
     },
     "execution_count": 21,
     "metadata": {},
     "output_type": "execute_result"
    }
   ],
   "source": [
    "X_train.head()"
   ]
  },
  {
   "cell_type": "code",
   "execution_count": 22,
   "id": "7e3052d1",
   "metadata": {
    "execution": {
     "iopub.execute_input": "2022-07-21T20:24:02.125904Z",
     "iopub.status.busy": "2022-07-21T20:24:02.125152Z",
     "iopub.status.idle": "2022-07-21T20:24:02.134922Z",
     "shell.execute_reply": "2022-07-21T20:24:02.134080Z"
    },
    "papermill": {
     "duration": 0.026457,
     "end_time": "2022-07-21T20:24:02.137312",
     "exception": false,
     "start_time": "2022-07-21T20:24:02.110855",
     "status": "completed"
    },
    "tags": []
   },
   "outputs": [],
   "source": [
    "X_train = X_train.text\n",
    "X_valid = X_valid.text\n",
    "X_test = X_test.text"
   ]
  },
  {
   "cell_type": "code",
   "execution_count": 23,
   "id": "64dff5ea",
   "metadata": {
    "execution": {
     "iopub.execute_input": "2022-07-21T20:24:02.166237Z",
     "iopub.status.busy": "2022-07-21T20:24:02.165488Z",
     "iopub.status.idle": "2022-07-21T20:24:02.174729Z",
     "shell.execute_reply": "2022-07-21T20:24:02.173980Z"
    },
    "papermill": {
     "duration": 0.026421,
     "end_time": "2022-07-21T20:24:02.177071",
     "exception": false,
     "start_time": "2022-07-21T20:24:02.150650",
     "status": "completed"
    },
    "tags": []
   },
   "outputs": [
    {
     "data": {
      "text/plain": [
       "4620    mcfadden reportedly to test hamstring thursday...\n",
       "2858    w nema warns nigerians to prepare for drought ...\n",
       "3098    when i was cooking earlier i got electrocuted ...\n",
       "3751                              im on fire   httpsmark \n",
       "5285    more than  number  families affected by the fa...\n",
       "Name: text, dtype: object"
      ]
     },
     "execution_count": 23,
     "metadata": {},
     "output_type": "execute_result"
    }
   ],
   "source": [
    "X_train.head()"
   ]
  },
  {
   "cell_type": "code",
   "execution_count": 24,
   "id": "b528e689",
   "metadata": {
    "execution": {
     "iopub.execute_input": "2022-07-21T20:24:02.204806Z",
     "iopub.status.busy": "2022-07-21T20:24:02.204081Z",
     "iopub.status.idle": "2022-07-21T20:24:02.481245Z",
     "shell.execute_reply": "2022-07-21T20:24:02.480408Z"
    },
    "papermill": {
     "duration": 0.293624,
     "end_time": "2022-07-21T20:24:02.483533",
     "exception": false,
     "start_time": "2022-07-21T20:24:02.189909",
     "status": "completed"
    },
    "tags": []
   },
   "outputs": [
    {
     "data": {
      "text/plain": [
       "(<6851x13561 sparse matrix of type '<class 'numpy.int64'>'\n",
       " \twith 63791 stored elements in Compressed Sparse Row format>,\n",
       " <762x13561 sparse matrix of type '<class 'numpy.int64'>'\n",
       " \twith 6350 stored elements in Compressed Sparse Row format>)"
      ]
     },
     "execution_count": 24,
     "metadata": {},
     "output_type": "execute_result"
    }
   ],
   "source": [
    "count_vectorizer = CountVectorizer(stop_words=\"english\")\n",
    "\n",
    "X_train_dtm = count_vectorizer.fit_transform(X_train)\n",
    "X_valid_dtm = count_vectorizer.transform(X_valid)\n",
    "X_test_dtm = count_vectorizer.transform(X_test)\n",
    "\n",
    "\n",
    "X_train_dtm, X_valid_dtm"
   ]
  },
  {
   "cell_type": "markdown",
   "id": "bec0c23a",
   "metadata": {
    "papermill": {
     "duration": 0.012631,
     "end_time": "2022-07-21T20:24:02.509970",
     "exception": false,
     "start_time": "2022-07-21T20:24:02.497339",
     "status": "completed"
    },
    "tags": []
   },
   "source": [
    "<div style=\"background-color:rgba(128, 0, 128, 0.6);border-radius:5px;display:fill\"><h1 style=\"text-align: center;padding: 12px 0px 12px 0px;\">Create Models</h1>\n",
    "</div>"
   ]
  },
  {
   "cell_type": "code",
   "execution_count": 25,
   "id": "52b9d981",
   "metadata": {
    "execution": {
     "iopub.execute_input": "2022-07-21T20:24:02.538462Z",
     "iopub.status.busy": "2022-07-21T20:24:02.537758Z",
     "iopub.status.idle": "2022-07-21T20:24:03.383655Z",
     "shell.execute_reply": "2022-07-21T20:24:03.382276Z"
    },
    "papermill": {
     "duration": 0.863935,
     "end_time": "2022-07-21T20:24:03.387228",
     "exception": false,
     "start_time": "2022-07-21T20:24:02.523293",
     "status": "completed"
    },
    "tags": []
   },
   "outputs": [
    {
     "name": "stderr",
     "output_type": "stream",
     "text": [
      "/opt/conda/lib/python3.7/site-packages/sklearn/linear_model/_logistic.py:818: ConvergenceWarning: lbfgs failed to converge (status=1):\n",
      "STOP: TOTAL NO. of ITERATIONS REACHED LIMIT.\n",
      "\n",
      "Increase the number of iterations (max_iter) or scale the data as shown in:\n",
      "    https://scikit-learn.org/stable/modules/preprocessing.html\n",
      "Please also refer to the documentation for alternative solver options:\n",
      "    https://scikit-learn.org/stable/modules/linear_model.html#logistic-regression\n",
      "  extra_warning_msg=_LOGISTIC_SOLVER_CONVERGENCE_MSG,\n"
     ]
    },
    {
     "data": {
      "text/plain": [
       "LogisticRegression(random_state=42)"
      ]
     },
     "execution_count": 25,
     "metadata": {},
     "output_type": "execute_result"
    }
   ],
   "source": [
    "model = LogisticRegression(C=1.0, random_state=42)\n",
    "model.fit(X_train_dtm, y_train)"
   ]
  },
  {
   "cell_type": "markdown",
   "id": "aa02046d",
   "metadata": {
    "papermill": {
     "duration": 0.046494,
     "end_time": "2022-07-21T20:24:03.470411",
     "exception": false,
     "start_time": "2022-07-21T20:24:03.423917",
     "status": "completed"
    },
    "tags": []
   },
   "source": [
    "## Predict and Score"
   ]
  },
  {
   "cell_type": "code",
   "execution_count": 26,
   "id": "da716007",
   "metadata": {
    "execution": {
     "iopub.execute_input": "2022-07-21T20:24:03.502546Z",
     "iopub.status.busy": "2022-07-21T20:24:03.502094Z",
     "iopub.status.idle": "2022-07-21T20:24:03.507866Z",
     "shell.execute_reply": "2022-07-21T20:24:03.506567Z"
    },
    "papermill": {
     "duration": 0.023074,
     "end_time": "2022-07-21T20:24:03.510359",
     "exception": false,
     "start_time": "2022-07-21T20:24:03.487285",
     "status": "completed"
    },
    "tags": []
   },
   "outputs": [],
   "source": [
    "# model.evaluate(X_valid, y_valid)"
   ]
  },
  {
   "cell_type": "code",
   "execution_count": 27,
   "id": "c35c3c70",
   "metadata": {
    "execution": {
     "iopub.execute_input": "2022-07-21T20:24:03.540469Z",
     "iopub.status.busy": "2022-07-21T20:24:03.539679Z",
     "iopub.status.idle": "2022-07-21T20:24:03.549965Z",
     "shell.execute_reply": "2022-07-21T20:24:03.549080Z"
    },
    "papermill": {
     "duration": 0.028525,
     "end_time": "2022-07-21T20:24:03.552293",
     "exception": false,
     "start_time": "2022-07-21T20:24:03.523768",
     "status": "completed"
    },
    "tags": []
   },
   "outputs": [
    {
     "data": {
      "text/plain": [
       "array([0, 0, 0, 0, 0])"
      ]
     },
     "execution_count": 27,
     "metadata": {},
     "output_type": "execute_result"
    }
   ],
   "source": [
    "valid_preds = model.predict(X_valid_dtm)\n",
    "valid_preds[:5]"
   ]
  },
  {
   "cell_type": "code",
   "execution_count": 28,
   "id": "b9812020",
   "metadata": {
    "execution": {
     "iopub.execute_input": "2022-07-21T20:24:03.581692Z",
     "iopub.status.busy": "2022-07-21T20:24:03.580887Z",
     "iopub.status.idle": "2022-07-21T20:24:03.589717Z",
     "shell.execute_reply": "2022-07-21T20:24:03.588934Z"
    },
    "papermill": {
     "duration": 0.026103,
     "end_time": "2022-07-21T20:24:03.592096",
     "exception": false,
     "start_time": "2022-07-21T20:24:03.565993",
     "status": "completed"
    },
    "tags": []
   },
   "outputs": [
    {
     "data": {
      "text/plain": [
       "array([0, 0, 0, 0, 0])"
      ]
     },
     "execution_count": 28,
     "metadata": {},
     "output_type": "execute_result"
    }
   ],
   "source": [
    "valid_preds[:5]"
   ]
  },
  {
   "cell_type": "code",
   "execution_count": 29,
   "id": "299f8973",
   "metadata": {
    "execution": {
     "iopub.execute_input": "2022-07-21T20:24:03.621256Z",
     "iopub.status.busy": "2022-07-21T20:24:03.620512Z",
     "iopub.status.idle": "2022-07-21T20:24:03.629198Z",
     "shell.execute_reply": "2022-07-21T20:24:03.628365Z"
    },
    "papermill": {
     "duration": 0.025906,
     "end_time": "2022-07-21T20:24:03.631470",
     "exception": false,
     "start_time": "2022-07-21T20:24:03.605564",
     "status": "completed"
    },
    "tags": []
   },
   "outputs": [
    {
     "data": {
      "text/plain": [
       "array([0, 0, 0, 0, 0, 0, 0, 0, 0, 1])"
      ]
     },
     "execution_count": 29,
     "metadata": {},
     "output_type": "execute_result"
    }
   ],
   "source": [
    "valid_preds.squeeze()[:10]"
   ]
  },
  {
   "cell_type": "code",
   "execution_count": 30,
   "id": "91b51404",
   "metadata": {
    "execution": {
     "iopub.execute_input": "2022-07-21T20:24:03.660754Z",
     "iopub.status.busy": "2022-07-21T20:24:03.659977Z",
     "iopub.status.idle": "2022-07-21T20:24:03.668909Z",
     "shell.execute_reply": "2022-07-21T20:24:03.668063Z"
    },
    "papermill": {
     "duration": 0.026222,
     "end_time": "2022-07-21T20:24:03.671174",
     "exception": false,
     "start_time": "2022-07-21T20:24:03.644952",
     "status": "completed"
    },
    "tags": []
   },
   "outputs": [
    {
     "data": {
      "text/plain": [
       "array([0, 0, 0, 0, 0, 0, 0, 0, 0, 1])"
      ]
     },
     "execution_count": 30,
     "metadata": {},
     "output_type": "execute_result"
    }
   ],
   "source": [
    "valid_preds.ravel()[:10]"
   ]
  },
  {
   "cell_type": "code",
   "execution_count": 31,
   "id": "4f004034",
   "metadata": {
    "execution": {
     "iopub.execute_input": "2022-07-21T20:24:03.701316Z",
     "iopub.status.busy": "2022-07-21T20:24:03.700549Z",
     "iopub.status.idle": "2022-07-21T20:24:03.710903Z",
     "shell.execute_reply": "2022-07-21T20:24:03.710063Z"
    },
    "papermill": {
     "duration": 0.027913,
     "end_time": "2022-07-21T20:24:03.713199",
     "exception": false,
     "start_time": "2022-07-21T20:24:03.685286",
     "status": "completed"
    },
    "tags": []
   },
   "outputs": [
    {
     "data": {
      "text/plain": [
       "array([1, 1, 1, 1, 1])"
      ]
     },
     "execution_count": 31,
     "metadata": {},
     "output_type": "execute_result"
    }
   ],
   "source": [
    "preds = model.predict(X_test_dtm).ravel()\n",
    "preds[:5]"
   ]
  },
  {
   "cell_type": "code",
   "execution_count": 32,
   "id": "8678ce35",
   "metadata": {
    "execution": {
     "iopub.execute_input": "2022-07-21T20:24:03.743977Z",
     "iopub.status.busy": "2022-07-21T20:24:03.743230Z",
     "iopub.status.idle": "2022-07-21T20:24:03.754084Z",
     "shell.execute_reply": "2022-07-21T20:24:03.753222Z"
    },
    "papermill": {
     "duration": 0.029215,
     "end_time": "2022-07-21T20:24:03.756532",
     "exception": false,
     "start_time": "2022-07-21T20:24:03.727317",
     "status": "completed"
    },
    "tags": []
   },
   "outputs": [
    {
     "data": {
      "text/plain": [
       "array([0, 1])"
      ]
     },
     "execution_count": 32,
     "metadata": {},
     "output_type": "execute_result"
    }
   ],
   "source": [
    "preds = (preds > 0.5).astype(int)\n",
    "np.unique(preds)"
   ]
  },
  {
   "cell_type": "markdown",
   "id": "eebb8c58",
   "metadata": {
    "papermill": {
     "duration": 0.013954,
     "end_time": "2022-07-21T20:24:03.785209",
     "exception": false,
     "start_time": "2022-07-21T20:24:03.771255",
     "status": "completed"
    },
    "tags": []
   },
   "source": [
    "## Submission"
   ]
  },
  {
   "cell_type": "code",
   "execution_count": 33,
   "id": "3f54c853",
   "metadata": {
    "execution": {
     "iopub.execute_input": "2022-07-21T20:24:03.815911Z",
     "iopub.status.busy": "2022-07-21T20:24:03.815110Z",
     "iopub.status.idle": "2022-07-21T20:24:03.837972Z",
     "shell.execute_reply": "2022-07-21T20:24:03.836681Z"
    },
    "papermill": {
     "duration": 0.041067,
     "end_time": "2022-07-21T20:24:03.840467",
     "exception": false,
     "start_time": "2022-07-21T20:24:03.799400",
     "status": "completed"
    },
    "tags": []
   },
   "outputs": [
    {
     "data": {
      "text/html": [
       "<div>\n",
       "<style scoped>\n",
       "    .dataframe tbody tr th:only-of-type {\n",
       "        vertical-align: middle;\n",
       "    }\n",
       "\n",
       "    .dataframe tbody tr th {\n",
       "        vertical-align: top;\n",
       "    }\n",
       "\n",
       "    .dataframe thead th {\n",
       "        text-align: right;\n",
       "    }\n",
       "</style>\n",
       "<table border=\"1\" class=\"dataframe\">\n",
       "  <thead>\n",
       "    <tr style=\"text-align: right;\">\n",
       "      <th></th>\n",
       "      <th>id</th>\n",
       "      <th>target</th>\n",
       "    </tr>\n",
       "  </thead>\n",
       "  <tbody>\n",
       "    <tr>\n",
       "      <th>0</th>\n",
       "      <td>0</td>\n",
       "      <td>1</td>\n",
       "    </tr>\n",
       "    <tr>\n",
       "      <th>1</th>\n",
       "      <td>2</td>\n",
       "      <td>1</td>\n",
       "    </tr>\n",
       "    <tr>\n",
       "      <th>2</th>\n",
       "      <td>3</td>\n",
       "      <td>1</td>\n",
       "    </tr>\n",
       "    <tr>\n",
       "      <th>3</th>\n",
       "      <td>9</td>\n",
       "      <td>1</td>\n",
       "    </tr>\n",
       "    <tr>\n",
       "      <th>4</th>\n",
       "      <td>11</td>\n",
       "      <td>1</td>\n",
       "    </tr>\n",
       "  </tbody>\n",
       "</table>\n",
       "</div>"
      ],
      "text/plain": [
       "   id  target\n",
       "0   0       1\n",
       "1   2       1\n",
       "2   3       1\n",
       "3   9       1\n",
       "4  11       1"
      ]
     },
     "execution_count": 33,
     "metadata": {},
     "output_type": "execute_result"
    }
   ],
   "source": [
    "# Different TARGET name used in test.csv\n",
    "ss = create_submission(\"\", TARGET, preds)\n",
    "ss[:5]"
   ]
  },
  {
   "cell_type": "code",
   "execution_count": 34,
   "id": "666f6d0c",
   "metadata": {
    "execution": {
     "iopub.execute_input": "2022-07-21T20:24:03.872511Z",
     "iopub.status.busy": "2022-07-21T20:24:03.871495Z",
     "iopub.status.idle": "2022-07-21T20:24:03.882663Z",
     "shell.execute_reply": "2022-07-21T20:24:03.881815Z"
    },
    "papermill": {
     "duration": 0.029484,
     "end_time": "2022-07-21T20:24:03.884958",
     "exception": false,
     "start_time": "2022-07-21T20:24:03.855474",
     "status": "completed"
    },
    "tags": []
   },
   "outputs": [
    {
     "data": {
      "text/plain": [
       "0    2094\n",
       "1    1169\n",
       "Name: target, dtype: int64"
      ]
     },
     "execution_count": 34,
     "metadata": {},
     "output_type": "execute_result"
    }
   ],
   "source": [
    "ss[TARGET].value_counts()"
   ]
  }
 ],
 "metadata": {
  "kernelspec": {
   "display_name": "Python 3",
   "language": "python",
   "name": "python3"
  },
  "language_info": {
   "codemirror_mode": {
    "name": "ipython",
    "version": 3
   },
   "file_extension": ".py",
   "mimetype": "text/x-python",
   "name": "python",
   "nbconvert_exporter": "python",
   "pygments_lexer": "ipython3",
   "version": "3.7.12"
  },
  "papermill": {
   "default_parameters": {},
   "duration": 31.650099,
   "end_time": "2022-07-21T20:24:04.721905",
   "environment_variables": {},
   "exception": null,
   "input_path": "__notebook__.ipynb",
   "output_path": "__notebook__.ipynb",
   "parameters": {},
   "start_time": "2022-07-21T20:23:33.071806",
   "version": "2.3.4"
  }
 },
 "nbformat": 4,
 "nbformat_minor": 5
}
