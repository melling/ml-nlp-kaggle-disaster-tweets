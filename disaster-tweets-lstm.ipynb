{
 "cells": [
  {
   "cell_type": "markdown",
   "id": "d6516f2a",
   "metadata": {
    "papermill": {
     "duration": 0.013767,
     "end_time": "2022-07-20T20:01:03.629568",
     "exception": false,
     "start_time": "2022-07-20T20:01:03.615801",
     "status": "completed"
    },
    "tags": []
   },
   "source": [
    "<div style=\"background-color:rgba(128, 0, 128, 0.6);border-radius:5px;display:fill\"><h1 style=\"text-align: center;padding: 12px 0px 12px 0px;\">Disaster Tweets: Long-Short Term Memory (LSTM)</h1>\n",
    "</div>\n",
    "\n",
    "Problem Type: Binary-classification\n",
    "\n",
    "## Evaluation Metric\n",
    "\n",
    "F1-Score"
   ]
  },
  {
   "cell_type": "code",
   "execution_count": 1,
   "id": "2ee095af",
   "metadata": {
    "execution": {
     "iopub.execute_input": "2022-07-20T20:01:03.655859Z",
     "iopub.status.busy": "2022-07-20T20:01:03.655029Z",
     "iopub.status.idle": "2022-07-20T20:01:16.790784Z",
     "shell.execute_reply": "2022-07-20T20:01:16.789788Z"
    },
    "papermill": {
     "duration": 13.151661,
     "end_time": "2022-07-20T20:01:16.793337",
     "exception": false,
     "start_time": "2022-07-20T20:01:03.641676",
     "status": "completed"
    },
    "tags": []
   },
   "outputs": [
    {
     "name": "stdout",
     "output_type": "stream",
     "text": [
      "\u001b[33mWARNING: Running pip as the 'root' user can result in broken permissions and conflicting behaviour with the system package manager. It is recommended to use a virtual environment instead: https://pip.pypa.io/warnings/venv\u001b[0m\u001b[33m\r\n",
      "\u001b[0m"
     ]
    }
   ],
   "source": [
    "# Black formatter https://black.readthedocs.io/en/stable/\n",
    "\n",
    "! pip install nb-black > /dev/null\n",
    "\n",
    "%load_ext lab_black"
   ]
  },
  {
   "cell_type": "markdown",
   "id": "1283b270",
   "metadata": {
    "papermill": {
     "duration": 0.012889,
     "end_time": "2022-07-20T20:01:16.818686",
     "exception": false,
     "start_time": "2022-07-20T20:01:16.805797",
     "status": "completed"
    },
    "tags": []
   },
   "source": [
    "<div style=\"background-color:rgba(128, 0, 128, 0.6);border-radius:5px;display:fill\"><h1 style=\"text-align: center;padding: 12px 0px 12px 0px;\">Configuration</h1>\n",
    "</div>"
   ]
  },
  {
   "cell_type": "code",
   "execution_count": 2,
   "id": "de776772",
   "metadata": {
    "execution": {
     "iopub.execute_input": "2022-07-20T20:01:16.844295Z",
     "iopub.status.busy": "2022-07-20T20:01:16.843721Z",
     "iopub.status.idle": "2022-07-20T20:01:16.850070Z",
     "shell.execute_reply": "2022-07-20T20:01:16.849035Z"
    },
    "papermill": {
     "duration": 0.021808,
     "end_time": "2022-07-20T20:01:16.852544",
     "exception": false,
     "start_time": "2022-07-20T20:01:16.830736",
     "status": "completed"
    },
    "tags": []
   },
   "outputs": [],
   "source": [
    "data_dir = \"../input/nlp-getting-started/\""
   ]
  },
  {
   "cell_type": "code",
   "execution_count": 3,
   "id": "1aa7a585",
   "metadata": {
    "execution": {
     "iopub.execute_input": "2022-07-20T20:01:16.877752Z",
     "iopub.status.busy": "2022-07-20T20:01:16.877483Z",
     "iopub.status.idle": "2022-07-20T20:01:16.882454Z",
     "shell.execute_reply": "2022-07-20T20:01:16.881509Z"
    },
    "papermill": {
     "duration": 0.019544,
     "end_time": "2022-07-20T20:01:16.884500",
     "exception": false,
     "start_time": "2022-07-20T20:01:16.864956",
     "status": "completed"
    },
    "tags": []
   },
   "outputs": [],
   "source": [
    "TARGET = \"target\""
   ]
  },
  {
   "cell_type": "markdown",
   "id": "b09df3a4",
   "metadata": {
    "papermill": {
     "duration": 0.011808,
     "end_time": "2022-07-20T20:01:16.907959",
     "exception": false,
     "start_time": "2022-07-20T20:01:16.896151",
     "status": "completed"
    },
    "tags": []
   },
   "source": [
    "<div style=\"background-color:rgba(128, 0, 128, 0.6);border-radius:5px;display:fill\"><h1 style=\"text-align: center;padding: 12px 0px 12px 0px;\">Import Libraries</h1>\n",
    "</div>\n",
    "\n",
    "A best practise is to include all libraries here.  However, I will put a few imports farther down where they are first used so beginners can learn with an \"as needed\" approach."
   ]
  },
  {
   "cell_type": "code",
   "execution_count": 4,
   "id": "4dc2bf0b",
   "metadata": {
    "execution": {
     "iopub.execute_input": "2022-07-20T20:01:16.933090Z",
     "iopub.status.busy": "2022-07-20T20:01:16.932793Z",
     "iopub.status.idle": "2022-07-20T20:01:23.244362Z",
     "shell.execute_reply": "2022-07-20T20:01:23.243318Z"
    },
    "papermill": {
     "duration": 6.326806,
     "end_time": "2022-07-20T20:01:23.247119",
     "exception": false,
     "start_time": "2022-07-20T20:01:16.920313",
     "status": "completed"
    },
    "tags": []
   },
   "outputs": [],
   "source": [
    "import os\n",
    "import time\n",
    "from pathlib import Path\n",
    "\n",
    "import pandas as pd\n",
    "import numpy as np\n",
    "\n",
    "from sklearn.model_selection import train_test_split\n",
    "\n",
    "from sklearn.metrics import f1_score\n",
    "\n",
    "# Visualization Libraries\n",
    "import matplotlib.pylab as plt\n",
    "import seaborn as sns\n",
    "\n",
    "import tensorflow as tf\n",
    "from tensorflow import keras\n",
    "from tensorflow.keras import layers"
   ]
  },
  {
   "cell_type": "markdown",
   "id": "58b34325",
   "metadata": {
    "papermill": {
     "duration": 0.011851,
     "end_time": "2022-07-20T20:01:23.271815",
     "exception": false,
     "start_time": "2022-07-20T20:01:23.259964",
     "status": "completed"
    },
    "tags": []
   },
   "source": [
    "<div style=\"background-color:rgba(128, 0, 128, 0.6);border-radius:5px;display:fill\"><h1 style=\"text-align: center;padding: 12px 0px 12px 0px;\">Library</h1>\n",
    "</div>\n",
    "\n",
    "Creating a few functions that we will reuse in each project."
   ]
  },
  {
   "cell_type": "code",
   "execution_count": 5,
   "id": "ba2147e3",
   "metadata": {
    "execution": {
     "iopub.execute_input": "2022-07-20T20:01:23.297333Z",
     "iopub.status.busy": "2022-07-20T20:01:23.296731Z",
     "iopub.status.idle": "2022-07-20T20:01:23.311600Z",
     "shell.execute_reply": "2022-07-20T20:01:23.309390Z"
    },
    "papermill": {
     "duration": 0.037144,
     "end_time": "2022-07-20T20:01:23.320798",
     "exception": false,
     "start_time": "2022-07-20T20:01:23.283654",
     "status": "completed"
    },
    "tags": []
   },
   "outputs": [],
   "source": [
    "def read_data(path):\n",
    "    data_dir = Path(path)\n",
    "\n",
    "    train = pd.read_csv(data_dir / \"train.csv\")\n",
    "    test = pd.read_csv(data_dir / \"test.csv\")\n",
    "    submission_df = pd.read_csv(data_dir / \"sample_submission.csv\")\n",
    "\n",
    "    print(f\"train data: Rows={train.shape[0]}, Columns={train.shape[1]}\")\n",
    "    print(f\"test data : Rows={test.shape[0]}, Columns={test.shape[1]}\")\n",
    "    return train, test, submission_df"
   ]
  },
  {
   "cell_type": "code",
   "execution_count": 6,
   "id": "8dd368a1",
   "metadata": {
    "execution": {
     "iopub.execute_input": "2022-07-20T20:01:23.370246Z",
     "iopub.status.busy": "2022-07-20T20:01:23.369070Z",
     "iopub.status.idle": "2022-07-20T20:01:23.393937Z",
     "shell.execute_reply": "2022-07-20T20:01:23.392583Z"
    },
    "papermill": {
     "duration": 0.051217,
     "end_time": "2022-07-20T20:01:23.396944",
     "exception": false,
     "start_time": "2022-07-20T20:01:23.345727",
     "status": "completed"
    },
    "tags": []
   },
   "outputs": [],
   "source": [
    "def create_submission(model_name, target, preds, is_log_target=False):\n",
    "    if is_log_target:\n",
    "        #         preds = np.exp(preds)\n",
    "        preds = np.expm1(preds)\n",
    "\n",
    "    sample_submission[target] = preds\n",
    "    if len(model_name) > 0:\n",
    "        sample_submission.to_csv(f\"submission_{model_name}.csv\", index=False)\n",
    "    else:\n",
    "        sample_submission.to_csv(f\"submission.csv\", index=False)\n",
    "\n",
    "    return sample_submission"
   ]
  },
  {
   "cell_type": "code",
   "execution_count": 7,
   "id": "6b73c4dc",
   "metadata": {
    "execution": {
     "iopub.execute_input": "2022-07-20T20:01:23.441122Z",
     "iopub.status.busy": "2022-07-20T20:01:23.440703Z",
     "iopub.status.idle": "2022-07-20T20:01:23.457664Z",
     "shell.execute_reply": "2022-07-20T20:01:23.456787Z"
    },
    "papermill": {
     "duration": 0.043298,
     "end_time": "2022-07-20T20:01:23.460902",
     "exception": false,
     "start_time": "2022-07-20T20:01:23.417604",
     "status": "completed"
    },
    "tags": []
   },
   "outputs": [],
   "source": [
    "from sklearn.metrics import mean_absolute_error, mean_squared_error, f1_score\n",
    "\n",
    "\n",
    "def show_scores(gt, yhat):\n",
    "    f1 = f1_score(gt, yhat, average=\"macro\")\n",
    "    mse = mean_squared_error(gt, yhat)\n",
    "    mae = mean_absolute_error(gt, yhat)\n",
    "    rmse = np.sqrt(mse)\n",
    "    #     r2_square = r2_score(gt, yhat)\n",
    "\n",
    "    print(f\"f1: {f1:.4f}\")"
   ]
  },
  {
   "cell_type": "markdown",
   "id": "c7c80c95",
   "metadata": {
    "papermill": {
     "duration": 0.018608,
     "end_time": "2022-07-20T20:01:23.498588",
     "exception": false,
     "start_time": "2022-07-20T20:01:23.479980",
     "status": "completed"
    },
    "tags": []
   },
   "source": [
    "<div style=\"background-color:rgba(128, 0, 128, 0.6);border-radius:5px;display:fill\"><h1 style=\"text-align: center;padding: 12px 0px 12px 0px;\">Load Train/Test Data</h1>\n",
    "</div>\n",
    "\n",
    "- train.csv - Data used to build our machine learning model\n",
    "- test.csv - Data used to build our machine learning model. Does not contain the target variable\n",
    "- sample_submission.csv - A file in the proper format to submit test predictions"
   ]
  },
  {
   "cell_type": "code",
   "execution_count": 8,
   "id": "0e464dc5",
   "metadata": {
    "execution": {
     "iopub.execute_input": "2022-07-20T20:01:23.542231Z",
     "iopub.status.busy": "2022-07-20T20:01:23.541506Z",
     "iopub.status.idle": "2022-07-20T20:01:23.634950Z",
     "shell.execute_reply": "2022-07-20T20:01:23.633788Z"
    },
    "papermill": {
     "duration": 0.121213,
     "end_time": "2022-07-20T20:01:23.638515",
     "exception": false,
     "start_time": "2022-07-20T20:01:23.517302",
     "status": "completed"
    },
    "tags": []
   },
   "outputs": [
    {
     "name": "stdout",
     "output_type": "stream",
     "text": [
      "train data: Rows=7613, Columns=5\n",
      "test data : Rows=3263, Columns=4\n"
     ]
    }
   ],
   "source": [
    "train, test, sample_submission = read_data(data_dir)"
   ]
  },
  {
   "cell_type": "code",
   "execution_count": 9,
   "id": "98c395be",
   "metadata": {
    "execution": {
     "iopub.execute_input": "2022-07-20T20:01:23.681362Z",
     "iopub.status.busy": "2022-07-20T20:01:23.680685Z",
     "iopub.status.idle": "2022-07-20T20:01:23.708430Z",
     "shell.execute_reply": "2022-07-20T20:01:23.707461Z"
    },
    "papermill": {
     "duration": 0.052341,
     "end_time": "2022-07-20T20:01:23.711444",
     "exception": false,
     "start_time": "2022-07-20T20:01:23.659103",
     "status": "completed"
    },
    "tags": []
   },
   "outputs": [
    {
     "data": {
      "text/html": [
       "<div>\n",
       "<style scoped>\n",
       "    .dataframe tbody tr th:only-of-type {\n",
       "        vertical-align: middle;\n",
       "    }\n",
       "\n",
       "    .dataframe tbody tr th {\n",
       "        vertical-align: top;\n",
       "    }\n",
       "\n",
       "    .dataframe thead th {\n",
       "        text-align: right;\n",
       "    }\n",
       "</style>\n",
       "<table border=\"1\" class=\"dataframe\">\n",
       "  <thead>\n",
       "    <tr style=\"text-align: right;\">\n",
       "      <th></th>\n",
       "      <th>id</th>\n",
       "      <th>keyword</th>\n",
       "      <th>location</th>\n",
       "      <th>text</th>\n",
       "      <th>target</th>\n",
       "    </tr>\n",
       "  </thead>\n",
       "  <tbody>\n",
       "    <tr>\n",
       "      <th>0</th>\n",
       "      <td>1</td>\n",
       "      <td>NaN</td>\n",
       "      <td>NaN</td>\n",
       "      <td>Our Deeds are the Reason of this #earthquake M...</td>\n",
       "      <td>1</td>\n",
       "    </tr>\n",
       "    <tr>\n",
       "      <th>1</th>\n",
       "      <td>4</td>\n",
       "      <td>NaN</td>\n",
       "      <td>NaN</td>\n",
       "      <td>Forest fire near La Ronge Sask. Canada</td>\n",
       "      <td>1</td>\n",
       "    </tr>\n",
       "    <tr>\n",
       "      <th>2</th>\n",
       "      <td>5</td>\n",
       "      <td>NaN</td>\n",
       "      <td>NaN</td>\n",
       "      <td>All residents asked to 'shelter in place' are ...</td>\n",
       "      <td>1</td>\n",
       "    </tr>\n",
       "    <tr>\n",
       "      <th>3</th>\n",
       "      <td>6</td>\n",
       "      <td>NaN</td>\n",
       "      <td>NaN</td>\n",
       "      <td>13,000 people receive #wildfires evacuation or...</td>\n",
       "      <td>1</td>\n",
       "    </tr>\n",
       "    <tr>\n",
       "      <th>4</th>\n",
       "      <td>7</td>\n",
       "      <td>NaN</td>\n",
       "      <td>NaN</td>\n",
       "      <td>Just got sent this photo from Ruby #Alaska as ...</td>\n",
       "      <td>1</td>\n",
       "    </tr>\n",
       "  </tbody>\n",
       "</table>\n",
       "</div>"
      ],
      "text/plain": [
       "   id keyword location                                               text  \\\n",
       "0   1     NaN      NaN  Our Deeds are the Reason of this #earthquake M...   \n",
       "1   4     NaN      NaN             Forest fire near La Ronge Sask. Canada   \n",
       "2   5     NaN      NaN  All residents asked to 'shelter in place' are ...   \n",
       "3   6     NaN      NaN  13,000 people receive #wildfires evacuation or...   \n",
       "4   7     NaN      NaN  Just got sent this photo from Ruby #Alaska as ...   \n",
       "\n",
       "   target  \n",
       "0       1  \n",
       "1       1  \n",
       "2       1  \n",
       "3       1  \n",
       "4       1  "
      ]
     },
     "execution_count": 9,
     "metadata": {},
     "output_type": "execute_result"
    }
   ],
   "source": [
    "train.head()"
   ]
  },
  {
   "cell_type": "markdown",
   "id": "9e723546",
   "metadata": {
    "papermill": {
     "duration": 0.021022,
     "end_time": "2022-07-20T20:01:23.753793",
     "exception": false,
     "start_time": "2022-07-20T20:01:23.732771",
     "status": "completed"
    },
    "tags": []
   },
   "source": [
    "<div style=\"background-color:rgba(128, 0, 128, 0.6);border-radius:5px;display:fill\"><h1 style=\"text-align: center;padding: 12px 0px 12px 0px;\">Clean Data</h1>\n",
    "</div>"
   ]
  },
  {
   "cell_type": "code",
   "execution_count": 10,
   "id": "be993ea4",
   "metadata": {
    "execution": {
     "iopub.execute_input": "2022-07-20T20:01:23.794822Z",
     "iopub.status.busy": "2022-07-20T20:01:23.794423Z",
     "iopub.status.idle": "2022-07-20T20:01:23.863676Z",
     "shell.execute_reply": "2022-07-20T20:01:23.862477Z"
    },
    "papermill": {
     "duration": 0.09212,
     "end_time": "2022-07-20T20:01:23.866092",
     "exception": false,
     "start_time": "2022-07-20T20:01:23.773972",
     "status": "completed"
    },
    "tags": []
   },
   "outputs": [],
   "source": [
    "import re\n",
    "import string\n",
    "\n",
    "\n",
    "def remove_URL(text):\n",
    "    url = re.compile(r\"https?://\\S+\")\n",
    "    return url.sub(r\" httpsmark \", text)\n",
    "\n",
    "\n",
    "def remove_html(text):\n",
    "    html = re.compile(r\"<.*?>\")\n",
    "    return html.sub(r\"\", text)\n",
    "\n",
    "\n",
    "def remove_atsymbol(text):\n",
    "    name = re.compile(r\"@\\S+\")\n",
    "    return name.sub(r\" atsymbol \", text)\n",
    "\n",
    "\n",
    "def remove_hashtag(text):\n",
    "    hashtag = re.compile(r\"#\")\n",
    "    return hashtag.sub(r\" hashtag \", text)\n",
    "\n",
    "\n",
    "def remove_exclamation(text):\n",
    "    exclamation = re.compile(r\"!\")\n",
    "    return exclamation.sub(r\" exclamation \", text)\n",
    "\n",
    "\n",
    "def remove_question(text):\n",
    "    question = re.compile(r\"?\")\n",
    "    return question.sub(r\" question \", text)\n",
    "\n",
    "\n",
    "def remove_punc(text):\n",
    "    return text.translate(str.maketrans(\"\", \"\", string.punctuation))\n",
    "\n",
    "\n",
    "def remove_number(text):\n",
    "    number = re.compile(r\"\\d+\")\n",
    "    return number.sub(r\" number \", text)\n",
    "\n",
    "\n",
    "def remove_emoji(string):\n",
    "    emoji_pattern = re.compile(\n",
    "        \"[\"\n",
    "        \"\\U0001F600-\\U0001F64F\"  # emoticons\n",
    "        \"\\U0001F300-\\U0001F5FF\"  # symbols & pictographs\n",
    "        \"\\U0001F680-\\U0001F6FF\"  # transport & map symbols\n",
    "        \"\\U0001F1E0-\\U0001F1FF\"  # flags (iOS)\n",
    "        \"\\U00002500-\\U00002BEF\"  # chinese char\n",
    "        \"\\U00002702-\\U000027B0\"\n",
    "        \"\\U00002702-\\U000027B0\"\n",
    "        \"\\U000024C2-\\U0001F251\"\n",
    "        \"\\U0001f926-\\U0001f937\"\n",
    "        \"\\U00010000-\\U0010ffff\"\n",
    "        \"\\u2640-\\u2642\"\n",
    "        \"\\u2600-\\u2B55\"\n",
    "        \"\\u200d\"\n",
    "        \"\\u23cf\"\n",
    "        \"\\u23e9\"\n",
    "        \"\\u231a\"\n",
    "        \"\\ufe0f\"  # dingbats\n",
    "        \"\\u3030\"\n",
    "        \"]+\",\n",
    "        flags=re.UNICODE,\n",
    "    )\n",
    "    return emoji_pattern.sub(r\" emoji \", string)"
   ]
  },
  {
   "cell_type": "code",
   "execution_count": 11,
   "id": "8e92da8c",
   "metadata": {
    "execution": {
     "iopub.execute_input": "2022-07-20T20:01:23.910931Z",
     "iopub.status.busy": "2022-07-20T20:01:23.910425Z",
     "iopub.status.idle": "2022-07-20T20:01:24.451690Z",
     "shell.execute_reply": "2022-07-20T20:01:24.450603Z"
    },
    "papermill": {
     "duration": 0.56583,
     "end_time": "2022-07-20T20:01:24.454666",
     "exception": false,
     "start_time": "2022-07-20T20:01:23.888836",
     "status": "completed"
    },
    "tags": []
   },
   "outputs": [],
   "source": [
    "train[\"text\"] = train[\"text\"].str.lower()\n",
    "train[\"text\"] = train[\"text\"].apply(lambda text: remove_URL(text))\n",
    "train[\"text\"] = train[\"text\"].apply(lambda text: remove_html(text))\n",
    "train[\"text\"] = train[\"text\"].apply(lambda text: remove_atsymbol(text))\n",
    "train[\"text\"] = train[\"text\"].apply(lambda text: remove_hashtag(text))\n",
    "train[\"text\"] = train[\"text\"].apply(lambda text: remove_exclamation(text))\n",
    "train[\"text\"] = train[\"text\"].apply(lambda text: remove_punc(text))\n",
    "train[\"text\"] = train[\"text\"].apply(lambda text: remove_number(text))\n",
    "train[\"text\"] = train[\"text\"].apply(lambda text: remove_emoji(text))\n",
    "\n",
    "\n",
    "test[\"text\"] = test[\"text\"].str.lower()\n",
    "test[\"text\"] = test[\"text\"].apply(lambda text: remove_URL(text))\n",
    "test[\"text\"] = test[\"text\"].apply(lambda text: remove_html(text))\n",
    "test[\"text\"] = test[\"text\"].apply(lambda text: remove_atsymbol(text))\n",
    "test[\"text\"] = test[\"text\"].apply(lambda text: remove_hashtag(text))\n",
    "test[\"text\"] = test[\"text\"].apply(lambda text: remove_exclamation(text))\n",
    "test[\"text\"] = test[\"text\"].apply(lambda text: remove_punc(text))\n",
    "test[\"text\"] = test[\"text\"].apply(lambda text: remove_number(text))\n",
    "test[\"text\"] = test[\"text\"].apply(lambda text: remove_emoji(text))"
   ]
  },
  {
   "cell_type": "markdown",
   "id": "53738c70",
   "metadata": {
    "papermill": {
     "duration": 0.020102,
     "end_time": "2022-07-20T20:01:24.511607",
     "exception": false,
     "start_time": "2022-07-20T20:01:24.491505",
     "status": "completed"
    },
    "tags": []
   },
   "source": [
    "<div style=\"background-color:rgba(128, 0, 128, 0.6);border-radius:5px;display:fill\"><h1 style=\"text-align: center;padding: 12px 0px 12px 0px;\">Features</h1>\n",
    "</div>"
   ]
  },
  {
   "cell_type": "code",
   "execution_count": 12,
   "id": "84a41226",
   "metadata": {
    "execution": {
     "iopub.execute_input": "2022-07-20T20:01:24.553741Z",
     "iopub.status.busy": "2022-07-20T20:01:24.552988Z",
     "iopub.status.idle": "2022-07-20T20:01:24.564113Z",
     "shell.execute_reply": "2022-07-20T20:01:24.563251Z"
    },
    "papermill": {
     "duration": 0.035297,
     "end_time": "2022-07-20T20:01:24.566895",
     "exception": false,
     "start_time": "2022-07-20T20:01:24.531598",
     "status": "completed"
    },
    "tags": []
   },
   "outputs": [],
   "source": [
    "FEATURES = [\n",
    "    col\n",
    "    for col in train.columns\n",
    "    if col\n",
    "    not in [\n",
    "        \"Id\",\n",
    "        TARGET,\n",
    "        #         TARGET_ENC,\n",
    "    ]\n",
    "]"
   ]
  },
  {
   "cell_type": "code",
   "execution_count": 13,
   "id": "cb462c1e",
   "metadata": {
    "execution": {
     "iopub.execute_input": "2022-07-20T20:01:24.608513Z",
     "iopub.status.busy": "2022-07-20T20:01:24.608171Z",
     "iopub.status.idle": "2022-07-20T20:01:24.625124Z",
     "shell.execute_reply": "2022-07-20T20:01:24.624295Z"
    },
    "papermill": {
     "duration": 0.04038,
     "end_time": "2022-07-20T20:01:24.627684",
     "exception": false,
     "start_time": "2022-07-20T20:01:24.587304",
     "status": "completed"
    },
    "tags": []
   },
   "outputs": [],
   "source": [
    "y = train[TARGET]\n",
    "X = train[FEATURES].copy()\n",
    "\n",
    "X_test = test[FEATURES].copy()"
   ]
  },
  {
   "cell_type": "code",
   "execution_count": 14,
   "id": "61607379",
   "metadata": {
    "execution": {
     "iopub.execute_input": "2022-07-20T20:01:24.670875Z",
     "iopub.status.busy": "2022-07-20T20:01:24.670532Z",
     "iopub.status.idle": "2022-07-20T20:01:24.675516Z",
     "shell.execute_reply": "2022-07-20T20:01:24.674603Z"
    },
    "papermill": {
     "duration": 0.028992,
     "end_time": "2022-07-20T20:01:24.677519",
     "exception": false,
     "start_time": "2022-07-20T20:01:24.648527",
     "status": "completed"
    },
    "tags": []
   },
   "outputs": [],
   "source": [
    "# # Normalize the data\n",
    "# X = X / 255.0\n",
    "# X_test = X_test / 255.0"
   ]
  },
  {
   "cell_type": "code",
   "execution_count": 15,
   "id": "d5a749ed",
   "metadata": {
    "execution": {
     "iopub.execute_input": "2022-07-20T20:01:24.702948Z",
     "iopub.status.busy": "2022-07-20T20:01:24.702636Z",
     "iopub.status.idle": "2022-07-20T20:01:24.708491Z",
     "shell.execute_reply": "2022-07-20T20:01:24.707607Z"
    },
    "papermill": {
     "duration": 0.020866,
     "end_time": "2022-07-20T20:01:24.710497",
     "exception": false,
     "start_time": "2022-07-20T20:01:24.689631",
     "status": "completed"
    },
    "tags": []
   },
   "outputs": [],
   "source": [
    "# X = X.values.reshape(-1, 28, 28, 1)\n",
    "# X_test = X_test.values.reshape(-1, 28, 28, 1)"
   ]
  },
  {
   "cell_type": "code",
   "execution_count": 16,
   "id": "857b3459",
   "metadata": {
    "execution": {
     "iopub.execute_input": "2022-07-20T20:01:24.736670Z",
     "iopub.status.busy": "2022-07-20T20:01:24.736385Z",
     "iopub.status.idle": "2022-07-20T20:01:24.740797Z",
     "shell.execute_reply": "2022-07-20T20:01:24.739846Z"
    },
    "papermill": {
     "duration": 0.020118,
     "end_time": "2022-07-20T20:01:24.742920",
     "exception": false,
     "start_time": "2022-07-20T20:01:24.722802",
     "status": "completed"
    },
    "tags": []
   },
   "outputs": [],
   "source": [
    "# X[:3]"
   ]
  },
  {
   "cell_type": "code",
   "execution_count": 17,
   "id": "8624d6e5",
   "metadata": {
    "execution": {
     "iopub.execute_input": "2022-07-20T20:01:24.768268Z",
     "iopub.status.busy": "2022-07-20T20:01:24.767988Z",
     "iopub.status.idle": "2022-07-20T20:01:24.772558Z",
     "shell.execute_reply": "2022-07-20T20:01:24.771600Z"
    },
    "papermill": {
     "duration": 0.019302,
     "end_time": "2022-07-20T20:01:24.774520",
     "exception": false,
     "start_time": "2022-07-20T20:01:24.755218",
     "status": "completed"
    },
    "tags": []
   },
   "outputs": [],
   "source": [
    "# from keras.utils.np_utils import to_categorical\n",
    "\n",
    "# y = to_categorical(y)"
   ]
  },
  {
   "cell_type": "code",
   "execution_count": 18,
   "id": "685b7900",
   "metadata": {
    "execution": {
     "iopub.execute_input": "2022-07-20T20:01:24.801978Z",
     "iopub.status.busy": "2022-07-20T20:01:24.801692Z",
     "iopub.status.idle": "2022-07-20T20:01:24.810757Z",
     "shell.execute_reply": "2022-07-20T20:01:24.809920Z"
    },
    "papermill": {
     "duration": 0.026377,
     "end_time": "2022-07-20T20:01:24.812763",
     "exception": false,
     "start_time": "2022-07-20T20:01:24.786386",
     "status": "completed"
    },
    "tags": []
   },
   "outputs": [
    {
     "data": {
      "text/plain": [
       "0    1\n",
       "1    1\n",
       "2    1\n",
       "3    1\n",
       "4    1\n",
       "Name: target, dtype: int64"
      ]
     },
     "execution_count": 18,
     "metadata": {},
     "output_type": "execute_result"
    }
   ],
   "source": [
    "y[:5]"
   ]
  },
  {
   "cell_type": "markdown",
   "id": "cf67dc06",
   "metadata": {
    "execution": {
     "iopub.execute_input": "2022-07-19T19:44:01.140457Z",
     "iopub.status.busy": "2022-07-19T19:44:01.139714Z",
     "iopub.status.idle": "2022-07-19T19:44:01.157867Z",
     "shell.execute_reply": "2022-07-19T19:44:01.154383Z",
     "shell.execute_reply.started": "2022-07-19T19:44:01.140426Z"
    },
    "papermill": {
     "duration": 0.011955,
     "end_time": "2022-07-20T20:01:24.836676",
     "exception": false,
     "start_time": "2022-07-20T20:01:24.824721",
     "status": "completed"
    },
    "tags": []
   },
   "source": [
    "Tokenize then pad sequence.\n",
    "\n",
    "### Vectorization vs Tokenization\n",
    "\n",
    "- https://datascience.stackexchange.com/questions/104859/what-is-the-difference-between-textvectorization-and-tokenizer\n",
    "- https://stackoverflow.com/questions/71002866/difference-between-tokenizer-and-textvectorization-layer-in-tensorflow\n",
    "- [You should try the new TensorFlow’s TextVectorization layer](https://towardsdatascience.com/you-should-try-the-new-tensorflows-textvectorization-layer-a80b3c6b00ee)"
   ]
  },
  {
   "cell_type": "code",
   "execution_count": 19,
   "id": "326cae50",
   "metadata": {
    "execution": {
     "iopub.execute_input": "2022-07-20T20:01:24.862006Z",
     "iopub.status.busy": "2022-07-20T20:01:24.861688Z",
     "iopub.status.idle": "2022-07-20T20:01:25.041699Z",
     "shell.execute_reply": "2022-07-20T20:01:25.040766Z"
    },
    "papermill": {
     "duration": 0.195289,
     "end_time": "2022-07-20T20:01:25.043836",
     "exception": false,
     "start_time": "2022-07-20T20:01:24.848547",
     "status": "completed"
    },
    "tags": []
   },
   "outputs": [
    {
     "data": {
      "text/plain": [
       "14999"
      ]
     },
     "execution_count": 19,
     "metadata": {},
     "output_type": "execute_result"
    }
   ],
   "source": [
    "tokenizer = tf.keras.preprocessing.text.Tokenizer()\n",
    "tokenizer.oov_token = \"<OOV>\"\n",
    "tokenizer.fit_on_texts(train.text)\n",
    "vocab = tokenizer.word_index\n",
    "vocabCount = len(vocab) + 1\n",
    "\n",
    "vocabCount"
   ]
  },
  {
   "cell_type": "code",
   "execution_count": 20,
   "id": "3ab77087",
   "metadata": {
    "execution": {
     "iopub.execute_input": "2022-07-20T20:01:25.070500Z",
     "iopub.status.busy": "2022-07-20T20:01:25.069789Z",
     "iopub.status.idle": "2022-07-20T20:01:25.234050Z",
     "shell.execute_reply": "2022-07-20T20:01:25.233030Z"
    },
    "papermill": {
     "duration": 0.180159,
     "end_time": "2022-07-20T20:01:25.236362",
     "exception": false,
     "start_time": "2022-07-20T20:01:25.056203",
     "status": "completed"
    },
    "tags": []
   },
   "outputs": [
    {
     "data": {
      "text/plain": [
       "(7613, 35)"
      ]
     },
     "execution_count": 20,
     "metadata": {},
     "output_type": "execute_result"
    }
   ],
   "source": [
    "train = tf.keras.preprocessing.sequence.pad_sequences(\n",
    "    tokenizer.texts_to_sequences(train.text.to_numpy()), padding=\"pre\"\n",
    ")\n",
    "train.shape"
   ]
  },
  {
   "cell_type": "code",
   "execution_count": 21,
   "id": "0d985291",
   "metadata": {
    "execution": {
     "iopub.execute_input": "2022-07-20T20:01:25.263605Z",
     "iopub.status.busy": "2022-07-20T20:01:25.263289Z",
     "iopub.status.idle": "2022-07-20T20:01:25.278045Z",
     "shell.execute_reply": "2022-07-20T20:01:25.277048Z"
    },
    "papermill": {
     "duration": 0.03096,
     "end_time": "2022-07-20T20:01:25.280162",
     "exception": false,
     "start_time": "2022-07-20T20:01:25.249202",
     "status": "completed"
    },
    "tags": []
   },
   "outputs": [
    {
     "data": {
      "text/plain": [
       "((6851, 4), (6851,), (762, 4), (762,))"
      ]
     },
     "execution_count": 21,
     "metadata": {},
     "output_type": "execute_result"
    }
   ],
   "source": [
    "X_train, X_valid, y_train, y_valid = train_test_split(\n",
    "    X,\n",
    "    y,\n",
    "    test_size=0.1,\n",
    "    random_state=42,\n",
    ")\n",
    "X_train.shape, y_train.shape, X_valid.shape, y_valid.shape"
   ]
  },
  {
   "cell_type": "code",
   "execution_count": 22,
   "id": "a11c1637",
   "metadata": {
    "execution": {
     "iopub.execute_input": "2022-07-20T20:01:25.305706Z",
     "iopub.status.busy": "2022-07-20T20:01:25.305451Z",
     "iopub.status.idle": "2022-07-20T20:01:25.312501Z",
     "shell.execute_reply": "2022-07-20T20:01:25.311638Z"
    },
    "papermill": {
     "duration": 0.021975,
     "end_time": "2022-07-20T20:01:25.314398",
     "exception": false,
     "start_time": "2022-07-20T20:01:25.292423",
     "status": "completed"
    },
    "tags": []
   },
   "outputs": [
    {
     "data": {
      "text/plain": [
       "pandas.core.frame.DataFrame"
      ]
     },
     "execution_count": 22,
     "metadata": {},
     "output_type": "execute_result"
    }
   ],
   "source": [
    "type(X_train)"
   ]
  },
  {
   "cell_type": "markdown",
   "id": "c90157b3",
   "metadata": {
    "papermill": {
     "duration": 0.012216,
     "end_time": "2022-07-20T20:01:25.339388",
     "exception": false,
     "start_time": "2022-07-20T20:01:25.327172",
     "status": "completed"
    },
    "tags": []
   },
   "source": [
    "<div style=\"background-color:rgba(128, 0, 128, 0.6);border-radius:5px;display:fill\"><h1 style=\"text-align: center;padding: 12px 0px 12px 0px;\">Create Models</h1>\n",
    "</div>"
   ]
  },
  {
   "cell_type": "code",
   "execution_count": 23,
   "id": "41d39689",
   "metadata": {
    "execution": {
     "iopub.execute_input": "2022-07-20T20:01:25.365251Z",
     "iopub.status.busy": "2022-07-20T20:01:25.364695Z",
     "iopub.status.idle": "2022-07-20T20:01:25.370394Z",
     "shell.execute_reply": "2022-07-20T20:01:25.369557Z"
    },
    "papermill": {
     "duration": 0.020817,
     "end_time": "2022-07-20T20:01:25.372411",
     "exception": false,
     "start_time": "2022-07-20T20:01:25.351594",
     "status": "completed"
    },
    "tags": []
   },
   "outputs": [],
   "source": [
    "def get_rnn_model01(vocabCount):\n",
    "    pass"
   ]
  },
  {
   "cell_type": "code",
   "execution_count": 24,
   "id": "ef10cfa0",
   "metadata": {
    "execution": {
     "iopub.execute_input": "2022-07-20T20:01:25.399332Z",
     "iopub.status.busy": "2022-07-20T20:01:25.398578Z",
     "iopub.status.idle": "2022-07-20T20:01:25.404395Z",
     "shell.execute_reply": "2022-07-20T20:01:25.403564Z"
    },
    "papermill": {
     "duration": 0.020888,
     "end_time": "2022-07-20T20:01:25.406283",
     "exception": false,
     "start_time": "2022-07-20T20:01:25.385395",
     "status": "completed"
    },
    "tags": []
   },
   "outputs": [],
   "source": [
    "def get_lstm_model01(vocabCount):\n",
    "    pass"
   ]
  },
  {
   "cell_type": "code",
   "execution_count": 25,
   "id": "fe6e3c17",
   "metadata": {
    "execution": {
     "iopub.execute_input": "2022-07-20T20:01:25.433311Z",
     "iopub.status.busy": "2022-07-20T20:01:25.432534Z",
     "iopub.status.idle": "2022-07-20T20:01:25.441384Z",
     "shell.execute_reply": "2022-07-20T20:01:25.440552Z"
    },
    "papermill": {
     "duration": 0.024163,
     "end_time": "2022-07-20T20:01:25.443272",
     "exception": false,
     "start_time": "2022-07-20T20:01:25.419109",
     "status": "completed"
    },
    "tags": []
   },
   "outputs": [],
   "source": [
    "def custom_standardization_fn(string_tensor):\n",
    "    lowercase_string = tf.strings.lower(string_tensor)\n",
    "    return tf.strings.regex_replace(\n",
    "        lowercase_string, f\"[{re.escape(string.punctuation)}]\", \"\"\n",
    "    )"
   ]
  },
  {
   "cell_type": "code",
   "execution_count": 26,
   "id": "80cc32cd",
   "metadata": {
    "execution": {
     "iopub.execute_input": "2022-07-20T20:01:25.470005Z",
     "iopub.status.busy": "2022-07-20T20:01:25.469740Z",
     "iopub.status.idle": "2022-07-20T20:01:25.506881Z",
     "shell.execute_reply": "2022-07-20T20:01:25.505992Z"
    },
    "papermill": {
     "duration": 0.052695,
     "end_time": "2022-07-20T20:01:25.508839",
     "exception": false,
     "start_time": "2022-07-20T20:01:25.456144",
     "status": "completed"
    },
    "tags": []
   },
   "outputs": [],
   "source": [
    "from tensorflow.keras.layers.experimental.preprocessing import TextVectorization\n",
    "from keras.metrics import AUC\n",
    "from keras import optimizers, losses\n",
    "\n",
    "\n",
    "def get_lstm_model01(vocabCount):\n",
    "    #     print(f\"x_shape=\")\n",
    "    #     input_shape = (height, width, channels)\n",
    "    #     inputs = keras.Input(shape=(28, 28, 1))\n",
    "    vocab_size = 23_000\n",
    "    embed_size = 100\n",
    "    doc_length = vocabCount + 1\n",
    "    max_length = 15\n",
    "\n",
    "    #     text_vectorizer = TextVectorization(max_tokens=vocab_size,\n",
    "    #                                        standardize=custom_standardization_fn,\n",
    "    #                                            output_mode=\"int\",)\n",
    "    text_vectorizer = TextVectorization(output_mode=\"int\")\n",
    "    text_vectorizer.adapt(X_train.text)\n",
    "\n",
    "    embedding_layer = keras.layers.Embedding(\n",
    "        input_dim=vocab_size,  # set input shape\n",
    "        #         standardize=custom_standardization_fn,\n",
    "        #         split=\"whitespace\",\n",
    "        #         ngrams=None,\n",
    "        #         output_mode=\"int\",\n",
    "        output_dim=128,  # set size of embedding vector\n",
    "        embeddings_initializer=\"uniform\",  # default, intialize randomly\n",
    "        input_length=max_length,  # how long is each input\n",
    "        name=\"embedding_1\",\n",
    "    )\n",
    "\n",
    "    #     tf.keras.layers.TextVectorization(\n",
    "    #         max_tokens=None, standardize='lower_and_strip_punctuation',\n",
    "    #         split='whitespace', ngrams=None, output_mode='int',\n",
    "    #         output_sequence_length=None, pad_to_max_tokens=False, vocabulary=None,\n",
    "    #         idf_weights=None, sparse=False, ragged=False, **kwargs\n",
    "    # )\n",
    "\n",
    "    #     words_in_vocab = text_vectorizer.get_vocabulary()\n",
    "    #     print(f\"Vocab={words_in_vocab}\")\n",
    "    #     inputs = keras.Input((doc_length,))\n",
    "    text_input = keras.Input(shape=(1,), dtype=tf.string, name=\"text_input_layer\")\n",
    "    #     inputs = keras.Input(shape=(1,), name=\"text_input_layer\")\n",
    "    x = text_vectorizer(text_input)\n",
    "    #     embedding_layer = keras.layers.Embedding(\n",
    "    #         input_dim=vocabCount + 1, output_dim=64, input_length=31\n",
    "    #     )(x)\n",
    "    x = embedding_layer(x)\n",
    "    #     x = keras.layers.GlobalAveragePooling1D()(x)\n",
    "    #     x = keras.layers.MaxPooling2d((2, 2))(x)\n",
    "    #     x = keras.layers.Conv2D(\n",
    "    #         128, activation=\"relu\", padding=\"same\", kernel_initializer=\"he_normal\"\n",
    "    #     )(x)\n",
    "    #     x = keras.layers.Flatten()(x)\n",
    "    #     x = keras.layers.BatchNormalization()(x)\n",
    "\n",
    "    #     x = keras.layers.Dense(128, activation=\"relu\")(x)\n",
    "\n",
    "    #     x = keras.layers.Dense(64, activation=\"relu\")(x)\n",
    "    #     x = keras.layers.BatchNormalization()(x)\n",
    "    #     x = keras.layers.Dense(32, activation=\"relu\")(x)\n",
    "    #     x = keras.layers.BatchNormalization()(x)\n",
    "    #     x = keras.layers.Dropout(0.1)(x)\n",
    "    #     forward_layer = keras.layers.LSTM(100, return_sequences=True)\n",
    "    #     backward_layer = keras.layers.LSTM(\n",
    "    #         100, activation=\"relu\", return_sequences=True, go_backwards=True\n",
    "    #     )\n",
    "    #     x = keras.layers.Bidirectional(forward_layer, backward_layer=backward_layer)(x)\n",
    "\n",
    "    x = keras.layers.Bidirectional(keras.layers.LSTM(50))(x)\n",
    "    x = keras.layers.Dropout(0.5)(x)\n",
    "\n",
    "    #     x = keras.layers.LSTM(100, return_sequences=True)(x)\n",
    "    #     x = keras.layers.LSTM(200)(x)\n",
    "    x = keras.layers.Dense(64, activation=\"relu\")(x)\n",
    "\n",
    "    x = keras.layers.Dropout(0.5)(x)\n",
    "    outputs = keras.layers.Dense(1, activation=\"sigmoid\")(x)\n",
    "\n",
    "    model = keras.Model(text_input, outputs, name=\"Dense_Model\")\n",
    "\n",
    "    model.compile(\n",
    "        loss=\"binary_crossentropy\",\n",
    "        optimizer=\"adam\",\n",
    "        metrics=[\"accuracy\", AUC(name=\"auc\")],\n",
    "    )\n",
    "\n",
    "    #     model.compile(\n",
    "    #         optimizer=tf.keras.optimizers.Adam(learning_rate=0.01),\n",
    "    #         loss=\"accuracy\",\n",
    "    #     )\n",
    "\n",
    "    return model"
   ]
  },
  {
   "cell_type": "code",
   "execution_count": 27,
   "id": "0d060d36",
   "metadata": {
    "execution": {
     "iopub.execute_input": "2022-07-20T20:01:25.535961Z",
     "iopub.status.busy": "2022-07-20T20:01:25.534533Z",
     "iopub.status.idle": "2022-07-20T20:01:25.542679Z",
     "shell.execute_reply": "2022-07-20T20:01:25.541793Z"
    },
    "papermill": {
     "duration": 0.023418,
     "end_time": "2022-07-20T20:01:25.544626",
     "exception": false,
     "start_time": "2022-07-20T20:01:25.521208",
     "status": "completed"
    },
    "tags": []
   },
   "outputs": [
    {
     "data": {
      "text/plain": [
       "4"
      ]
     },
     "execution_count": 27,
     "metadata": {},
     "output_type": "execute_result"
    }
   ],
   "source": [
    "X_train.shape[1]"
   ]
  },
  {
   "cell_type": "code",
   "execution_count": 28,
   "id": "2dee2f67",
   "metadata": {
    "execution": {
     "iopub.execute_input": "2022-07-20T20:01:25.571173Z",
     "iopub.status.busy": "2022-07-20T20:01:25.570910Z",
     "iopub.status.idle": "2022-07-20T20:01:25.577741Z",
     "shell.execute_reply": "2022-07-20T20:01:25.576914Z"
    },
    "papermill": {
     "duration": 0.021981,
     "end_time": "2022-07-20T20:01:25.579636",
     "exception": false,
     "start_time": "2022-07-20T20:01:25.557655",
     "status": "completed"
    },
    "tags": []
   },
   "outputs": [
    {
     "data": {
      "text/plain": [
       "7613"
      ]
     },
     "execution_count": 28,
     "metadata": {},
     "output_type": "execute_result"
    }
   ],
   "source": [
    "X.shape[0]"
   ]
  },
  {
   "cell_type": "code",
   "execution_count": 29,
   "id": "04f7288b",
   "metadata": {
    "execution": {
     "iopub.execute_input": "2022-07-20T20:01:25.607806Z",
     "iopub.status.busy": "2022-07-20T20:01:25.606438Z",
     "iopub.status.idle": "2022-07-20T20:01:29.400251Z",
     "shell.execute_reply": "2022-07-20T20:01:29.399128Z"
    },
    "papermill": {
     "duration": 3.809362,
     "end_time": "2022-07-20T20:01:29.402462",
     "exception": false,
     "start_time": "2022-07-20T20:01:25.593100",
     "status": "completed"
    },
    "tags": []
   },
   "outputs": [
    {
     "name": "stderr",
     "output_type": "stream",
     "text": [
      "2022-07-20 20:01:25.696935: I tensorflow/stream_executor/cuda/cuda_gpu_executor.cc:937] successful NUMA node read from SysFS had negative value (-1), but there must be at least one NUMA node, so returning NUMA node zero\n",
      "2022-07-20 20:01:25.814178: I tensorflow/stream_executor/cuda/cuda_gpu_executor.cc:937] successful NUMA node read from SysFS had negative value (-1), but there must be at least one NUMA node, so returning NUMA node zero\n",
      "2022-07-20 20:01:25.814993: I tensorflow/stream_executor/cuda/cuda_gpu_executor.cc:937] successful NUMA node read from SysFS had negative value (-1), but there must be at least one NUMA node, so returning NUMA node zero\n",
      "2022-07-20 20:01:25.816678: I tensorflow/core/platform/cpu_feature_guard.cc:142] This TensorFlow binary is optimized with oneAPI Deep Neural Network Library (oneDNN) to use the following CPU instructions in performance-critical operations:  AVX2 AVX512F FMA\n",
      "To enable them in other operations, rebuild TensorFlow with the appropriate compiler flags.\n",
      "2022-07-20 20:01:25.817027: I tensorflow/stream_executor/cuda/cuda_gpu_executor.cc:937] successful NUMA node read from SysFS had negative value (-1), but there must be at least one NUMA node, so returning NUMA node zero\n",
      "2022-07-20 20:01:25.817738: I tensorflow/stream_executor/cuda/cuda_gpu_executor.cc:937] successful NUMA node read from SysFS had negative value (-1), but there must be at least one NUMA node, so returning NUMA node zero\n",
      "2022-07-20 20:01:25.818447: I tensorflow/stream_executor/cuda/cuda_gpu_executor.cc:937] successful NUMA node read from SysFS had negative value (-1), but there must be at least one NUMA node, so returning NUMA node zero\n",
      "2022-07-20 20:01:27.963987: I tensorflow/stream_executor/cuda/cuda_gpu_executor.cc:937] successful NUMA node read from SysFS had negative value (-1), but there must be at least one NUMA node, so returning NUMA node zero\n",
      "2022-07-20 20:01:27.964787: I tensorflow/stream_executor/cuda/cuda_gpu_executor.cc:937] successful NUMA node read from SysFS had negative value (-1), but there must be at least one NUMA node, so returning NUMA node zero\n",
      "2022-07-20 20:01:27.965515: I tensorflow/stream_executor/cuda/cuda_gpu_executor.cc:937] successful NUMA node read from SysFS had negative value (-1), but there must be at least one NUMA node, so returning NUMA node zero\n",
      "2022-07-20 20:01:27.966140: I tensorflow/core/common_runtime/gpu/gpu_device.cc:1510] Created device /job:localhost/replica:0/task:0/device:GPU:0 with 15403 MB memory:  -> device: 0, name: Tesla P100-PCIE-16GB, pci bus id: 0000:00:04.0, compute capability: 6.0\n",
      "2022-07-20 20:01:28.431094: I tensorflow/compiler/mlir/mlir_graph_optimization_pass.cc:185] None of the MLIR Optimization Passes are enabled (registered 2)\n"
     ]
    },
    {
     "name": "stdout",
     "output_type": "stream",
     "text": [
      "Model: \"Dense_Model\"\n",
      "_________________________________________________________________\n",
      "Layer (type)                 Output Shape              Param #   \n",
      "=================================================================\n",
      "text_input_layer (InputLayer [(None, 1)]               0         \n",
      "_________________________________________________________________\n",
      "text_vectorization (TextVect (None, None)              0         \n",
      "_________________________________________________________________\n",
      "embedding_1 (Embedding)      (None, None, 128)         2944000   \n",
      "_________________________________________________________________\n",
      "bidirectional (Bidirectional (None, 100)               71600     \n",
      "_________________________________________________________________\n",
      "dropout (Dropout)            (None, 100)               0         \n",
      "_________________________________________________________________\n",
      "dense (Dense)                (None, 64)                6464      \n",
      "_________________________________________________________________\n",
      "dropout_1 (Dropout)          (None, 64)                0         \n",
      "_________________________________________________________________\n",
      "dense_1 (Dense)              (None, 1)                 65        \n",
      "=================================================================\n",
      "Total params: 3,022,129\n",
      "Trainable params: 3,022,129\n",
      "Non-trainable params: 0\n",
      "_________________________________________________________________\n"
     ]
    }
   ],
   "source": [
    "model = get_lstm_model01(vocabCount)\n",
    "\n",
    "model.summary()"
   ]
  },
  {
   "cell_type": "code",
   "execution_count": 30,
   "id": "fb639e54",
   "metadata": {
    "execution": {
     "iopub.execute_input": "2022-07-20T20:01:29.429800Z",
     "iopub.status.busy": "2022-07-20T20:01:29.429506Z",
     "iopub.status.idle": "2022-07-20T20:01:30.352005Z",
     "shell.execute_reply": "2022-07-20T20:01:30.350846Z"
    },
    "papermill": {
     "duration": 0.938603,
     "end_time": "2022-07-20T20:01:30.354227",
     "exception": false,
     "start_time": "2022-07-20T20:01:29.415624",
     "status": "completed"
    },
    "tags": []
   },
   "outputs": [
    {
     "data": {
      "image/png": "[encoded data removed]",
      "text/plain": [
       "<IPython.core.display.Image object>"
      ]
     },
     "execution_count": 30,
     "metadata": {},
     "output_type": "execute_result"
    }
   ],
   "source": [
    "keras.utils.plot_model(model)"
   ]
  },
  {
   "cell_type": "code",
   "execution_count": 31,
   "id": "f6030099",
   "metadata": {
    "execution": {
     "iopub.execute_input": "2022-07-20T20:01:30.384208Z",
     "iopub.status.busy": "2022-07-20T20:01:30.383266Z",
     "iopub.status.idle": "2022-07-20T20:01:30.392947Z",
     "shell.execute_reply": "2022-07-20T20:01:30.392089Z"
    },
    "papermill": {
     "duration": 0.026184,
     "end_time": "2022-07-20T20:01:30.394878",
     "exception": false,
     "start_time": "2022-07-20T20:01:30.368694",
     "status": "completed"
    },
    "tags": []
   },
   "outputs": [],
   "source": [
    "X_train = X_train.text\n",
    "X_valid = X_valid.text\n",
    "X_test = X_test.text"
   ]
  },
  {
   "cell_type": "code",
   "execution_count": 32,
   "id": "eb2d1231",
   "metadata": {
    "execution": {
     "iopub.execute_input": "2022-07-20T20:01:30.422805Z",
     "iopub.status.busy": "2022-07-20T20:01:30.422531Z",
     "iopub.status.idle": "2022-07-20T20:01:30.434561Z",
     "shell.execute_reply": "2022-07-20T20:01:30.433483Z"
    },
    "papermill": {
     "duration": 0.028815,
     "end_time": "2022-07-20T20:01:30.437053",
     "exception": false,
     "start_time": "2022-07-20T20:01:30.408238",
     "status": "completed"
    },
    "tags": []
   },
   "outputs": [],
   "source": [
    "from keras.callbacks import *\n",
    "\n",
    "lr = ReduceLROnPlateau(\n",
    "    monitor=\"val_auc\", mode=\"max\", factor=0.7, patience=4, verbose=False\n",
    ")\n",
    "es = EarlyStopping(\n",
    "    monitor=\"val_auc\", mode=\"max\", patience=10, verbose=False, restore_best_weights=True\n",
    ")"
   ]
  },
  {
   "cell_type": "code",
   "execution_count": 33,
   "id": "e916466c",
   "metadata": {
    "execution": {
     "iopub.execute_input": "2022-07-20T20:01:30.465204Z",
     "iopub.status.busy": "2022-07-20T20:01:30.464928Z",
     "iopub.status.idle": "2022-07-20T20:01:43.617023Z",
     "shell.execute_reply": "2022-07-20T20:01:43.614753Z"
    },
    "papermill": {
     "duration": 13.168975,
     "end_time": "2022-07-20T20:01:43.619387",
     "exception": false,
     "start_time": "2022-07-20T20:01:30.450412",
     "status": "completed"
    },
    "tags": []
   },
   "outputs": [
    {
     "name": "stdout",
     "output_type": "stream",
     "text": [
      "Epoch 1/10\n"
     ]
    },
    {
     "name": "stderr",
     "output_type": "stream",
     "text": [
      "2022-07-20 20:01:34.270893: I tensorflow/stream_executor/cuda/cuda_dnn.cc:369] Loaded cuDNN version 8005\n"
     ]
    },
    {
     "name": "stdout",
     "output_type": "stream",
     "text": [
      "43/43 [==============================] - 6s 30ms/step - loss: 0.6534 - accuracy: 0.6071 - auc: 0.6373 - val_loss: 0.5509 - val_accuracy: 0.7469 - val_auc: 0.8066\n",
      "Epoch 2/10\n",
      "43/43 [==============================] - 0s 11ms/step - loss: 0.4168 - accuracy: 0.8214 - auc: 0.8847 - val_loss: 0.4829 - val_accuracy: 0.7870 - val_auc: 0.8529\n",
      "Epoch 3/10\n",
      "43/43 [==============================] - 0s 11ms/step - loss: 0.2305 - accuracy: 0.9181 - auc: 0.9618 - val_loss: 0.5397 - val_accuracy: 0.7702 - val_auc: 0.8430\n",
      "Epoch 4/10\n",
      "43/43 [==============================] - 0s 11ms/step - loss: 0.1433 - accuracy: 0.9520 - auc: 0.9842 - val_loss: 0.6519 - val_accuracy: 0.7695 - val_auc: 0.8390\n",
      "Epoch 5/10\n",
      "43/43 [==============================] - 0s 11ms/step - loss: 0.1008 - accuracy: 0.9661 - auc: 0.9925 - val_loss: 0.7850 - val_accuracy: 0.7732 - val_auc: 0.8307\n",
      "Epoch 6/10\n",
      "43/43 [==============================] - 1s 14ms/step - loss: 0.0739 - accuracy: 0.9772 - auc: 0.9953 - val_loss: 0.8377 - val_accuracy: 0.7659 - val_auc: 0.8248\n",
      "Epoch 7/10\n",
      "43/43 [==============================] - 1s 13ms/step - loss: 0.0580 - accuracy: 0.9797 - auc: 0.9971 - val_loss: 0.8807 - val_accuracy: 0.7571 - val_auc: 0.8250\n",
      "Epoch 8/10\n",
      "43/43 [==============================] - 0s 11ms/step - loss: 0.0576 - accuracy: 0.9796 - auc: 0.9967 - val_loss: 0.9212 - val_accuracy: 0.7593 - val_auc: 0.8184\n",
      "Epoch 9/10\n",
      "43/43 [==============================] - 0s 11ms/step - loss: 0.0506 - accuracy: 0.9823 - auc: 0.9983 - val_loss: 1.0259 - val_accuracy: 0.7710 - val_auc: 0.8177\n",
      "Epoch 10/10\n",
      "43/43 [==============================] - 0s 11ms/step - loss: 0.0452 - accuracy: 0.9823 - auc: 0.9984 - val_loss: 1.0533 - val_accuracy: 0.7608 - val_auc: 0.8166\n",
      "CPU times: user 10.9 s, sys: 1.04 s, total: 11.9 s\n",
      "Wall time: 13.1 s\n"
     ]
    }
   ],
   "source": [
    "%%time\n",
    "\n",
    "history = model.fit(\n",
    "    X_train,\n",
    "    y_train,\n",
    "    batch_size=128,\n",
    "    epochs=10,\n",
    "    # Suppress logging.\n",
    "    verbose=1,\n",
    "    callbacks=[es,lr],\n",
    "    # Calculate validation results on 20% of the training data.\n",
    "    validation_split = 0.2\n",
    ")"
   ]
  },
  {
   "cell_type": "code",
   "execution_count": 34,
   "id": "f7ffc5ae",
   "metadata": {
    "execution": {
     "iopub.execute_input": "2022-07-20T20:01:43.660564Z",
     "iopub.status.busy": "2022-07-20T20:01:43.660267Z",
     "iopub.status.idle": "2022-07-20T20:01:44.059726Z",
     "shell.execute_reply": "2022-07-20T20:01:44.058787Z"
    },
    "papermill": {
     "duration": 0.422705,
     "end_time": "2022-07-20T20:01:44.061931",
     "exception": false,
     "start_time": "2022-07-20T20:01:43.639226",
     "status": "completed"
    },
    "tags": []
   },
   "outputs": [
    {
     "data": {
      "image/png": "[encoded data removed]",
      "text/plain": [
       "<Figure size 432x288 with 1 Axes>"
      ]
     },
     "metadata": {
      "needs_background": "light"
     },
     "output_type": "display_data"
    },
    {
     "data": {
      "image/png": "[encoded data removed]",
      "text/plain": [
       "<Figure size 432x288 with 1 Axes>"
      ]
     },
     "metadata": {
      "needs_background": "light"
     },
     "output_type": "display_data"
    }
   ],
   "source": [
    "acc = history.history[\"accuracy\"]\n",
    "val_acc = history.history[\"val_accuracy\"]\n",
    "loss = history.history[\"loss\"]\n",
    "val_loss = history.history[\"val_loss\"]\n",
    "\n",
    "epochs = range(1, len(acc) + 1)\n",
    "\n",
    "plt.plot(epochs, acc, \"bo\", label=\"Training acc\")\n",
    "plt.plot(epochs, val_acc, \"b\", label=\"Validation acc\")\n",
    "plt.title(\"Training and validation accuracy\")\n",
    "plt.legend()\n",
    "\n",
    "plt.figure()\n",
    "\n",
    "plt.plot(epochs, loss, \"bo\", label=\"Training loss\")\n",
    "plt.plot(epochs, val_loss, \"b\", label=\"Validation loss\")\n",
    "plt.title(\"Training and validation loss\")\n",
    "plt.legend()\n",
    "\n",
    "plt.show()"
   ]
  },
  {
   "cell_type": "markdown",
   "id": "ce5f6fe0",
   "metadata": {
    "papermill": {
     "duration": 0.019912,
     "end_time": "2022-07-20T20:01:44.104675",
     "exception": false,
     "start_time": "2022-07-20T20:01:44.084763",
     "status": "completed"
    },
    "tags": []
   },
   "source": [
    "## Predict and Score"
   ]
  },
  {
   "cell_type": "code",
   "execution_count": 35,
   "id": "eb988b6b",
   "metadata": {
    "execution": {
     "iopub.execute_input": "2022-07-20T20:01:44.145916Z",
     "iopub.status.busy": "2022-07-20T20:01:44.145238Z",
     "iopub.status.idle": "2022-07-20T20:01:44.333694Z",
     "shell.execute_reply": "2022-07-20T20:01:44.332760Z"
    },
    "papermill": {
     "duration": 0.211267,
     "end_time": "2022-07-20T20:01:44.335686",
     "exception": false,
     "start_time": "2022-07-20T20:01:44.124419",
     "status": "completed"
    },
    "tags": []
   },
   "outputs": [
    {
     "name": "stdout",
     "output_type": "stream",
     "text": [
      "24/24 [==============================] - 0s 6ms/step - loss: 1.1764 - accuracy: 0.7375 - auc: 0.8003\n"
     ]
    },
    {
     "data": {
      "text/plain": [
       "(0.7375327944755554, 0.8002983927726746)"
      ]
     },
     "execution_count": 35,
     "metadata": {},
     "output_type": "execute_result"
    }
   ],
   "source": [
    "test_loss, test_acc, test_auc = model.evaluate(X_valid, y_valid)\n",
    "test_acc, test_auc"
   ]
  },
  {
   "cell_type": "code",
   "execution_count": 36,
   "id": "d8759a30",
   "metadata": {
    "execution": {
     "iopub.execute_input": "2022-07-20T20:01:44.378287Z",
     "iopub.status.busy": "2022-07-20T20:01:44.378004Z",
     "iopub.status.idle": "2022-07-20T20:01:45.087771Z",
     "shell.execute_reply": "2022-07-20T20:01:45.086880Z"
    },
    "papermill": {
     "duration": 0.732925,
     "end_time": "2022-07-20T20:01:45.089913",
     "exception": false,
     "start_time": "2022-07-20T20:01:44.356988",
     "status": "completed"
    },
    "tags": []
   },
   "outputs": [
    {
     "data": {
      "text/plain": [
       "array([[6.4387551e-04],\n",
       "       [1.3725190e-01],\n",
       "       [5.4919124e-01],\n",
       "       [1.1512962e-05],\n",
       "       [8.2868588e-01]], dtype=float32)"
      ]
     },
     "execution_count": 36,
     "metadata": {},
     "output_type": "execute_result"
    }
   ],
   "source": [
    "valid_preds = model.predict(X_valid)\n",
    "valid_preds[:5]"
   ]
  },
  {
   "cell_type": "code",
   "execution_count": 37,
   "id": "4388a504",
   "metadata": {
    "execution": {
     "iopub.execute_input": "2022-07-20T20:01:45.133158Z",
     "iopub.status.busy": "2022-07-20T20:01:45.132084Z",
     "iopub.status.idle": "2022-07-20T20:01:45.140641Z",
     "shell.execute_reply": "2022-07-20T20:01:45.139812Z"
    },
    "papermill": {
     "duration": 0.032073,
     "end_time": "2022-07-20T20:01:45.142722",
     "exception": false,
     "start_time": "2022-07-20T20:01:45.110649",
     "status": "completed"
    },
    "tags": []
   },
   "outputs": [
    {
     "data": {
      "text/plain": [
       "array([[6.4387551e-04],\n",
       "       [1.3725190e-01],\n",
       "       [5.4919124e-01],\n",
       "       [1.1512962e-05],\n",
       "       [8.2868588e-01]], dtype=float32)"
      ]
     },
     "execution_count": 37,
     "metadata": {},
     "output_type": "execute_result"
    }
   ],
   "source": [
    "valid_preds[:5]"
   ]
  },
  {
   "cell_type": "code",
   "execution_count": 38,
   "id": "d4ff680f",
   "metadata": {
    "execution": {
     "iopub.execute_input": "2022-07-20T20:01:45.184191Z",
     "iopub.status.busy": "2022-07-20T20:01:45.183898Z",
     "iopub.status.idle": "2022-07-20T20:01:45.192887Z",
     "shell.execute_reply": "2022-07-20T20:01:45.192000Z"
    },
    "papermill": {
     "duration": 0.032492,
     "end_time": "2022-07-20T20:01:45.195322",
     "exception": false,
     "start_time": "2022-07-20T20:01:45.162830",
     "status": "completed"
    },
    "tags": []
   },
   "outputs": [
    {
     "data": {
      "text/plain": [
       "array([6.4387551e-04, 1.3725190e-01, 5.4919124e-01, 1.1512962e-05,\n",
       "       8.2868588e-01, 9.2450207e-01, 4.5344239e-04, 1.3152826e-01,\n",
       "       6.7600268e-03, 9.9975890e-01], dtype=float32)"
      ]
     },
     "execution_count": 38,
     "metadata": {},
     "output_type": "execute_result"
    }
   ],
   "source": [
    "valid_preds.squeeze()[:10]"
   ]
  },
  {
   "cell_type": "code",
   "execution_count": 39,
   "id": "482aafd1",
   "metadata": {
    "execution": {
     "iopub.execute_input": "2022-07-20T20:01:45.238044Z",
     "iopub.status.busy": "2022-07-20T20:01:45.237704Z",
     "iopub.status.idle": "2022-07-20T20:01:45.247040Z",
     "shell.execute_reply": "2022-07-20T20:01:45.245763Z"
    },
    "papermill": {
     "duration": 0.033008,
     "end_time": "2022-07-20T20:01:45.249507",
     "exception": false,
     "start_time": "2022-07-20T20:01:45.216499",
     "status": "completed"
    },
    "tags": []
   },
   "outputs": [
    {
     "data": {
      "text/plain": [
       "array([6.4387551e-04, 1.3725190e-01, 5.4919124e-01, 1.1512962e-05,\n",
       "       8.2868588e-01, 9.2450207e-01, 4.5344239e-04, 1.3152826e-01,\n",
       "       6.7600268e-03, 9.9975890e-01], dtype=float32)"
      ]
     },
     "execution_count": 39,
     "metadata": {},
     "output_type": "execute_result"
    }
   ],
   "source": [
    "valid_preds.ravel()[:10]"
   ]
  },
  {
   "cell_type": "code",
   "execution_count": 40,
   "id": "0bf96bd9",
   "metadata": {
    "execution": {
     "iopub.execute_input": "2022-07-20T20:01:45.291687Z",
     "iopub.status.busy": "2022-07-20T20:01:45.291368Z",
     "iopub.status.idle": "2022-07-20T20:01:45.298761Z",
     "shell.execute_reply": "2022-07-20T20:01:45.297901Z"
    },
    "papermill": {
     "duration": 0.031023,
     "end_time": "2022-07-20T20:01:45.300846",
     "exception": false,
     "start_time": "2022-07-20T20:01:45.269823",
     "status": "completed"
    },
    "tags": []
   },
   "outputs": [],
   "source": [
    "valid_preds = np.argmax(valid_preds, axis=1)"
   ]
  },
  {
   "cell_type": "code",
   "execution_count": 41,
   "id": "277c3492",
   "metadata": {
    "execution": {
     "iopub.execute_input": "2022-07-20T20:01:45.343935Z",
     "iopub.status.busy": "2022-07-20T20:01:45.343646Z",
     "iopub.status.idle": "2022-07-20T20:01:45.347957Z",
     "shell.execute_reply": "2022-07-20T20:01:45.347053Z"
    },
    "papermill": {
     "duration": 0.02767,
     "end_time": "2022-07-20T20:01:45.350009",
     "exception": false,
     "start_time": "2022-07-20T20:01:45.322339",
     "status": "completed"
    },
    "tags": []
   },
   "outputs": [],
   "source": [
    "# show_scores(y_valid, valid_preds)"
   ]
  },
  {
   "cell_type": "code",
   "execution_count": 42,
   "id": "fb3d4099",
   "metadata": {
    "execution": {
     "iopub.execute_input": "2022-07-20T20:01:45.391766Z",
     "iopub.status.busy": "2022-07-20T20:01:45.391450Z",
     "iopub.status.idle": "2022-07-20T20:01:45.735324Z",
     "shell.execute_reply": "2022-07-20T20:01:45.734383Z"
    },
    "papermill": {
     "duration": 0.367491,
     "end_time": "2022-07-20T20:01:45.737638",
     "exception": false,
     "start_time": "2022-07-20T20:01:45.370147",
     "status": "completed"
    },
    "tags": []
   },
   "outputs": [
    {
     "data": {
      "text/plain": [
       "array([0.95306355, 0.04158664, 0.9999988 , 0.9436963 , 0.9995869 ],\n",
       "      dtype=float32)"
      ]
     },
     "execution_count": 42,
     "metadata": {},
     "output_type": "execute_result"
    }
   ],
   "source": [
    "preds = model.predict(X_test).ravel()\n",
    "preds[:5]"
   ]
  },
  {
   "cell_type": "code",
   "execution_count": 43,
   "id": "7c01ac29",
   "metadata": {
    "execution": {
     "iopub.execute_input": "2022-07-20T20:01:45.782129Z",
     "iopub.status.busy": "2022-07-20T20:01:45.781074Z",
     "iopub.status.idle": "2022-07-20T20:01:45.790419Z",
     "shell.execute_reply": "2022-07-20T20:01:45.789388Z"
    },
    "papermill": {
     "duration": 0.032748,
     "end_time": "2022-07-20T20:01:45.792446",
     "exception": false,
     "start_time": "2022-07-20T20:01:45.759698",
     "status": "completed"
    },
    "tags": []
   },
   "outputs": [
    {
     "data": {
      "text/plain": [
       "array([0, 1])"
      ]
     },
     "execution_count": 43,
     "metadata": {},
     "output_type": "execute_result"
    }
   ],
   "source": [
    "preds = (preds > 0.5).astype(int)\n",
    "np.unique(preds)"
   ]
  },
  {
   "cell_type": "code",
   "execution_count": 44,
   "id": "0eb06b4b",
   "metadata": {
    "execution": {
     "iopub.execute_input": "2022-07-20T20:01:45.834224Z",
     "iopub.status.busy": "2022-07-20T20:01:45.833969Z",
     "iopub.status.idle": "2022-07-20T20:01:45.839370Z",
     "shell.execute_reply": "2022-07-20T20:01:45.838535Z"
    },
    "papermill": {
     "duration": 0.02858,
     "end_time": "2022-07-20T20:01:45.841456",
     "exception": false,
     "start_time": "2022-07-20T20:01:45.812876",
     "status": "completed"
    },
    "tags": []
   },
   "outputs": [],
   "source": [
    "# preds = np.argmax(preds, axis=1)"
   ]
  },
  {
   "cell_type": "markdown",
   "id": "b29905c0",
   "metadata": {
    "papermill": {
     "duration": 0.019975,
     "end_time": "2022-07-20T20:01:45.881564",
     "exception": false,
     "start_time": "2022-07-20T20:01:45.861589",
     "status": "completed"
    },
    "tags": []
   },
   "source": [
    "## Submission"
   ]
  },
  {
   "cell_type": "code",
   "execution_count": 45,
   "id": "80982f36",
   "metadata": {
    "execution": {
     "iopub.execute_input": "2022-07-20T20:01:45.925028Z",
     "iopub.status.busy": "2022-07-20T20:01:45.924655Z",
     "iopub.status.idle": "2022-07-20T20:01:45.943099Z",
     "shell.execute_reply": "2022-07-20T20:01:45.942053Z"
    },
    "papermill": {
     "duration": 0.043217,
     "end_time": "2022-07-20T20:01:45.945269",
     "exception": false,
     "start_time": "2022-07-20T20:01:45.902052",
     "status": "completed"
    },
    "tags": []
   },
   "outputs": [
    {
     "data": {
      "text/html": [
       "<div>\n",
       "<style scoped>\n",
       "    .dataframe tbody tr th:only-of-type {\n",
       "        vertical-align: middle;\n",
       "    }\n",
       "\n",
       "    .dataframe tbody tr th {\n",
       "        vertical-align: top;\n",
       "    }\n",
       "\n",
       "    .dataframe thead th {\n",
       "        text-align: right;\n",
       "    }\n",
       "</style>\n",
       "<table border=\"1\" class=\"dataframe\">\n",
       "  <thead>\n",
       "    <tr style=\"text-align: right;\">\n",
       "      <th></th>\n",
       "      <th>id</th>\n",
       "      <th>target</th>\n",
       "    </tr>\n",
       "  </thead>\n",
       "  <tbody>\n",
       "    <tr>\n",
       "      <th>0</th>\n",
       "      <td>0</td>\n",
       "      <td>1</td>\n",
       "    </tr>\n",
       "    <tr>\n",
       "      <th>1</th>\n",
       "      <td>2</td>\n",
       "      <td>0</td>\n",
       "    </tr>\n",
       "    <tr>\n",
       "      <th>2</th>\n",
       "      <td>3</td>\n",
       "      <td>1</td>\n",
       "    </tr>\n",
       "    <tr>\n",
       "      <th>3</th>\n",
       "      <td>9</td>\n",
       "      <td>1</td>\n",
       "    </tr>\n",
       "    <tr>\n",
       "      <th>4</th>\n",
       "      <td>11</td>\n",
       "      <td>1</td>\n",
       "    </tr>\n",
       "  </tbody>\n",
       "</table>\n",
       "</div>"
      ],
      "text/plain": [
       "   id  target\n",
       "0   0       1\n",
       "1   2       0\n",
       "2   3       1\n",
       "3   9       1\n",
       "4  11       1"
      ]
     },
     "execution_count": 45,
     "metadata": {},
     "output_type": "execute_result"
    }
   ],
   "source": [
    "# Different TARGET name used in test.csv\n",
    "ss = create_submission(\"\", TARGET, preds)\n",
    "ss[:5]"
   ]
  },
  {
   "cell_type": "code",
   "execution_count": 46,
   "id": "18af2263",
   "metadata": {
    "execution": {
     "iopub.execute_input": "2022-07-20T20:01:45.988696Z",
     "iopub.status.busy": "2022-07-20T20:01:45.987684Z",
     "iopub.status.idle": "2022-07-20T20:01:45.998351Z",
     "shell.execute_reply": "2022-07-20T20:01:45.997351Z"
    },
    "papermill": {
     "duration": 0.033938,
     "end_time": "2022-07-20T20:01:46.000166",
     "exception": false,
     "start_time": "2022-07-20T20:01:45.966228",
     "status": "completed"
    },
    "tags": []
   },
   "outputs": [
    {
     "data": {
      "text/plain": [
       "0    1927\n",
       "1    1336\n",
       "Name: target, dtype: int64"
      ]
     },
     "execution_count": 46,
     "metadata": {},
     "output_type": "execute_result"
    }
   ],
   "source": [
    "ss[TARGET].value_counts()"
   ]
  },
  {
   "cell_type": "code",
   "execution_count": null,
   "id": "830026cd",
   "metadata": {
    "papermill": {
     "duration": 0.020638,
     "end_time": "2022-07-20T20:01:46.042736",
     "exception": false,
     "start_time": "2022-07-20T20:01:46.022098",
     "status": "completed"
    },
    "tags": []
   },
   "outputs": [],
   "source": []
  }
 ],
 "metadata": {
  "kernelspec": {
   "display_name": "Python 3",
   "language": "python",
   "name": "python3"
  },
  "language_info": {
   "codemirror_mode": {
    "name": "ipython",
    "version": 3
   },
   "file_extension": ".py",
   "mimetype": "text/x-python",
   "name": "python",
   "nbconvert_exporter": "python",
   "pygments_lexer": "ipython3",
   "version": "3.7.12"
  },
  "papermill": {
   "default_parameters": {},
   "duration": 53.344531,
   "end_time": "2022-07-20T20:01:49.022454",
   "environment_variables": {},
   "exception": null,
   "input_path": "__notebook__.ipynb",
   "output_path": "__notebook__.ipynb",
   "parameters": {},
   "start_time": "2022-07-20T20:00:55.677923",
   "version": "2.3.4"
  }
 },
 "nbformat": 4,
 "nbformat_minor": 5
}
