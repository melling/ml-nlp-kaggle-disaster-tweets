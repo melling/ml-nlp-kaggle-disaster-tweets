{
 "cells": [
  {
   "cell_type": "markdown",
   "id": "4d78a302",
   "metadata": {
    "papermill": {
     "duration": 0.011306,
     "end_time": "2022-07-20T15:53:03.390298",
     "exception": false,
     "start_time": "2022-07-20T15:53:03.378992",
     "status": "completed"
    },
    "tags": []
   },
   "source": [
    "<div style=\"background-color:rgba(128, 0, 128, 0.6);border-radius:5px;display:fill\"><h1 style=\"text-align: center;padding: 12px 0px 12px 0px;\">Disaster Tweets: Long-Short Term Memory (LSTM)</h1>\n",
    "</div>\n",
    "\n",
    "Problem Type: Binary-classification\n",
    "\n",
    "## Evaluation Metric\n",
    "\n",
    "F1-Score"
   ]
  },
  {
   "cell_type": "code",
   "execution_count": 1,
   "id": "7b6d06de",
   "metadata": {
    "execution": {
     "iopub.execute_input": "2022-07-20T15:53:03.411743Z",
     "iopub.status.busy": "2022-07-20T15:53:03.411223Z",
     "iopub.status.idle": "2022-07-20T15:53:17.037487Z",
     "shell.execute_reply": "2022-07-20T15:53:17.036099Z"
    },
    "papermill": {
     "duration": 13.640548,
     "end_time": "2022-07-20T15:53:17.040695",
     "exception": false,
     "start_time": "2022-07-20T15:53:03.400147",
     "status": "completed"
    },
    "tags": []
   },
   "outputs": [
    {
     "name": "stdout",
     "output_type": "stream",
     "text": [
      "\u001b[33mWARNING: Running pip as the 'root' user can result in broken permissions and conflicting behaviour with the system package manager. It is recommended to use a virtual environment instead: https://pip.pypa.io/warnings/venv\u001b[0m\u001b[33m\r\n",
      "\u001b[0m"
     ]
    }
   ],
   "source": [
    "# Black formatter https://black.readthedocs.io/en/stable/\n",
    "\n",
    "! pip install nb-black > /dev/null\n",
    "\n",
    "%load_ext lab_black"
   ]
  },
  {
   "cell_type": "markdown",
   "id": "2e6f2184",
   "metadata": {
    "papermill": {
     "duration": 0.009844,
     "end_time": "2022-07-20T15:53:17.061417",
     "exception": false,
     "start_time": "2022-07-20T15:53:17.051573",
     "status": "completed"
    },
    "tags": []
   },
   "source": [
    "<div style=\"background-color:rgba(128, 0, 128, 0.6);border-radius:5px;display:fill\"><h1 style=\"text-align: center;padding: 12px 0px 12px 0px;\">Configuration</h1>\n",
    "</div>"
   ]
  },
  {
   "cell_type": "code",
   "execution_count": 2,
   "id": "5838a90b",
   "metadata": {
    "execution": {
     "iopub.execute_input": "2022-07-20T15:53:17.085373Z",
     "iopub.status.busy": "2022-07-20T15:53:17.084262Z",
     "iopub.status.idle": "2022-07-20T15:53:17.093009Z",
     "shell.execute_reply": "2022-07-20T15:53:17.092118Z"
    },
    "papermill": {
     "duration": 0.022421,
     "end_time": "2022-07-20T15:53:17.095313",
     "exception": false,
     "start_time": "2022-07-20T15:53:17.072892",
     "status": "completed"
    },
    "tags": []
   },
   "outputs": [],
   "source": [
    "data_dir = \"../input/nlp-getting-started/\""
   ]
  },
  {
   "cell_type": "code",
   "execution_count": 3,
   "id": "bbe08c86",
   "metadata": {
    "execution": {
     "iopub.execute_input": "2022-07-20T15:53:17.118241Z",
     "iopub.status.busy": "2022-07-20T15:53:17.117471Z",
     "iopub.status.idle": "2022-07-20T15:53:17.123150Z",
     "shell.execute_reply": "2022-07-20T15:53:17.122437Z"
    },
    "papermill": {
     "duration": 0.01954,
     "end_time": "2022-07-20T15:53:17.125252",
     "exception": false,
     "start_time": "2022-07-20T15:53:17.105712",
     "status": "completed"
    },
    "tags": []
   },
   "outputs": [],
   "source": [
    "TARGET = \"target\""
   ]
  },
  {
   "cell_type": "markdown",
   "id": "f8dc91e5",
   "metadata": {
    "papermill": {
     "duration": 0.010063,
     "end_time": "2022-07-20T15:53:17.145273",
     "exception": false,
     "start_time": "2022-07-20T15:53:17.135210",
     "status": "completed"
    },
    "tags": []
   },
   "source": [
    "<div style=\"background-color:rgba(128, 0, 128, 0.6);border-radius:5px;display:fill\"><h1 style=\"text-align: center;padding: 12px 0px 12px 0px;\">Import Libraries</h1>\n",
    "</div>\n",
    "\n",
    "A best practise is to include all libraries here.  However, I will put a few imports farther down where they are first used so beginners can learn with an \"as needed\" approach."
   ]
  },
  {
   "cell_type": "code",
   "execution_count": 4,
   "id": "61f80262",
   "metadata": {
    "execution": {
     "iopub.execute_input": "2022-07-20T15:53:17.167531Z",
     "iopub.status.busy": "2022-07-20T15:53:17.166745Z",
     "iopub.status.idle": "2022-07-20T15:53:28.713914Z",
     "shell.execute_reply": "2022-07-20T15:53:28.712824Z"
    },
    "papermill": {
     "duration": 11.561215,
     "end_time": "2022-07-20T15:53:28.716713",
     "exception": false,
     "start_time": "2022-07-20T15:53:17.155498",
     "status": "completed"
    },
    "tags": []
   },
   "outputs": [],
   "source": [
    "import os\n",
    "import time\n",
    "from pathlib import Path\n",
    "\n",
    "import pandas as pd\n",
    "import numpy as np\n",
    "\n",
    "from sklearn.model_selection import train_test_split\n",
    "\n",
    "from sklearn.metrics import f1_score\n",
    "\n",
    "# Visualization Libraries\n",
    "import matplotlib.pylab as plt\n",
    "import seaborn as sns\n",
    "\n",
    "import tensorflow as tf\n",
    "from tensorflow import keras\n",
    "from tensorflow.keras import layers"
   ]
  },
  {
   "cell_type": "markdown",
   "id": "1ec73464",
   "metadata": {
    "papermill": {
     "duration": 0.009185,
     "end_time": "2022-07-20T15:53:28.736104",
     "exception": false,
     "start_time": "2022-07-20T15:53:28.726919",
     "status": "completed"
    },
    "tags": []
   },
   "source": [
    "<div style=\"background-color:rgba(128, 0, 128, 0.6);border-radius:5px;display:fill\"><h1 style=\"text-align: center;padding: 12px 0px 12px 0px;\">Library</h1>\n",
    "</div>\n",
    "\n",
    "Creating a few functions that we will reuse in each project."
   ]
  },
  {
   "cell_type": "code",
   "execution_count": 5,
   "id": "d7831c2b",
   "metadata": {
    "execution": {
     "iopub.execute_input": "2022-07-20T15:53:28.757570Z",
     "iopub.status.busy": "2022-07-20T15:53:28.756451Z",
     "iopub.status.idle": "2022-07-20T15:53:28.770508Z",
     "shell.execute_reply": "2022-07-20T15:53:28.769476Z"
    },
    "papermill": {
     "duration": 0.027208,
     "end_time": "2022-07-20T15:53:28.772788",
     "exception": false,
     "start_time": "2022-07-20T15:53:28.745580",
     "status": "completed"
    },
    "tags": []
   },
   "outputs": [],
   "source": [
    "def read_data(path):\n",
    "    data_dir = Path(path)\n",
    "\n",
    "    train = pd.read_csv(data_dir / \"train.csv\")\n",
    "    test = pd.read_csv(data_dir / \"test.csv\")\n",
    "    submission_df = pd.read_csv(data_dir / \"sample_submission.csv\")\n",
    "\n",
    "    print(f\"train data: Rows={train.shape[0]}, Columns={train.shape[1]}\")\n",
    "    print(f\"test data : Rows={test.shape[0]}, Columns={test.shape[1]}\")\n",
    "    return train, test, submission_df"
   ]
  },
  {
   "cell_type": "code",
   "execution_count": 6,
   "id": "21a704a5",
   "metadata": {
    "execution": {
     "iopub.execute_input": "2022-07-20T15:53:28.795160Z",
     "iopub.status.busy": "2022-07-20T15:53:28.794431Z",
     "iopub.status.idle": "2022-07-20T15:53:28.806532Z",
     "shell.execute_reply": "2022-07-20T15:53:28.805676Z"
    },
    "papermill": {
     "duration": 0.025456,
     "end_time": "2022-07-20T15:53:28.808711",
     "exception": false,
     "start_time": "2022-07-20T15:53:28.783255",
     "status": "completed"
    },
    "tags": []
   },
   "outputs": [],
   "source": [
    "def create_submission(model_name, target, preds, is_log_target=False):\n",
    "    if is_log_target:\n",
    "        #         preds = np.exp(preds)\n",
    "        preds = np.expm1(preds)\n",
    "\n",
    "    sample_submission[target] = preds\n",
    "    if len(model_name) > 0:\n",
    "        sample_submission.to_csv(f\"submission_{model_name}.csv\", index=False)\n",
    "    else:\n",
    "        sample_submission.to_csv(f\"submission.csv\", index=False)\n",
    "\n",
    "    return sample_submission"
   ]
  },
  {
   "cell_type": "code",
   "execution_count": 7,
   "id": "04504b6c",
   "metadata": {
    "execution": {
     "iopub.execute_input": "2022-07-20T15:53:28.830418Z",
     "iopub.status.busy": "2022-07-20T15:53:28.829691Z",
     "iopub.status.idle": "2022-07-20T15:53:28.840657Z",
     "shell.execute_reply": "2022-07-20T15:53:28.839714Z"
    },
    "papermill": {
     "duration": 0.024711,
     "end_time": "2022-07-20T15:53:28.843029",
     "exception": false,
     "start_time": "2022-07-20T15:53:28.818318",
     "status": "completed"
    },
    "tags": []
   },
   "outputs": [],
   "source": [
    "from sklearn.metrics import mean_absolute_error, mean_squared_error, f1_score\n",
    "\n",
    "\n",
    "def show_scores(gt, yhat):\n",
    "    f1 = f1_score(gt, yhat, average=\"macro\")\n",
    "    mse = mean_squared_error(gt, yhat)\n",
    "    mae = mean_absolute_error(gt, yhat)\n",
    "    rmse = np.sqrt(mse)\n",
    "    #     r2_square = r2_score(gt, yhat)\n",
    "\n",
    "    print(f\"f1: {f1:.4f}\")"
   ]
  },
  {
   "cell_type": "markdown",
   "id": "6640c060",
   "metadata": {
    "papermill": {
     "duration": 0.00935,
     "end_time": "2022-07-20T15:53:28.862044",
     "exception": false,
     "start_time": "2022-07-20T15:53:28.852694",
     "status": "completed"
    },
    "tags": []
   },
   "source": [
    "<div style=\"background-color:rgba(128, 0, 128, 0.6);border-radius:5px;display:fill\"><h1 style=\"text-align: center;padding: 12px 0px 12px 0px;\">Load Train/Test Data</h1>\n",
    "</div>\n",
    "\n",
    "- train.csv - Data used to build our machine learning model\n",
    "- test.csv - Data used to build our machine learning model. Does not contain the target variable\n",
    "- sample_submission.csv - A file in the proper format to submit test predictions"
   ]
  },
  {
   "cell_type": "code",
   "execution_count": 8,
   "id": "25adf4d8",
   "metadata": {
    "execution": {
     "iopub.execute_input": "2022-07-20T15:53:28.883614Z",
     "iopub.status.busy": "2022-07-20T15:53:28.882909Z",
     "iopub.status.idle": "2022-07-20T15:53:28.970189Z",
     "shell.execute_reply": "2022-07-20T15:53:28.969000Z"
    },
    "papermill": {
     "duration": 0.101032,
     "end_time": "2022-07-20T15:53:28.972936",
     "exception": false,
     "start_time": "2022-07-20T15:53:28.871904",
     "status": "completed"
    },
    "tags": []
   },
   "outputs": [
    {
     "name": "stdout",
     "output_type": "stream",
     "text": [
      "train data: Rows=7613, Columns=5\n",
      "test data : Rows=3263, Columns=4\n"
     ]
    }
   ],
   "source": [
    "train, test, sample_submission = read_data(data_dir)"
   ]
  },
  {
   "cell_type": "code",
   "execution_count": 9,
   "id": "f1355d4a",
   "metadata": {
    "execution": {
     "iopub.execute_input": "2022-07-20T15:53:28.994169Z",
     "iopub.status.busy": "2022-07-20T15:53:28.993776Z",
     "iopub.status.idle": "2022-07-20T15:53:29.014855Z",
     "shell.execute_reply": "2022-07-20T15:53:29.013745Z"
    },
    "papermill": {
     "duration": 0.034375,
     "end_time": "2022-07-20T15:53:29.017178",
     "exception": false,
     "start_time": "2022-07-20T15:53:28.982803",
     "status": "completed"
    },
    "tags": []
   },
   "outputs": [
    {
     "data": {
      "text/html": [
       "<div>\n",
       "<style scoped>\n",
       "    .dataframe tbody tr th:only-of-type {\n",
       "        vertical-align: middle;\n",
       "    }\n",
       "\n",
       "    .dataframe tbody tr th {\n",
       "        vertical-align: top;\n",
       "    }\n",
       "\n",
       "    .dataframe thead th {\n",
       "        text-align: right;\n",
       "    }\n",
       "</style>\n",
       "<table border=\"1\" class=\"dataframe\">\n",
       "  <thead>\n",
       "    <tr style=\"text-align: right;\">\n",
       "      <th></th>\n",
       "      <th>id</th>\n",
       "      <th>keyword</th>\n",
       "      <th>location</th>\n",
       "      <th>text</th>\n",
       "      <th>target</th>\n",
       "    </tr>\n",
       "  </thead>\n",
       "  <tbody>\n",
       "    <tr>\n",
       "      <th>0</th>\n",
       "      <td>1</td>\n",
       "      <td>NaN</td>\n",
       "      <td>NaN</td>\n",
       "      <td>Our Deeds are the Reason of this #earthquake M...</td>\n",
       "      <td>1</td>\n",
       "    </tr>\n",
       "    <tr>\n",
       "      <th>1</th>\n",
       "      <td>4</td>\n",
       "      <td>NaN</td>\n",
       "      <td>NaN</td>\n",
       "      <td>Forest fire near La Ronge Sask. Canada</td>\n",
       "      <td>1</td>\n",
       "    </tr>\n",
       "    <tr>\n",
       "      <th>2</th>\n",
       "      <td>5</td>\n",
       "      <td>NaN</td>\n",
       "      <td>NaN</td>\n",
       "      <td>All residents asked to 'shelter in place' are ...</td>\n",
       "      <td>1</td>\n",
       "    </tr>\n",
       "    <tr>\n",
       "      <th>3</th>\n",
       "      <td>6</td>\n",
       "      <td>NaN</td>\n",
       "      <td>NaN</td>\n",
       "      <td>13,000 people receive #wildfires evacuation or...</td>\n",
       "      <td>1</td>\n",
       "    </tr>\n",
       "    <tr>\n",
       "      <th>4</th>\n",
       "      <td>7</td>\n",
       "      <td>NaN</td>\n",
       "      <td>NaN</td>\n",
       "      <td>Just got sent this photo from Ruby #Alaska as ...</td>\n",
       "      <td>1</td>\n",
       "    </tr>\n",
       "  </tbody>\n",
       "</table>\n",
       "</div>"
      ],
      "text/plain": [
       "   id keyword location                                               text  \\\n",
       "0   1     NaN      NaN  Our Deeds are the Reason of this #earthquake M...   \n",
       "1   4     NaN      NaN             Forest fire near La Ronge Sask. Canada   \n",
       "2   5     NaN      NaN  All residents asked to 'shelter in place' are ...   \n",
       "3   6     NaN      NaN  13,000 people receive #wildfires evacuation or...   \n",
       "4   7     NaN      NaN  Just got sent this photo from Ruby #Alaska as ...   \n",
       "\n",
       "   target  \n",
       "0       1  \n",
       "1       1  \n",
       "2       1  \n",
       "3       1  \n",
       "4       1  "
      ]
     },
     "execution_count": 9,
     "metadata": {},
     "output_type": "execute_result"
    }
   ],
   "source": [
    "train.head()"
   ]
  },
  {
   "cell_type": "code",
   "execution_count": 10,
   "id": "4887fb0c",
   "metadata": {
    "execution": {
     "iopub.execute_input": "2022-07-20T15:53:29.039307Z",
     "iopub.status.busy": "2022-07-20T15:53:29.038914Z",
     "iopub.status.idle": "2022-07-20T15:53:29.047653Z",
     "shell.execute_reply": "2022-07-20T15:53:29.046600Z"
    },
    "papermill": {
     "duration": 0.022158,
     "end_time": "2022-07-20T15:53:29.049682",
     "exception": false,
     "start_time": "2022-07-20T15:53:29.027524",
     "status": "completed"
    },
    "tags": []
   },
   "outputs": [],
   "source": [
    "FEATURES = [\n",
    "    col\n",
    "    for col in train.columns\n",
    "    if col\n",
    "    not in [\n",
    "        \"Id\",\n",
    "        TARGET,\n",
    "        #         TARGET_ENC,\n",
    "    ]\n",
    "]"
   ]
  },
  {
   "cell_type": "code",
   "execution_count": 11,
   "id": "b79aa03e",
   "metadata": {
    "execution": {
     "iopub.execute_input": "2022-07-20T15:53:29.071702Z",
     "iopub.status.busy": "2022-07-20T15:53:29.070927Z",
     "iopub.status.idle": "2022-07-20T15:53:29.088819Z",
     "shell.execute_reply": "2022-07-20T15:53:29.087816Z"
    },
    "papermill": {
     "duration": 0.0314,
     "end_time": "2022-07-20T15:53:29.091009",
     "exception": false,
     "start_time": "2022-07-20T15:53:29.059609",
     "status": "completed"
    },
    "tags": []
   },
   "outputs": [],
   "source": [
    "y = train[TARGET]\n",
    "X = train[FEATURES].copy()\n",
    "\n",
    "X_test = test[FEATURES].copy()"
   ]
  },
  {
   "cell_type": "code",
   "execution_count": 12,
   "id": "e55e0912",
   "metadata": {
    "execution": {
     "iopub.execute_input": "2022-07-20T15:53:29.112965Z",
     "iopub.status.busy": "2022-07-20T15:53:29.112227Z",
     "iopub.status.idle": "2022-07-20T15:53:29.117604Z",
     "shell.execute_reply": "2022-07-20T15:53:29.116106Z"
    },
    "papermill": {
     "duration": 0.019202,
     "end_time": "2022-07-20T15:53:29.120164",
     "exception": false,
     "start_time": "2022-07-20T15:53:29.100962",
     "status": "completed"
    },
    "tags": []
   },
   "outputs": [],
   "source": [
    "# # Normalize the data\n",
    "# X = X / 255.0\n",
    "# X_test = X_test / 255.0"
   ]
  },
  {
   "cell_type": "code",
   "execution_count": 13,
   "id": "d80304bc",
   "metadata": {
    "execution": {
     "iopub.execute_input": "2022-07-20T15:53:29.142971Z",
     "iopub.status.busy": "2022-07-20T15:53:29.142013Z",
     "iopub.status.idle": "2022-07-20T15:53:29.147556Z",
     "shell.execute_reply": "2022-07-20T15:53:29.146605Z"
    },
    "papermill": {
     "duration": 0.019474,
     "end_time": "2022-07-20T15:53:29.149982",
     "exception": false,
     "start_time": "2022-07-20T15:53:29.130508",
     "status": "completed"
    },
    "tags": []
   },
   "outputs": [],
   "source": [
    "# X = X.values.reshape(-1, 28, 28, 1)\n",
    "# X_test = X_test.values.reshape(-1, 28, 28, 1)"
   ]
  },
  {
   "cell_type": "code",
   "execution_count": 14,
   "id": "30ea0d87",
   "metadata": {
    "execution": {
     "iopub.execute_input": "2022-07-20T15:53:29.172460Z",
     "iopub.status.busy": "2022-07-20T15:53:29.171164Z",
     "iopub.status.idle": "2022-07-20T15:53:29.176628Z",
     "shell.execute_reply": "2022-07-20T15:53:29.175639Z"
    },
    "papermill": {
     "duration": 0.018653,
     "end_time": "2022-07-20T15:53:29.178694",
     "exception": false,
     "start_time": "2022-07-20T15:53:29.160041",
     "status": "completed"
    },
    "tags": []
   },
   "outputs": [],
   "source": [
    "# X[:3]"
   ]
  },
  {
   "cell_type": "code",
   "execution_count": 15,
   "id": "9d2c6ebe",
   "metadata": {
    "execution": {
     "iopub.execute_input": "2022-07-20T15:53:29.200470Z",
     "iopub.status.busy": "2022-07-20T15:53:29.199532Z",
     "iopub.status.idle": "2022-07-20T15:53:29.204412Z",
     "shell.execute_reply": "2022-07-20T15:53:29.203532Z"
    },
    "papermill": {
     "duration": 0.018276,
     "end_time": "2022-07-20T15:53:29.206738",
     "exception": false,
     "start_time": "2022-07-20T15:53:29.188462",
     "status": "completed"
    },
    "tags": []
   },
   "outputs": [],
   "source": [
    "# from keras.utils.np_utils import to_categorical\n",
    "\n",
    "# y = to_categorical(y)"
   ]
  },
  {
   "cell_type": "code",
   "execution_count": 16,
   "id": "35bace3d",
   "metadata": {
    "execution": {
     "iopub.execute_input": "2022-07-20T15:53:29.228706Z",
     "iopub.status.busy": "2022-07-20T15:53:29.227662Z",
     "iopub.status.idle": "2022-07-20T15:53:29.236280Z",
     "shell.execute_reply": "2022-07-20T15:53:29.235112Z"
    },
    "papermill": {
     "duration": 0.022202,
     "end_time": "2022-07-20T15:53:29.238792",
     "exception": false,
     "start_time": "2022-07-20T15:53:29.216590",
     "status": "completed"
    },
    "tags": []
   },
   "outputs": [
    {
     "data": {
      "text/plain": [
       "0    1\n",
       "1    1\n",
       "2    1\n",
       "3    1\n",
       "4    1\n",
       "Name: target, dtype: int64"
      ]
     },
     "execution_count": 16,
     "metadata": {},
     "output_type": "execute_result"
    }
   ],
   "source": [
    "y[:5]"
   ]
  },
  {
   "cell_type": "markdown",
   "id": "ead40cbd",
   "metadata": {
    "execution": {
     "iopub.execute_input": "2022-07-19T19:44:01.140457Z",
     "iopub.status.busy": "2022-07-19T19:44:01.139714Z",
     "iopub.status.idle": "2022-07-19T19:44:01.157867Z",
     "shell.execute_reply": "2022-07-19T19:44:01.154383Z",
     "shell.execute_reply.started": "2022-07-19T19:44:01.140426Z"
    },
    "papermill": {
     "duration": 0.009707,
     "end_time": "2022-07-20T15:53:29.258467",
     "exception": false,
     "start_time": "2022-07-20T15:53:29.248760",
     "status": "completed"
    },
    "tags": []
   },
   "source": [
    "Tokenize then pad sequence.\n",
    "\n",
    "### Vectorization vs Tokenization\n",
    "\n",
    "- https://datascience.stackexchange.com/questions/104859/what-is-the-difference-between-textvectorization-and-tokenizer\n",
    "- https://stackoverflow.com/questions/71002866/difference-between-tokenizer-and-textvectorization-layer-in-tensorflow\n",
    "- [You should try the new TensorFlow’s TextVectorization layer](https://towardsdatascience.com/you-should-try-the-new-tensorflows-textvectorization-layer-a80b3c6b00ee)"
   ]
  },
  {
   "cell_type": "code",
   "execution_count": 17,
   "id": "c72d6d77",
   "metadata": {
    "execution": {
     "iopub.execute_input": "2022-07-20T15:53:29.280359Z",
     "iopub.status.busy": "2022-07-20T15:53:29.279969Z",
     "iopub.status.idle": "2022-07-20T15:53:29.499112Z",
     "shell.execute_reply": "2022-07-20T15:53:29.497857Z"
    },
    "papermill": {
     "duration": 0.232852,
     "end_time": "2022-07-20T15:53:29.501756",
     "exception": false,
     "start_time": "2022-07-20T15:53:29.268904",
     "status": "completed"
    },
    "tags": []
   },
   "outputs": [
    {
     "data": {
      "text/plain": [
       "22702"
      ]
     },
     "execution_count": 17,
     "metadata": {},
     "output_type": "execute_result"
    }
   ],
   "source": [
    "tokenizer = tf.keras.preprocessing.text.Tokenizer()\n",
    "tokenizer.oov_token = \"<OOV>\"\n",
    "tokenizer.fit_on_texts(train.text)\n",
    "vocab = tokenizer.word_index\n",
    "vocabCount = len(vocab) + 1\n",
    "\n",
    "vocabCount"
   ]
  },
  {
   "cell_type": "code",
   "execution_count": 18,
   "id": "dc3da9a8",
   "metadata": {
    "execution": {
     "iopub.execute_input": "2022-07-20T15:53:29.525306Z",
     "iopub.status.busy": "2022-07-20T15:53:29.524891Z",
     "iopub.status.idle": "2022-07-20T15:53:29.683282Z",
     "shell.execute_reply": "2022-07-20T15:53:29.681977Z"
    },
    "papermill": {
     "duration": 0.173846,
     "end_time": "2022-07-20T15:53:29.686181",
     "exception": false,
     "start_time": "2022-07-20T15:53:29.512335",
     "status": "completed"
    },
    "tags": []
   },
   "outputs": [
    {
     "data": {
      "text/plain": [
       "(7613, 33)"
      ]
     },
     "execution_count": 18,
     "metadata": {},
     "output_type": "execute_result"
    }
   ],
   "source": [
    "train = tf.keras.preprocessing.sequence.pad_sequences(\n",
    "    tokenizer.texts_to_sequences(train.text.to_numpy()), padding=\"pre\"\n",
    ")\n",
    "train.shape"
   ]
  },
  {
   "cell_type": "code",
   "execution_count": 19,
   "id": "fefc5d47",
   "metadata": {
    "execution": {
     "iopub.execute_input": "2022-07-20T15:53:29.708749Z",
     "iopub.status.busy": "2022-07-20T15:53:29.708056Z",
     "iopub.status.idle": "2022-07-20T15:53:29.723622Z",
     "shell.execute_reply": "2022-07-20T15:53:29.722139Z"
    },
    "papermill": {
     "duration": 0.029704,
     "end_time": "2022-07-20T15:53:29.726122",
     "exception": false,
     "start_time": "2022-07-20T15:53:29.696418",
     "status": "completed"
    },
    "tags": []
   },
   "outputs": [
    {
     "data": {
      "text/plain": [
       "((6851, 4), (6851,), (762, 4), (762,))"
      ]
     },
     "execution_count": 19,
     "metadata": {},
     "output_type": "execute_result"
    }
   ],
   "source": [
    "X_train, X_valid, y_train, y_valid = train_test_split(\n",
    "    X,\n",
    "    y,\n",
    "    test_size=0.1,\n",
    "    random_state=42,\n",
    ")\n",
    "X_train.shape, y_train.shape, X_valid.shape, y_valid.shape"
   ]
  },
  {
   "cell_type": "code",
   "execution_count": 20,
   "id": "243c97c4",
   "metadata": {
    "execution": {
     "iopub.execute_input": "2022-07-20T15:53:29.750118Z",
     "iopub.status.busy": "2022-07-20T15:53:29.749304Z",
     "iopub.status.idle": "2022-07-20T15:53:29.756832Z",
     "shell.execute_reply": "2022-07-20T15:53:29.755978Z"
    },
    "papermill": {
     "duration": 0.021977,
     "end_time": "2022-07-20T15:53:29.758991",
     "exception": false,
     "start_time": "2022-07-20T15:53:29.737014",
     "status": "completed"
    },
    "tags": []
   },
   "outputs": [
    {
     "data": {
      "text/plain": [
       "pandas.core.frame.DataFrame"
      ]
     },
     "execution_count": 20,
     "metadata": {},
     "output_type": "execute_result"
    }
   ],
   "source": [
    "type(X_train)"
   ]
  },
  {
   "cell_type": "markdown",
   "id": "39181d0b",
   "metadata": {
    "papermill": {
     "duration": 0.010496,
     "end_time": "2022-07-20T15:53:29.779975",
     "exception": false,
     "start_time": "2022-07-20T15:53:29.769479",
     "status": "completed"
    },
    "tags": []
   },
   "source": [
    "<div style=\"background-color:rgba(128, 0, 128, 0.6);border-radius:5px;display:fill\"><h1 style=\"text-align: center;padding: 12px 0px 12px 0px;\">Create Models</h1>\n",
    "</div>"
   ]
  },
  {
   "cell_type": "code",
   "execution_count": 21,
   "id": "a10a2614",
   "metadata": {
    "execution": {
     "iopub.execute_input": "2022-07-20T15:53:29.802795Z",
     "iopub.status.busy": "2022-07-20T15:53:29.802096Z",
     "iopub.status.idle": "2022-07-20T15:53:29.807558Z",
     "shell.execute_reply": "2022-07-20T15:53:29.806741Z"
    },
    "papermill": {
     "duration": 0.01927,
     "end_time": "2022-07-20T15:53:29.809606",
     "exception": false,
     "start_time": "2022-07-20T15:53:29.790336",
     "status": "completed"
    },
    "tags": []
   },
   "outputs": [],
   "source": [
    "def get_rnn_model01(vocabCount):\n",
    "    pass"
   ]
  },
  {
   "cell_type": "code",
   "execution_count": 22,
   "id": "a3b19cc7",
   "metadata": {
    "execution": {
     "iopub.execute_input": "2022-07-20T15:53:29.832792Z",
     "iopub.status.busy": "2022-07-20T15:53:29.832072Z",
     "iopub.status.idle": "2022-07-20T15:53:29.837285Z",
     "shell.execute_reply": "2022-07-20T15:53:29.836493Z"
    },
    "papermill": {
     "duration": 0.019401,
     "end_time": "2022-07-20T15:53:29.839311",
     "exception": false,
     "start_time": "2022-07-20T15:53:29.819910",
     "status": "completed"
    },
    "tags": []
   },
   "outputs": [],
   "source": [
    "def get_lstm_model01(vocabCount):\n",
    "    pass"
   ]
  },
  {
   "cell_type": "code",
   "execution_count": 23,
   "id": "40adf5f9",
   "metadata": {
    "execution": {
     "iopub.execute_input": "2022-07-20T15:53:29.861754Z",
     "iopub.status.busy": "2022-07-20T15:53:29.861286Z",
     "iopub.status.idle": "2022-07-20T15:53:29.869987Z",
     "shell.execute_reply": "2022-07-20T15:53:29.868641Z"
    },
    "papermill": {
     "duration": 0.022487,
     "end_time": "2022-07-20T15:53:29.872025",
     "exception": false,
     "start_time": "2022-07-20T15:53:29.849538",
     "status": "completed"
    },
    "tags": []
   },
   "outputs": [],
   "source": [
    "def custom_standardization_fn(string_tensor):\n",
    "    lowercase_string = tf.strings.lower(string_tensor)\n",
    "    return tf.strings.regex_replace(\n",
    "        lowercase_string, f\"[{re.escape(string.punctuation)}]\", \"\"\n",
    "    )"
   ]
  },
  {
   "cell_type": "code",
   "execution_count": 24,
   "id": "0e038781",
   "metadata": {
    "execution": {
     "iopub.execute_input": "2022-07-20T15:53:29.895865Z",
     "iopub.status.busy": "2022-07-20T15:53:29.894709Z",
     "iopub.status.idle": "2022-07-20T15:53:29.929975Z",
     "shell.execute_reply": "2022-07-20T15:53:29.928583Z"
    },
    "papermill": {
     "duration": 0.049745,
     "end_time": "2022-07-20T15:53:29.932730",
     "exception": false,
     "start_time": "2022-07-20T15:53:29.882985",
     "status": "completed"
    },
    "tags": []
   },
   "outputs": [],
   "source": [
    "from tensorflow.keras.layers.experimental.preprocessing import TextVectorization\n",
    "from keras.metrics import AUC\n",
    "from keras import optimizers, losses\n",
    "\n",
    "\n",
    "def get_lstm_model01(vocabCount):\n",
    "    #     print(f\"x_shape=\")\n",
    "    #     input_shape = (height, width, channels)\n",
    "    #     inputs = keras.Input(shape=(28, 28, 1))\n",
    "    vocab_size = 23_000\n",
    "    embed_size = 100\n",
    "    doc_length = vocabCount + 1\n",
    "    max_length = 15\n",
    "\n",
    "    #     text_vectorizer = TextVectorization(max_tokens=vocab_size,\n",
    "    #                                        standardize=custom_standardization_fn,\n",
    "    #                                            output_mode=\"int\",)\n",
    "    text_vectorizer = TextVectorization(output_mode=\"int\")\n",
    "    text_vectorizer.adapt(X_train.text)\n",
    "\n",
    "    embedding_layer = keras.layers.Embedding(\n",
    "        input_dim=vocab_size,  # set input shape\n",
    "        #         standardize=custom_standardization_fn,\n",
    "        #         split=\"whitespace\",\n",
    "        #         ngrams=None,\n",
    "        #         output_mode=\"int\",\n",
    "        output_dim=128,  # set size of embedding vector\n",
    "        embeddings_initializer=\"uniform\",  # default, intialize randomly\n",
    "        input_length=max_length,  # how long is each input\n",
    "        name=\"embedding_1\",\n",
    "    )\n",
    "\n",
    "    #     tf.keras.layers.TextVectorization(\n",
    "    #         max_tokens=None, standardize='lower_and_strip_punctuation',\n",
    "    #         split='whitespace', ngrams=None, output_mode='int',\n",
    "    #         output_sequence_length=None, pad_to_max_tokens=False, vocabulary=None,\n",
    "    #         idf_weights=None, sparse=False, ragged=False, **kwargs\n",
    "    # )\n",
    "\n",
    "    #     words_in_vocab = text_vectorizer.get_vocabulary()\n",
    "    #     print(f\"Vocab={words_in_vocab}\")\n",
    "    #     inputs = keras.Input((doc_length,))\n",
    "    text_input = keras.Input(shape=(1,), dtype=tf.string, name=\"text_input_layer\")\n",
    "    #     inputs = keras.Input(shape=(1,), name=\"text_input_layer\")\n",
    "    x = text_vectorizer(text_input)\n",
    "    #     embedding_layer = keras.layers.Embedding(\n",
    "    #         input_dim=vocabCount + 1, output_dim=64, input_length=31\n",
    "    #     )(x)\n",
    "    x = embedding_layer(x)\n",
    "    #     x = keras.layers.GlobalAveragePooling1D()(x)\n",
    "    #     x = keras.layers.MaxPooling2d((2, 2))(x)\n",
    "    #     x = keras.layers.Conv2D(\n",
    "    #         128, activation=\"relu\", padding=\"same\", kernel_initializer=\"he_normal\"\n",
    "    #     )(x)\n",
    "    #     x = keras.layers.Flatten()(x)\n",
    "    #     x = keras.layers.BatchNormalization()(x)\n",
    "\n",
    "    #     x = keras.layers.Dense(128, activation=\"relu\")(x)\n",
    "\n",
    "    #     x = keras.layers.Dense(64, activation=\"relu\")(x)\n",
    "    #     x = keras.layers.BatchNormalization()(x)\n",
    "    x = keras.layers.Dense(32, activation=\"relu\")(x)\n",
    "    #     x = keras.layers.BatchNormalization()(x)\n",
    "    #     x = keras.layers.Dropout(0.1)(x)\n",
    "    x = keras.layers.LSTM(100, return_sequences=True)(x)\n",
    "    x = keras.layers.LSTM(200)(x)\n",
    "    x = keras.layers.Dropout(0.5)(x)\n",
    "    outputs = keras.layers.Dense(1, activation=\"sigmoid\")(x)\n",
    "\n",
    "    model = keras.Model(text_input, outputs, name=\"Dense_Model\")\n",
    "\n",
    "    model.compile(\n",
    "        loss=\"binary_crossentropy\",\n",
    "        optimizer=\"adam\",\n",
    "        metrics=[\"accuracy\", AUC(name=\"auc\")],\n",
    "    )\n",
    "\n",
    "    #     model.compile(\n",
    "    #         optimizer=tf.keras.optimizers.Adam(learning_rate=0.01),\n",
    "    #         loss=\"accuracy\",\n",
    "    #     )\n",
    "\n",
    "    return model"
   ]
  },
  {
   "cell_type": "code",
   "execution_count": 25,
   "id": "762061a5",
   "metadata": {
    "execution": {
     "iopub.execute_input": "2022-07-20T15:53:29.955511Z",
     "iopub.status.busy": "2022-07-20T15:53:29.954816Z",
     "iopub.status.idle": "2022-07-20T15:53:29.961323Z",
     "shell.execute_reply": "2022-07-20T15:53:29.960599Z"
    },
    "papermill": {
     "duration": 0.02018,
     "end_time": "2022-07-20T15:53:29.963298",
     "exception": false,
     "start_time": "2022-07-20T15:53:29.943118",
     "status": "completed"
    },
    "tags": []
   },
   "outputs": [
    {
     "data": {
      "text/plain": [
       "4"
      ]
     },
     "execution_count": 25,
     "metadata": {},
     "output_type": "execute_result"
    }
   ],
   "source": [
    "X_train.shape[1]"
   ]
  },
  {
   "cell_type": "code",
   "execution_count": 26,
   "id": "c9608094",
   "metadata": {
    "execution": {
     "iopub.execute_input": "2022-07-20T15:53:29.986416Z",
     "iopub.status.busy": "2022-07-20T15:53:29.985688Z",
     "iopub.status.idle": "2022-07-20T15:53:29.992311Z",
     "shell.execute_reply": "2022-07-20T15:53:29.991603Z"
    },
    "papermill": {
     "duration": 0.020166,
     "end_time": "2022-07-20T15:53:29.994183",
     "exception": false,
     "start_time": "2022-07-20T15:53:29.974017",
     "status": "completed"
    },
    "tags": []
   },
   "outputs": [
    {
     "data": {
      "text/plain": [
       "7613"
      ]
     },
     "execution_count": 26,
     "metadata": {},
     "output_type": "execute_result"
    }
   ],
   "source": [
    "X.shape[0]"
   ]
  },
  {
   "cell_type": "code",
   "execution_count": 27,
   "id": "560aeff6",
   "metadata": {
    "execution": {
     "iopub.execute_input": "2022-07-20T15:53:30.016805Z",
     "iopub.status.busy": "2022-07-20T15:53:30.016380Z",
     "iopub.status.idle": "2022-07-20T15:53:31.186153Z",
     "shell.execute_reply": "2022-07-20T15:53:31.184991Z"
    },
    "papermill": {
     "duration": 1.183888,
     "end_time": "2022-07-20T15:53:31.188599",
     "exception": false,
     "start_time": "2022-07-20T15:53:30.004711",
     "status": "completed"
    },
    "tags": []
   },
   "outputs": [
    {
     "name": "stderr",
     "output_type": "stream",
     "text": [
      "2022-07-20 15:53:30.059394: I tensorflow/core/common_runtime/process_util.cc:146] Creating new thread pool with default inter op setting: 2. Tune using inter_op_parallelism_threads for best performance.\n",
      "2022-07-20 15:53:30.177257: I tensorflow/compiler/mlir/mlir_graph_optimization_pass.cc:185] None of the MLIR Optimization Passes are enabled (registered 2)\n"
     ]
    },
    {
     "name": "stdout",
     "output_type": "stream",
     "text": [
      "Model: \"Dense_Model\"\n",
      "_________________________________________________________________\n",
      "Layer (type)                 Output Shape              Param #   \n",
      "=================================================================\n",
      "text_input_layer (InputLayer [(None, 1)]               0         \n",
      "_________________________________________________________________\n",
      "text_vectorization (TextVect (None, None)              0         \n",
      "_________________________________________________________________\n",
      "embedding_1 (Embedding)      (None, None, 128)         2944000   \n",
      "_________________________________________________________________\n",
      "dense (Dense)                (None, None, 32)          4128      \n",
      "_________________________________________________________________\n",
      "lstm (LSTM)                  (None, None, 100)         53200     \n",
      "_________________________________________________________________\n",
      "lstm_1 (LSTM)                (None, 200)               240800    \n",
      "_________________________________________________________________\n",
      "dropout (Dropout)            (None, 200)               0         \n",
      "_________________________________________________________________\n",
      "dense_1 (Dense)              (None, 1)                 201       \n",
      "=================================================================\n",
      "Total params: 3,242,329\n",
      "Trainable params: 3,242,329\n",
      "Non-trainable params: 0\n",
      "_________________________________________________________________\n"
     ]
    }
   ],
   "source": [
    "model = get_lstm_model01(vocabCount)\n",
    "\n",
    "model.summary()"
   ]
  },
  {
   "cell_type": "code",
   "execution_count": 28,
   "id": "37c72bb7",
   "metadata": {
    "execution": {
     "iopub.execute_input": "2022-07-20T15:53:31.212601Z",
     "iopub.status.busy": "2022-07-20T15:53:31.211997Z",
     "iopub.status.idle": "2022-07-20T15:53:32.411505Z",
     "shell.execute_reply": "2022-07-20T15:53:32.410157Z"
    },
    "papermill": {
     "duration": 1.214395,
     "end_time": "2022-07-20T15:53:32.413767",
     "exception": false,
     "start_time": "2022-07-20T15:53:31.199372",
     "status": "completed"
    },
    "tags": []
   },
   "outputs": [
    {
     "data": {
      "image/png": "[encoded data removed]",
      "text/plain": [
       "<IPython.core.display.Image object>"
      ]
     },
     "execution_count": 28,
     "metadata": {},
     "output_type": "execute_result"
    }
   ],
   "source": [
    "keras.utils.plot_model(model)"
   ]
  },
  {
   "cell_type": "code",
   "execution_count": 29,
   "id": "1c737047",
   "metadata": {
    "execution": {
     "iopub.execute_input": "2022-07-20T15:53:32.438667Z",
     "iopub.status.busy": "2022-07-20T15:53:32.437924Z",
     "iopub.status.idle": "2022-07-20T15:53:32.448166Z",
     "shell.execute_reply": "2022-07-20T15:53:32.447056Z"
    },
    "papermill": {
     "duration": 0.025779,
     "end_time": "2022-07-20T15:53:32.450894",
     "exception": false,
     "start_time": "2022-07-20T15:53:32.425115",
     "status": "completed"
    },
    "tags": []
   },
   "outputs": [],
   "source": [
    "X_train = X_train.text\n",
    "X_valid = X_valid.text\n",
    "X_test = X_test.text"
   ]
  },
  {
   "cell_type": "code",
   "execution_count": 30,
   "id": "083ab213",
   "metadata": {
    "execution": {
     "iopub.execute_input": "2022-07-20T15:53:32.475165Z",
     "iopub.status.busy": "2022-07-20T15:53:32.474778Z",
     "iopub.status.idle": "2022-07-20T15:53:32.487204Z",
     "shell.execute_reply": "2022-07-20T15:53:32.486354Z"
    },
    "papermill": {
     "duration": 0.026885,
     "end_time": "2022-07-20T15:53:32.488968",
     "exception": false,
     "start_time": "2022-07-20T15:53:32.462083",
     "status": "completed"
    },
    "tags": []
   },
   "outputs": [],
   "source": [
    "from keras.callbacks import *\n",
    "\n",
    "lr = ReduceLROnPlateau(\n",
    "    monitor=\"val_auc\", mode=\"max\", factor=0.7, patience=4, verbose=False\n",
    ")\n",
    "es = EarlyStopping(\n",
    "    monitor=\"val_auc\", mode=\"max\", patience=10, verbose=False, restore_best_weights=True\n",
    ")"
   ]
  },
  {
   "cell_type": "code",
   "execution_count": 31,
   "id": "ca178de2",
   "metadata": {
    "execution": {
     "iopub.execute_input": "2022-07-20T15:53:32.513715Z",
     "iopub.status.busy": "2022-07-20T15:53:32.512735Z",
     "iopub.status.idle": "2022-07-20T15:54:52.118089Z",
     "shell.execute_reply": "2022-07-20T15:54:52.116170Z"
    },
    "papermill": {
     "duration": 79.62069,
     "end_time": "2022-07-20T15:54:52.121033",
     "exception": false,
     "start_time": "2022-07-20T15:53:32.500343",
     "status": "completed"
    },
    "tags": []
   },
   "outputs": [
    {
     "name": "stdout",
     "output_type": "stream",
     "text": [
      "Epoch 1/10\n",
      "43/43 [==============================] - 14s 194ms/step - loss: 0.6220 - accuracy: 0.6407 - auc: 0.6854 - val_loss: 0.4844 - val_accuracy: 0.7848 - val_auc: 0.8327\n",
      "Epoch 2/10\n",
      "43/43 [==============================] - 7s 173ms/step - loss: 0.3009 - accuracy: 0.8832 - auc: 0.9398 - val_loss: 0.4943 - val_accuracy: 0.7768 - val_auc: 0.8416\n",
      "Epoch 3/10\n",
      "43/43 [==============================] - 7s 165ms/step - loss: 0.1282 - accuracy: 0.9562 - auc: 0.9870 - val_loss: 0.5890 - val_accuracy: 0.7739 - val_auc: 0.8319\n",
      "Epoch 4/10\n",
      "43/43 [==============================] - 8s 179ms/step - loss: 0.0659 - accuracy: 0.9808 - auc: 0.9954 - val_loss: 0.7736 - val_accuracy: 0.7644 - val_auc: 0.8229\n",
      "Epoch 5/10\n",
      "43/43 [==============================] - 7s 167ms/step - loss: 0.0347 - accuracy: 0.9889 - auc: 0.9988 - val_loss: 0.9258 - val_accuracy: 0.7615 - val_auc: 0.8191\n",
      "Epoch 6/10\n",
      "43/43 [==============================] - 7s 168ms/step - loss: 0.0195 - accuracy: 0.9951 - auc: 0.9989 - val_loss: 1.0402 - val_accuracy: 0.7571 - val_auc: 0.8120\n",
      "Epoch 7/10\n",
      "43/43 [==============================] - 7s 162ms/step - loss: 0.0164 - accuracy: 0.9953 - auc: 0.9995 - val_loss: 1.1267 - val_accuracy: 0.7600 - val_auc: 0.8072\n",
      "Epoch 8/10\n",
      "43/43 [==============================] - 8s 183ms/step - loss: 0.0126 - accuracy: 0.9954 - auc: 0.9996 - val_loss: 1.4393 - val_accuracy: 0.7702 - val_auc: 0.7984\n",
      "Epoch 9/10\n",
      "43/43 [==============================] - 7s 168ms/step - loss: 0.0137 - accuracy: 0.9962 - auc: 0.9995 - val_loss: 1.1411 - val_accuracy: 0.7418 - val_auc: 0.8064\n",
      "Epoch 10/10\n",
      "43/43 [==============================] - 7s 166ms/step - loss: 0.0101 - accuracy: 0.9962 - auc: 0.9998 - val_loss: 1.1858 - val_accuracy: 0.7637 - val_auc: 0.8109\n",
      "CPU times: user 2min 44s, sys: 12.1 s, total: 2min 56s\n",
      "Wall time: 1min 19s\n"
     ]
    }
   ],
   "source": [
    "%%time\n",
    "\n",
    "history = model.fit(\n",
    "    X_train,\n",
    "    y_train,\n",
    "    batch_size=128,\n",
    "    epochs=10,\n",
    "    # Suppress logging.\n",
    "    verbose=1,\n",
    "    callbacks=[es,lr],\n",
    "    # Calculate validation results on 20% of the training data.\n",
    "    validation_split = 0.2\n",
    ")"
   ]
  },
  {
   "cell_type": "code",
   "execution_count": 32,
   "id": "f2c67976",
   "metadata": {
    "execution": {
     "iopub.execute_input": "2022-07-20T15:54:52.190465Z",
     "iopub.status.busy": "2022-07-20T15:54:52.189756Z",
     "iopub.status.idle": "2022-07-20T15:54:52.639482Z",
     "shell.execute_reply": "2022-07-20T15:54:52.638328Z"
    },
    "papermill": {
     "duration": 0.486892,
     "end_time": "2022-07-20T15:54:52.641937",
     "exception": false,
     "start_time": "2022-07-20T15:54:52.155045",
     "status": "completed"
    },
    "tags": []
   },
   "outputs": [
    {
     "data": {
      "image/png": "[encoded data removed]",
      "text/plain": [
       "<Figure size 432x288 with 1 Axes>"
      ]
     },
     "metadata": {
      "needs_background": "light"
     },
     "output_type": "display_data"
    },
    {
     "data": {
      "image/png": "[encoded data removed]",
      "text/plain": [
       "<Figure size 432x288 with 1 Axes>"
      ]
     },
     "metadata": {
      "needs_background": "light"
     },
     "output_type": "display_data"
    }
   ],
   "source": [
    "acc = history.history[\"accuracy\"]\n",
    "val_acc = history.history[\"val_accuracy\"]\n",
    "loss = history.history[\"loss\"]\n",
    "val_loss = history.history[\"val_loss\"]\n",
    "\n",
    "epochs = range(1, len(acc) + 1)\n",
    "\n",
    "plt.plot(epochs, acc, \"bo\", label=\"Training acc\")\n",
    "plt.plot(epochs, val_acc, \"b\", label=\"Validation acc\")\n",
    "plt.title(\"Training and validation accuracy\")\n",
    "plt.legend()\n",
    "\n",
    "plt.figure()\n",
    "\n",
    "plt.plot(epochs, loss, \"bo\", label=\"Training loss\")\n",
    "plt.plot(epochs, val_loss, \"b\", label=\"Validation loss\")\n",
    "plt.title(\"Training and validation loss\")\n",
    "plt.legend()\n",
    "\n",
    "plt.show()"
   ]
  },
  {
   "cell_type": "markdown",
   "id": "f798842a",
   "metadata": {
    "papermill": {
     "duration": 0.033015,
     "end_time": "2022-07-20T15:54:52.709125",
     "exception": false,
     "start_time": "2022-07-20T15:54:52.676110",
     "status": "completed"
    },
    "tags": []
   },
   "source": [
    "## Predict and Score"
   ]
  },
  {
   "cell_type": "code",
   "execution_count": 33,
   "id": "55488cf2",
   "metadata": {
    "execution": {
     "iopub.execute_input": "2022-07-20T15:54:52.779582Z",
     "iopub.status.busy": "2022-07-20T15:54:52.778316Z",
     "iopub.status.idle": "2022-07-20T15:54:53.355395Z",
     "shell.execute_reply": "2022-07-20T15:54:53.354272Z"
    },
    "papermill": {
     "duration": 0.615476,
     "end_time": "2022-07-20T15:54:53.358086",
     "exception": false,
     "start_time": "2022-07-20T15:54:52.742610",
     "status": "completed"
    },
    "tags": []
   },
   "outputs": [
    {
     "name": "stdout",
     "output_type": "stream",
     "text": [
      "24/24 [==============================] - 1s 21ms/step - loss: 1.1831 - accuracy: 0.7441 - auc: 0.8023\n"
     ]
    },
    {
     "data": {
      "text/plain": [
       "(0.7440944910049438, 0.8022544980049133)"
      ]
     },
     "execution_count": 33,
     "metadata": {},
     "output_type": "execute_result"
    }
   ],
   "source": [
    "test_loss, test_acc, test_auc = model.evaluate(X_valid, y_valid)\n",
    "test_acc, test_auc"
   ]
  },
  {
   "cell_type": "code",
   "execution_count": 34,
   "id": "dde4d1de",
   "metadata": {
    "execution": {
     "iopub.execute_input": "2022-07-20T15:54:53.428519Z",
     "iopub.status.busy": "2022-07-20T15:54:53.428088Z",
     "iopub.status.idle": "2022-07-20T15:54:54.904086Z",
     "shell.execute_reply": "2022-07-20T15:54:54.903260Z"
    },
    "papermill": {
     "duration": 1.513743,
     "end_time": "2022-07-20T15:54:54.906422",
     "exception": false,
     "start_time": "2022-07-20T15:54:53.392679",
     "status": "completed"
    },
    "tags": []
   },
   "outputs": [
    {
     "data": {
      "text/plain": [
       "array([[4.9065206e-05],\n",
       "       [1.7032343e-01],\n",
       "       [9.7533357e-01],\n",
       "       [3.2043161e-05],\n",
       "       [7.2556537e-01]], dtype=float32)"
      ]
     },
     "execution_count": 34,
     "metadata": {},
     "output_type": "execute_result"
    }
   ],
   "source": [
    "valid_preds = model.predict(X_valid)\n",
    "valid_preds[:5]"
   ]
  },
  {
   "cell_type": "code",
   "execution_count": 35,
   "id": "fbeab752",
   "metadata": {
    "execution": {
     "iopub.execute_input": "2022-07-20T15:54:54.979321Z",
     "iopub.status.busy": "2022-07-20T15:54:54.978442Z",
     "iopub.status.idle": "2022-07-20T15:54:54.987973Z",
     "shell.execute_reply": "2022-07-20T15:54:54.986703Z"
    },
    "papermill": {
     "duration": 0.047864,
     "end_time": "2022-07-20T15:54:54.990518",
     "exception": false,
     "start_time": "2022-07-20T15:54:54.942654",
     "status": "completed"
    },
    "tags": []
   },
   "outputs": [
    {
     "data": {
      "text/plain": [
       "array([[4.9065206e-05],\n",
       "       [1.7032343e-01],\n",
       "       [9.7533357e-01],\n",
       "       [3.2043161e-05],\n",
       "       [7.2556537e-01]], dtype=float32)"
      ]
     },
     "execution_count": 35,
     "metadata": {},
     "output_type": "execute_result"
    }
   ],
   "source": [
    "valid_preds[:5]"
   ]
  },
  {
   "cell_type": "code",
   "execution_count": 36,
   "id": "4994bcea",
   "metadata": {
    "execution": {
     "iopub.execute_input": "2022-07-20T15:54:55.061350Z",
     "iopub.status.busy": "2022-07-20T15:54:55.060609Z",
     "iopub.status.idle": "2022-07-20T15:54:55.069601Z",
     "shell.execute_reply": "2022-07-20T15:54:55.068785Z"
    },
    "papermill": {
     "duration": 0.046928,
     "end_time": "2022-07-20T15:54:55.071705",
     "exception": false,
     "start_time": "2022-07-20T15:54:55.024777",
     "status": "completed"
    },
    "tags": []
   },
   "outputs": [
    {
     "data": {
      "text/plain": [
       "array([4.9065206e-05, 1.7032343e-01, 9.7533357e-01, 3.2043161e-05,\n",
       "       7.2556537e-01, 7.9657167e-02, 1.4904353e-05, 4.3434650e-01,\n",
       "       7.8378391e-05, 9.9854565e-01], dtype=float32)"
      ]
     },
     "execution_count": 36,
     "metadata": {},
     "output_type": "execute_result"
    }
   ],
   "source": [
    "valid_preds.squeeze()[:10]"
   ]
  },
  {
   "cell_type": "code",
   "execution_count": 37,
   "id": "33c4d9f4",
   "metadata": {
    "execution": {
     "iopub.execute_input": "2022-07-20T15:54:55.143351Z",
     "iopub.status.busy": "2022-07-20T15:54:55.142968Z",
     "iopub.status.idle": "2022-07-20T15:54:55.152753Z",
     "shell.execute_reply": "2022-07-20T15:54:55.151763Z"
    },
    "papermill": {
     "duration": 0.047297,
     "end_time": "2022-07-20T15:54:55.154814",
     "exception": false,
     "start_time": "2022-07-20T15:54:55.107517",
     "status": "completed"
    },
    "tags": []
   },
   "outputs": [
    {
     "data": {
      "text/plain": [
       "array([4.9065206e-05, 1.7032343e-01, 9.7533357e-01, 3.2043161e-05,\n",
       "       7.2556537e-01, 7.9657167e-02, 1.4904353e-05, 4.3434650e-01,\n",
       "       7.8378391e-05, 9.9854565e-01], dtype=float32)"
      ]
     },
     "execution_count": 37,
     "metadata": {},
     "output_type": "execute_result"
    }
   ],
   "source": [
    "valid_preds.ravel()[:10]"
   ]
  },
  {
   "cell_type": "code",
   "execution_count": 38,
   "id": "0d57f273",
   "metadata": {
    "execution": {
     "iopub.execute_input": "2022-07-20T15:54:55.227041Z",
     "iopub.status.busy": "2022-07-20T15:54:55.225778Z",
     "iopub.status.idle": "2022-07-20T15:54:55.233061Z",
     "shell.execute_reply": "2022-07-20T15:54:55.232112Z"
    },
    "papermill": {
     "duration": 0.045618,
     "end_time": "2022-07-20T15:54:55.235320",
     "exception": false,
     "start_time": "2022-07-20T15:54:55.189702",
     "status": "completed"
    },
    "tags": []
   },
   "outputs": [],
   "source": [
    "valid_preds = np.argmax(valid_preds, axis=1)"
   ]
  },
  {
   "cell_type": "code",
   "execution_count": 39,
   "id": "b7310122",
   "metadata": {
    "execution": {
     "iopub.execute_input": "2022-07-20T15:54:55.306563Z",
     "iopub.status.busy": "2022-07-20T15:54:55.305573Z",
     "iopub.status.idle": "2022-07-20T15:54:55.311280Z",
     "shell.execute_reply": "2022-07-20T15:54:55.310094Z"
    },
    "papermill": {
     "duration": 0.0442,
     "end_time": "2022-07-20T15:54:55.313853",
     "exception": false,
     "start_time": "2022-07-20T15:54:55.269653",
     "status": "completed"
    },
    "tags": []
   },
   "outputs": [],
   "source": [
    "# show_scores(y_valid, valid_preds)"
   ]
  },
  {
   "cell_type": "code",
   "execution_count": 40,
   "id": "177c858a",
   "metadata": {
    "execution": {
     "iopub.execute_input": "2022-07-20T15:54:55.386327Z",
     "iopub.status.busy": "2022-07-20T15:54:55.385215Z",
     "iopub.status.idle": "2022-07-20T15:54:57.286570Z",
     "shell.execute_reply": "2022-07-20T15:54:57.285285Z"
    },
    "papermill": {
     "duration": 1.939736,
     "end_time": "2022-07-20T15:54:57.289042",
     "exception": false,
     "start_time": "2022-07-20T15:54:55.349306",
     "status": "completed"
    },
    "tags": []
   },
   "outputs": [
    {
     "data": {
      "text/plain": [
       "array([1.12520866e-04, 1.96825564e-02, 9.99632955e-01, 9.88317013e-01,\n",
       "       9.99929905e-01], dtype=float32)"
      ]
     },
     "execution_count": 40,
     "metadata": {},
     "output_type": "execute_result"
    }
   ],
   "source": [
    "preds = model.predict(X_test).ravel()\n",
    "preds[:5]"
   ]
  },
  {
   "cell_type": "code",
   "execution_count": 41,
   "id": "866f31ea",
   "metadata": {
    "execution": {
     "iopub.execute_input": "2022-07-20T15:54:57.362749Z",
     "iopub.status.busy": "2022-07-20T15:54:57.361990Z",
     "iopub.status.idle": "2022-07-20T15:54:57.371673Z",
     "shell.execute_reply": "2022-07-20T15:54:57.370775Z"
    },
    "papermill": {
     "duration": 0.049899,
     "end_time": "2022-07-20T15:54:57.373801",
     "exception": false,
     "start_time": "2022-07-20T15:54:57.323902",
     "status": "completed"
    },
    "tags": []
   },
   "outputs": [
    {
     "data": {
      "text/plain": [
       "array([0, 1])"
      ]
     },
     "execution_count": 41,
     "metadata": {},
     "output_type": "execute_result"
    }
   ],
   "source": [
    "preds = (preds > 0.5).astype(int)\n",
    "np.unique(preds)"
   ]
  },
  {
   "cell_type": "code",
   "execution_count": 42,
   "id": "6bc474c1",
   "metadata": {
    "execution": {
     "iopub.execute_input": "2022-07-20T15:54:57.449021Z",
     "iopub.status.busy": "2022-07-20T15:54:57.448573Z",
     "iopub.status.idle": "2022-07-20T15:54:57.454095Z",
     "shell.execute_reply": "2022-07-20T15:54:57.452830Z"
    },
    "papermill": {
     "duration": 0.047874,
     "end_time": "2022-07-20T15:54:57.457139",
     "exception": false,
     "start_time": "2022-07-20T15:54:57.409265",
     "status": "completed"
    },
    "tags": []
   },
   "outputs": [],
   "source": [
    "# preds = np.argmax(preds, axis=1)"
   ]
  },
  {
   "cell_type": "markdown",
   "id": "0397a9e0",
   "metadata": {
    "papermill": {
     "duration": 0.034397,
     "end_time": "2022-07-20T15:54:57.526080",
     "exception": false,
     "start_time": "2022-07-20T15:54:57.491683",
     "status": "completed"
    },
    "tags": []
   },
   "source": [
    "## Submission"
   ]
  },
  {
   "cell_type": "code",
   "execution_count": 43,
   "id": "7a3a0f73",
   "metadata": {
    "execution": {
     "iopub.execute_input": "2022-07-20T15:54:57.598043Z",
     "iopub.status.busy": "2022-07-20T15:54:57.597641Z",
     "iopub.status.idle": "2022-07-20T15:54:57.616406Z",
     "shell.execute_reply": "2022-07-20T15:54:57.615598Z"
    },
    "papermill": {
     "duration": 0.057052,
     "end_time": "2022-07-20T15:54:57.618816",
     "exception": false,
     "start_time": "2022-07-20T15:54:57.561764",
     "status": "completed"
    },
    "tags": []
   },
   "outputs": [
    {
     "data": {
      "text/html": [
       "<div>\n",
       "<style scoped>\n",
       "    .dataframe tbody tr th:only-of-type {\n",
       "        vertical-align: middle;\n",
       "    }\n",
       "\n",
       "    .dataframe tbody tr th {\n",
       "        vertical-align: top;\n",
       "    }\n",
       "\n",
       "    .dataframe thead th {\n",
       "        text-align: right;\n",
       "    }\n",
       "</style>\n",
       "<table border=\"1\" class=\"dataframe\">\n",
       "  <thead>\n",
       "    <tr style=\"text-align: right;\">\n",
       "      <th></th>\n",
       "      <th>id</th>\n",
       "      <th>target</th>\n",
       "    </tr>\n",
       "  </thead>\n",
       "  <tbody>\n",
       "    <tr>\n",
       "      <th>0</th>\n",
       "      <td>0</td>\n",
       "      <td>0</td>\n",
       "    </tr>\n",
       "    <tr>\n",
       "      <th>1</th>\n",
       "      <td>2</td>\n",
       "      <td>0</td>\n",
       "    </tr>\n",
       "    <tr>\n",
       "      <th>2</th>\n",
       "      <td>3</td>\n",
       "      <td>1</td>\n",
       "    </tr>\n",
       "    <tr>\n",
       "      <th>3</th>\n",
       "      <td>9</td>\n",
       "      <td>1</td>\n",
       "    </tr>\n",
       "    <tr>\n",
       "      <th>4</th>\n",
       "      <td>11</td>\n",
       "      <td>1</td>\n",
       "    </tr>\n",
       "  </tbody>\n",
       "</table>\n",
       "</div>"
      ],
      "text/plain": [
       "   id  target\n",
       "0   0       0\n",
       "1   2       0\n",
       "2   3       1\n",
       "3   9       1\n",
       "4  11       1"
      ]
     },
     "execution_count": 43,
     "metadata": {},
     "output_type": "execute_result"
    }
   ],
   "source": [
    "# Different TARGET name used in test.csv\n",
    "ss = create_submission(\"\", TARGET, preds)\n",
    "ss[:5]"
   ]
  },
  {
   "cell_type": "code",
   "execution_count": 44,
   "id": "35159d73",
   "metadata": {
    "execution": {
     "iopub.execute_input": "2022-07-20T15:54:57.690536Z",
     "iopub.status.busy": "2022-07-20T15:54:57.689437Z",
     "iopub.status.idle": "2022-07-20T15:54:57.701685Z",
     "shell.execute_reply": "2022-07-20T15:54:57.700599Z"
    },
    "papermill": {
     "duration": 0.050484,
     "end_time": "2022-07-20T15:54:57.703796",
     "exception": false,
     "start_time": "2022-07-20T15:54:57.653312",
     "status": "completed"
    },
    "tags": []
   },
   "outputs": [
    {
     "data": {
      "text/plain": [
       "0    1904\n",
       "1    1359\n",
       "Name: target, dtype: int64"
      ]
     },
     "execution_count": 44,
     "metadata": {},
     "output_type": "execute_result"
    }
   ],
   "source": [
    "ss[TARGET].value_counts()"
   ]
  },
  {
   "cell_type": "code",
   "execution_count": null,
   "id": "13d72a59",
   "metadata": {
    "papermill": {
     "duration": 0.035166,
     "end_time": "2022-07-20T15:54:57.774129",
     "exception": false,
     "start_time": "2022-07-20T15:54:57.738963",
     "status": "completed"
    },
    "tags": []
   },
   "outputs": [],
   "source": []
  }
 ],
 "metadata": {
  "kernelspec": {
   "display_name": "Python 3",
   "language": "python",
   "name": "python3"
  },
  "language_info": {
   "codemirror_mode": {
    "name": "ipython",
    "version": 3
   },
   "file_extension": ".py",
   "mimetype": "text/x-python",
   "name": "python",
   "nbconvert_exporter": "python",
   "pygments_lexer": "ipython3",
   "version": "3.7.12"
  },
  "papermill": {
   "default_parameters": {},
   "duration": 126.679986,
   "end_time": "2022-07-20T15:55:00.809666",
   "environment_variables": {},
   "exception": null,
   "input_path": "__notebook__.ipynb",
   "output_path": "__notebook__.ipynb",
   "parameters": {},
   "start_time": "2022-07-20T15:52:54.129680",
   "version": "2.3.4"
  }
 },
 "nbformat": 4,
 "nbformat_minor": 5
}
