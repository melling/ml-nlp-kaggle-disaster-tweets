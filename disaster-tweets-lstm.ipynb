{
 "cells": [
  {
   "cell_type": "markdown",
   "id": "7530eb57",
   "metadata": {
    "papermill": {
     "duration": 0.012301,
     "end_time": "2022-07-20T17:33:43.882606",
     "exception": false,
     "start_time": "2022-07-20T17:33:43.870305",
     "status": "completed"
    },
    "tags": []
   },
   "source": [
    "<div style=\"background-color:rgba(128, 0, 128, 0.6);border-radius:5px;display:fill\"><h1 style=\"text-align: center;padding: 12px 0px 12px 0px;\">Disaster Tweets: Long-Short Term Memory (LSTM)</h1>\n",
    "</div>\n",
    "\n",
    "Problem Type: Binary-classification\n",
    "\n",
    "## Evaluation Metric\n",
    "\n",
    "F1-Score"
   ]
  },
  {
   "cell_type": "code",
   "execution_count": 1,
   "id": "8eda0d22",
   "metadata": {
    "execution": {
     "iopub.execute_input": "2022-07-20T17:33:43.907711Z",
     "iopub.status.busy": "2022-07-20T17:33:43.907162Z",
     "iopub.status.idle": "2022-07-20T17:33:57.685232Z",
     "shell.execute_reply": "2022-07-20T17:33:57.684241Z"
    },
    "papermill": {
     "duration": 13.793547,
     "end_time": "2022-07-20T17:33:57.687615",
     "exception": false,
     "start_time": "2022-07-20T17:33:43.894068",
     "status": "completed"
    },
    "tags": []
   },
   "outputs": [
    {
     "name": "stdout",
     "output_type": "stream",
     "text": [
      "\u001b[33mWARNING: Running pip as the 'root' user can result in broken permissions and conflicting behaviour with the system package manager. It is recommended to use a virtual environment instead: https://pip.pypa.io/warnings/venv\u001b[0m\u001b[33m\r\n",
      "\u001b[0m"
     ]
    }
   ],
   "source": [
    "# Black formatter https://black.readthedocs.io/en/stable/\n",
    "\n",
    "! pip install nb-black > /dev/null\n",
    "\n",
    "%load_ext lab_black"
   ]
  },
  {
   "cell_type": "markdown",
   "id": "174f934e",
   "metadata": {
    "papermill": {
     "duration": 0.011035,
     "end_time": "2022-07-20T17:33:57.710756",
     "exception": false,
     "start_time": "2022-07-20T17:33:57.699721",
     "status": "completed"
    },
    "tags": []
   },
   "source": [
    "<div style=\"background-color:rgba(128, 0, 128, 0.6);border-radius:5px;display:fill\"><h1 style=\"text-align: center;padding: 12px 0px 12px 0px;\">Configuration</h1>\n",
    "</div>"
   ]
  },
  {
   "cell_type": "code",
   "execution_count": 2,
   "id": "3e463bac",
   "metadata": {
    "execution": {
     "iopub.execute_input": "2022-07-20T17:33:57.736321Z",
     "iopub.status.busy": "2022-07-20T17:33:57.735314Z",
     "iopub.status.idle": "2022-07-20T17:33:57.742217Z",
     "shell.execute_reply": "2022-07-20T17:33:57.741299Z"
    },
    "papermill": {
     "duration": 0.022359,
     "end_time": "2022-07-20T17:33:57.744256",
     "exception": false,
     "start_time": "2022-07-20T17:33:57.721897",
     "status": "completed"
    },
    "tags": []
   },
   "outputs": [],
   "source": [
    "data_dir = \"../input/nlp-getting-started/\""
   ]
  },
  {
   "cell_type": "code",
   "execution_count": 3,
   "id": "439fa85a",
   "metadata": {
    "execution": {
     "iopub.execute_input": "2022-07-20T17:33:57.769882Z",
     "iopub.status.busy": "2022-07-20T17:33:57.769316Z",
     "iopub.status.idle": "2022-07-20T17:33:57.774201Z",
     "shell.execute_reply": "2022-07-20T17:33:57.773260Z"
    },
    "papermill": {
     "duration": 0.019766,
     "end_time": "2022-07-20T17:33:57.776235",
     "exception": false,
     "start_time": "2022-07-20T17:33:57.756469",
     "status": "completed"
    },
    "tags": []
   },
   "outputs": [],
   "source": [
    "TARGET = \"target\""
   ]
  },
  {
   "cell_type": "markdown",
   "id": "39ccd66b",
   "metadata": {
    "papermill": {
     "duration": 0.011167,
     "end_time": "2022-07-20T17:33:57.798775",
     "exception": false,
     "start_time": "2022-07-20T17:33:57.787608",
     "status": "completed"
    },
    "tags": []
   },
   "source": [
    "<div style=\"background-color:rgba(128, 0, 128, 0.6);border-radius:5px;display:fill\"><h1 style=\"text-align: center;padding: 12px 0px 12px 0px;\">Import Libraries</h1>\n",
    "</div>\n",
    "\n",
    "A best practise is to include all libraries here.  However, I will put a few imports farther down where they are first used so beginners can learn with an \"as needed\" approach."
   ]
  },
  {
   "cell_type": "code",
   "execution_count": 4,
   "id": "f4a4af0c",
   "metadata": {
    "execution": {
     "iopub.execute_input": "2022-07-20T17:33:57.822770Z",
     "iopub.status.busy": "2022-07-20T17:33:57.822483Z",
     "iopub.status.idle": "2022-07-20T17:34:04.043684Z",
     "shell.execute_reply": "2022-07-20T17:34:04.042367Z"
    },
    "papermill": {
     "duration": 6.236062,
     "end_time": "2022-07-20T17:34:04.046571",
     "exception": false,
     "start_time": "2022-07-20T17:33:57.810509",
     "status": "completed"
    },
    "tags": []
   },
   "outputs": [],
   "source": [
    "import os\n",
    "import time\n",
    "from pathlib import Path\n",
    "\n",
    "import pandas as pd\n",
    "import numpy as np\n",
    "\n",
    "from sklearn.model_selection import train_test_split\n",
    "\n",
    "from sklearn.metrics import f1_score\n",
    "\n",
    "# Visualization Libraries\n",
    "import matplotlib.pylab as plt\n",
    "import seaborn as sns\n",
    "\n",
    "import tensorflow as tf\n",
    "from tensorflow import keras\n",
    "from tensorflow.keras import layers"
   ]
  },
  {
   "cell_type": "markdown",
   "id": "e4f2dd73",
   "metadata": {
    "papermill": {
     "duration": 0.011009,
     "end_time": "2022-07-20T17:34:04.069642",
     "exception": false,
     "start_time": "2022-07-20T17:34:04.058633",
     "status": "completed"
    },
    "tags": []
   },
   "source": [
    "<div style=\"background-color:rgba(128, 0, 128, 0.6);border-radius:5px;display:fill\"><h1 style=\"text-align: center;padding: 12px 0px 12px 0px;\">Library</h1>\n",
    "</div>\n",
    "\n",
    "Creating a few functions that we will reuse in each project."
   ]
  },
  {
   "cell_type": "code",
   "execution_count": 5,
   "id": "e1f84b7f",
   "metadata": {
    "execution": {
     "iopub.execute_input": "2022-07-20T17:34:04.094894Z",
     "iopub.status.busy": "2022-07-20T17:34:04.094300Z",
     "iopub.status.idle": "2022-07-20T17:34:04.107608Z",
     "shell.execute_reply": "2022-07-20T17:34:04.106659Z"
    },
    "papermill": {
     "duration": 0.028581,
     "end_time": "2022-07-20T17:34:04.109668",
     "exception": false,
     "start_time": "2022-07-20T17:34:04.081087",
     "status": "completed"
    },
    "tags": []
   },
   "outputs": [],
   "source": [
    "def read_data(path):\n",
    "    data_dir = Path(path)\n",
    "\n",
    "    train = pd.read_csv(data_dir / \"train.csv\")\n",
    "    test = pd.read_csv(data_dir / \"test.csv\")\n",
    "    submission_df = pd.read_csv(data_dir / \"sample_submission.csv\")\n",
    "\n",
    "    print(f\"train data: Rows={train.shape[0]}, Columns={train.shape[1]}\")\n",
    "    print(f\"test data : Rows={test.shape[0]}, Columns={test.shape[1]}\")\n",
    "    return train, test, submission_df"
   ]
  },
  {
   "cell_type": "code",
   "execution_count": 6,
   "id": "0bb052a4",
   "metadata": {
    "execution": {
     "iopub.execute_input": "2022-07-20T17:34:04.133860Z",
     "iopub.status.busy": "2022-07-20T17:34:04.133204Z",
     "iopub.status.idle": "2022-07-20T17:34:04.145601Z",
     "shell.execute_reply": "2022-07-20T17:34:04.144725Z"
    },
    "papermill": {
     "duration": 0.02667,
     "end_time": "2022-07-20T17:34:04.147815",
     "exception": false,
     "start_time": "2022-07-20T17:34:04.121145",
     "status": "completed"
    },
    "tags": []
   },
   "outputs": [],
   "source": [
    "def create_submission(model_name, target, preds, is_log_target=False):\n",
    "    if is_log_target:\n",
    "        #         preds = np.exp(preds)\n",
    "        preds = np.expm1(preds)\n",
    "\n",
    "    sample_submission[target] = preds\n",
    "    if len(model_name) > 0:\n",
    "        sample_submission.to_csv(f\"submission_{model_name}.csv\", index=False)\n",
    "    else:\n",
    "        sample_submission.to_csv(f\"submission.csv\", index=False)\n",
    "\n",
    "    return sample_submission"
   ]
  },
  {
   "cell_type": "code",
   "execution_count": 7,
   "id": "3f533084",
   "metadata": {
    "execution": {
     "iopub.execute_input": "2022-07-20T17:34:04.182038Z",
     "iopub.status.busy": "2022-07-20T17:34:04.181483Z",
     "iopub.status.idle": "2022-07-20T17:34:04.193369Z",
     "shell.execute_reply": "2022-07-20T17:34:04.192446Z"
    },
    "papermill": {
     "duration": 0.033841,
     "end_time": "2022-07-20T17:34:04.195462",
     "exception": false,
     "start_time": "2022-07-20T17:34:04.161621",
     "status": "completed"
    },
    "tags": []
   },
   "outputs": [],
   "source": [
    "from sklearn.metrics import mean_absolute_error, mean_squared_error, f1_score\n",
    "\n",
    "\n",
    "def show_scores(gt, yhat):\n",
    "    f1 = f1_score(gt, yhat, average=\"macro\")\n",
    "    mse = mean_squared_error(gt, yhat)\n",
    "    mae = mean_absolute_error(gt, yhat)\n",
    "    rmse = np.sqrt(mse)\n",
    "    #     r2_square = r2_score(gt, yhat)\n",
    "\n",
    "    print(f\"f1: {f1:.4f}\")"
   ]
  },
  {
   "cell_type": "markdown",
   "id": "1359d62b",
   "metadata": {
    "papermill": {
     "duration": 0.010945,
     "end_time": "2022-07-20T17:34:04.218514",
     "exception": false,
     "start_time": "2022-07-20T17:34:04.207569",
     "status": "completed"
    },
    "tags": []
   },
   "source": [
    "<div style=\"background-color:rgba(128, 0, 128, 0.6);border-radius:5px;display:fill\"><h1 style=\"text-align: center;padding: 12px 0px 12px 0px;\">Load Train/Test Data</h1>\n",
    "</div>\n",
    "\n",
    "- train.csv - Data used to build our machine learning model\n",
    "- test.csv - Data used to build our machine learning model. Does not contain the target variable\n",
    "- sample_submission.csv - A file in the proper format to submit test predictions"
   ]
  },
  {
   "cell_type": "code",
   "execution_count": 8,
   "id": "02c301d6",
   "metadata": {
    "execution": {
     "iopub.execute_input": "2022-07-20T17:34:04.242455Z",
     "iopub.status.busy": "2022-07-20T17:34:04.242104Z",
     "iopub.status.idle": "2022-07-20T17:34:04.309251Z",
     "shell.execute_reply": "2022-07-20T17:34:04.308242Z"
    },
    "papermill": {
     "duration": 0.082273,
     "end_time": "2022-07-20T17:34:04.311849",
     "exception": false,
     "start_time": "2022-07-20T17:34:04.229576",
     "status": "completed"
    },
    "tags": []
   },
   "outputs": [
    {
     "name": "stdout",
     "output_type": "stream",
     "text": [
      "train data: Rows=7613, Columns=5\n",
      "test data : Rows=3263, Columns=4\n"
     ]
    }
   ],
   "source": [
    "train, test, sample_submission = read_data(data_dir)"
   ]
  },
  {
   "cell_type": "code",
   "execution_count": 9,
   "id": "da86b003",
   "metadata": {
    "execution": {
     "iopub.execute_input": "2022-07-20T17:34:04.338607Z",
     "iopub.status.busy": "2022-07-20T17:34:04.337000Z",
     "iopub.status.idle": "2022-07-20T17:34:04.357485Z",
     "shell.execute_reply": "2022-07-20T17:34:04.356415Z"
    },
    "papermill": {
     "duration": 0.035488,
     "end_time": "2022-07-20T17:34:04.359959",
     "exception": false,
     "start_time": "2022-07-20T17:34:04.324471",
     "status": "completed"
    },
    "tags": []
   },
   "outputs": [
    {
     "data": {
      "text/html": [
       "<div>\n",
       "<style scoped>\n",
       "    .dataframe tbody tr th:only-of-type {\n",
       "        vertical-align: middle;\n",
       "    }\n",
       "\n",
       "    .dataframe tbody tr th {\n",
       "        vertical-align: top;\n",
       "    }\n",
       "\n",
       "    .dataframe thead th {\n",
       "        text-align: right;\n",
       "    }\n",
       "</style>\n",
       "<table border=\"1\" class=\"dataframe\">\n",
       "  <thead>\n",
       "    <tr style=\"text-align: right;\">\n",
       "      <th></th>\n",
       "      <th>id</th>\n",
       "      <th>keyword</th>\n",
       "      <th>location</th>\n",
       "      <th>text</th>\n",
       "      <th>target</th>\n",
       "    </tr>\n",
       "  </thead>\n",
       "  <tbody>\n",
       "    <tr>\n",
       "      <th>0</th>\n",
       "      <td>1</td>\n",
       "      <td>NaN</td>\n",
       "      <td>NaN</td>\n",
       "      <td>Our Deeds are the Reason of this #earthquake M...</td>\n",
       "      <td>1</td>\n",
       "    </tr>\n",
       "    <tr>\n",
       "      <th>1</th>\n",
       "      <td>4</td>\n",
       "      <td>NaN</td>\n",
       "      <td>NaN</td>\n",
       "      <td>Forest fire near La Ronge Sask. Canada</td>\n",
       "      <td>1</td>\n",
       "    </tr>\n",
       "    <tr>\n",
       "      <th>2</th>\n",
       "      <td>5</td>\n",
       "      <td>NaN</td>\n",
       "      <td>NaN</td>\n",
       "      <td>All residents asked to 'shelter in place' are ...</td>\n",
       "      <td>1</td>\n",
       "    </tr>\n",
       "    <tr>\n",
       "      <th>3</th>\n",
       "      <td>6</td>\n",
       "      <td>NaN</td>\n",
       "      <td>NaN</td>\n",
       "      <td>13,000 people receive #wildfires evacuation or...</td>\n",
       "      <td>1</td>\n",
       "    </tr>\n",
       "    <tr>\n",
       "      <th>4</th>\n",
       "      <td>7</td>\n",
       "      <td>NaN</td>\n",
       "      <td>NaN</td>\n",
       "      <td>Just got sent this photo from Ruby #Alaska as ...</td>\n",
       "      <td>1</td>\n",
       "    </tr>\n",
       "  </tbody>\n",
       "</table>\n",
       "</div>"
      ],
      "text/plain": [
       "   id keyword location                                               text  \\\n",
       "0   1     NaN      NaN  Our Deeds are the Reason of this #earthquake M...   \n",
       "1   4     NaN      NaN             Forest fire near La Ronge Sask. Canada   \n",
       "2   5     NaN      NaN  All residents asked to 'shelter in place' are ...   \n",
       "3   6     NaN      NaN  13,000 people receive #wildfires evacuation or...   \n",
       "4   7     NaN      NaN  Just got sent this photo from Ruby #Alaska as ...   \n",
       "\n",
       "   target  \n",
       "0       1  \n",
       "1       1  \n",
       "2       1  \n",
       "3       1  \n",
       "4       1  "
      ]
     },
     "execution_count": 9,
     "metadata": {},
     "output_type": "execute_result"
    }
   ],
   "source": [
    "train.head()"
   ]
  },
  {
   "cell_type": "code",
   "execution_count": 10,
   "id": "80313564",
   "metadata": {
    "execution": {
     "iopub.execute_input": "2022-07-20T17:34:04.385022Z",
     "iopub.status.busy": "2022-07-20T17:34:04.384106Z",
     "iopub.status.idle": "2022-07-20T17:34:04.393271Z",
     "shell.execute_reply": "2022-07-20T17:34:04.392402Z"
    },
    "papermill": {
     "duration": 0.023581,
     "end_time": "2022-07-20T17:34:04.395434",
     "exception": false,
     "start_time": "2022-07-20T17:34:04.371853",
     "status": "completed"
    },
    "tags": []
   },
   "outputs": [],
   "source": [
    "FEATURES = [\n",
    "    col\n",
    "    for col in train.columns\n",
    "    if col\n",
    "    not in [\n",
    "        \"Id\",\n",
    "        TARGET,\n",
    "        #         TARGET_ENC,\n",
    "    ]\n",
    "]"
   ]
  },
  {
   "cell_type": "code",
   "execution_count": 11,
   "id": "de538608",
   "metadata": {
    "execution": {
     "iopub.execute_input": "2022-07-20T17:34:04.420165Z",
     "iopub.status.busy": "2022-07-20T17:34:04.419569Z",
     "iopub.status.idle": "2022-07-20T17:34:04.435898Z",
     "shell.execute_reply": "2022-07-20T17:34:04.435003Z"
    },
    "papermill": {
     "duration": 0.030768,
     "end_time": "2022-07-20T17:34:04.437900",
     "exception": false,
     "start_time": "2022-07-20T17:34:04.407132",
     "status": "completed"
    },
    "tags": []
   },
   "outputs": [],
   "source": [
    "y = train[TARGET]\n",
    "X = train[FEATURES].copy()\n",
    "\n",
    "X_test = test[FEATURES].copy()"
   ]
  },
  {
   "cell_type": "code",
   "execution_count": 12,
   "id": "d273ecf6",
   "metadata": {
    "execution": {
     "iopub.execute_input": "2022-07-20T17:34:04.462849Z",
     "iopub.status.busy": "2022-07-20T17:34:04.462073Z",
     "iopub.status.idle": "2022-07-20T17:34:04.467061Z",
     "shell.execute_reply": "2022-07-20T17:34:04.466182Z"
    },
    "papermill": {
     "duration": 0.019324,
     "end_time": "2022-07-20T17:34:04.468968",
     "exception": false,
     "start_time": "2022-07-20T17:34:04.449644",
     "status": "completed"
    },
    "tags": []
   },
   "outputs": [],
   "source": [
    "# # Normalize the data\n",
    "# X = X / 255.0\n",
    "# X_test = X_test / 255.0"
   ]
  },
  {
   "cell_type": "code",
   "execution_count": 13,
   "id": "95a34c4a",
   "metadata": {
    "execution": {
     "iopub.execute_input": "2022-07-20T17:34:04.492851Z",
     "iopub.status.busy": "2022-07-20T17:34:04.492113Z",
     "iopub.status.idle": "2022-07-20T17:34:04.496656Z",
     "shell.execute_reply": "2022-07-20T17:34:04.495805Z"
    },
    "papermill": {
     "duration": 0.018414,
     "end_time": "2022-07-20T17:34:04.498561",
     "exception": false,
     "start_time": "2022-07-20T17:34:04.480147",
     "status": "completed"
    },
    "tags": []
   },
   "outputs": [],
   "source": [
    "# X = X.values.reshape(-1, 28, 28, 1)\n",
    "# X_test = X_test.values.reshape(-1, 28, 28, 1)"
   ]
  },
  {
   "cell_type": "code",
   "execution_count": 14,
   "id": "104769eb",
   "metadata": {
    "execution": {
     "iopub.execute_input": "2022-07-20T17:34:04.522556Z",
     "iopub.status.busy": "2022-07-20T17:34:04.521840Z",
     "iopub.status.idle": "2022-07-20T17:34:04.526548Z",
     "shell.execute_reply": "2022-07-20T17:34:04.525745Z"
    },
    "papermill": {
     "duration": 0.018513,
     "end_time": "2022-07-20T17:34:04.528421",
     "exception": false,
     "start_time": "2022-07-20T17:34:04.509908",
     "status": "completed"
    },
    "tags": []
   },
   "outputs": [],
   "source": [
    "# X[:3]"
   ]
  },
  {
   "cell_type": "code",
   "execution_count": 15,
   "id": "e92504f3",
   "metadata": {
    "execution": {
     "iopub.execute_input": "2022-07-20T17:34:04.552443Z",
     "iopub.status.busy": "2022-07-20T17:34:04.551689Z",
     "iopub.status.idle": "2022-07-20T17:34:04.556242Z",
     "shell.execute_reply": "2022-07-20T17:34:04.555225Z"
    },
    "papermill": {
     "duration": 0.019094,
     "end_time": "2022-07-20T17:34:04.558582",
     "exception": false,
     "start_time": "2022-07-20T17:34:04.539488",
     "status": "completed"
    },
    "tags": []
   },
   "outputs": [],
   "source": [
    "# from keras.utils.np_utils import to_categorical\n",
    "\n",
    "# y = to_categorical(y)"
   ]
  },
  {
   "cell_type": "code",
   "execution_count": 16,
   "id": "3b856b43",
   "metadata": {
    "execution": {
     "iopub.execute_input": "2022-07-20T17:34:04.583607Z",
     "iopub.status.busy": "2022-07-20T17:34:04.582795Z",
     "iopub.status.idle": "2022-07-20T17:34:04.594246Z",
     "shell.execute_reply": "2022-07-20T17:34:04.593304Z"
    },
    "papermill": {
     "duration": 0.026358,
     "end_time": "2022-07-20T17:34:04.596259",
     "exception": false,
     "start_time": "2022-07-20T17:34:04.569901",
     "status": "completed"
    },
    "tags": []
   },
   "outputs": [
    {
     "data": {
      "text/plain": [
       "0    1\n",
       "1    1\n",
       "2    1\n",
       "3    1\n",
       "4    1\n",
       "Name: target, dtype: int64"
      ]
     },
     "execution_count": 16,
     "metadata": {},
     "output_type": "execute_result"
    }
   ],
   "source": [
    "y[:5]"
   ]
  },
  {
   "cell_type": "markdown",
   "id": "e6baf6f1",
   "metadata": {
    "execution": {
     "iopub.execute_input": "2022-07-19T19:44:01.140457Z",
     "iopub.status.busy": "2022-07-19T19:44:01.139714Z",
     "iopub.status.idle": "2022-07-19T19:44:01.157867Z",
     "shell.execute_reply": "2022-07-19T19:44:01.154383Z",
     "shell.execute_reply.started": "2022-07-19T19:44:01.140426Z"
    },
    "papermill": {
     "duration": 0.011394,
     "end_time": "2022-07-20T17:34:04.619452",
     "exception": false,
     "start_time": "2022-07-20T17:34:04.608058",
     "status": "completed"
    },
    "tags": []
   },
   "source": [
    "Tokenize then pad sequence.\n",
    "\n",
    "### Vectorization vs Tokenization\n",
    "\n",
    "- https://datascience.stackexchange.com/questions/104859/what-is-the-difference-between-textvectorization-and-tokenizer\n",
    "- https://stackoverflow.com/questions/71002866/difference-between-tokenizer-and-textvectorization-layer-in-tensorflow\n",
    "- [You should try the new TensorFlow’s TextVectorization layer](https://towardsdatascience.com/you-should-try-the-new-tensorflows-textvectorization-layer-a80b3c6b00ee)"
   ]
  },
  {
   "cell_type": "code",
   "execution_count": 17,
   "id": "e6af61d0",
   "metadata": {
    "execution": {
     "iopub.execute_input": "2022-07-20T17:34:04.644185Z",
     "iopub.status.busy": "2022-07-20T17:34:04.643258Z",
     "iopub.status.idle": "2022-07-20T17:34:04.848137Z",
     "shell.execute_reply": "2022-07-20T17:34:04.846856Z"
    },
    "papermill": {
     "duration": 0.220067,
     "end_time": "2022-07-20T17:34:04.850801",
     "exception": false,
     "start_time": "2022-07-20T17:34:04.630734",
     "status": "completed"
    },
    "tags": []
   },
   "outputs": [
    {
     "data": {
      "text/plain": [
       "22702"
      ]
     },
     "execution_count": 17,
     "metadata": {},
     "output_type": "execute_result"
    }
   ],
   "source": [
    "tokenizer = tf.keras.preprocessing.text.Tokenizer()\n",
    "tokenizer.oov_token = \"<OOV>\"\n",
    "tokenizer.fit_on_texts(train.text)\n",
    "vocab = tokenizer.word_index\n",
    "vocabCount = len(vocab) + 1\n",
    "\n",
    "vocabCount"
   ]
  },
  {
   "cell_type": "code",
   "execution_count": 18,
   "id": "ce710888",
   "metadata": {
    "execution": {
     "iopub.execute_input": "2022-07-20T17:34:04.876982Z",
     "iopub.status.busy": "2022-07-20T17:34:04.876584Z",
     "iopub.status.idle": "2022-07-20T17:34:05.049906Z",
     "shell.execute_reply": "2022-07-20T17:34:05.048981Z"
    },
    "papermill": {
     "duration": 0.188987,
     "end_time": "2022-07-20T17:34:05.052137",
     "exception": false,
     "start_time": "2022-07-20T17:34:04.863150",
     "status": "completed"
    },
    "tags": []
   },
   "outputs": [
    {
     "data": {
      "text/plain": [
       "(7613, 33)"
      ]
     },
     "execution_count": 18,
     "metadata": {},
     "output_type": "execute_result"
    }
   ],
   "source": [
    "train = tf.keras.preprocessing.sequence.pad_sequences(\n",
    "    tokenizer.texts_to_sequences(train.text.to_numpy()), padding=\"pre\"\n",
    ")\n",
    "train.shape"
   ]
  },
  {
   "cell_type": "code",
   "execution_count": 19,
   "id": "1e0382bb",
   "metadata": {
    "execution": {
     "iopub.execute_input": "2022-07-20T17:34:05.077092Z",
     "iopub.status.busy": "2022-07-20T17:34:05.076275Z",
     "iopub.status.idle": "2022-07-20T17:34:05.091000Z",
     "shell.execute_reply": "2022-07-20T17:34:05.090087Z"
    },
    "papermill": {
     "duration": 0.029205,
     "end_time": "2022-07-20T17:34:05.093107",
     "exception": false,
     "start_time": "2022-07-20T17:34:05.063902",
     "status": "completed"
    },
    "tags": []
   },
   "outputs": [
    {
     "data": {
      "text/plain": [
       "((6851, 4), (6851,), (762, 4), (762,))"
      ]
     },
     "execution_count": 19,
     "metadata": {},
     "output_type": "execute_result"
    }
   ],
   "source": [
    "X_train, X_valid, y_train, y_valid = train_test_split(\n",
    "    X,\n",
    "    y,\n",
    "    test_size=0.1,\n",
    "    random_state=42,\n",
    ")\n",
    "X_train.shape, y_train.shape, X_valid.shape, y_valid.shape"
   ]
  },
  {
   "cell_type": "code",
   "execution_count": 20,
   "id": "7aeda2ea",
   "metadata": {
    "execution": {
     "iopub.execute_input": "2022-07-20T17:34:05.118255Z",
     "iopub.status.busy": "2022-07-20T17:34:05.117896Z",
     "iopub.status.idle": "2022-07-20T17:34:05.125342Z",
     "shell.execute_reply": "2022-07-20T17:34:05.124447Z"
    },
    "papermill": {
     "duration": 0.022332,
     "end_time": "2022-07-20T17:34:05.127315",
     "exception": false,
     "start_time": "2022-07-20T17:34:05.104983",
     "status": "completed"
    },
    "tags": []
   },
   "outputs": [
    {
     "data": {
      "text/plain": [
       "pandas.core.frame.DataFrame"
      ]
     },
     "execution_count": 20,
     "metadata": {},
     "output_type": "execute_result"
    }
   ],
   "source": [
    "type(X_train)"
   ]
  },
  {
   "cell_type": "markdown",
   "id": "01d72655",
   "metadata": {
    "papermill": {
     "duration": 0.011869,
     "end_time": "2022-07-20T17:34:05.151222",
     "exception": false,
     "start_time": "2022-07-20T17:34:05.139353",
     "status": "completed"
    },
    "tags": []
   },
   "source": [
    "<div style=\"background-color:rgba(128, 0, 128, 0.6);border-radius:5px;display:fill\"><h1 style=\"text-align: center;padding: 12px 0px 12px 0px;\">Create Models</h1>\n",
    "</div>"
   ]
  },
  {
   "cell_type": "code",
   "execution_count": 21,
   "id": "0bae92da",
   "metadata": {
    "execution": {
     "iopub.execute_input": "2022-07-20T17:34:05.177183Z",
     "iopub.status.busy": "2022-07-20T17:34:05.176842Z",
     "iopub.status.idle": "2022-07-20T17:34:05.182404Z",
     "shell.execute_reply": "2022-07-20T17:34:05.181405Z"
    },
    "papermill": {
     "duration": 0.020981,
     "end_time": "2022-07-20T17:34:05.184351",
     "exception": false,
     "start_time": "2022-07-20T17:34:05.163370",
     "status": "completed"
    },
    "tags": []
   },
   "outputs": [],
   "source": [
    "def get_rnn_model01(vocabCount):\n",
    "    pass"
   ]
  },
  {
   "cell_type": "code",
   "execution_count": 22,
   "id": "fc93a71c",
   "metadata": {
    "execution": {
     "iopub.execute_input": "2022-07-20T17:34:05.209955Z",
     "iopub.status.busy": "2022-07-20T17:34:05.209358Z",
     "iopub.status.idle": "2022-07-20T17:34:05.214796Z",
     "shell.execute_reply": "2022-07-20T17:34:05.213832Z"
    },
    "papermill": {
     "duration": 0.020412,
     "end_time": "2022-07-20T17:34:05.216728",
     "exception": false,
     "start_time": "2022-07-20T17:34:05.196316",
     "status": "completed"
    },
    "tags": []
   },
   "outputs": [],
   "source": [
    "def get_lstm_model01(vocabCount):\n",
    "    pass"
   ]
  },
  {
   "cell_type": "code",
   "execution_count": 23,
   "id": "fe898b88",
   "metadata": {
    "execution": {
     "iopub.execute_input": "2022-07-20T17:34:05.243076Z",
     "iopub.status.busy": "2022-07-20T17:34:05.242149Z",
     "iopub.status.idle": "2022-07-20T17:34:05.251311Z",
     "shell.execute_reply": "2022-07-20T17:34:05.250440Z"
    },
    "papermill": {
     "duration": 0.024247,
     "end_time": "2022-07-20T17:34:05.253274",
     "exception": false,
     "start_time": "2022-07-20T17:34:05.229027",
     "status": "completed"
    },
    "tags": []
   },
   "outputs": [],
   "source": [
    "def custom_standardization_fn(string_tensor):\n",
    "    lowercase_string = tf.strings.lower(string_tensor)\n",
    "    return tf.strings.regex_replace(\n",
    "        lowercase_string, f\"[{re.escape(string.punctuation)}]\", \"\"\n",
    "    )"
   ]
  },
  {
   "cell_type": "code",
   "execution_count": 24,
   "id": "90fd8647",
   "metadata": {
    "execution": {
     "iopub.execute_input": "2022-07-20T17:34:05.278826Z",
     "iopub.status.busy": "2022-07-20T17:34:05.277980Z",
     "iopub.status.idle": "2022-07-20T17:34:05.316258Z",
     "shell.execute_reply": "2022-07-20T17:34:05.315270Z"
    },
    "papermill": {
     "duration": 0.05354,
     "end_time": "2022-07-20T17:34:05.318685",
     "exception": false,
     "start_time": "2022-07-20T17:34:05.265145",
     "status": "completed"
    },
    "tags": []
   },
   "outputs": [],
   "source": [
    "from tensorflow.keras.layers.experimental.preprocessing import TextVectorization\n",
    "from keras.metrics import AUC\n",
    "from keras import optimizers, losses\n",
    "\n",
    "\n",
    "def get_lstm_model01(vocabCount):\n",
    "    #     print(f\"x_shape=\")\n",
    "    #     input_shape = (height, width, channels)\n",
    "    #     inputs = keras.Input(shape=(28, 28, 1))\n",
    "    vocab_size = 23_000\n",
    "    embed_size = 100\n",
    "    doc_length = vocabCount + 1\n",
    "    max_length = 15\n",
    "\n",
    "    #     text_vectorizer = TextVectorization(max_tokens=vocab_size,\n",
    "    #                                        standardize=custom_standardization_fn,\n",
    "    #                                            output_mode=\"int\",)\n",
    "    text_vectorizer = TextVectorization(output_mode=\"int\")\n",
    "    text_vectorizer.adapt(X_train.text)\n",
    "\n",
    "    embedding_layer = keras.layers.Embedding(\n",
    "        input_dim=vocab_size,  # set input shape\n",
    "        #         standardize=custom_standardization_fn,\n",
    "        #         split=\"whitespace\",\n",
    "        #         ngrams=None,\n",
    "        #         output_mode=\"int\",\n",
    "        output_dim=128,  # set size of embedding vector\n",
    "        embeddings_initializer=\"uniform\",  # default, intialize randomly\n",
    "        input_length=max_length,  # how long is each input\n",
    "        name=\"embedding_1\",\n",
    "    )\n",
    "\n",
    "    #     tf.keras.layers.TextVectorization(\n",
    "    #         max_tokens=None, standardize='lower_and_strip_punctuation',\n",
    "    #         split='whitespace', ngrams=None, output_mode='int',\n",
    "    #         output_sequence_length=None, pad_to_max_tokens=False, vocabulary=None,\n",
    "    #         idf_weights=None, sparse=False, ragged=False, **kwargs\n",
    "    # )\n",
    "\n",
    "    #     words_in_vocab = text_vectorizer.get_vocabulary()\n",
    "    #     print(f\"Vocab={words_in_vocab}\")\n",
    "    #     inputs = keras.Input((doc_length,))\n",
    "    text_input = keras.Input(shape=(1,), dtype=tf.string, name=\"text_input_layer\")\n",
    "    #     inputs = keras.Input(shape=(1,), name=\"text_input_layer\")\n",
    "    x = text_vectorizer(text_input)\n",
    "    #     embedding_layer = keras.layers.Embedding(\n",
    "    #         input_dim=vocabCount + 1, output_dim=64, input_length=31\n",
    "    #     )(x)\n",
    "    x = embedding_layer(x)\n",
    "    #     x = keras.layers.GlobalAveragePooling1D()(x)\n",
    "    #     x = keras.layers.MaxPooling2d((2, 2))(x)\n",
    "    #     x = keras.layers.Conv2D(\n",
    "    #         128, activation=\"relu\", padding=\"same\", kernel_initializer=\"he_normal\"\n",
    "    #     )(x)\n",
    "    #     x = keras.layers.Flatten()(x)\n",
    "    #     x = keras.layers.BatchNormalization()(x)\n",
    "\n",
    "    #     x = keras.layers.Dense(128, activation=\"relu\")(x)\n",
    "\n",
    "    #     x = keras.layers.Dense(64, activation=\"relu\")(x)\n",
    "    #     x = keras.layers.BatchNormalization()(x)\n",
    "    #     x = keras.layers.Dense(32, activation=\"relu\")(x)\n",
    "    #     x = keras.layers.BatchNormalization()(x)\n",
    "    #     x = keras.layers.Dropout(0.1)(x)\n",
    "    #     forward_layer = keras.layers.LSTM(100, return_sequences=True)\n",
    "    #     backward_layer = keras.layers.LSTM(\n",
    "    #         100, activation=\"relu\", return_sequences=True, go_backwards=True\n",
    "    #     )\n",
    "    #     x = keras.layers.Bidirectional(forward_layer, backward_layer=backward_layer)(x)\n",
    "\n",
    "    x = keras.layers.Bidirectional(keras.layers.LSTM(50))(x)\n",
    "    x = keras.layers.Dropout(0.5)(x)\n",
    "\n",
    "    #     x = keras.layers.LSTM(100, return_sequences=True)(x)\n",
    "    #     x = keras.layers.LSTM(200)(x)\n",
    "    x = keras.layers.Dense(64, activation=\"relu\")(x)\n",
    "\n",
    "    x = keras.layers.Dropout(0.5)(x)\n",
    "    outputs = keras.layers.Dense(1, activation=\"sigmoid\")(x)\n",
    "\n",
    "    model = keras.Model(text_input, outputs, name=\"Dense_Model\")\n",
    "\n",
    "    model.compile(\n",
    "        loss=\"binary_crossentropy\",\n",
    "        optimizer=\"adam\",\n",
    "        metrics=[\"accuracy\", AUC(name=\"auc\")],\n",
    "    )\n",
    "\n",
    "    #     model.compile(\n",
    "    #         optimizer=tf.keras.optimizers.Adam(learning_rate=0.01),\n",
    "    #         loss=\"accuracy\",\n",
    "    #     )\n",
    "\n",
    "    return model"
   ]
  },
  {
   "cell_type": "code",
   "execution_count": 25,
   "id": "7c840a5f",
   "metadata": {
    "execution": {
     "iopub.execute_input": "2022-07-20T17:34:05.345346Z",
     "iopub.status.busy": "2022-07-20T17:34:05.344454Z",
     "iopub.status.idle": "2022-07-20T17:34:05.352372Z",
     "shell.execute_reply": "2022-07-20T17:34:05.351402Z"
    },
    "papermill": {
     "duration": 0.023031,
     "end_time": "2022-07-20T17:34:05.354293",
     "exception": false,
     "start_time": "2022-07-20T17:34:05.331262",
     "status": "completed"
    },
    "tags": []
   },
   "outputs": [
    {
     "data": {
      "text/plain": [
       "4"
      ]
     },
     "execution_count": 25,
     "metadata": {},
     "output_type": "execute_result"
    }
   ],
   "source": [
    "X_train.shape[1]"
   ]
  },
  {
   "cell_type": "code",
   "execution_count": 26,
   "id": "63fb0303",
   "metadata": {
    "execution": {
     "iopub.execute_input": "2022-07-20T17:34:05.380205Z",
     "iopub.status.busy": "2022-07-20T17:34:05.379287Z",
     "iopub.status.idle": "2022-07-20T17:34:05.387278Z",
     "shell.execute_reply": "2022-07-20T17:34:05.386415Z"
    },
    "papermill": {
     "duration": 0.022767,
     "end_time": "2022-07-20T17:34:05.389099",
     "exception": false,
     "start_time": "2022-07-20T17:34:05.366332",
     "status": "completed"
    },
    "tags": []
   },
   "outputs": [
    {
     "data": {
      "text/plain": [
       "7613"
      ]
     },
     "execution_count": 26,
     "metadata": {},
     "output_type": "execute_result"
    }
   ],
   "source": [
    "X.shape[0]"
   ]
  },
  {
   "cell_type": "code",
   "execution_count": 27,
   "id": "27703ed7",
   "metadata": {
    "execution": {
     "iopub.execute_input": "2022-07-20T17:34:05.415785Z",
     "iopub.status.busy": "2022-07-20T17:34:05.414904Z",
     "iopub.status.idle": "2022-07-20T17:34:09.270234Z",
     "shell.execute_reply": "2022-07-20T17:34:09.269144Z"
    },
    "papermill": {
     "duration": 3.871608,
     "end_time": "2022-07-20T17:34:09.273168",
     "exception": false,
     "start_time": "2022-07-20T17:34:05.401560",
     "status": "completed"
    },
    "tags": []
   },
   "outputs": [
    {
     "name": "stderr",
     "output_type": "stream",
     "text": [
      "2022-07-20 17:34:05.507471: I tensorflow/stream_executor/cuda/cuda_gpu_executor.cc:937] successful NUMA node read from SysFS had negative value (-1), but there must be at least one NUMA node, so returning NUMA node zero\n",
      "2022-07-20 17:34:05.640214: I tensorflow/stream_executor/cuda/cuda_gpu_executor.cc:937] successful NUMA node read from SysFS had negative value (-1), but there must be at least one NUMA node, so returning NUMA node zero\n",
      "2022-07-20 17:34:05.641067: I tensorflow/stream_executor/cuda/cuda_gpu_executor.cc:937] successful NUMA node read from SysFS had negative value (-1), but there must be at least one NUMA node, so returning NUMA node zero\n",
      "2022-07-20 17:34:05.642792: I tensorflow/core/platform/cpu_feature_guard.cc:142] This TensorFlow binary is optimized with oneAPI Deep Neural Network Library (oneDNN) to use the following CPU instructions in performance-critical operations:  AVX2 AVX512F FMA\n",
      "To enable them in other operations, rebuild TensorFlow with the appropriate compiler flags.\n",
      "2022-07-20 17:34:05.643159: I tensorflow/stream_executor/cuda/cuda_gpu_executor.cc:937] successful NUMA node read from SysFS had negative value (-1), but there must be at least one NUMA node, so returning NUMA node zero\n",
      "2022-07-20 17:34:05.644104: I tensorflow/stream_executor/cuda/cuda_gpu_executor.cc:937] successful NUMA node read from SysFS had negative value (-1), but there must be at least one NUMA node, so returning NUMA node zero\n",
      "2022-07-20 17:34:05.644995: I tensorflow/stream_executor/cuda/cuda_gpu_executor.cc:937] successful NUMA node read from SysFS had negative value (-1), but there must be at least one NUMA node, so returning NUMA node zero\n",
      "2022-07-20 17:34:07.804559: I tensorflow/stream_executor/cuda/cuda_gpu_executor.cc:937] successful NUMA node read from SysFS had negative value (-1), but there must be at least one NUMA node, so returning NUMA node zero\n",
      "2022-07-20 17:34:07.805518: I tensorflow/stream_executor/cuda/cuda_gpu_executor.cc:937] successful NUMA node read from SysFS had negative value (-1), but there must be at least one NUMA node, so returning NUMA node zero\n",
      "2022-07-20 17:34:07.806275: I tensorflow/stream_executor/cuda/cuda_gpu_executor.cc:937] successful NUMA node read from SysFS had negative value (-1), but there must be at least one NUMA node, so returning NUMA node zero\n",
      "2022-07-20 17:34:07.806996: I tensorflow/core/common_runtime/gpu/gpu_device.cc:1510] Created device /job:localhost/replica:0/task:0/device:GPU:0 with 15403 MB memory:  -> device: 0, name: Tesla P100-PCIE-16GB, pci bus id: 0000:00:04.0, compute capability: 6.0\n",
      "2022-07-20 17:34:08.222178: I tensorflow/compiler/mlir/mlir_graph_optimization_pass.cc:185] None of the MLIR Optimization Passes are enabled (registered 2)\n"
     ]
    },
    {
     "name": "stdout",
     "output_type": "stream",
     "text": [
      "Model: \"Dense_Model\"\n",
      "_________________________________________________________________\n",
      "Layer (type)                 Output Shape              Param #   \n",
      "=================================================================\n",
      "text_input_layer (InputLayer [(None, 1)]               0         \n",
      "_________________________________________________________________\n",
      "text_vectorization (TextVect (None, None)              0         \n",
      "_________________________________________________________________\n",
      "embedding_1 (Embedding)      (None, None, 128)         2944000   \n",
      "_________________________________________________________________\n",
      "bidirectional (Bidirectional (None, 100)               71600     \n",
      "_________________________________________________________________\n",
      "dropout (Dropout)            (None, 100)               0         \n",
      "_________________________________________________________________\n",
      "dense (Dense)                (None, 64)                6464      \n",
      "_________________________________________________________________\n",
      "dropout_1 (Dropout)          (None, 64)                0         \n",
      "_________________________________________________________________\n",
      "dense_1 (Dense)              (None, 1)                 65        \n",
      "=================================================================\n",
      "Total params: 3,022,129\n",
      "Trainable params: 3,022,129\n",
      "Non-trainable params: 0\n",
      "_________________________________________________________________\n"
     ]
    }
   ],
   "source": [
    "model = get_lstm_model01(vocabCount)\n",
    "\n",
    "model.summary()"
   ]
  },
  {
   "cell_type": "code",
   "execution_count": 28,
   "id": "58850a7d",
   "metadata": {
    "execution": {
     "iopub.execute_input": "2022-07-20T17:34:09.301540Z",
     "iopub.status.busy": "2022-07-20T17:34:09.301246Z",
     "iopub.status.idle": "2022-07-20T17:34:10.236449Z",
     "shell.execute_reply": "2022-07-20T17:34:10.235332Z"
    },
    "papermill": {
     "duration": 0.951606,
     "end_time": "2022-07-20T17:34:10.238612",
     "exception": false,
     "start_time": "2022-07-20T17:34:09.287006",
     "status": "completed"
    },
    "tags": []
   },
   "outputs": [
    {
     "data": {
      "image/png": "[encoded data removed]",
      "text/plain": [
       "<IPython.core.display.Image object>"
      ]
     },
     "execution_count": 28,
     "metadata": {},
     "output_type": "execute_result"
    }
   ],
   "source": [
    "keras.utils.plot_model(model)"
   ]
  },
  {
   "cell_type": "code",
   "execution_count": 29,
   "id": "963d4e58",
   "metadata": {
    "execution": {
     "iopub.execute_input": "2022-07-20T17:34:10.266224Z",
     "iopub.status.busy": "2022-07-20T17:34:10.265558Z",
     "iopub.status.idle": "2022-07-20T17:34:10.276102Z",
     "shell.execute_reply": "2022-07-20T17:34:10.275155Z"
    },
    "papermill": {
     "duration": 0.027005,
     "end_time": "2022-07-20T17:34:10.278494",
     "exception": false,
     "start_time": "2022-07-20T17:34:10.251489",
     "status": "completed"
    },
    "tags": []
   },
   "outputs": [],
   "source": [
    "X_train = X_train.text\n",
    "X_valid = X_valid.text\n",
    "X_test = X_test.text"
   ]
  },
  {
   "cell_type": "code",
   "execution_count": 30,
   "id": "cbc30085",
   "metadata": {
    "execution": {
     "iopub.execute_input": "2022-07-20T17:34:10.306215Z",
     "iopub.status.busy": "2022-07-20T17:34:10.305891Z",
     "iopub.status.idle": "2022-07-20T17:34:10.317822Z",
     "shell.execute_reply": "2022-07-20T17:34:10.316790Z"
    },
    "papermill": {
     "duration": 0.028387,
     "end_time": "2022-07-20T17:34:10.320233",
     "exception": false,
     "start_time": "2022-07-20T17:34:10.291846",
     "status": "completed"
    },
    "tags": []
   },
   "outputs": [],
   "source": [
    "from keras.callbacks import *\n",
    "\n",
    "lr = ReduceLROnPlateau(\n",
    "    monitor=\"val_auc\", mode=\"max\", factor=0.7, patience=4, verbose=False\n",
    ")\n",
    "es = EarlyStopping(\n",
    "    monitor=\"val_auc\", mode=\"max\", patience=10, verbose=False, restore_best_weights=True\n",
    ")"
   ]
  },
  {
   "cell_type": "code",
   "execution_count": 31,
   "id": "344bcf34",
   "metadata": {
    "execution": {
     "iopub.execute_input": "2022-07-20T17:34:10.346877Z",
     "iopub.status.busy": "2022-07-20T17:34:10.346582Z",
     "iopub.status.idle": "2022-07-20T17:34:23.523171Z",
     "shell.execute_reply": "2022-07-20T17:34:23.522105Z"
    },
    "papermill": {
     "duration": 13.192538,
     "end_time": "2022-07-20T17:34:23.525492",
     "exception": false,
     "start_time": "2022-07-20T17:34:10.332954",
     "status": "completed"
    },
    "tags": []
   },
   "outputs": [
    {
     "name": "stdout",
     "output_type": "stream",
     "text": [
      "Epoch 1/10\n"
     ]
    },
    {
     "name": "stderr",
     "output_type": "stream",
     "text": [
      "2022-07-20 17:34:14.183240: I tensorflow/stream_executor/cuda/cuda_dnn.cc:369] Loaded cuDNN version 8005\n"
     ]
    },
    {
     "name": "stdout",
     "output_type": "stream",
     "text": [
      "43/43 [==============================] - 6s 30ms/step - loss: 0.6640 - accuracy: 0.5967 - auc: 0.6117 - val_loss: 0.5758 - val_accuracy: 0.7075 - val_auc: 0.8136\n",
      "Epoch 2/10\n",
      "43/43 [==============================] - 0s 11ms/step - loss: 0.4131 - accuracy: 0.8345 - auc: 0.8891 - val_loss: 0.4666 - val_accuracy: 0.7980 - val_auc: 0.8559\n",
      "Epoch 3/10\n",
      "43/43 [==============================] - 0s 11ms/step - loss: 0.1844 - accuracy: 0.9354 - auc: 0.9754 - val_loss: 0.5470 - val_accuracy: 0.7753 - val_auc: 0.8441\n",
      "Epoch 4/10\n",
      "43/43 [==============================] - 0s 11ms/step - loss: 0.0915 - accuracy: 0.9704 - auc: 0.9940 - val_loss: 0.7688 - val_accuracy: 0.7586 - val_auc: 0.8312\n",
      "Epoch 5/10\n",
      "43/43 [==============================] - 0s 12ms/step - loss: 0.0444 - accuracy: 0.9881 - auc: 0.9981 - val_loss: 0.9551 - val_accuracy: 0.7783 - val_auc: 0.8221\n",
      "Epoch 6/10\n",
      "43/43 [==============================] - 1s 17ms/step - loss: 0.0314 - accuracy: 0.9914 - auc: 0.9986 - val_loss: 0.9538 - val_accuracy: 0.7586 - val_auc: 0.8214\n",
      "Epoch 7/10\n",
      "43/43 [==============================] - 1s 12ms/step - loss: 0.0216 - accuracy: 0.9938 - auc: 0.9993 - val_loss: 1.0207 - val_accuracy: 0.7447 - val_auc: 0.8149\n",
      "Epoch 8/10\n",
      "43/43 [==============================] - 1s 12ms/step - loss: 0.0177 - accuracy: 0.9960 - auc: 0.9993 - val_loss: 1.3008 - val_accuracy: 0.7710 - val_auc: 0.8090\n",
      "Epoch 9/10\n",
      "43/43 [==============================] - 0s 12ms/step - loss: 0.0157 - accuracy: 0.9953 - auc: 0.9997 - val_loss: 1.1735 - val_accuracy: 0.7542 - val_auc: 0.8146\n",
      "Epoch 10/10\n",
      "43/43 [==============================] - 0s 12ms/step - loss: 0.0120 - accuracy: 0.9958 - auc: 0.9999 - val_loss: 1.3739 - val_accuracy: 0.7557 - val_auc: 0.8043\n",
      "CPU times: user 11.3 s, sys: 1.02 s, total: 12.4 s\n",
      "Wall time: 13.2 s\n"
     ]
    }
   ],
   "source": [
    "%%time\n",
    "\n",
    "history = model.fit(\n",
    "    X_train,\n",
    "    y_train,\n",
    "    batch_size=128,\n",
    "    epochs=10,\n",
    "    # Suppress logging.\n",
    "    verbose=1,\n",
    "    callbacks=[es,lr],\n",
    "    # Calculate validation results on 20% of the training data.\n",
    "    validation_split = 0.2\n",
    ")"
   ]
  },
  {
   "cell_type": "code",
   "execution_count": 32,
   "id": "71114c1c",
   "metadata": {
    "execution": {
     "iopub.execute_input": "2022-07-20T17:34:23.565818Z",
     "iopub.status.busy": "2022-07-20T17:34:23.564904Z",
     "iopub.status.idle": "2022-07-20T17:34:23.974342Z",
     "shell.execute_reply": "2022-07-20T17:34:23.973315Z"
    },
    "papermill": {
     "duration": 0.43178,
     "end_time": "2022-07-20T17:34:23.976450",
     "exception": false,
     "start_time": "2022-07-20T17:34:23.544670",
     "status": "completed"
    },
    "tags": []
   },
   "outputs": [
    {
     "data": {
      "image/png": "[encoded data removed]",
      "text/plain": [
       "<Figure size 432x288 with 1 Axes>"
      ]
     },
     "metadata": {
      "needs_background": "light"
     },
     "output_type": "display_data"
    },
    {
     "data": {
      "image/png": "[encoded data removed]",
      "text/plain": [
       "<Figure size 432x288 with 1 Axes>"
      ]
     },
     "metadata": {
      "needs_background": "light"
     },
     "output_type": "display_data"
    }
   ],
   "source": [
    "acc = history.history[\"accuracy\"]\n",
    "val_acc = history.history[\"val_accuracy\"]\n",
    "loss = history.history[\"loss\"]\n",
    "val_loss = history.history[\"val_loss\"]\n",
    "\n",
    "epochs = range(1, len(acc) + 1)\n",
    "\n",
    "plt.plot(epochs, acc, \"bo\", label=\"Training acc\")\n",
    "plt.plot(epochs, val_acc, \"b\", label=\"Validation acc\")\n",
    "plt.title(\"Training and validation accuracy\")\n",
    "plt.legend()\n",
    "\n",
    "plt.figure()\n",
    "\n",
    "plt.plot(epochs, loss, \"bo\", label=\"Training loss\")\n",
    "plt.plot(epochs, val_loss, \"b\", label=\"Validation loss\")\n",
    "plt.title(\"Training and validation loss\")\n",
    "plt.legend()\n",
    "\n",
    "plt.show()"
   ]
  },
  {
   "cell_type": "markdown",
   "id": "2bf03de6",
   "metadata": {
    "papermill": {
     "duration": 0.020348,
     "end_time": "2022-07-20T17:34:24.018185",
     "exception": false,
     "start_time": "2022-07-20T17:34:23.997837",
     "status": "completed"
    },
    "tags": []
   },
   "source": [
    "## Predict and Score"
   ]
  },
  {
   "cell_type": "code",
   "execution_count": 33,
   "id": "a27c899b",
   "metadata": {
    "execution": {
     "iopub.execute_input": "2022-07-20T17:34:24.061425Z",
     "iopub.status.busy": "2022-07-20T17:34:24.060742Z",
     "iopub.status.idle": "2022-07-20T17:34:24.246328Z",
     "shell.execute_reply": "2022-07-20T17:34:24.245336Z"
    },
    "papermill": {
     "duration": 0.209682,
     "end_time": "2022-07-20T17:34:24.248601",
     "exception": false,
     "start_time": "2022-07-20T17:34:24.038919",
     "status": "completed"
    },
    "tags": []
   },
   "outputs": [
    {
     "name": "stdout",
     "output_type": "stream",
     "text": [
      "24/24 [==============================] - 0s 5ms/step - loss: 1.3654 - accuracy: 0.7546 - auc: 0.8024\n"
     ]
    },
    {
     "data": {
      "text/plain": [
       "(0.7545931935310364, 0.8023697733879089)"
      ]
     },
     "execution_count": 33,
     "metadata": {},
     "output_type": "execute_result"
    }
   ],
   "source": [
    "test_loss, test_acc, test_auc = model.evaluate(X_valid, y_valid)\n",
    "test_acc, test_auc"
   ]
  },
  {
   "cell_type": "code",
   "execution_count": 34,
   "id": "e393aaf3",
   "metadata": {
    "execution": {
     "iopub.execute_input": "2022-07-20T17:34:24.292126Z",
     "iopub.status.busy": "2022-07-20T17:34:24.291680Z",
     "iopub.status.idle": "2022-07-20T17:34:24.993883Z",
     "shell.execute_reply": "2022-07-20T17:34:24.992889Z"
    },
    "papermill": {
     "duration": 0.727153,
     "end_time": "2022-07-20T17:34:24.996222",
     "exception": false,
     "start_time": "2022-07-20T17:34:24.269069",
     "status": "completed"
    },
    "tags": []
   },
   "outputs": [
    {
     "data": {
      "text/plain": [
       "array([[4.0348070e-05],\n",
       "       [8.5810060e-04],\n",
       "       [6.1439949e-01],\n",
       "       [1.2972956e-07],\n",
       "       [1.4623418e-03]], dtype=float32)"
      ]
     },
     "execution_count": 34,
     "metadata": {},
     "output_type": "execute_result"
    }
   ],
   "source": [
    "valid_preds = model.predict(X_valid)\n",
    "valid_preds[:5]"
   ]
  },
  {
   "cell_type": "code",
   "execution_count": 35,
   "id": "894a6fda",
   "metadata": {
    "execution": {
     "iopub.execute_input": "2022-07-20T17:34:25.040531Z",
     "iopub.status.busy": "2022-07-20T17:34:25.039530Z",
     "iopub.status.idle": "2022-07-20T17:34:25.049039Z",
     "shell.execute_reply": "2022-07-20T17:34:25.048069Z"
    },
    "papermill": {
     "duration": 0.033834,
     "end_time": "2022-07-20T17:34:25.051190",
     "exception": false,
     "start_time": "2022-07-20T17:34:25.017356",
     "status": "completed"
    },
    "tags": []
   },
   "outputs": [
    {
     "data": {
      "text/plain": [
       "array([[4.0348070e-05],\n",
       "       [8.5810060e-04],\n",
       "       [6.1439949e-01],\n",
       "       [1.2972956e-07],\n",
       "       [1.4623418e-03]], dtype=float32)"
      ]
     },
     "execution_count": 35,
     "metadata": {},
     "output_type": "execute_result"
    }
   ],
   "source": [
    "valid_preds[:5]"
   ]
  },
  {
   "cell_type": "code",
   "execution_count": 36,
   "id": "4c4181e9",
   "metadata": {
    "execution": {
     "iopub.execute_input": "2022-07-20T17:34:25.093458Z",
     "iopub.status.busy": "2022-07-20T17:34:25.093098Z",
     "iopub.status.idle": "2022-07-20T17:34:25.102229Z",
     "shell.execute_reply": "2022-07-20T17:34:25.101214Z"
    },
    "papermill": {
     "duration": 0.03258,
     "end_time": "2022-07-20T17:34:25.104444",
     "exception": false,
     "start_time": "2022-07-20T17:34:25.071864",
     "status": "completed"
    },
    "tags": []
   },
   "outputs": [
    {
     "data": {
      "text/plain": [
       "array([4.0348070e-05, 8.5810060e-04, 6.1439949e-01, 1.2972956e-07,\n",
       "       1.4623418e-03, 9.5177716e-01, 1.2736929e-05, 9.2899394e-01,\n",
       "       1.8939257e-02, 9.9974459e-01], dtype=float32)"
      ]
     },
     "execution_count": 36,
     "metadata": {},
     "output_type": "execute_result"
    }
   ],
   "source": [
    "valid_preds.squeeze()[:10]"
   ]
  },
  {
   "cell_type": "code",
   "execution_count": 37,
   "id": "79d0a3b5",
   "metadata": {
    "execution": {
     "iopub.execute_input": "2022-07-20T17:34:25.147355Z",
     "iopub.status.busy": "2022-07-20T17:34:25.147005Z",
     "iopub.status.idle": "2022-07-20T17:34:25.155471Z",
     "shell.execute_reply": "2022-07-20T17:34:25.154557Z"
    },
    "papermill": {
     "duration": 0.032189,
     "end_time": "2022-07-20T17:34:25.157563",
     "exception": false,
     "start_time": "2022-07-20T17:34:25.125374",
     "status": "completed"
    },
    "tags": []
   },
   "outputs": [
    {
     "data": {
      "text/plain": [
       "array([4.0348070e-05, 8.5810060e-04, 6.1439949e-01, 1.2972956e-07,\n",
       "       1.4623418e-03, 9.5177716e-01, 1.2736929e-05, 9.2899394e-01,\n",
       "       1.8939257e-02, 9.9974459e-01], dtype=float32)"
      ]
     },
     "execution_count": 37,
     "metadata": {},
     "output_type": "execute_result"
    }
   ],
   "source": [
    "valid_preds.ravel()[:10]"
   ]
  },
  {
   "cell_type": "code",
   "execution_count": 38,
   "id": "7e080ecf",
   "metadata": {
    "execution": {
     "iopub.execute_input": "2022-07-20T17:34:25.200358Z",
     "iopub.status.busy": "2022-07-20T17:34:25.199999Z",
     "iopub.status.idle": "2022-07-20T17:34:25.206322Z",
     "shell.execute_reply": "2022-07-20T17:34:25.205297Z"
    },
    "papermill": {
     "duration": 0.030768,
     "end_time": "2022-07-20T17:34:25.208741",
     "exception": false,
     "start_time": "2022-07-20T17:34:25.177973",
     "status": "completed"
    },
    "tags": []
   },
   "outputs": [],
   "source": [
    "valid_preds = np.argmax(valid_preds, axis=1)"
   ]
  },
  {
   "cell_type": "code",
   "execution_count": 39,
   "id": "aed9d60e",
   "metadata": {
    "execution": {
     "iopub.execute_input": "2022-07-20T17:34:25.250459Z",
     "iopub.status.busy": "2022-07-20T17:34:25.250101Z",
     "iopub.status.idle": "2022-07-20T17:34:25.255086Z",
     "shell.execute_reply": "2022-07-20T17:34:25.254073Z"
    },
    "papermill": {
     "duration": 0.0283,
     "end_time": "2022-07-20T17:34:25.257178",
     "exception": false,
     "start_time": "2022-07-20T17:34:25.228878",
     "status": "completed"
    },
    "tags": []
   },
   "outputs": [],
   "source": [
    "# show_scores(y_valid, valid_preds)"
   ]
  },
  {
   "cell_type": "code",
   "execution_count": 40,
   "id": "c838709e",
   "metadata": {
    "execution": {
     "iopub.execute_input": "2022-07-20T17:34:25.299827Z",
     "iopub.status.busy": "2022-07-20T17:34:25.299489Z",
     "iopub.status.idle": "2022-07-20T17:34:25.642464Z",
     "shell.execute_reply": "2022-07-20T17:34:25.641363Z"
    },
    "papermill": {
     "duration": 0.367087,
     "end_time": "2022-07-20T17:34:25.644796",
     "exception": false,
     "start_time": "2022-07-20T17:34:25.277709",
     "status": "completed"
    },
    "tags": []
   },
   "outputs": [
    {
     "data": {
      "text/plain": [
       "array([0.6863261 , 0.00219857, 0.9999565 , 0.8088125 , 0.99998045],\n",
       "      dtype=float32)"
      ]
     },
     "execution_count": 40,
     "metadata": {},
     "output_type": "execute_result"
    }
   ],
   "source": [
    "preds = model.predict(X_test).ravel()\n",
    "preds[:5]"
   ]
  },
  {
   "cell_type": "code",
   "execution_count": 41,
   "id": "8ce385a6",
   "metadata": {
    "execution": {
     "iopub.execute_input": "2022-07-20T17:34:25.687462Z",
     "iopub.status.busy": "2022-07-20T17:34:25.687084Z",
     "iopub.status.idle": "2022-07-20T17:34:25.697433Z",
     "shell.execute_reply": "2022-07-20T17:34:25.696363Z"
    },
    "papermill": {
     "duration": 0.034047,
     "end_time": "2022-07-20T17:34:25.699629",
     "exception": false,
     "start_time": "2022-07-20T17:34:25.665582",
     "status": "completed"
    },
    "tags": []
   },
   "outputs": [
    {
     "data": {
      "text/plain": [
       "array([0, 1])"
      ]
     },
     "execution_count": 41,
     "metadata": {},
     "output_type": "execute_result"
    }
   ],
   "source": [
    "preds = (preds > 0.5).astype(int)\n",
    "np.unique(preds)"
   ]
  },
  {
   "cell_type": "code",
   "execution_count": 42,
   "id": "878bf555",
   "metadata": {
    "execution": {
     "iopub.execute_input": "2022-07-20T17:34:25.742572Z",
     "iopub.status.busy": "2022-07-20T17:34:25.742200Z",
     "iopub.status.idle": "2022-07-20T17:34:25.748428Z",
     "shell.execute_reply": "2022-07-20T17:34:25.747567Z"
    },
    "papermill": {
     "duration": 0.029692,
     "end_time": "2022-07-20T17:34:25.750348",
     "exception": false,
     "start_time": "2022-07-20T17:34:25.720656",
     "status": "completed"
    },
    "tags": []
   },
   "outputs": [],
   "source": [
    "# preds = np.argmax(preds, axis=1)"
   ]
  },
  {
   "cell_type": "markdown",
   "id": "ad3daa50",
   "metadata": {
    "papermill": {
     "duration": 0.020875,
     "end_time": "2022-07-20T17:34:25.791675",
     "exception": false,
     "start_time": "2022-07-20T17:34:25.770800",
     "status": "completed"
    },
    "tags": []
   },
   "source": [
    "## Submission"
   ]
  },
  {
   "cell_type": "code",
   "execution_count": 43,
   "id": "5808d395",
   "metadata": {
    "execution": {
     "iopub.execute_input": "2022-07-20T17:34:25.834365Z",
     "iopub.status.busy": "2022-07-20T17:34:25.833297Z",
     "iopub.status.idle": "2022-07-20T17:34:25.852942Z",
     "shell.execute_reply": "2022-07-20T17:34:25.851825Z"
    },
    "papermill": {
     "duration": 0.043533,
     "end_time": "2022-07-20T17:34:25.855547",
     "exception": false,
     "start_time": "2022-07-20T17:34:25.812014",
     "status": "completed"
    },
    "tags": []
   },
   "outputs": [
    {
     "data": {
      "text/html": [
       "<div>\n",
       "<style scoped>\n",
       "    .dataframe tbody tr th:only-of-type {\n",
       "        vertical-align: middle;\n",
       "    }\n",
       "\n",
       "    .dataframe tbody tr th {\n",
       "        vertical-align: top;\n",
       "    }\n",
       "\n",
       "    .dataframe thead th {\n",
       "        text-align: right;\n",
       "    }\n",
       "</style>\n",
       "<table border=\"1\" class=\"dataframe\">\n",
       "  <thead>\n",
       "    <tr style=\"text-align: right;\">\n",
       "      <th></th>\n",
       "      <th>id</th>\n",
       "      <th>target</th>\n",
       "    </tr>\n",
       "  </thead>\n",
       "  <tbody>\n",
       "    <tr>\n",
       "      <th>0</th>\n",
       "      <td>0</td>\n",
       "      <td>1</td>\n",
       "    </tr>\n",
       "    <tr>\n",
       "      <th>1</th>\n",
       "      <td>2</td>\n",
       "      <td>0</td>\n",
       "    </tr>\n",
       "    <tr>\n",
       "      <th>2</th>\n",
       "      <td>3</td>\n",
       "      <td>1</td>\n",
       "    </tr>\n",
       "    <tr>\n",
       "      <th>3</th>\n",
       "      <td>9</td>\n",
       "      <td>1</td>\n",
       "    </tr>\n",
       "    <tr>\n",
       "      <th>4</th>\n",
       "      <td>11</td>\n",
       "      <td>1</td>\n",
       "    </tr>\n",
       "  </tbody>\n",
       "</table>\n",
       "</div>"
      ],
      "text/plain": [
       "   id  target\n",
       "0   0       1\n",
       "1   2       0\n",
       "2   3       1\n",
       "3   9       1\n",
       "4  11       1"
      ]
     },
     "execution_count": 43,
     "metadata": {},
     "output_type": "execute_result"
    }
   ],
   "source": [
    "# Different TARGET name used in test.csv\n",
    "ss = create_submission(\"\", TARGET, preds)\n",
    "ss[:5]"
   ]
  },
  {
   "cell_type": "code",
   "execution_count": 44,
   "id": "d03c4d0a",
   "metadata": {
    "execution": {
     "iopub.execute_input": "2022-07-20T17:34:25.899071Z",
     "iopub.status.busy": "2022-07-20T17:34:25.898429Z",
     "iopub.status.idle": "2022-07-20T17:34:25.909331Z",
     "shell.execute_reply": "2022-07-20T17:34:25.908338Z"
    },
    "papermill": {
     "duration": 0.034521,
     "end_time": "2022-07-20T17:34:25.911309",
     "exception": false,
     "start_time": "2022-07-20T17:34:25.876788",
     "status": "completed"
    },
    "tags": []
   },
   "outputs": [
    {
     "data": {
      "text/plain": [
       "0    1846\n",
       "1    1417\n",
       "Name: target, dtype: int64"
      ]
     },
     "execution_count": 44,
     "metadata": {},
     "output_type": "execute_result"
    }
   ],
   "source": [
    "ss[TARGET].value_counts()"
   ]
  },
  {
   "cell_type": "code",
   "execution_count": null,
   "id": "5ef0326d",
   "metadata": {
    "papermill": {
     "duration": 0.019813,
     "end_time": "2022-07-20T17:34:25.951192",
     "exception": false,
     "start_time": "2022-07-20T17:34:25.931379",
     "status": "completed"
    },
    "tags": []
   },
   "outputs": [],
   "source": []
  }
 ],
 "metadata": {
  "kernelspec": {
   "display_name": "Python 3",
   "language": "python",
   "name": "python3"
  },
  "language_info": {
   "codemirror_mode": {
    "name": "ipython",
    "version": 3
   },
   "file_extension": ".py",
   "mimetype": "text/x-python",
   "name": "python",
   "nbconvert_exporter": "python",
   "pygments_lexer": "ipython3",
   "version": "3.7.12"
  },
  "papermill": {
   "default_parameters": {},
   "duration": 53.367611,
   "end_time": "2022-07-20T17:34:29.041717",
   "environment_variables": {},
   "exception": null,
   "input_path": "__notebook__.ipynb",
   "output_path": "__notebook__.ipynb",
   "parameters": {},
   "start_time": "2022-07-20T17:33:35.674106",
   "version": "2.3.4"
  }
 },
 "nbformat": 4,
 "nbformat_minor": 5
}
