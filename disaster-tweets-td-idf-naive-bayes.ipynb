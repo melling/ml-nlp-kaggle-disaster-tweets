{
 "cells": [
  {
   "cell_type": "markdown",
   "id": "605ad872",
   "metadata": {
    "papermill": {
     "duration": 0.005341,
     "end_time": "2022-07-04T19:39:57.082458",
     "exception": false,
     "start_time": "2022-07-04T19:39:57.077117",
     "status": "completed"
    },
    "tags": []
   },
   "source": [
    "# Disaster Tweets"
   ]
  },
  {
   "cell_type": "code",
   "execution_count": 1,
   "id": "213fd9ec",
   "metadata": {
    "execution": {
     "iopub.execute_input": "2022-07-04T19:39:57.094881Z",
     "iopub.status.busy": "2022-07-04T19:39:57.093840Z",
     "iopub.status.idle": "2022-07-04T19:40:12.303541Z",
     "shell.execute_reply": "2022-07-04T19:40:12.302081Z"
    },
    "papermill": {
     "duration": 15.219768,
     "end_time": "2022-07-04T19:40:12.306816",
     "exception": false,
     "start_time": "2022-07-04T19:39:57.087048",
     "status": "completed"
    },
    "tags": []
   },
   "outputs": [
    {
     "name": "stdout",
     "output_type": "stream",
     "text": [
      "\u001b[33mWARNING: Running pip as the 'root' user can result in broken permissions and conflicting behaviour with the system package manager. It is recommended to use a virtual environment instead: https://pip.pypa.io/warnings/venv\u001b[0m\u001b[33m\r\n",
      "\u001b[0m"
     ]
    }
   ],
   "source": [
    "# Black formatter https://black.readthedocs.io/en/stable/\n",
    "\n",
    "! pip install nb-black > /dev/null\n",
    "\n",
    "%load_ext lab_black"
   ]
  },
  {
   "cell_type": "markdown",
   "id": "e5974990",
   "metadata": {
    "papermill": {
     "duration": 0.004248,
     "end_time": "2022-07-04T19:40:12.316208",
     "exception": false,
     "start_time": "2022-07-04T19:40:12.311960",
     "status": "completed"
    },
    "tags": []
   },
   "source": [
    "<div style=\"background-color:rgba(128, 0, 128, 0.6);border-radius:5px;display:fill\"><h1 style=\"text-align: center;padding: 12px 0px 12px 0px;\">Configuration</h1>\n",
    "</div>"
   ]
  },
  {
   "cell_type": "code",
   "execution_count": 2,
   "id": "d212a6c4",
   "metadata": {
    "execution": {
     "iopub.execute_input": "2022-07-04T19:40:12.328553Z",
     "iopub.status.busy": "2022-07-04T19:40:12.328159Z",
     "iopub.status.idle": "2022-07-04T19:40:12.337345Z",
     "shell.execute_reply": "2022-07-04T19:40:12.336389Z"
    },
    "papermill": {
     "duration": 0.017787,
     "end_time": "2022-07-04T19:40:12.339794",
     "exception": false,
     "start_time": "2022-07-04T19:40:12.322007",
     "status": "completed"
    },
    "tags": []
   },
   "outputs": [],
   "source": [
    "TARGET = \"target\""
   ]
  },
  {
   "cell_type": "markdown",
   "id": "51afa429",
   "metadata": {
    "papermill": {
     "duration": 0.004223,
     "end_time": "2022-07-04T19:40:12.348775",
     "exception": false,
     "start_time": "2022-07-04T19:40:12.344552",
     "status": "completed"
    },
    "tags": []
   },
   "source": [
    "<div style=\"background-color:rgba(128, 0, 128, 0.6);border-radius:5px;display:fill\"><h1 style=\"text-align: center;padding: 12px 0px 12px 0px;\">Import Libraries</h1>\n",
    "</div>\n",
    "\n",
    "A best practise is to include all libraries here.  However, I will put a few imports farther down where they are first used so beginners can learn with an \"as needed\" approach."
   ]
  },
  {
   "cell_type": "code",
   "execution_count": 3,
   "id": "d99d32a8",
   "metadata": {
    "execution": {
     "iopub.execute_input": "2022-07-04T19:40:12.360958Z",
     "iopub.status.busy": "2022-07-04T19:40:12.360524Z",
     "iopub.status.idle": "2022-07-04T19:40:13.749033Z",
     "shell.execute_reply": "2022-07-04T19:40:13.747411Z"
    },
    "papermill": {
     "duration": 1.398805,
     "end_time": "2022-07-04T19:40:13.752044",
     "exception": false,
     "start_time": "2022-07-04T19:40:12.353239",
     "status": "completed"
    },
    "tags": []
   },
   "outputs": [],
   "source": [
    "import os\n",
    "import time\n",
    "from pathlib import Path\n",
    "\n",
    "import pandas as pd\n",
    "import numpy as np\n",
    "\n",
    "from sklearn.model_selection import train_test_split"
   ]
  },
  {
   "cell_type": "markdown",
   "id": "f0313f03",
   "metadata": {
    "papermill": {
     "duration": 0.004324,
     "end_time": "2022-07-04T19:40:13.761436",
     "exception": false,
     "start_time": "2022-07-04T19:40:13.757112",
     "status": "completed"
    },
    "tags": []
   },
   "source": [
    "<div style=\"background-color:rgba(128, 0, 128, 0.6);border-radius:5px;display:fill\"><h1 style=\"text-align: center;padding: 12px 0px 12px 0px;\">Library</h1>\n",
    "</div>\n",
    "\n",
    "Creating a few functions that we will reuse in each project."
   ]
  },
  {
   "cell_type": "code",
   "execution_count": 4,
   "id": "3dcea869",
   "metadata": {
    "execution": {
     "iopub.execute_input": "2022-07-04T19:40:13.772150Z",
     "iopub.status.busy": "2022-07-04T19:40:13.771711Z",
     "iopub.status.idle": "2022-07-04T19:40:13.785955Z",
     "shell.execute_reply": "2022-07-04T19:40:13.784112Z"
    },
    "papermill": {
     "duration": 0.023061,
     "end_time": "2022-07-04T19:40:13.788902",
     "exception": false,
     "start_time": "2022-07-04T19:40:13.765841",
     "status": "completed"
    },
    "tags": []
   },
   "outputs": [],
   "source": [
    "def read_data(path):\n",
    "    data_dir = Path(path)\n",
    "\n",
    "    train = pd.read_csv(data_dir / \"train.csv\")\n",
    "    test = pd.read_csv(data_dir / \"test.csv\")\n",
    "    submission_df = pd.read_csv(data_dir / \"sample_submission.csv\")\n",
    "\n",
    "    print(f\"train data: Rows={train.shape[0]}, Columns={train.shape[1]}\")\n",
    "    print(f\"test data : Rows={test.shape[0]}, Columns={test.shape[1]}\")\n",
    "    return train, test, submission_df"
   ]
  },
  {
   "cell_type": "code",
   "execution_count": 5,
   "id": "475c31b2",
   "metadata": {
    "execution": {
     "iopub.execute_input": "2022-07-04T19:40:13.799694Z",
     "iopub.status.busy": "2022-07-04T19:40:13.799310Z",
     "iopub.status.idle": "2022-07-04T19:40:13.813585Z",
     "shell.execute_reply": "2022-07-04T19:40:13.812395Z"
    },
    "papermill": {
     "duration": 0.023473,
     "end_time": "2022-07-04T19:40:13.816737",
     "exception": false,
     "start_time": "2022-07-04T19:40:13.793264",
     "status": "completed"
    },
    "tags": []
   },
   "outputs": [],
   "source": [
    "def create_submission(model_name, target, preds, is_log_target=False):\n",
    "    if is_log_target:\n",
    "        #         preds = np.exp(preds)\n",
    "        preds = np.expm1(preds)\n",
    "\n",
    "    sample_submission[target] = preds\n",
    "    if len(model_name) > 0:\n",
    "        sample_submission.to_csv(f\"submission_{model_name}.csv\", index=False)\n",
    "    else:\n",
    "        sample_submission.to_csv(f\"submission.csv\", index=False)\n",
    "\n",
    "    return sample_submission[:5]"
   ]
  },
  {
   "cell_type": "code",
   "execution_count": 6,
   "id": "3e5e05d7",
   "metadata": {
    "execution": {
     "iopub.execute_input": "2022-07-04T19:40:13.828875Z",
     "iopub.status.busy": "2022-07-04T19:40:13.828454Z",
     "iopub.status.idle": "2022-07-04T19:40:13.843480Z",
     "shell.execute_reply": "2022-07-04T19:40:13.842177Z"
    },
    "papermill": {
     "duration": 0.023979,
     "end_time": "2022-07-04T19:40:13.846112",
     "exception": false,
     "start_time": "2022-07-04T19:40:13.822133",
     "status": "completed"
    },
    "tags": []
   },
   "outputs": [],
   "source": [
    "from sklearn.metrics import accuracy_score, precision_score, recall_score, f1_score\n",
    "\n",
    "\n",
    "def show_scores(gt, yhat):\n",
    "    accuracy = accuracy_score(gt, yhat)\n",
    "    precision = precision_score(gt, yhat)\n",
    "    recall = recall_score(gt, yhat)\n",
    "    f1 = f1_score(gt, yhat)\n",
    "\n",
    "    print(f\"Accuracy: {accuracy:.4f}\")\n",
    "    print(f\"Precision: {precision:.4f}\")\n",
    "    print(f\"Recall: {recall:.4f}\")\n",
    "    print(f\"f1: {f1:.4f}\")"
   ]
  },
  {
   "cell_type": "markdown",
   "id": "7fcb7665",
   "metadata": {
    "papermill": {
     "duration": 0.004498,
     "end_time": "2022-07-04T19:40:13.855031",
     "exception": false,
     "start_time": "2022-07-04T19:40:13.850533",
     "status": "completed"
    },
    "tags": []
   },
   "source": [
    "<div style=\"background-color:rgba(128, 0, 128, 0.6);border-radius:5px;display:fill\"><h1 style=\"text-align: center;padding: 12px 0px 12px 0px;\">Load Train/Test Data</h1>\n",
    "</div>\n",
    "\n",
    "- train.csv - Data used to build our machine learning model\n",
    "- test.csv - Data used to build our machine learning model. Does not contain the target variable\n",
    "- sample_submission.csv - A file in the proper format to submit test predictions"
   ]
  },
  {
   "cell_type": "code",
   "execution_count": 7,
   "id": "855c6a73",
   "metadata": {
    "execution": {
     "iopub.execute_input": "2022-07-04T19:40:13.865560Z",
     "iopub.status.busy": "2022-07-04T19:40:13.865191Z",
     "iopub.status.idle": "2022-07-04T19:40:13.951894Z",
     "shell.execute_reply": "2022-07-04T19:40:13.950086Z"
    },
    "papermill": {
     "duration": 0.095986,
     "end_time": "2022-07-04T19:40:13.955429",
     "exception": false,
     "start_time": "2022-07-04T19:40:13.859443",
     "status": "completed"
    },
    "tags": []
   },
   "outputs": [
    {
     "name": "stdout",
     "output_type": "stream",
     "text": [
      "train data: Rows=7613, Columns=5\n",
      "test data : Rows=3263, Columns=4\n"
     ]
    }
   ],
   "source": [
    "train, test, sample_submission = read_data(\"../input/nlp-getting-started/\")"
   ]
  },
  {
   "cell_type": "code",
   "execution_count": 8,
   "id": "e73590ba",
   "metadata": {
    "execution": {
     "iopub.execute_input": "2022-07-04T19:40:13.967391Z",
     "iopub.status.busy": "2022-07-04T19:40:13.966263Z",
     "iopub.status.idle": "2022-07-04T19:40:13.994825Z",
     "shell.execute_reply": "2022-07-04T19:40:13.993529Z"
    },
    "papermill": {
     "duration": 0.036967,
     "end_time": "2022-07-04T19:40:13.997400",
     "exception": false,
     "start_time": "2022-07-04T19:40:13.960433",
     "status": "completed"
    },
    "tags": []
   },
   "outputs": [
    {
     "data": {
      "text/html": [
       "<div>\n",
       "<style scoped>\n",
       "    .dataframe tbody tr th:only-of-type {\n",
       "        vertical-align: middle;\n",
       "    }\n",
       "\n",
       "    .dataframe tbody tr th {\n",
       "        vertical-align: top;\n",
       "    }\n",
       "\n",
       "    .dataframe thead th {\n",
       "        text-align: right;\n",
       "    }\n",
       "</style>\n",
       "<table border=\"1\" class=\"dataframe\">\n",
       "  <thead>\n",
       "    <tr style=\"text-align: right;\">\n",
       "      <th></th>\n",
       "      <th>id</th>\n",
       "      <th>keyword</th>\n",
       "      <th>location</th>\n",
       "      <th>text</th>\n",
       "      <th>target</th>\n",
       "    </tr>\n",
       "  </thead>\n",
       "  <tbody>\n",
       "    <tr>\n",
       "      <th>4228</th>\n",
       "      <td>6003</td>\n",
       "      <td>hazardous</td>\n",
       "      <td>United States</td>\n",
       "      <td>JKL issues Hazardous Weather Outlook (HWO)  ht...</td>\n",
       "      <td>1</td>\n",
       "    </tr>\n",
       "    <tr>\n",
       "      <th>2341</th>\n",
       "      <td>3368</td>\n",
       "      <td>demolition</td>\n",
       "      <td>NaN</td>\n",
       "      <td>No civilian population ever deserves demolitio...</td>\n",
       "      <td>1</td>\n",
       "    </tr>\n",
       "    <tr>\n",
       "      <th>2039</th>\n",
       "      <td>2927</td>\n",
       "      <td>danger</td>\n",
       "      <td>Spinning through time.</td>\n",
       "      <td>@riverroaming 'And not too much danger please.'</td>\n",
       "      <td>0</td>\n",
       "    </tr>\n",
       "    <tr>\n",
       "      <th>6498</th>\n",
       "      <td>9290</td>\n",
       "      <td>sunk</td>\n",
       "      <td>NaN</td>\n",
       "      <td>The Seven Seas - Wreck of the Giannis D. sunk ...</td>\n",
       "      <td>1</td>\n",
       "    </tr>\n",
       "    <tr>\n",
       "      <th>4218</th>\n",
       "      <td>5991</td>\n",
       "      <td>hazardous</td>\n",
       "      <td>NaN</td>\n",
       "      <td>http://t.co/7AzE4IoGMe Risk Assessment and Opt...</td>\n",
       "      <td>0</td>\n",
       "    </tr>\n",
       "  </tbody>\n",
       "</table>\n",
       "</div>"
      ],
      "text/plain": [
       "        id     keyword                location  \\\n",
       "4228  6003   hazardous           United States   \n",
       "2341  3368  demolition                     NaN   \n",
       "2039  2927      danger  Spinning through time.   \n",
       "6498  9290        sunk                     NaN   \n",
       "4218  5991   hazardous                     NaN   \n",
       "\n",
       "                                                   text  target  \n",
       "4228  JKL issues Hazardous Weather Outlook (HWO)  ht...       1  \n",
       "2341  No civilian population ever deserves demolitio...       1  \n",
       "2039    @riverroaming 'And not too much danger please.'       0  \n",
       "6498  The Seven Seas - Wreck of the Giannis D. sunk ...       1  \n",
       "4218  http://t.co/7AzE4IoGMe Risk Assessment and Opt...       0  "
      ]
     },
     "execution_count": 8,
     "metadata": {},
     "output_type": "execute_result"
    }
   ],
   "source": [
    "train.sample(5)"
   ]
  },
  {
   "cell_type": "code",
   "execution_count": 9,
   "id": "5b12882c",
   "metadata": {
    "execution": {
     "iopub.execute_input": "2022-07-04T19:40:14.010369Z",
     "iopub.status.busy": "2022-07-04T19:40:14.009447Z",
     "iopub.status.idle": "2022-07-04T19:40:14.027562Z",
     "shell.execute_reply": "2022-07-04T19:40:14.026206Z"
    },
    "papermill": {
     "duration": 0.027474,
     "end_time": "2022-07-04T19:40:14.030180",
     "exception": false,
     "start_time": "2022-07-04T19:40:14.002706",
     "status": "completed"
    },
    "tags": []
   },
   "outputs": [],
   "source": [
    "FEATURES = [\"text\"]\n",
    "\n",
    "y = train[TARGET]\n",
    "X = train[FEATURES].copy()\n",
    "\n",
    "X_test = test[FEATURES].copy()"
   ]
  },
  {
   "cell_type": "code",
   "execution_count": 10,
   "id": "d6d22267",
   "metadata": {
    "execution": {
     "iopub.execute_input": "2022-07-04T19:40:14.043404Z",
     "iopub.status.busy": "2022-07-04T19:40:14.041551Z",
     "iopub.status.idle": "2022-07-04T19:40:14.057680Z",
     "shell.execute_reply": "2022-07-04T19:40:14.056433Z"
    },
    "papermill": {
     "duration": 0.024707,
     "end_time": "2022-07-04T19:40:14.060000",
     "exception": false,
     "start_time": "2022-07-04T19:40:14.035293",
     "status": "completed"
    },
    "tags": []
   },
   "outputs": [
    {
     "data": {
      "text/plain": [
       "((6090, 1), (6090,), (1523, 1), (1523,))"
      ]
     },
     "execution_count": 10,
     "metadata": {},
     "output_type": "execute_result"
    }
   ],
   "source": [
    "X_train, X_valid, y_train, y_valid = train_test_split(\n",
    "    X,\n",
    "    y,\n",
    "    test_size=0.2,  # Save 20% for validation\n",
    "    random_state=42,  # Make the split deterministic\n",
    ")\n",
    "X_train.shape, y_train.shape, X_valid.shape, y_valid.shape"
   ]
  },
  {
   "cell_type": "code",
   "execution_count": 11,
   "id": "1290458b",
   "metadata": {
    "execution": {
     "iopub.execute_input": "2022-07-04T19:40:14.072486Z",
     "iopub.status.busy": "2022-07-04T19:40:14.071199Z",
     "iopub.status.idle": "2022-07-04T19:40:18.564937Z",
     "shell.execute_reply": "2022-07-04T19:40:18.563555Z"
    },
    "papermill": {
     "duration": 4.502955,
     "end_time": "2022-07-04T19:40:18.567891",
     "exception": false,
     "start_time": "2022-07-04T19:40:14.064936",
     "status": "completed"
    },
    "tags": []
   },
   "outputs": [],
   "source": [
    "import nltk\n",
    "from nltk.tokenize import word_tokenize\n",
    "from sklearn.feature_extraction.text import TfidfVectorizer\n",
    "\n",
    "tfidf = TfidfVectorizer(tokenizer=word_tokenize, token_pattern=None)\n",
    "tfidf.fit(X_train.text)\n",
    "\n",
    "train_sequences = tfidf.transform(X_train.text)\n",
    "valid_sequences = tfidf.transform(X_valid.text)\n",
    "test_sequences = tfidf.transform(X_test.text)"
   ]
  },
  {
   "cell_type": "code",
   "execution_count": 12,
   "id": "b5a24d3a",
   "metadata": {
    "execution": {
     "iopub.execute_input": "2022-07-04T19:40:18.579311Z",
     "iopub.status.busy": "2022-07-04T19:40:18.578904Z",
     "iopub.status.idle": "2022-07-04T19:40:18.603002Z",
     "shell.execute_reply": "2022-07-04T19:40:18.600958Z"
    },
    "papermill": {
     "duration": 0.033151,
     "end_time": "2022-07-04T19:40:18.605870",
     "exception": false,
     "start_time": "2022-07-04T19:40:18.572719",
     "status": "completed"
    },
    "tags": []
   },
   "outputs": [
    {
     "name": "stdout",
     "output_type": "stream",
     "text": [
      "Accuracy: 0.7932\n",
      "Precision: 0.8678\n",
      "Recall: 0.6071\n",
      "f1: 0.7144\n"
     ]
    }
   ],
   "source": [
    "from sklearn import naive_bayes\n",
    "\n",
    "model = naive_bayes.MultinomialNB()\n",
    "model.fit(train_sequences, y_train)\n",
    "\n",
    "valid_preds = model.predict(valid_sequences)\n",
    "show_scores(y_valid, valid_preds)"
   ]
  },
  {
   "cell_type": "code",
   "execution_count": 13,
   "id": "30b2d2e6",
   "metadata": {
    "execution": {
     "iopub.execute_input": "2022-07-04T19:40:18.617822Z",
     "iopub.status.busy": "2022-07-04T19:40:18.616767Z",
     "iopub.status.idle": "2022-07-04T19:40:18.626351Z",
     "shell.execute_reply": "2022-07-04T19:40:18.624994Z"
    },
    "papermill": {
     "duration": 0.018187,
     "end_time": "2022-07-04T19:40:18.628793",
     "exception": false,
     "start_time": "2022-07-04T19:40:18.610606",
     "status": "completed"
    },
    "tags": []
   },
   "outputs": [
    {
     "data": {
      "text/plain": [
       "array([0, 1])"
      ]
     },
     "execution_count": 13,
     "metadata": {},
     "output_type": "execute_result"
    }
   ],
   "source": [
    "np.unique(valid_preds)"
   ]
  },
  {
   "cell_type": "code",
   "execution_count": 14,
   "id": "12324f86",
   "metadata": {
    "execution": {
     "iopub.execute_input": "2022-07-04T19:40:18.640907Z",
     "iopub.status.busy": "2022-07-04T19:40:18.640474Z",
     "iopub.status.idle": "2022-07-04T19:40:18.649598Z",
     "shell.execute_reply": "2022-07-04T19:40:18.648296Z"
    },
    "papermill": {
     "duration": 0.018548,
     "end_time": "2022-07-04T19:40:18.652279",
     "exception": false,
     "start_time": "2022-07-04T19:40:18.633731",
     "status": "completed"
    },
    "tags": []
   },
   "outputs": [],
   "source": [
    "test_preds = model.predict(test_sequences)"
   ]
  },
  {
   "cell_type": "code",
   "execution_count": 15,
   "id": "fd89b0a5",
   "metadata": {
    "execution": {
     "iopub.execute_input": "2022-07-04T19:40:18.664817Z",
     "iopub.status.busy": "2022-07-04T19:40:18.664112Z",
     "iopub.status.idle": "2022-07-04T19:40:18.686081Z",
     "shell.execute_reply": "2022-07-04T19:40:18.684457Z"
    },
    "papermill": {
     "duration": 0.032192,
     "end_time": "2022-07-04T19:40:18.689421",
     "exception": false,
     "start_time": "2022-07-04T19:40:18.657229",
     "status": "completed"
    },
    "tags": []
   },
   "outputs": [
    {
     "data": {
      "text/html": [
       "<div>\n",
       "<style scoped>\n",
       "    .dataframe tbody tr th:only-of-type {\n",
       "        vertical-align: middle;\n",
       "    }\n",
       "\n",
       "    .dataframe tbody tr th {\n",
       "        vertical-align: top;\n",
       "    }\n",
       "\n",
       "    .dataframe thead th {\n",
       "        text-align: right;\n",
       "    }\n",
       "</style>\n",
       "<table border=\"1\" class=\"dataframe\">\n",
       "  <thead>\n",
       "    <tr style=\"text-align: right;\">\n",
       "      <th></th>\n",
       "      <th>id</th>\n",
       "      <th>target</th>\n",
       "    </tr>\n",
       "  </thead>\n",
       "  <tbody>\n",
       "    <tr>\n",
       "      <th>0</th>\n",
       "      <td>0</td>\n",
       "      <td>1</td>\n",
       "    </tr>\n",
       "    <tr>\n",
       "      <th>1</th>\n",
       "      <td>2</td>\n",
       "      <td>1</td>\n",
       "    </tr>\n",
       "    <tr>\n",
       "      <th>2</th>\n",
       "      <td>3</td>\n",
       "      <td>0</td>\n",
       "    </tr>\n",
       "    <tr>\n",
       "      <th>3</th>\n",
       "      <td>9</td>\n",
       "      <td>1</td>\n",
       "    </tr>\n",
       "    <tr>\n",
       "      <th>4</th>\n",
       "      <td>11</td>\n",
       "      <td>1</td>\n",
       "    </tr>\n",
       "  </tbody>\n",
       "</table>\n",
       "</div>"
      ],
      "text/plain": [
       "   id  target\n",
       "0   0       1\n",
       "1   2       1\n",
       "2   3       0\n",
       "3   9       1\n",
       "4  11       1"
      ]
     },
     "execution_count": 15,
     "metadata": {},
     "output_type": "execute_result"
    }
   ],
   "source": [
    "create_submission(\"\", TARGET, test_preds)"
   ]
  }
 ],
 "metadata": {
  "kernelspec": {
   "display_name": "Python 3",
   "language": "python",
   "name": "python3"
  },
  "language_info": {
   "codemirror_mode": {
    "name": "ipython",
    "version": 3
   },
   "file_extension": ".py",
   "mimetype": "text/x-python",
   "name": "python",
   "nbconvert_exporter": "python",
   "pygments_lexer": "ipython3",
   "version": "3.7.12"
  },
  "papermill": {
   "default_parameters": {},
   "duration": 33.132729,
   "end_time": "2022-07-04T19:40:19.618258",
   "environment_variables": {},
   "exception": null,
   "input_path": "__notebook__.ipynb",
   "output_path": "__notebook__.ipynb",
   "parameters": {},
   "start_time": "2022-07-04T19:39:46.485529",
   "version": "2.3.4"
  }
 },
 "nbformat": 4,
 "nbformat_minor": 5
}
