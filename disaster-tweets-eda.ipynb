{
 "cells": [
  {
   "cell_type": "markdown",
   "id": "b05a699e",
   "metadata": {
    "papermill": {
     "duration": 0.004926,
     "end_time": "2022-07-17T15:46:52.388532",
     "exception": false,
     "start_time": "2022-07-17T15:46:52.383606",
     "status": "completed"
    },
    "tags": []
   },
   "source": [
    "# Disaster Tweets: EDA\n"
   ]
  },
  {
   "cell_type": "markdown",
   "id": "0a98a9be",
   "metadata": {
    "papermill": {
     "duration": 0.003755,
     "end_time": "2022-07-17T15:46:52.396621",
     "exception": false,
     "start_time": "2022-07-17T15:46:52.392866",
     "status": "completed"
    },
    "tags": []
   },
   "source": [
    "<div style=\"background-color:rgba(128, 0, 128, 0.6);border-radius:5px;display:fill\"><h1 style=\"text-align: center;padding: 12px 0px 12px 0px;\">Configuration</h1>\n",
    "</div>"
   ]
  },
  {
   "cell_type": "code",
   "execution_count": 1,
   "id": "5a015d33",
   "metadata": {
    "execution": {
     "iopub.execute_input": "2022-07-17T15:46:52.407218Z",
     "iopub.status.busy": "2022-07-17T15:46:52.406333Z",
     "iopub.status.idle": "2022-07-17T15:46:52.418658Z",
     "shell.execute_reply": "2022-07-17T15:46:52.417342Z"
    },
    "papermill": {
     "duration": 0.020936,
     "end_time": "2022-07-17T15:46:52.421646",
     "exception": false,
     "start_time": "2022-07-17T15:46:52.400710",
     "status": "completed"
    },
    "tags": []
   },
   "outputs": [],
   "source": [
    "data_dir = \"../input/nlp-getting-started/\""
   ]
  },
  {
   "cell_type": "code",
   "execution_count": 2,
   "id": "e9d30246",
   "metadata": {
    "execution": {
     "iopub.execute_input": "2022-07-17T15:46:52.431929Z",
     "iopub.status.busy": "2022-07-17T15:46:52.431205Z",
     "iopub.status.idle": "2022-07-17T15:46:52.435881Z",
     "shell.execute_reply": "2022-07-17T15:46:52.435144Z"
    },
    "papermill": {
     "duration": 0.01247,
     "end_time": "2022-07-17T15:46:52.438205",
     "exception": false,
     "start_time": "2022-07-17T15:46:52.425735",
     "status": "completed"
    },
    "tags": []
   },
   "outputs": [],
   "source": [
    "TARGET = \"target\""
   ]
  },
  {
   "cell_type": "markdown",
   "id": "5275147b",
   "metadata": {
    "papermill": {
     "duration": 0.00376,
     "end_time": "2022-07-17T15:46:52.446089",
     "exception": false,
     "start_time": "2022-07-17T15:46:52.442329",
     "status": "completed"
    },
    "tags": []
   },
   "source": [
    "<div style=\"background-color:rgba(128, 0, 128, 0.6);border-radius:5px;display:fill\"><h1 style=\"text-align: center;padding: 12px 0px 12px 0px;\">Import Libraries</h1>\n",
    "</div>\n",
    "\n",
    "A best practise is to include all libraries here.  However, I will put a few imports farther down where they are first used so beginners can learn with an \"as needed\" approach."
   ]
  },
  {
   "cell_type": "code",
   "execution_count": 3,
   "id": "8dc9180f",
   "metadata": {
    "execution": {
     "iopub.execute_input": "2022-07-17T15:46:52.456094Z",
     "iopub.status.busy": "2022-07-17T15:46:52.455415Z",
     "iopub.status.idle": "2022-07-17T15:46:53.730397Z",
     "shell.execute_reply": "2022-07-17T15:46:53.729338Z"
    },
    "papermill": {
     "duration": 1.283197,
     "end_time": "2022-07-17T15:46:53.733331",
     "exception": false,
     "start_time": "2022-07-17T15:46:52.450134",
     "status": "completed"
    },
    "tags": []
   },
   "outputs": [],
   "source": [
    "import os\n",
    "import time\n",
    "from pathlib import Path\n",
    "\n",
    "import pandas as pd\n",
    "import numpy as np\n",
    "\n",
    "from sklearn.model_selection import train_test_split\n",
    "\n",
    "# Visualization Libraries\n",
    "import matplotlib.pylab as plt\n",
    "import seaborn as sns"
   ]
  },
  {
   "cell_type": "markdown",
   "id": "a44ef21f",
   "metadata": {
    "papermill": {
     "duration": 0.003952,
     "end_time": "2022-07-17T15:46:53.741374",
     "exception": false,
     "start_time": "2022-07-17T15:46:53.737422",
     "status": "completed"
    },
    "tags": []
   },
   "source": [
    "<div style=\"background-color:rgba(128, 0, 128, 0.6);border-radius:5px;display:fill\"><h1 style=\"text-align: center;padding: 12px 0px 12px 0px;\">Library</h1>\n",
    "</div>\n",
    "\n",
    "Creating a few functions that we will reuse in each project."
   ]
  },
  {
   "cell_type": "code",
   "execution_count": 4,
   "id": "9159ed53",
   "metadata": {
    "execution": {
     "iopub.execute_input": "2022-07-17T15:46:53.751563Z",
     "iopub.status.busy": "2022-07-17T15:46:53.751156Z",
     "iopub.status.idle": "2022-07-17T15:46:53.758195Z",
     "shell.execute_reply": "2022-07-17T15:46:53.756899Z"
    },
    "papermill": {
     "duration": 0.015217,
     "end_time": "2022-07-17T15:46:53.760681",
     "exception": false,
     "start_time": "2022-07-17T15:46:53.745464",
     "status": "completed"
    },
    "tags": []
   },
   "outputs": [],
   "source": [
    "def read_data(path):\n",
    "    data_dir = Path(path)\n",
    "\n",
    "    train = pd.read_csv(data_dir / \"train.csv\")\n",
    "    test = pd.read_csv(data_dir / \"test.csv\")\n",
    "    submission_df = pd.read_csv(data_dir / \"sample_submission.csv\")\n",
    "\n",
    "    print(f\"train data: Rows={train.shape[0]}, Columns={train.shape[1]}\")\n",
    "    print(f\"test data : Rows={test.shape[0]}, Columns={test.shape[1]}\")\n",
    "    return train, test, submission_df"
   ]
  },
  {
   "cell_type": "code",
   "execution_count": 5,
   "id": "6e367674",
   "metadata": {
    "execution": {
     "iopub.execute_input": "2022-07-17T15:46:53.771524Z",
     "iopub.status.busy": "2022-07-17T15:46:53.770699Z",
     "iopub.status.idle": "2022-07-17T15:46:53.777125Z",
     "shell.execute_reply": "2022-07-17T15:46:53.776253Z"
    },
    "papermill": {
     "duration": 0.014499,
     "end_time": "2022-07-17T15:46:53.779414",
     "exception": false,
     "start_time": "2022-07-17T15:46:53.764915",
     "status": "completed"
    },
    "tags": []
   },
   "outputs": [],
   "source": [
    "def create_submission(model_name, target, preds, is_log_target=False):\n",
    "    if is_log_target:\n",
    "        #         preds = np.exp(preds)\n",
    "        preds = np.expm1(preds)\n",
    "\n",
    "    sample_submission[target] = preds\n",
    "    if len(model_name) > 0:\n",
    "        sample_submission.to_csv(f\"submission_{model_name}.csv\", index=False)\n",
    "    else:\n",
    "        sample_submission.to_csv(f\"submission.csv\", index=False)\n",
    "\n",
    "    return sample_submission[:5]"
   ]
  },
  {
   "cell_type": "code",
   "execution_count": null,
   "id": "67afdb5b",
   "metadata": {
    "papermill": {
     "duration": 0.00399,
     "end_time": "2022-07-17T15:46:53.787477",
     "exception": false,
     "start_time": "2022-07-17T15:46:53.783487",
     "status": "completed"
    },
    "tags": []
   },
   "outputs": [],
   "source": []
  },
  {
   "cell_type": "markdown",
   "id": "1517036a",
   "metadata": {
    "papermill": {
     "duration": 0.003705,
     "end_time": "2022-07-17T15:46:53.795333",
     "exception": false,
     "start_time": "2022-07-17T15:46:53.791628",
     "status": "completed"
    },
    "tags": []
   },
   "source": [
    "<div style=\"background-color:rgba(128, 0, 128, 0.6);border-radius:5px;display:fill\"><h1 style=\"text-align: center;padding: 12px 0px 12px 0px;\">Load Train/Test Data</h1>\n",
    "</div>\n",
    "\n",
    "- train.csv - Data used to build our machine learning model\n",
    "- test.csv - Data used to build our machine learning model. Does not contain the target variable\n",
    "- sample_submission.csv - A file in the proper format to submit test predictions"
   ]
  },
  {
   "cell_type": "code",
   "execution_count": 6,
   "id": "73e25038",
   "metadata": {
    "execution": {
     "iopub.execute_input": "2022-07-17T15:46:53.805708Z",
     "iopub.status.busy": "2022-07-17T15:46:53.805066Z",
     "iopub.status.idle": "2022-07-17T15:46:53.895484Z",
     "shell.execute_reply": "2022-07-17T15:46:53.894131Z"
    },
    "papermill": {
     "duration": 0.099135,
     "end_time": "2022-07-17T15:46:53.898583",
     "exception": false,
     "start_time": "2022-07-17T15:46:53.799448",
     "status": "completed"
    },
    "tags": []
   },
   "outputs": [
    {
     "name": "stdout",
     "output_type": "stream",
     "text": [
      "train data: Rows=7613, Columns=5\n",
      "test data : Rows=3263, Columns=4\n"
     ]
    }
   ],
   "source": [
    "train, test, sample_submission = read_data(data_dir)"
   ]
  },
  {
   "cell_type": "code",
   "execution_count": 7,
   "id": "d762870a",
   "metadata": {
    "execution": {
     "iopub.execute_input": "2022-07-17T15:46:53.909234Z",
     "iopub.status.busy": "2022-07-17T15:46:53.908281Z",
     "iopub.status.idle": "2022-07-17T15:46:54.229017Z",
     "shell.execute_reply": "2022-07-17T15:46:54.227760Z"
    },
    "papermill": {
     "duration": 0.328984,
     "end_time": "2022-07-17T15:46:54.231849",
     "exception": false,
     "start_time": "2022-07-17T15:46:53.902865",
     "status": "completed"
    },
    "tags": []
   },
   "outputs": [
    {
     "data": {
      "image/png": "[encoded data removed]",
      "text/plain": [
       "<Figure size 1296x576 with 2 Axes>"
      ]
     },
     "metadata": {
      "needs_background": "light"
     },
     "output_type": "display_data"
    }
   ],
   "source": [
    "plt.figure(figsize=(18, 8))\n",
    "plt.subplot(1, 2, 1)\n",
    "train[TARGET].value_counts().plot(kind=\"pie\",\n",
    "                                           fontsize=16,\n",
    "                                           labels=[\"Disaster\", \"Non-Disaster\"],\n",
    "                                           ylabel=\"Disaster vs Non-Disaster\",\n",
    "                                           autopct='%1.1f%%');\n",
    "\n",
    "plt.subplot(1, 2, 2)\n",
    "sns.countplot(x=TARGET, data=train, palette=\"pastel\")\n",
    "plt.show()"
   ]
  }
 ],
 "metadata": {
  "kernelspec": {
   "display_name": "Python 3",
   "language": "python",
   "name": "python3"
  },
  "language_info": {
   "codemirror_mode": {
    "name": "ipython",
    "version": 3
   },
   "file_extension": ".py",
   "mimetype": "text/x-python",
   "name": "python",
   "nbconvert_exporter": "python",
   "pygments_lexer": "ipython3",
   "version": "3.7.12"
  },
  "papermill": {
   "default_parameters": {},
   "duration": 12.308852,
   "end_time": "2022-07-17T15:46:54.958894",
   "environment_variables": {},
   "exception": null,
   "input_path": "__notebook__.ipynb",
   "output_path": "__notebook__.ipynb",
   "parameters": {},
   "start_time": "2022-07-17T15:46:42.650042",
   "version": "2.3.4"
  }
 },
 "nbformat": 4,
 "nbformat_minor": 5
}
