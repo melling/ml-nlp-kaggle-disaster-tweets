{
 "cells": [
  {
   "cell_type": "markdown",
   "id": "27634e09",
   "metadata": {
    "papermill": {
     "duration": 0.014714,
     "end_time": "2022-07-20T17:45:16.127815",
     "exception": false,
     "start_time": "2022-07-20T17:45:16.113101",
     "status": "completed"
    },
    "tags": []
   },
   "source": [
    "<div style=\"background-color:rgba(128, 0, 128, 0.6);border-radius:5px;display:fill\"><h1 style=\"text-align: center;padding: 12px 0px 12px 0px;\">Disaster Tweets: Bidirectional LSTM</h1>\n",
    "</div>\n",
    "\n",
    "Problem Type: Binary-classification\n",
    "\n",
    "## Evaluation Metric\n",
    "\n",
    "F1-Score"
   ]
  },
  {
   "cell_type": "code",
   "execution_count": 1,
   "id": "46e5e19e",
   "metadata": {
    "execution": {
     "iopub.execute_input": "2022-07-20T17:45:16.156945Z",
     "iopub.status.busy": "2022-07-20T17:45:16.156529Z",
     "iopub.status.idle": "2022-07-20T17:45:31.388156Z",
     "shell.execute_reply": "2022-07-20T17:45:31.386616Z"
    },
    "papermill": {
     "duration": 15.249868,
     "end_time": "2022-07-20T17:45:31.391325",
     "exception": false,
     "start_time": "2022-07-20T17:45:16.141457",
     "status": "completed"
    },
    "tags": []
   },
   "outputs": [
    {
     "name": "stdout",
     "output_type": "stream",
     "text": [
      "\u001b[33mWARNING: Running pip as the 'root' user can result in broken permissions and conflicting behaviour with the system package manager. It is recommended to use a virtual environment instead: https://pip.pypa.io/warnings/venv\u001b[0m\u001b[33m\r\n",
      "\u001b[0m"
     ]
    }
   ],
   "source": [
    "# Black formatter https://black.readthedocs.io/en/stable/\n",
    "\n",
    "! pip install nb-black > /dev/null\n",
    "\n",
    "%load_ext lab_black"
   ]
  },
  {
   "cell_type": "markdown",
   "id": "7ecbd84c",
   "metadata": {
    "papermill": {
     "duration": 0.013604,
     "end_time": "2022-07-20T17:45:31.418389",
     "exception": false,
     "start_time": "2022-07-20T17:45:31.404785",
     "status": "completed"
    },
    "tags": []
   },
   "source": [
    "<div style=\"background-color:rgba(128, 0, 128, 0.6);border-radius:5px;display:fill\"><h1 style=\"text-align: center;padding: 12px 0px 12px 0px;\">Configuration</h1>\n",
    "</div>"
   ]
  },
  {
   "cell_type": "code",
   "execution_count": 2,
   "id": "2069f150",
   "metadata": {
    "execution": {
     "iopub.execute_input": "2022-07-20T17:45:31.448405Z",
     "iopub.status.busy": "2022-07-20T17:45:31.448006Z",
     "iopub.status.idle": "2022-07-20T17:45:31.454596Z",
     "shell.execute_reply": "2022-07-20T17:45:31.453488Z"
    },
    "papermill": {
     "duration": 0.023814,
     "end_time": "2022-07-20T17:45:31.456840",
     "exception": false,
     "start_time": "2022-07-20T17:45:31.433026",
     "status": "completed"
    },
    "tags": []
   },
   "outputs": [],
   "source": [
    "data_dir = \"../input/nlp-getting-started/\""
   ]
  },
  {
   "cell_type": "code",
   "execution_count": 3,
   "id": "cc2c5006",
   "metadata": {
    "execution": {
     "iopub.execute_input": "2022-07-20T17:45:31.486123Z",
     "iopub.status.busy": "2022-07-20T17:45:31.485715Z",
     "iopub.status.idle": "2022-07-20T17:45:31.491659Z",
     "shell.execute_reply": "2022-07-20T17:45:31.490547Z"
    },
    "papermill": {
     "duration": 0.022913,
     "end_time": "2022-07-20T17:45:31.493964",
     "exception": false,
     "start_time": "2022-07-20T17:45:31.471051",
     "status": "completed"
    },
    "tags": []
   },
   "outputs": [],
   "source": [
    "TARGET = \"target\""
   ]
  },
  {
   "cell_type": "markdown",
   "id": "298f9ef1",
   "metadata": {
    "papermill": {
     "duration": 0.013292,
     "end_time": "2022-07-20T17:45:31.520715",
     "exception": false,
     "start_time": "2022-07-20T17:45:31.507423",
     "status": "completed"
    },
    "tags": []
   },
   "source": [
    "<div style=\"background-color:rgba(128, 0, 128, 0.6);border-radius:5px;display:fill\"><h1 style=\"text-align: center;padding: 12px 0px 12px 0px;\">Import Libraries</h1>\n",
    "</div>\n",
    "\n",
    "A best practise is to include all libraries here.  However, I will put a few imports farther down where they are first used so beginners can learn with an \"as needed\" approach."
   ]
  },
  {
   "cell_type": "code",
   "execution_count": 4,
   "id": "99df3b58",
   "metadata": {
    "execution": {
     "iopub.execute_input": "2022-07-20T17:45:31.550631Z",
     "iopub.status.busy": "2022-07-20T17:45:31.550223Z",
     "iopub.status.idle": "2022-07-20T17:45:43.007769Z",
     "shell.execute_reply": "2022-07-20T17:45:43.006677Z"
    },
    "papermill": {
     "duration": 11.47666,
     "end_time": "2022-07-20T17:45:43.010695",
     "exception": false,
     "start_time": "2022-07-20T17:45:31.534035",
     "status": "completed"
    },
    "tags": []
   },
   "outputs": [],
   "source": [
    "import os\n",
    "import time\n",
    "from pathlib import Path\n",
    "\n",
    "import pandas as pd\n",
    "import numpy as np\n",
    "\n",
    "from sklearn.model_selection import train_test_split\n",
    "\n",
    "from sklearn.metrics import f1_score\n",
    "\n",
    "# Visualization Libraries\n",
    "import matplotlib.pylab as plt\n",
    "import seaborn as sns\n",
    "\n",
    "import tensorflow as tf\n",
    "from tensorflow import keras\n",
    "from tensorflow.keras import layers"
   ]
  },
  {
   "cell_type": "markdown",
   "id": "39b2ee67",
   "metadata": {
    "papermill": {
     "duration": 0.012884,
     "end_time": "2022-07-20T17:45:43.037176",
     "exception": false,
     "start_time": "2022-07-20T17:45:43.024292",
     "status": "completed"
    },
    "tags": []
   },
   "source": [
    "<div style=\"background-color:rgba(128, 0, 128, 0.6);border-radius:5px;display:fill\"><h1 style=\"text-align: center;padding: 12px 0px 12px 0px;\">Library</h1>\n",
    "</div>\n",
    "\n",
    "Creating a few functions that we will reuse in each project."
   ]
  },
  {
   "cell_type": "code",
   "execution_count": 5,
   "id": "6528af3d",
   "metadata": {
    "execution": {
     "iopub.execute_input": "2022-07-20T17:45:43.067979Z",
     "iopub.status.busy": "2022-07-20T17:45:43.066520Z",
     "iopub.status.idle": "2022-07-20T17:45:43.082629Z",
     "shell.execute_reply": "2022-07-20T17:45:43.081285Z"
    },
    "papermill": {
     "duration": 0.034235,
     "end_time": "2022-07-20T17:45:43.085166",
     "exception": false,
     "start_time": "2022-07-20T17:45:43.050931",
     "status": "completed"
    },
    "tags": []
   },
   "outputs": [],
   "source": [
    "def read_data(path):\n",
    "    data_dir = Path(path)\n",
    "\n",
    "    train = pd.read_csv(data_dir / \"train.csv\")\n",
    "    test = pd.read_csv(data_dir / \"test.csv\")\n",
    "    submission_df = pd.read_csv(data_dir / \"sample_submission.csv\")\n",
    "\n",
    "    print(f\"train data: Rows={train.shape[0]}, Columns={train.shape[1]}\")\n",
    "    print(f\"test data : Rows={test.shape[0]}, Columns={test.shape[1]}\")\n",
    "    return train, test, submission_df"
   ]
  },
  {
   "cell_type": "code",
   "execution_count": 6,
   "id": "98376fda",
   "metadata": {
    "execution": {
     "iopub.execute_input": "2022-07-20T17:45:43.114091Z",
     "iopub.status.busy": "2022-07-20T17:45:43.113337Z",
     "iopub.status.idle": "2022-07-20T17:45:43.127650Z",
     "shell.execute_reply": "2022-07-20T17:45:43.126838Z"
    },
    "papermill": {
     "duration": 0.03147,
     "end_time": "2022-07-20T17:45:43.130102",
     "exception": false,
     "start_time": "2022-07-20T17:45:43.098632",
     "status": "completed"
    },
    "tags": []
   },
   "outputs": [],
   "source": [
    "def create_submission(model_name, target, preds, is_log_target=False):\n",
    "    if is_log_target:\n",
    "        #         preds = np.exp(preds)\n",
    "        preds = np.expm1(preds)\n",
    "\n",
    "    sample_submission[target] = preds\n",
    "    if len(model_name) > 0:\n",
    "        sample_submission.to_csv(f\"submission_{model_name}.csv\", index=False)\n",
    "    else:\n",
    "        sample_submission.to_csv(f\"submission.csv\", index=False)\n",
    "\n",
    "    return sample_submission"
   ]
  },
  {
   "cell_type": "code",
   "execution_count": 7,
   "id": "a70c0976",
   "metadata": {
    "execution": {
     "iopub.execute_input": "2022-07-20T17:45:43.159216Z",
     "iopub.status.busy": "2022-07-20T17:45:43.158507Z",
     "iopub.status.idle": "2022-07-20T17:45:43.172677Z",
     "shell.execute_reply": "2022-07-20T17:45:43.171289Z"
    },
    "papermill": {
     "duration": 0.032045,
     "end_time": "2022-07-20T17:45:43.175633",
     "exception": false,
     "start_time": "2022-07-20T17:45:43.143588",
     "status": "completed"
    },
    "tags": []
   },
   "outputs": [],
   "source": [
    "from sklearn.metrics import mean_absolute_error, mean_squared_error, f1_score\n",
    "\n",
    "\n",
    "def show_scores(gt, yhat):\n",
    "    f1 = f1_score(gt, yhat, average=\"macro\")\n",
    "    mse = mean_squared_error(gt, yhat)\n",
    "    mae = mean_absolute_error(gt, yhat)\n",
    "    rmse = np.sqrt(mse)\n",
    "    #     r2_square = r2_score(gt, yhat)\n",
    "\n",
    "    print(f\"f1: {f1:.4f}\")"
   ]
  },
  {
   "cell_type": "markdown",
   "id": "5a2eb988",
   "metadata": {
    "papermill": {
     "duration": 0.012944,
     "end_time": "2022-07-20T17:45:43.201952",
     "exception": false,
     "start_time": "2022-07-20T17:45:43.189008",
     "status": "completed"
    },
    "tags": []
   },
   "source": [
    "<div style=\"background-color:rgba(128, 0, 128, 0.6);border-radius:5px;display:fill\"><h1 style=\"text-align: center;padding: 12px 0px 12px 0px;\">Load Train/Test Data</h1>\n",
    "</div>\n",
    "\n",
    "- train.csv - Data used to build our machine learning model\n",
    "- test.csv - Data used to build our machine learning model. Does not contain the target variable\n",
    "- sample_submission.csv - A file in the proper format to submit test predictions"
   ]
  },
  {
   "cell_type": "code",
   "execution_count": 8,
   "id": "db3737c1",
   "metadata": {
    "execution": {
     "iopub.execute_input": "2022-07-20T17:45:43.230382Z",
     "iopub.status.busy": "2022-07-20T17:45:43.229507Z",
     "iopub.status.idle": "2022-07-20T17:45:43.312505Z",
     "shell.execute_reply": "2022-07-20T17:45:43.311679Z"
    },
    "papermill": {
     "duration": 0.100027,
     "end_time": "2022-07-20T17:45:43.315173",
     "exception": false,
     "start_time": "2022-07-20T17:45:43.215146",
     "status": "completed"
    },
    "tags": []
   },
   "outputs": [
    {
     "name": "stdout",
     "output_type": "stream",
     "text": [
      "train data: Rows=7613, Columns=5\n",
      "test data : Rows=3263, Columns=4\n"
     ]
    }
   ],
   "source": [
    "train, test, sample_submission = read_data(data_dir)"
   ]
  },
  {
   "cell_type": "code",
   "execution_count": 9,
   "id": "f7fe71bb",
   "metadata": {
    "execution": {
     "iopub.execute_input": "2022-07-20T17:45:43.344736Z",
     "iopub.status.busy": "2022-07-20T17:45:43.344137Z",
     "iopub.status.idle": "2022-07-20T17:45:43.366659Z",
     "shell.execute_reply": "2022-07-20T17:45:43.365665Z"
    },
    "papermill": {
     "duration": 0.039767,
     "end_time": "2022-07-20T17:45:43.369102",
     "exception": false,
     "start_time": "2022-07-20T17:45:43.329335",
     "status": "completed"
    },
    "tags": []
   },
   "outputs": [
    {
     "data": {
      "text/html": [
       "<div>\n",
       "<style scoped>\n",
       "    .dataframe tbody tr th:only-of-type {\n",
       "        vertical-align: middle;\n",
       "    }\n",
       "\n",
       "    .dataframe tbody tr th {\n",
       "        vertical-align: top;\n",
       "    }\n",
       "\n",
       "    .dataframe thead th {\n",
       "        text-align: right;\n",
       "    }\n",
       "</style>\n",
       "<table border=\"1\" class=\"dataframe\">\n",
       "  <thead>\n",
       "    <tr style=\"text-align: right;\">\n",
       "      <th></th>\n",
       "      <th>id</th>\n",
       "      <th>keyword</th>\n",
       "      <th>location</th>\n",
       "      <th>text</th>\n",
       "      <th>target</th>\n",
       "    </tr>\n",
       "  </thead>\n",
       "  <tbody>\n",
       "    <tr>\n",
       "      <th>0</th>\n",
       "      <td>1</td>\n",
       "      <td>NaN</td>\n",
       "      <td>NaN</td>\n",
       "      <td>Our Deeds are the Reason of this #earthquake M...</td>\n",
       "      <td>1</td>\n",
       "    </tr>\n",
       "    <tr>\n",
       "      <th>1</th>\n",
       "      <td>4</td>\n",
       "      <td>NaN</td>\n",
       "      <td>NaN</td>\n",
       "      <td>Forest fire near La Ronge Sask. Canada</td>\n",
       "      <td>1</td>\n",
       "    </tr>\n",
       "    <tr>\n",
       "      <th>2</th>\n",
       "      <td>5</td>\n",
       "      <td>NaN</td>\n",
       "      <td>NaN</td>\n",
       "      <td>All residents asked to 'shelter in place' are ...</td>\n",
       "      <td>1</td>\n",
       "    </tr>\n",
       "    <tr>\n",
       "      <th>3</th>\n",
       "      <td>6</td>\n",
       "      <td>NaN</td>\n",
       "      <td>NaN</td>\n",
       "      <td>13,000 people receive #wildfires evacuation or...</td>\n",
       "      <td>1</td>\n",
       "    </tr>\n",
       "    <tr>\n",
       "      <th>4</th>\n",
       "      <td>7</td>\n",
       "      <td>NaN</td>\n",
       "      <td>NaN</td>\n",
       "      <td>Just got sent this photo from Ruby #Alaska as ...</td>\n",
       "      <td>1</td>\n",
       "    </tr>\n",
       "  </tbody>\n",
       "</table>\n",
       "</div>"
      ],
      "text/plain": [
       "   id keyword location                                               text  \\\n",
       "0   1     NaN      NaN  Our Deeds are the Reason of this #earthquake M...   \n",
       "1   4     NaN      NaN             Forest fire near La Ronge Sask. Canada   \n",
       "2   5     NaN      NaN  All residents asked to 'shelter in place' are ...   \n",
       "3   6     NaN      NaN  13,000 people receive #wildfires evacuation or...   \n",
       "4   7     NaN      NaN  Just got sent this photo from Ruby #Alaska as ...   \n",
       "\n",
       "   target  \n",
       "0       1  \n",
       "1       1  \n",
       "2       1  \n",
       "3       1  \n",
       "4       1  "
      ]
     },
     "execution_count": 9,
     "metadata": {},
     "output_type": "execute_result"
    }
   ],
   "source": [
    "train.head()"
   ]
  },
  {
   "cell_type": "code",
   "execution_count": 10,
   "id": "f33fb5e1",
   "metadata": {
    "execution": {
     "iopub.execute_input": "2022-07-20T17:45:43.398621Z",
     "iopub.status.busy": "2022-07-20T17:45:43.398188Z",
     "iopub.status.idle": "2022-07-20T17:45:43.407888Z",
     "shell.execute_reply": "2022-07-20T17:45:43.406744Z"
    },
    "papermill": {
     "duration": 0.026982,
     "end_time": "2022-07-20T17:45:43.410114",
     "exception": false,
     "start_time": "2022-07-20T17:45:43.383132",
     "status": "completed"
    },
    "tags": []
   },
   "outputs": [],
   "source": [
    "FEATURES = [\n",
    "    col\n",
    "    for col in train.columns\n",
    "    if col\n",
    "    not in [\n",
    "        \"Id\",\n",
    "        TARGET,\n",
    "        #         TARGET_ENC,\n",
    "    ]\n",
    "]"
   ]
  },
  {
   "cell_type": "code",
   "execution_count": 11,
   "id": "29231ca2",
   "metadata": {
    "execution": {
     "iopub.execute_input": "2022-07-20T17:45:43.438993Z",
     "iopub.status.busy": "2022-07-20T17:45:43.438631Z",
     "iopub.status.idle": "2022-07-20T17:45:43.456310Z",
     "shell.execute_reply": "2022-07-20T17:45:43.455281Z"
    },
    "papermill": {
     "duration": 0.035385,
     "end_time": "2022-07-20T17:45:43.459142",
     "exception": false,
     "start_time": "2022-07-20T17:45:43.423757",
     "status": "completed"
    },
    "tags": []
   },
   "outputs": [],
   "source": [
    "y = train[TARGET]\n",
    "X = train[FEATURES].copy()\n",
    "\n",
    "X_test = test[FEATURES].copy()"
   ]
  },
  {
   "cell_type": "code",
   "execution_count": 12,
   "id": "4bb5ea75",
   "metadata": {
    "execution": {
     "iopub.execute_input": "2022-07-20T17:45:43.489193Z",
     "iopub.status.busy": "2022-07-20T17:45:43.488799Z",
     "iopub.status.idle": "2022-07-20T17:45:43.494122Z",
     "shell.execute_reply": "2022-07-20T17:45:43.493071Z"
    },
    "papermill": {
     "duration": 0.023055,
     "end_time": "2022-07-20T17:45:43.496148",
     "exception": false,
     "start_time": "2022-07-20T17:45:43.473093",
     "status": "completed"
    },
    "tags": []
   },
   "outputs": [],
   "source": [
    "# # Normalize the data\n",
    "# X = X / 255.0\n",
    "# X_test = X_test / 255.0"
   ]
  },
  {
   "cell_type": "code",
   "execution_count": 13,
   "id": "6b469741",
   "metadata": {
    "execution": {
     "iopub.execute_input": "2022-07-20T17:45:43.525622Z",
     "iopub.status.busy": "2022-07-20T17:45:43.524618Z",
     "iopub.status.idle": "2022-07-20T17:45:43.530038Z",
     "shell.execute_reply": "2022-07-20T17:45:43.529262Z"
    },
    "papermill": {
     "duration": 0.022556,
     "end_time": "2022-07-20T17:45:43.532373",
     "exception": false,
     "start_time": "2022-07-20T17:45:43.509817",
     "status": "completed"
    },
    "tags": []
   },
   "outputs": [],
   "source": [
    "# X = X.values.reshape(-1, 28, 28, 1)\n",
    "# X_test = X_test.values.reshape(-1, 28, 28, 1)"
   ]
  },
  {
   "cell_type": "code",
   "execution_count": 14,
   "id": "36406684",
   "metadata": {
    "execution": {
     "iopub.execute_input": "2022-07-20T17:45:43.561749Z",
     "iopub.status.busy": "2022-07-20T17:45:43.560969Z",
     "iopub.status.idle": "2022-07-20T17:45:43.566469Z",
     "shell.execute_reply": "2022-07-20T17:45:43.565287Z"
    },
    "papermill": {
     "duration": 0.022478,
     "end_time": "2022-07-20T17:45:43.568603",
     "exception": false,
     "start_time": "2022-07-20T17:45:43.546125",
     "status": "completed"
    },
    "tags": []
   },
   "outputs": [],
   "source": [
    "# X[:3]"
   ]
  },
  {
   "cell_type": "code",
   "execution_count": 15,
   "id": "d525338f",
   "metadata": {
    "execution": {
     "iopub.execute_input": "2022-07-20T17:45:43.598326Z",
     "iopub.status.busy": "2022-07-20T17:45:43.597903Z",
     "iopub.status.idle": "2022-07-20T17:45:43.602361Z",
     "shell.execute_reply": "2022-07-20T17:45:43.601633Z"
    },
    "papermill": {
     "duration": 0.021979,
     "end_time": "2022-07-20T17:45:43.604534",
     "exception": false,
     "start_time": "2022-07-20T17:45:43.582555",
     "status": "completed"
    },
    "tags": []
   },
   "outputs": [],
   "source": [
    "# from keras.utils.np_utils import to_categorical\n",
    "\n",
    "# y = to_categorical(y)"
   ]
  },
  {
   "cell_type": "code",
   "execution_count": 16,
   "id": "d16bed02",
   "metadata": {
    "execution": {
     "iopub.execute_input": "2022-07-20T17:45:43.633479Z",
     "iopub.status.busy": "2022-07-20T17:45:43.633058Z",
     "iopub.status.idle": "2022-07-20T17:45:43.641481Z",
     "shell.execute_reply": "2022-07-20T17:45:43.640493Z"
    },
    "papermill": {
     "duration": 0.025393,
     "end_time": "2022-07-20T17:45:43.643568",
     "exception": false,
     "start_time": "2022-07-20T17:45:43.618175",
     "status": "completed"
    },
    "tags": []
   },
   "outputs": [
    {
     "data": {
      "text/plain": [
       "0    1\n",
       "1    1\n",
       "2    1\n",
       "3    1\n",
       "4    1\n",
       "Name: target, dtype: int64"
      ]
     },
     "execution_count": 16,
     "metadata": {},
     "output_type": "execute_result"
    }
   ],
   "source": [
    "y[:5]"
   ]
  },
  {
   "cell_type": "markdown",
   "id": "ed0b454b",
   "metadata": {
    "execution": {
     "iopub.execute_input": "2022-07-19T19:44:01.140457Z",
     "iopub.status.busy": "2022-07-19T19:44:01.139714Z",
     "iopub.status.idle": "2022-07-19T19:44:01.157867Z",
     "shell.execute_reply": "2022-07-19T19:44:01.154383Z",
     "shell.execute_reply.started": "2022-07-19T19:44:01.140426Z"
    },
    "papermill": {
     "duration": 0.013287,
     "end_time": "2022-07-20T17:45:43.670809",
     "exception": false,
     "start_time": "2022-07-20T17:45:43.657522",
     "status": "completed"
    },
    "tags": []
   },
   "source": [
    "Tokenize then pad sequence.\n",
    "\n",
    "### Vectorization vs Tokenization\n",
    "\n",
    "- https://datascience.stackexchange.com/questions/104859/what-is-the-difference-between-textvectorization-and-tokenizer\n",
    "- https://stackoverflow.com/questions/71002866/difference-between-tokenizer-and-textvectorization-layer-in-tensorflow\n",
    "- [You should try the new TensorFlow’s TextVectorization layer](https://towardsdatascience.com/you-should-try-the-new-tensorflows-textvectorization-layer-a80b3c6b00ee)"
   ]
  },
  {
   "cell_type": "code",
   "execution_count": 17,
   "id": "c5611c58",
   "metadata": {
    "execution": {
     "iopub.execute_input": "2022-07-20T17:45:43.700064Z",
     "iopub.status.busy": "2022-07-20T17:45:43.699702Z",
     "iopub.status.idle": "2022-07-20T17:45:43.968567Z",
     "shell.execute_reply": "2022-07-20T17:45:43.967414Z"
    },
    "papermill": {
     "duration": 0.286673,
     "end_time": "2022-07-20T17:45:43.971099",
     "exception": false,
     "start_time": "2022-07-20T17:45:43.684426",
     "status": "completed"
    },
    "tags": []
   },
   "outputs": [
    {
     "data": {
      "text/plain": [
       "22702"
      ]
     },
     "execution_count": 17,
     "metadata": {},
     "output_type": "execute_result"
    }
   ],
   "source": [
    "tokenizer = tf.keras.preprocessing.text.Tokenizer()\n",
    "tokenizer.oov_token = \"<OOV>\"\n",
    "tokenizer.fit_on_texts(train.text)\n",
    "vocab = tokenizer.word_index\n",
    "vocabCount = len(vocab) + 1\n",
    "\n",
    "vocabCount"
   ]
  },
  {
   "cell_type": "code",
   "execution_count": 18,
   "id": "d2fa9878",
   "metadata": {
    "execution": {
     "iopub.execute_input": "2022-07-20T17:45:44.001741Z",
     "iopub.status.busy": "2022-07-20T17:45:44.000798Z",
     "iopub.status.idle": "2022-07-20T17:45:44.201000Z",
     "shell.execute_reply": "2022-07-20T17:45:44.199576Z"
    },
    "papermill": {
     "duration": 0.218665,
     "end_time": "2022-07-20T17:45:44.203794",
     "exception": false,
     "start_time": "2022-07-20T17:45:43.985129",
     "status": "completed"
    },
    "tags": []
   },
   "outputs": [
    {
     "data": {
      "text/plain": [
       "(7613, 33)"
      ]
     },
     "execution_count": 18,
     "metadata": {},
     "output_type": "execute_result"
    }
   ],
   "source": [
    "train = tf.keras.preprocessing.sequence.pad_sequences(\n",
    "    tokenizer.texts_to_sequences(train.text.to_numpy()), padding=\"pre\"\n",
    ")\n",
    "train.shape"
   ]
  },
  {
   "cell_type": "code",
   "execution_count": 19,
   "id": "20ba8805",
   "metadata": {
    "execution": {
     "iopub.execute_input": "2022-07-20T17:45:44.235146Z",
     "iopub.status.busy": "2022-07-20T17:45:44.234550Z",
     "iopub.status.idle": "2022-07-20T17:45:44.249728Z",
     "shell.execute_reply": "2022-07-20T17:45:44.248892Z"
    },
    "papermill": {
     "duration": 0.03406,
     "end_time": "2022-07-20T17:45:44.252039",
     "exception": false,
     "start_time": "2022-07-20T17:45:44.217979",
     "status": "completed"
    },
    "tags": []
   },
   "outputs": [
    {
     "data": {
      "text/plain": [
       "((6851, 4), (6851,), (762, 4), (762,))"
      ]
     },
     "execution_count": 19,
     "metadata": {},
     "output_type": "execute_result"
    }
   ],
   "source": [
    "X_train, X_valid, y_train, y_valid = train_test_split(\n",
    "    X,\n",
    "    y,\n",
    "    test_size=0.1,\n",
    "    random_state=42,\n",
    ")\n",
    "X_train.shape, y_train.shape, X_valid.shape, y_valid.shape"
   ]
  },
  {
   "cell_type": "code",
   "execution_count": 20,
   "id": "ed0178bb",
   "metadata": {
    "execution": {
     "iopub.execute_input": "2022-07-20T17:45:44.282684Z",
     "iopub.status.busy": "2022-07-20T17:45:44.282308Z",
     "iopub.status.idle": "2022-07-20T17:45:44.290673Z",
     "shell.execute_reply": "2022-07-20T17:45:44.289739Z"
    },
    "papermill": {
     "duration": 0.026333,
     "end_time": "2022-07-20T17:45:44.292780",
     "exception": false,
     "start_time": "2022-07-20T17:45:44.266447",
     "status": "completed"
    },
    "tags": []
   },
   "outputs": [
    {
     "data": {
      "text/plain": [
       "pandas.core.frame.DataFrame"
      ]
     },
     "execution_count": 20,
     "metadata": {},
     "output_type": "execute_result"
    }
   ],
   "source": [
    "type(X_train)"
   ]
  },
  {
   "cell_type": "markdown",
   "id": "d2f262ea",
   "metadata": {
    "papermill": {
     "duration": 0.014065,
     "end_time": "2022-07-20T17:45:44.321108",
     "exception": false,
     "start_time": "2022-07-20T17:45:44.307043",
     "status": "completed"
    },
    "tags": []
   },
   "source": [
    "<div style=\"background-color:rgba(128, 0, 128, 0.6);border-radius:5px;display:fill\"><h1 style=\"text-align: center;padding: 12px 0px 12px 0px;\">Create Models</h1>\n",
    "</div>"
   ]
  },
  {
   "cell_type": "code",
   "execution_count": 21,
   "id": "72f6b857",
   "metadata": {
    "execution": {
     "iopub.execute_input": "2022-07-20T17:45:44.352221Z",
     "iopub.status.busy": "2022-07-20T17:45:44.351127Z",
     "iopub.status.idle": "2022-07-20T17:45:44.357288Z",
     "shell.execute_reply": "2022-07-20T17:45:44.356469Z"
    },
    "papermill": {
     "duration": 0.024009,
     "end_time": "2022-07-20T17:45:44.359470",
     "exception": false,
     "start_time": "2022-07-20T17:45:44.335461",
     "status": "completed"
    },
    "tags": []
   },
   "outputs": [],
   "source": [
    "def get_rnn_model01(vocabCount):\n",
    "    pass"
   ]
  },
  {
   "cell_type": "code",
   "execution_count": 22,
   "id": "3691b7f5",
   "metadata": {
    "execution": {
     "iopub.execute_input": "2022-07-20T17:45:44.390329Z",
     "iopub.status.busy": "2022-07-20T17:45:44.389601Z",
     "iopub.status.idle": "2022-07-20T17:45:44.394985Z",
     "shell.execute_reply": "2022-07-20T17:45:44.394200Z"
    },
    "papermill": {
     "duration": 0.023485,
     "end_time": "2022-07-20T17:45:44.397356",
     "exception": false,
     "start_time": "2022-07-20T17:45:44.373871",
     "status": "completed"
    },
    "tags": []
   },
   "outputs": [],
   "source": [
    "def get_lstm_model01(vocabCount):\n",
    "    pass"
   ]
  },
  {
   "cell_type": "code",
   "execution_count": 23,
   "id": "4fc17781",
   "metadata": {
    "execution": {
     "iopub.execute_input": "2022-07-20T17:45:44.427954Z",
     "iopub.status.busy": "2022-07-20T17:45:44.427534Z",
     "iopub.status.idle": "2022-07-20T17:45:44.438028Z",
     "shell.execute_reply": "2022-07-20T17:45:44.436859Z"
    },
    "papermill": {
     "duration": 0.028844,
     "end_time": "2022-07-20T17:45:44.440622",
     "exception": false,
     "start_time": "2022-07-20T17:45:44.411778",
     "status": "completed"
    },
    "tags": []
   },
   "outputs": [],
   "source": [
    "def custom_standardization_fn(string_tensor):\n",
    "    lowercase_string = tf.strings.lower(string_tensor)\n",
    "    return tf.strings.regex_replace(\n",
    "        lowercase_string, f\"[{re.escape(string.punctuation)}]\", \"\"\n",
    "    )"
   ]
  },
  {
   "cell_type": "code",
   "execution_count": 24,
   "id": "d2fbd862",
   "metadata": {
    "execution": {
     "iopub.execute_input": "2022-07-20T17:45:44.471921Z",
     "iopub.status.busy": "2022-07-20T17:45:44.471506Z",
     "iopub.status.idle": "2022-07-20T17:45:44.515706Z",
     "shell.execute_reply": "2022-07-20T17:45:44.514594Z"
    },
    "papermill": {
     "duration": 0.063124,
     "end_time": "2022-07-20T17:45:44.518383",
     "exception": false,
     "start_time": "2022-07-20T17:45:44.455259",
     "status": "completed"
    },
    "tags": []
   },
   "outputs": [],
   "source": [
    "from tensorflow.keras.layers.experimental.preprocessing import TextVectorization\n",
    "from keras.metrics import AUC\n",
    "from keras import optimizers, losses\n",
    "\n",
    "\n",
    "def get_lstm_model01(vocabCount):\n",
    "    #     print(f\"x_shape=\")\n",
    "    #     input_shape = (height, width, channels)\n",
    "    #     inputs = keras.Input(shape=(28, 28, 1))\n",
    "    vocab_size = 23_000\n",
    "    embed_size = 100\n",
    "    doc_length = vocabCount + 1\n",
    "    max_length = 15\n",
    "\n",
    "    #     text_vectorizer = TextVectorization(max_tokens=vocab_size,\n",
    "    #                                        standardize=custom_standardization_fn,\n",
    "    #                                            output_mode=\"int\",)\n",
    "    text_vectorizer = TextVectorization(output_mode=\"int\")\n",
    "    text_vectorizer.adapt(X_train.text)\n",
    "\n",
    "    embedding_layer = keras.layers.Embedding(\n",
    "        input_dim=vocab_size,  # set input shape\n",
    "        #         standardize=custom_standardization_fn,\n",
    "        #         split=\"whitespace\",\n",
    "        #         ngrams=None,\n",
    "        #         output_mode=\"int\",\n",
    "        output_dim=128,  # set size of embedding vector\n",
    "        embeddings_initializer=\"uniform\",  # default, intialize randomly\n",
    "        input_length=max_length,  # how long is each input\n",
    "        name=\"embedding_1\",\n",
    "    )\n",
    "\n",
    "    #     tf.keras.layers.TextVectorization(\n",
    "    #         max_tokens=None, standardize='lower_and_strip_punctuation',\n",
    "    #         split='whitespace', ngrams=None, output_mode='int',\n",
    "    #         output_sequence_length=None, pad_to_max_tokens=False, vocabulary=None,\n",
    "    #         idf_weights=None, sparse=False, ragged=False, **kwargs\n",
    "    # )\n",
    "\n",
    "    #     words_in_vocab = text_vectorizer.get_vocabulary()\n",
    "    #     print(f\"Vocab={words_in_vocab}\")\n",
    "    #     inputs = keras.Input((doc_length,))\n",
    "    text_input = keras.Input(shape=(1,), dtype=tf.string, name=\"text_input_layer\")\n",
    "    #     inputs = keras.Input(shape=(1,), name=\"text_input_layer\")\n",
    "    x = text_vectorizer(text_input)\n",
    "    #     embedding_layer = keras.layers.Embedding(\n",
    "    #         input_dim=vocabCount + 1, output_dim=64, input_length=31\n",
    "    #     )(x)\n",
    "    x = embedding_layer(x)\n",
    "    #     x = keras.layers.GlobalAveragePooling1D()(x)\n",
    "    #     x = keras.layers.MaxPooling2d((2, 2))(x)\n",
    "    #     x = keras.layers.Conv2D(\n",
    "    #         128, activation=\"relu\", padding=\"same\", kernel_initializer=\"he_normal\"\n",
    "    #     )(x)\n",
    "    #     x = keras.layers.Flatten()(x)\n",
    "    #     x = keras.layers.BatchNormalization()(x)\n",
    "\n",
    "    #     x = keras.layers.Dense(128, activation=\"relu\")(x)\n",
    "\n",
    "    #     x = keras.layers.Dense(64, activation=\"relu\")(x)\n",
    "    #     x = keras.layers.BatchNormalization()(x)\n",
    "    #     x = keras.layers.Dense(32, activation=\"relu\")(x)\n",
    "    #     x = keras.layers.BatchNormalization()(x)\n",
    "    #     x = keras.layers.Dropout(0.1)(x)\n",
    "    #     forward_layer = keras.layers.LSTM(100, return_sequences=True)\n",
    "    #     backward_layer = keras.layers.LSTM(\n",
    "    #         100, activation=\"relu\", return_sequences=True, go_backwards=True\n",
    "    #     )\n",
    "    #     x = keras.layers.Bidirectional(forward_layer, backward_layer=backward_layer)(x)\n",
    "\n",
    "    x = keras.layers.Bidirectional(keras.layers.LSTM(50))(x)\n",
    "    x = keras.layers.Dropout(0.5)(x)\n",
    "\n",
    "    #     x = keras.layers.LSTM(100, return_sequences=True)(x)\n",
    "    #     x = keras.layers.LSTM(200)(x)\n",
    "    x = keras.layers.Dense(64, activation=\"relu\")(x)\n",
    "\n",
    "    x = keras.layers.Dropout(0.5)(x)\n",
    "    outputs = keras.layers.Dense(1, activation=\"sigmoid\")(x)\n",
    "\n",
    "    model = keras.Model(text_input, outputs, name=\"Dense_Model\")\n",
    "\n",
    "    model.compile(\n",
    "        loss=\"binary_crossentropy\",\n",
    "        optimizer=\"adam\",\n",
    "        metrics=[\"accuracy\", AUC(name=\"auc\")],\n",
    "    )\n",
    "\n",
    "    #     model.compile(\n",
    "    #         optimizer=tf.keras.optimizers.Adam(learning_rate=0.01),\n",
    "    #         loss=\"accuracy\",\n",
    "    #     )\n",
    "\n",
    "    return model"
   ]
  },
  {
   "cell_type": "code",
   "execution_count": 25,
   "id": "d0788adf",
   "metadata": {
    "execution": {
     "iopub.execute_input": "2022-07-20T17:45:44.549026Z",
     "iopub.status.busy": "2022-07-20T17:45:44.548643Z",
     "iopub.status.idle": "2022-07-20T17:45:44.556908Z",
     "shell.execute_reply": "2022-07-20T17:45:44.555606Z"
    },
    "papermill": {
     "duration": 0.026354,
     "end_time": "2022-07-20T17:45:44.559248",
     "exception": false,
     "start_time": "2022-07-20T17:45:44.532894",
     "status": "completed"
    },
    "tags": []
   },
   "outputs": [
    {
     "data": {
      "text/plain": [
       "4"
      ]
     },
     "execution_count": 25,
     "metadata": {},
     "output_type": "execute_result"
    }
   ],
   "source": [
    "X_train.shape[1]"
   ]
  },
  {
   "cell_type": "code",
   "execution_count": 26,
   "id": "5f32ad39",
   "metadata": {
    "execution": {
     "iopub.execute_input": "2022-07-20T17:45:44.590735Z",
     "iopub.status.busy": "2022-07-20T17:45:44.589966Z",
     "iopub.status.idle": "2022-07-20T17:45:44.598376Z",
     "shell.execute_reply": "2022-07-20T17:45:44.597545Z"
    },
    "papermill": {
     "duration": 0.026786,
     "end_time": "2022-07-20T17:45:44.600624",
     "exception": false,
     "start_time": "2022-07-20T17:45:44.573838",
     "status": "completed"
    },
    "tags": []
   },
   "outputs": [
    {
     "data": {
      "text/plain": [
       "7613"
      ]
     },
     "execution_count": 26,
     "metadata": {},
     "output_type": "execute_result"
    }
   ],
   "source": [
    "X.shape[0]"
   ]
  },
  {
   "cell_type": "code",
   "execution_count": 27,
   "id": "21480539",
   "metadata": {
    "execution": {
     "iopub.execute_input": "2022-07-20T17:45:44.632251Z",
     "iopub.status.busy": "2022-07-20T17:45:44.631487Z",
     "iopub.status.idle": "2022-07-20T17:45:45.821455Z",
     "shell.execute_reply": "2022-07-20T17:45:45.820266Z"
    },
    "papermill": {
     "duration": 1.210579,
     "end_time": "2022-07-20T17:45:45.825911",
     "exception": false,
     "start_time": "2022-07-20T17:45:44.615332",
     "status": "completed"
    },
    "tags": []
   },
   "outputs": [
    {
     "name": "stderr",
     "output_type": "stream",
     "text": [
      "2022-07-20 17:45:44.675641: I tensorflow/core/common_runtime/process_util.cc:146] Creating new thread pool with default inter op setting: 2. Tune using inter_op_parallelism_threads for best performance.\n",
      "2022-07-20 17:45:44.790984: I tensorflow/compiler/mlir/mlir_graph_optimization_pass.cc:185] None of the MLIR Optimization Passes are enabled (registered 2)\n"
     ]
    },
    {
     "name": "stdout",
     "output_type": "stream",
     "text": [
      "Model: \"Dense_Model\"\n",
      "_________________________________________________________________\n",
      "Layer (type)                 Output Shape              Param #   \n",
      "=================================================================\n",
      "text_input_layer (InputLayer [(None, 1)]               0         \n",
      "_________________________________________________________________\n",
      "text_vectorization (TextVect (None, None)              0         \n",
      "_________________________________________________________________\n",
      "embedding_1 (Embedding)      (None, None, 128)         2944000   \n",
      "_________________________________________________________________\n",
      "bidirectional (Bidirectional (None, 100)               71600     \n",
      "_________________________________________________________________\n",
      "dropout (Dropout)            (None, 100)               0         \n",
      "_________________________________________________________________\n",
      "dense (Dense)                (None, 64)                6464      \n",
      "_________________________________________________________________\n",
      "dropout_1 (Dropout)          (None, 64)                0         \n",
      "_________________________________________________________________\n",
      "dense_1 (Dense)              (None, 1)                 65        \n",
      "=================================================================\n",
      "Total params: 3,022,129\n",
      "Trainable params: 3,022,129\n",
      "Non-trainable params: 0\n",
      "_________________________________________________________________\n"
     ]
    }
   ],
   "source": [
    "model = get_lstm_model01(vocabCount)\n",
    "\n",
    "model.summary()"
   ]
  },
  {
   "cell_type": "code",
   "execution_count": 28,
   "id": "454f104d",
   "metadata": {
    "execution": {
     "iopub.execute_input": "2022-07-20T17:45:45.867146Z",
     "iopub.status.busy": "2022-07-20T17:45:45.866425Z",
     "iopub.status.idle": "2022-07-20T17:45:47.040027Z",
     "shell.execute_reply": "2022-07-20T17:45:47.038948Z"
    },
    "papermill": {
     "duration": 1.194034,
     "end_time": "2022-07-20T17:45:47.042840",
     "exception": false,
     "start_time": "2022-07-20T17:45:45.848806",
     "status": "completed"
    },
    "tags": []
   },
   "outputs": [
    {
     "data": {
      "image/png": "[encoded data removed]",
      "text/plain": [
       "<IPython.core.display.Image object>"
      ]
     },
     "execution_count": 28,
     "metadata": {},
     "output_type": "execute_result"
    }
   ],
   "source": [
    "keras.utils.plot_model(model)"
   ]
  },
  {
   "cell_type": "code",
   "execution_count": 29,
   "id": "3d114c69",
   "metadata": {
    "execution": {
     "iopub.execute_input": "2022-07-20T17:45:47.076915Z",
     "iopub.status.busy": "2022-07-20T17:45:47.076075Z",
     "iopub.status.idle": "2022-07-20T17:45:47.086838Z",
     "shell.execute_reply": "2022-07-20T17:45:47.085671Z"
    },
    "papermill": {
     "duration": 0.030935,
     "end_time": "2022-07-20T17:45:47.089427",
     "exception": false,
     "start_time": "2022-07-20T17:45:47.058492",
     "status": "completed"
    },
    "tags": []
   },
   "outputs": [],
   "source": [
    "X_train = X_train.text\n",
    "X_valid = X_valid.text\n",
    "X_test = X_test.text"
   ]
  },
  {
   "cell_type": "code",
   "execution_count": 30,
   "id": "497f9835",
   "metadata": {
    "execution": {
     "iopub.execute_input": "2022-07-20T17:45:47.122387Z",
     "iopub.status.busy": "2022-07-20T17:45:47.121966Z",
     "iopub.status.idle": "2022-07-20T17:45:47.136272Z",
     "shell.execute_reply": "2022-07-20T17:45:47.135387Z"
    },
    "papermill": {
     "duration": 0.033567,
     "end_time": "2022-07-20T17:45:47.138569",
     "exception": false,
     "start_time": "2022-07-20T17:45:47.105002",
     "status": "completed"
    },
    "tags": []
   },
   "outputs": [],
   "source": [
    "from keras.callbacks import *\n",
    "\n",
    "lr = ReduceLROnPlateau(\n",
    "    monitor=\"val_auc\", mode=\"max\", factor=0.7, patience=4, verbose=False\n",
    ")\n",
    "es = EarlyStopping(\n",
    "    monitor=\"val_auc\", mode=\"max\", patience=10, verbose=False, restore_best_weights=True\n",
    ")"
   ]
  },
  {
   "cell_type": "code",
   "execution_count": 31,
   "id": "4864c9db",
   "metadata": {
    "execution": {
     "iopub.execute_input": "2022-07-20T17:45:47.172131Z",
     "iopub.status.busy": "2022-07-20T17:45:47.171343Z",
     "iopub.status.idle": "2022-07-20T17:46:27.035778Z",
     "shell.execute_reply": "2022-07-20T17:46:27.034130Z"
    },
    "papermill": {
     "duration": 39.884208,
     "end_time": "2022-07-20T17:46:27.038309",
     "exception": false,
     "start_time": "2022-07-20T17:45:47.154101",
     "status": "completed"
    },
    "tags": []
   },
   "outputs": [
    {
     "name": "stdout",
     "output_type": "stream",
     "text": [
      "Epoch 1/10\n",
      "43/43 [==============================] - 9s 103ms/step - loss: 0.6599 - accuracy: 0.6069 - auc: 0.6365 - val_loss: 0.5723 - val_accuracy: 0.7753 - val_auc: 0.8324\n",
      "Epoch 2/10\n",
      "43/43 [==============================] - 3s 77ms/step - loss: 0.3994 - accuracy: 0.8469 - auc: 0.9018 - val_loss: 0.4835 - val_accuracy: 0.7819 - val_auc: 0.8543\n",
      "Epoch 3/10\n",
      "43/43 [==============================] - 3s 76ms/step - loss: 0.1698 - accuracy: 0.9436 - auc: 0.9798 - val_loss: 0.6466 - val_accuracy: 0.7805 - val_auc: 0.8463\n",
      "Epoch 4/10\n",
      "43/43 [==============================] - 3s 75ms/step - loss: 0.0858 - accuracy: 0.9724 - auc: 0.9942 - val_loss: 0.7628 - val_accuracy: 0.7411 - val_auc: 0.8322\n",
      "Epoch 5/10\n",
      "43/43 [==============================] - 3s 77ms/step - loss: 0.0461 - accuracy: 0.9854 - auc: 0.9981 - val_loss: 0.8588 - val_accuracy: 0.7557 - val_auc: 0.8220\n",
      "Epoch 6/10\n",
      "43/43 [==============================] - 4s 94ms/step - loss: 0.0335 - accuracy: 0.9905 - auc: 0.9985 - val_loss: 0.9281 - val_accuracy: 0.7462 - val_auc: 0.8234\n",
      "Epoch 7/10\n",
      "43/43 [==============================] - 3s 78ms/step - loss: 0.0203 - accuracy: 0.9954 - auc: 0.9995 - val_loss: 1.1790 - val_accuracy: 0.7600 - val_auc: 0.8157\n",
      "Epoch 8/10\n",
      "43/43 [==============================] - 3s 79ms/step - loss: 0.0155 - accuracy: 0.9964 - auc: 0.9993 - val_loss: 1.2732 - val_accuracy: 0.7629 - val_auc: 0.8152\n",
      "Epoch 9/10\n",
      "43/43 [==============================] - 3s 76ms/step - loss: 0.0138 - accuracy: 0.9958 - auc: 0.9997 - val_loss: 1.1969 - val_accuracy: 0.7615 - val_auc: 0.8143\n",
      "Epoch 10/10\n",
      "43/43 [==============================] - 3s 75ms/step - loss: 0.0109 - accuracy: 0.9962 - auc: 0.9996 - val_loss: 1.2113 - val_accuracy: 0.7659 - val_auc: 0.8158\n",
      "CPU times: user 1min 21s, sys: 9.94 s, total: 1min 31s\n",
      "Wall time: 39.9 s\n"
     ]
    }
   ],
   "source": [
    "%%time\n",
    "\n",
    "history = model.fit(\n",
    "    X_train,\n",
    "    y_train,\n",
    "    batch_size=128,\n",
    "    epochs=10,\n",
    "    # Suppress logging.\n",
    "    verbose=1,\n",
    "    callbacks=[es,lr],\n",
    "    # Calculate validation results on 20% of the training data.\n",
    "    validation_split = 0.2\n",
    ")"
   ]
  },
  {
   "cell_type": "code",
   "execution_count": 32,
   "id": "6a79f0fa",
   "metadata": {
    "execution": {
     "iopub.execute_input": "2022-07-20T17:46:27.135069Z",
     "iopub.status.busy": "2022-07-20T17:46:27.133927Z",
     "iopub.status.idle": "2022-07-20T17:46:27.547392Z",
     "shell.execute_reply": "2022-07-20T17:46:27.546025Z"
    },
    "papermill": {
     "duration": 0.464759,
     "end_time": "2022-07-20T17:46:27.550267",
     "exception": false,
     "start_time": "2022-07-20T17:46:27.085508",
     "status": "completed"
    },
    "tags": []
   },
   "outputs": [
    {
     "data": {
      "image/png": "[encoded data removed]",
      "text/plain": [
       "<Figure size 432x288 with 1 Axes>"
      ]
     },
     "metadata": {
      "needs_background": "light"
     },
     "output_type": "display_data"
    },
    {
     "data": {
      "image/png": "[encoded data removed]",
      "text/plain": [
       "<Figure size 432x288 with 1 Axes>"
      ]
     },
     "metadata": {
      "needs_background": "light"
     },
     "output_type": "display_data"
    }
   ],
   "source": [
    "acc = history.history[\"accuracy\"]\n",
    "val_acc = history.history[\"val_accuracy\"]\n",
    "loss = history.history[\"loss\"]\n",
    "val_loss = history.history[\"val_loss\"]\n",
    "\n",
    "epochs = range(1, len(acc) + 1)\n",
    "\n",
    "plt.plot(epochs, acc, \"bo\", label=\"Training acc\")\n",
    "plt.plot(epochs, val_acc, \"b\", label=\"Validation acc\")\n",
    "plt.title(\"Training and validation accuracy\")\n",
    "plt.legend()\n",
    "\n",
    "plt.figure()\n",
    "\n",
    "plt.plot(epochs, loss, \"bo\", label=\"Training loss\")\n",
    "plt.plot(epochs, val_loss, \"b\", label=\"Validation loss\")\n",
    "plt.title(\"Training and validation loss\")\n",
    "plt.legend()\n",
    "\n",
    "plt.show()"
   ]
  },
  {
   "cell_type": "markdown",
   "id": "3c4c35c9",
   "metadata": {
    "papermill": {
     "duration": 0.047774,
     "end_time": "2022-07-20T17:46:27.646383",
     "exception": false,
     "start_time": "2022-07-20T17:46:27.598609",
     "status": "completed"
    },
    "tags": []
   },
   "source": [
    "## Predict and Score"
   ]
  },
  {
   "cell_type": "code",
   "execution_count": 33,
   "id": "70031ec1",
   "metadata": {
    "execution": {
     "iopub.execute_input": "2022-07-20T17:46:27.746207Z",
     "iopub.status.busy": "2022-07-20T17:46:27.745745Z",
     "iopub.status.idle": "2022-07-20T17:46:28.080598Z",
     "shell.execute_reply": "2022-07-20T17:46:28.079429Z"
    },
    "papermill": {
     "duration": 0.386869,
     "end_time": "2022-07-20T17:46:28.083282",
     "exception": false,
     "start_time": "2022-07-20T17:46:27.696413",
     "status": "completed"
    },
    "tags": []
   },
   "outputs": [
    {
     "name": "stdout",
     "output_type": "stream",
     "text": [
      "24/24 [==============================] - 0s 11ms/step - loss: 1.2759 - accuracy: 0.7598 - auc: 0.8002\n"
     ]
    },
    {
     "data": {
      "text/plain": [
       "(0.7598425149917603, 0.8001934289932251)"
      ]
     },
     "execution_count": 33,
     "metadata": {},
     "output_type": "execute_result"
    }
   ],
   "source": [
    "test_loss, test_acc, test_auc = model.evaluate(X_valid, y_valid)\n",
    "test_acc, test_auc"
   ]
  },
  {
   "cell_type": "code",
   "execution_count": 34,
   "id": "a4d6815f",
   "metadata": {
    "execution": {
     "iopub.execute_input": "2022-07-20T17:46:28.181917Z",
     "iopub.status.busy": "2022-07-20T17:46:28.181202Z",
     "iopub.status.idle": "2022-07-20T17:46:29.279600Z",
     "shell.execute_reply": "2022-07-20T17:46:29.278669Z"
    },
    "papermill": {
     "duration": 1.150251,
     "end_time": "2022-07-20T17:46:29.281947",
     "exception": false,
     "start_time": "2022-07-20T17:46:28.131696",
     "status": "completed"
    },
    "tags": []
   },
   "outputs": [
    {
     "data": {
      "text/plain": [
       "array([[2.27238233e-05],\n",
       "       [9.97361541e-03],\n",
       "       [1.54358447e-01],\n",
       "       [4.82332825e-06],\n",
       "       [1.11133575e-01]], dtype=float32)"
      ]
     },
     "execution_count": 34,
     "metadata": {},
     "output_type": "execute_result"
    }
   ],
   "source": [
    "valid_preds = model.predict(X_valid)\n",
    "valid_preds[:5]"
   ]
  },
  {
   "cell_type": "code",
   "execution_count": 35,
   "id": "dfd1e1bb",
   "metadata": {
    "execution": {
     "iopub.execute_input": "2022-07-20T17:46:29.381291Z",
     "iopub.status.busy": "2022-07-20T17:46:29.380644Z",
     "iopub.status.idle": "2022-07-20T17:46:29.389134Z",
     "shell.execute_reply": "2022-07-20T17:46:29.387963Z"
    },
    "papermill": {
     "duration": 0.061308,
     "end_time": "2022-07-20T17:46:29.391838",
     "exception": false,
     "start_time": "2022-07-20T17:46:29.330530",
     "status": "completed"
    },
    "tags": []
   },
   "outputs": [
    {
     "data": {
      "text/plain": [
       "array([[2.27238233e-05],\n",
       "       [9.97361541e-03],\n",
       "       [1.54358447e-01],\n",
       "       [4.82332825e-06],\n",
       "       [1.11133575e-01]], dtype=float32)"
      ]
     },
     "execution_count": 35,
     "metadata": {},
     "output_type": "execute_result"
    }
   ],
   "source": [
    "valid_preds[:5]"
   ]
  },
  {
   "cell_type": "code",
   "execution_count": 36,
   "id": "dd893707",
   "metadata": {
    "execution": {
     "iopub.execute_input": "2022-07-20T17:46:29.491115Z",
     "iopub.status.busy": "2022-07-20T17:46:29.490293Z",
     "iopub.status.idle": "2022-07-20T17:46:29.499742Z",
     "shell.execute_reply": "2022-07-20T17:46:29.498955Z"
    },
    "papermill": {
     "duration": 0.062209,
     "end_time": "2022-07-20T17:46:29.502061",
     "exception": false,
     "start_time": "2022-07-20T17:46:29.439852",
     "status": "completed"
    },
    "tags": []
   },
   "outputs": [
    {
     "data": {
      "text/plain": [
       "array([2.27238233e-05, 9.97361541e-03, 1.54358447e-01, 4.82332825e-06,\n",
       "       1.11133575e-01, 3.46612334e-02, 1.80498391e-05, 2.12354660e-01,\n",
       "       1.41146779e-03, 9.98843908e-01], dtype=float32)"
      ]
     },
     "execution_count": 36,
     "metadata": {},
     "output_type": "execute_result"
    }
   ],
   "source": [
    "valid_preds.squeeze()[:10]"
   ]
  },
  {
   "cell_type": "code",
   "execution_count": 37,
   "id": "bcc120ad",
   "metadata": {
    "execution": {
     "iopub.execute_input": "2022-07-20T17:46:29.602118Z",
     "iopub.status.busy": "2022-07-20T17:46:29.601488Z",
     "iopub.status.idle": "2022-07-20T17:46:29.610742Z",
     "shell.execute_reply": "2022-07-20T17:46:29.609745Z"
    },
    "papermill": {
     "duration": 0.061656,
     "end_time": "2022-07-20T17:46:29.612930",
     "exception": false,
     "start_time": "2022-07-20T17:46:29.551274",
     "status": "completed"
    },
    "tags": []
   },
   "outputs": [
    {
     "data": {
      "text/plain": [
       "array([2.27238233e-05, 9.97361541e-03, 1.54358447e-01, 4.82332825e-06,\n",
       "       1.11133575e-01, 3.46612334e-02, 1.80498391e-05, 2.12354660e-01,\n",
       "       1.41146779e-03, 9.98843908e-01], dtype=float32)"
      ]
     },
     "execution_count": 37,
     "metadata": {},
     "output_type": "execute_result"
    }
   ],
   "source": [
    "valid_preds.ravel()[:10]"
   ]
  },
  {
   "cell_type": "code",
   "execution_count": 38,
   "id": "2fda3f56",
   "metadata": {
    "execution": {
     "iopub.execute_input": "2022-07-20T17:46:29.713500Z",
     "iopub.status.busy": "2022-07-20T17:46:29.712652Z",
     "iopub.status.idle": "2022-07-20T17:46:29.720862Z",
     "shell.execute_reply": "2022-07-20T17:46:29.719977Z"
    },
    "papermill": {
     "duration": 0.061194,
     "end_time": "2022-07-20T17:46:29.723405",
     "exception": false,
     "start_time": "2022-07-20T17:46:29.662211",
     "status": "completed"
    },
    "tags": []
   },
   "outputs": [],
   "source": [
    "valid_preds = np.argmax(valid_preds, axis=1)"
   ]
  },
  {
   "cell_type": "code",
   "execution_count": 39,
   "id": "0ea83237",
   "metadata": {
    "execution": {
     "iopub.execute_input": "2022-07-20T17:46:29.824020Z",
     "iopub.status.busy": "2022-07-20T17:46:29.823381Z",
     "iopub.status.idle": "2022-07-20T17:46:29.828610Z",
     "shell.execute_reply": "2022-07-20T17:46:29.827719Z"
    },
    "papermill": {
     "duration": 0.057948,
     "end_time": "2022-07-20T17:46:29.830936",
     "exception": false,
     "start_time": "2022-07-20T17:46:29.772988",
     "status": "completed"
    },
    "tags": []
   },
   "outputs": [],
   "source": [
    "# show_scores(y_valid, valid_preds)"
   ]
  },
  {
   "cell_type": "code",
   "execution_count": 40,
   "id": "6e210c09",
   "metadata": {
    "execution": {
     "iopub.execute_input": "2022-07-20T17:46:29.930423Z",
     "iopub.status.busy": "2022-07-20T17:46:29.929952Z",
     "iopub.status.idle": "2022-07-20T17:46:30.920736Z",
     "shell.execute_reply": "2022-07-20T17:46:30.919408Z"
    },
    "papermill": {
     "duration": 1.043643,
     "end_time": "2022-07-20T17:46:30.923082",
     "exception": false,
     "start_time": "2022-07-20T17:46:29.879439",
     "status": "completed"
    },
    "tags": []
   },
   "outputs": [
    {
     "data": {
      "text/plain": [
       "array([0.2981614 , 0.05812436, 0.99993986, 0.78318965, 0.99988544],\n",
       "      dtype=float32)"
      ]
     },
     "execution_count": 40,
     "metadata": {},
     "output_type": "execute_result"
    }
   ],
   "source": [
    "preds = model.predict(X_test).ravel()\n",
    "preds[:5]"
   ]
  },
  {
   "cell_type": "code",
   "execution_count": 41,
   "id": "a3d7009f",
   "metadata": {
    "execution": {
     "iopub.execute_input": "2022-07-20T17:46:31.023646Z",
     "iopub.status.busy": "2022-07-20T17:46:31.022834Z",
     "iopub.status.idle": "2022-07-20T17:46:31.033152Z",
     "shell.execute_reply": "2022-07-20T17:46:31.032380Z"
    },
    "papermill": {
     "duration": 0.062541,
     "end_time": "2022-07-20T17:46:31.035439",
     "exception": false,
     "start_time": "2022-07-20T17:46:30.972898",
     "status": "completed"
    },
    "tags": []
   },
   "outputs": [
    {
     "data": {
      "text/plain": [
       "array([0, 1])"
      ]
     },
     "execution_count": 41,
     "metadata": {},
     "output_type": "execute_result"
    }
   ],
   "source": [
    "preds = (preds > 0.5).astype(int)\n",
    "np.unique(preds)"
   ]
  },
  {
   "cell_type": "code",
   "execution_count": 42,
   "id": "6e150b42",
   "metadata": {
    "execution": {
     "iopub.execute_input": "2022-07-20T17:46:31.136414Z",
     "iopub.status.busy": "2022-07-20T17:46:31.135984Z",
     "iopub.status.idle": "2022-07-20T17:46:31.141344Z",
     "shell.execute_reply": "2022-07-20T17:46:31.140164Z"
    },
    "papermill": {
     "duration": 0.058834,
     "end_time": "2022-07-20T17:46:31.143792",
     "exception": false,
     "start_time": "2022-07-20T17:46:31.084958",
     "status": "completed"
    },
    "tags": []
   },
   "outputs": [],
   "source": [
    "# preds = np.argmax(preds, axis=1)"
   ]
  },
  {
   "cell_type": "markdown",
   "id": "7b02b85f",
   "metadata": {
    "papermill": {
     "duration": 0.049053,
     "end_time": "2022-07-20T17:46:31.243345",
     "exception": false,
     "start_time": "2022-07-20T17:46:31.194292",
     "status": "completed"
    },
    "tags": []
   },
   "source": [
    "## Submission"
   ]
  },
  {
   "cell_type": "code",
   "execution_count": 43,
   "id": "db7ca956",
   "metadata": {
    "execution": {
     "iopub.execute_input": "2022-07-20T17:46:31.344095Z",
     "iopub.status.busy": "2022-07-20T17:46:31.343272Z",
     "iopub.status.idle": "2022-07-20T17:46:31.365841Z",
     "shell.execute_reply": "2022-07-20T17:46:31.364874Z"
    },
    "papermill": {
     "duration": 0.075731,
     "end_time": "2022-07-20T17:46:31.368000",
     "exception": false,
     "start_time": "2022-07-20T17:46:31.292269",
     "status": "completed"
    },
    "tags": []
   },
   "outputs": [
    {
     "data": {
      "text/html": [
       "<div>\n",
       "<style scoped>\n",
       "    .dataframe tbody tr th:only-of-type {\n",
       "        vertical-align: middle;\n",
       "    }\n",
       "\n",
       "    .dataframe tbody tr th {\n",
       "        vertical-align: top;\n",
       "    }\n",
       "\n",
       "    .dataframe thead th {\n",
       "        text-align: right;\n",
       "    }\n",
       "</style>\n",
       "<table border=\"1\" class=\"dataframe\">\n",
       "  <thead>\n",
       "    <tr style=\"text-align: right;\">\n",
       "      <th></th>\n",
       "      <th>id</th>\n",
       "      <th>target</th>\n",
       "    </tr>\n",
       "  </thead>\n",
       "  <tbody>\n",
       "    <tr>\n",
       "      <th>0</th>\n",
       "      <td>0</td>\n",
       "      <td>0</td>\n",
       "    </tr>\n",
       "    <tr>\n",
       "      <th>1</th>\n",
       "      <td>2</td>\n",
       "      <td>0</td>\n",
       "    </tr>\n",
       "    <tr>\n",
       "      <th>2</th>\n",
       "      <td>3</td>\n",
       "      <td>1</td>\n",
       "    </tr>\n",
       "    <tr>\n",
       "      <th>3</th>\n",
       "      <td>9</td>\n",
       "      <td>1</td>\n",
       "    </tr>\n",
       "    <tr>\n",
       "      <th>4</th>\n",
       "      <td>11</td>\n",
       "      <td>1</td>\n",
       "    </tr>\n",
       "  </tbody>\n",
       "</table>\n",
       "</div>"
      ],
      "text/plain": [
       "   id  target\n",
       "0   0       0\n",
       "1   2       0\n",
       "2   3       1\n",
       "3   9       1\n",
       "4  11       1"
      ]
     },
     "execution_count": 43,
     "metadata": {},
     "output_type": "execute_result"
    }
   ],
   "source": [
    "# Different TARGET name used in test.csv\n",
    "ss = create_submission(\"\", TARGET, preds)\n",
    "ss[:5]"
   ]
  },
  {
   "cell_type": "code",
   "execution_count": 44,
   "id": "8ebd0a1d",
   "metadata": {
    "execution": {
     "iopub.execute_input": "2022-07-20T17:46:31.477314Z",
     "iopub.status.busy": "2022-07-20T17:46:31.476485Z",
     "iopub.status.idle": "2022-07-20T17:46:31.491064Z",
     "shell.execute_reply": "2022-07-20T17:46:31.489673Z"
    },
    "papermill": {
     "duration": 0.076159,
     "end_time": "2022-07-20T17:46:31.494941",
     "exception": false,
     "start_time": "2022-07-20T17:46:31.418782",
     "status": "completed"
    },
    "tags": []
   },
   "outputs": [
    {
     "data": {
      "text/plain": [
       "0    1976\n",
       "1    1287\n",
       "Name: target, dtype: int64"
      ]
     },
     "execution_count": 44,
     "metadata": {},
     "output_type": "execute_result"
    }
   ],
   "source": [
    "ss[TARGET].value_counts()"
   ]
  },
  {
   "cell_type": "code",
   "execution_count": null,
   "id": "98029c60",
   "metadata": {
    "papermill": {
     "duration": 0.049664,
     "end_time": "2022-07-20T17:46:31.602260",
     "exception": false,
     "start_time": "2022-07-20T17:46:31.552596",
     "status": "completed"
    },
    "tags": []
   },
   "outputs": [],
   "source": []
  }
 ],
 "metadata": {
  "kernelspec": {
   "display_name": "Python 3",
   "language": "python",
   "name": "python3"
  },
  "language_info": {
   "codemirror_mode": {
    "name": "ipython",
    "version": 3
   },
   "file_extension": ".py",
   "mimetype": "text/x-python",
   "name": "python",
   "nbconvert_exporter": "python",
   "pygments_lexer": "ipython3",
   "version": "3.7.12"
  },
  "papermill": {
   "default_parameters": {},
   "duration": 88.735145,
   "end_time": "2022-07-20T17:46:34.545411",
   "environment_variables": {},
   "exception": null,
   "input_path": "__notebook__.ipynb",
   "output_path": "__notebook__.ipynb",
   "parameters": {},
   "start_time": "2022-07-20T17:45:05.810266",
   "version": "2.3.4"
  }
 },
 "nbformat": 4,
 "nbformat_minor": 5
}
