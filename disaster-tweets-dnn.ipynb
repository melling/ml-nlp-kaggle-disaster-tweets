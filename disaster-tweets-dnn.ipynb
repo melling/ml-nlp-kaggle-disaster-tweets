{
 "cells": [
  {
   "cell_type": "markdown",
   "id": "531483da",
   "metadata": {
    "papermill": {
     "duration": 0.014982,
     "end_time": "2022-07-19T21:18:35.093636",
     "exception": false,
     "start_time": "2022-07-19T21:18:35.078654",
     "status": "completed"
    },
    "tags": []
   },
   "source": [
    "<div style=\"background-color:rgba(128, 0, 128, 0.6);border-radius:5px;display:fill\"><h1 style=\"text-align: center;padding: 12px 0px 12px 0px;\">Disaster Tweets: DNN</h1>\n",
    "</div>\n",
    "\n",
    "Problem Type: Binary-classification\n",
    "\n",
    "## Evaluation Metric\n",
    "\n",
    "F1-Score"
   ]
  },
  {
   "cell_type": "code",
   "execution_count": 1,
   "id": "e476e622",
   "metadata": {
    "execution": {
     "iopub.execute_input": "2022-07-19T21:18:35.122852Z",
     "iopub.status.busy": "2022-07-19T21:18:35.121758Z",
     "iopub.status.idle": "2022-07-19T21:18:51.285697Z",
     "shell.execute_reply": "2022-07-19T21:18:51.284383Z"
    },
    "papermill": {
     "duration": 16.182131,
     "end_time": "2022-07-19T21:18:51.288817",
     "exception": false,
     "start_time": "2022-07-19T21:18:35.106686",
     "status": "completed"
    },
    "tags": []
   },
   "outputs": [
    {
     "name": "stdout",
     "output_type": "stream",
     "text": [
      "\u001b[33mWARNING: Running pip as the 'root' user can result in broken permissions and conflicting behaviour with the system package manager. It is recommended to use a virtual environment instead: https://pip.pypa.io/warnings/venv\u001b[0m\u001b[33m\r\n",
      "\u001b[0m"
     ]
    }
   ],
   "source": [
    "# Black formatter https://black.readthedocs.io/en/stable/\n",
    "\n",
    "! pip install nb-black > /dev/null\n",
    "\n",
    "%load_ext lab_black"
   ]
  },
  {
   "cell_type": "markdown",
   "id": "c9b11465",
   "metadata": {
    "papermill": {
     "duration": 0.013064,
     "end_time": "2022-07-19T21:18:51.315573",
     "exception": false,
     "start_time": "2022-07-19T21:18:51.302509",
     "status": "completed"
    },
    "tags": []
   },
   "source": [
    "<div style=\"background-color:rgba(128, 0, 128, 0.6);border-radius:5px;display:fill\"><h1 style=\"text-align: center;padding: 12px 0px 12px 0px;\">Configuration</h1>\n",
    "</div>"
   ]
  },
  {
   "cell_type": "code",
   "execution_count": 2,
   "id": "b5460d81",
   "metadata": {
    "execution": {
     "iopub.execute_input": "2022-07-19T21:18:51.345758Z",
     "iopub.status.busy": "2022-07-19T21:18:51.345292Z",
     "iopub.status.idle": "2022-07-19T21:18:51.353251Z",
     "shell.execute_reply": "2022-07-19T21:18:51.351695Z"
    },
    "papermill": {
     "duration": 0.027149,
     "end_time": "2022-07-19T21:18:51.355945",
     "exception": false,
     "start_time": "2022-07-19T21:18:51.328796",
     "status": "completed"
    },
    "tags": []
   },
   "outputs": [],
   "source": [
    "data_dir = \"../input/nlp-getting-started/\""
   ]
  },
  {
   "cell_type": "code",
   "execution_count": 3,
   "id": "d35a55bf",
   "metadata": {
    "execution": {
     "iopub.execute_input": "2022-07-19T21:18:51.384465Z",
     "iopub.status.busy": "2022-07-19T21:18:51.384035Z",
     "iopub.status.idle": "2022-07-19T21:18:51.389842Z",
     "shell.execute_reply": "2022-07-19T21:18:51.388954Z"
    },
    "papermill": {
     "duration": 0.022993,
     "end_time": "2022-07-19T21:18:51.392221",
     "exception": false,
     "start_time": "2022-07-19T21:18:51.369228",
     "status": "completed"
    },
    "tags": []
   },
   "outputs": [],
   "source": [
    "TARGET = \"target\""
   ]
  },
  {
   "cell_type": "markdown",
   "id": "8b2be94e",
   "metadata": {
    "papermill": {
     "duration": 0.012629,
     "end_time": "2022-07-19T21:18:51.417887",
     "exception": false,
     "start_time": "2022-07-19T21:18:51.405258",
     "status": "completed"
    },
    "tags": []
   },
   "source": [
    "<div style=\"background-color:rgba(128, 0, 128, 0.6);border-radius:5px;display:fill\"><h1 style=\"text-align: center;padding: 12px 0px 12px 0px;\">Import Libraries</h1>\n",
    "</div>\n",
    "\n",
    "A best practise is to include all libraries here.  However, I will put a few imports farther down where they are first used so beginners can learn with an \"as needed\" approach."
   ]
  },
  {
   "cell_type": "code",
   "execution_count": 4,
   "id": "aa31cd9c",
   "metadata": {
    "execution": {
     "iopub.execute_input": "2022-07-19T21:18:51.445514Z",
     "iopub.status.busy": "2022-07-19T21:18:51.445107Z",
     "iopub.status.idle": "2022-07-19T21:19:04.003975Z",
     "shell.execute_reply": "2022-07-19T21:19:04.002168Z"
    },
    "papermill": {
     "duration": 12.576769,
     "end_time": "2022-07-19T21:19:04.007480",
     "exception": false,
     "start_time": "2022-07-19T21:18:51.430711",
     "status": "completed"
    },
    "tags": []
   },
   "outputs": [],
   "source": [
    "import os\n",
    "import time\n",
    "from pathlib import Path\n",
    "\n",
    "import pandas as pd\n",
    "import numpy as np\n",
    "\n",
    "from sklearn.model_selection import train_test_split\n",
    "\n",
    "from sklearn.metrics import f1_score\n",
    "\n",
    "# Visualization Libraries\n",
    "import matplotlib.pylab as plt\n",
    "import seaborn as sns\n",
    "\n",
    "import tensorflow as tf\n",
    "from tensorflow import keras\n",
    "from tensorflow.keras import layers"
   ]
  },
  {
   "cell_type": "markdown",
   "id": "98cb0799",
   "metadata": {
    "papermill": {
     "duration": 0.012843,
     "end_time": "2022-07-19T21:19:04.034599",
     "exception": false,
     "start_time": "2022-07-19T21:19:04.021756",
     "status": "completed"
    },
    "tags": []
   },
   "source": [
    "<div style=\"background-color:rgba(128, 0, 128, 0.6);border-radius:5px;display:fill\"><h1 style=\"text-align: center;padding: 12px 0px 12px 0px;\">Library</h1>\n",
    "</div>\n",
    "\n",
    "Creating a few functions that we will reuse in each project."
   ]
  },
  {
   "cell_type": "code",
   "execution_count": 5,
   "id": "cc5b96b0",
   "metadata": {
    "execution": {
     "iopub.execute_input": "2022-07-19T21:19:04.064633Z",
     "iopub.status.busy": "2022-07-19T21:19:04.063721Z",
     "iopub.status.idle": "2022-07-19T21:19:04.079932Z",
     "shell.execute_reply": "2022-07-19T21:19:04.078860Z"
    },
    "papermill": {
     "duration": 0.033509,
     "end_time": "2022-07-19T21:19:04.082307",
     "exception": false,
     "start_time": "2022-07-19T21:19:04.048798",
     "status": "completed"
    },
    "tags": []
   },
   "outputs": [],
   "source": [
    "def read_data(path):\n",
    "    data_dir = Path(path)\n",
    "\n",
    "    train = pd.read_csv(data_dir / \"train.csv\")\n",
    "    test = pd.read_csv(data_dir / \"test.csv\")\n",
    "    submission_df = pd.read_csv(data_dir / \"sample_submission.csv\")\n",
    "\n",
    "    print(f\"train data: Rows={train.shape[0]}, Columns={train.shape[1]}\")\n",
    "    print(f\"test data : Rows={test.shape[0]}, Columns={test.shape[1]}\")\n",
    "    return train, test, submission_df"
   ]
  },
  {
   "cell_type": "code",
   "execution_count": 6,
   "id": "19234e65",
   "metadata": {
    "execution": {
     "iopub.execute_input": "2022-07-19T21:19:04.114800Z",
     "iopub.status.busy": "2022-07-19T21:19:04.114317Z",
     "iopub.status.idle": "2022-07-19T21:19:04.128703Z",
     "shell.execute_reply": "2022-07-19T21:19:04.127651Z"
    },
    "papermill": {
     "duration": 0.03434,
     "end_time": "2022-07-19T21:19:04.131848",
     "exception": false,
     "start_time": "2022-07-19T21:19:04.097508",
     "status": "completed"
    },
    "tags": []
   },
   "outputs": [],
   "source": [
    "def create_submission(model_name, target, preds, is_log_target=False):\n",
    "    if is_log_target:\n",
    "        #         preds = np.exp(preds)\n",
    "        preds = np.expm1(preds)\n",
    "\n",
    "    sample_submission[target] = preds\n",
    "    if len(model_name) > 0:\n",
    "        sample_submission.to_csv(f\"submission_{model_name}.csv\", index=False)\n",
    "    else:\n",
    "        sample_submission.to_csv(f\"submission.csv\", index=False)\n",
    "\n",
    "    return sample_submission"
   ]
  },
  {
   "cell_type": "code",
   "execution_count": 7,
   "id": "436134cd",
   "metadata": {
    "execution": {
     "iopub.execute_input": "2022-07-19T21:19:04.162736Z",
     "iopub.status.busy": "2022-07-19T21:19:04.162038Z",
     "iopub.status.idle": "2022-07-19T21:19:04.175086Z",
     "shell.execute_reply": "2022-07-19T21:19:04.174135Z"
    },
    "papermill": {
     "duration": 0.031598,
     "end_time": "2022-07-19T21:19:04.177686",
     "exception": false,
     "start_time": "2022-07-19T21:19:04.146088",
     "status": "completed"
    },
    "tags": []
   },
   "outputs": [],
   "source": [
    "from sklearn.metrics import mean_absolute_error, mean_squared_error, f1_score\n",
    "\n",
    "\n",
    "def show_scores(gt, yhat):\n",
    "    f1 = f1_score(gt, yhat, average=\"macro\")\n",
    "    mse = mean_squared_error(gt, yhat)\n",
    "    mae = mean_absolute_error(gt, yhat)\n",
    "    rmse = np.sqrt(mse)\n",
    "    #     r2_square = r2_score(gt, yhat)\n",
    "\n",
    "    print(f\"f1: {f1:.4f}\")"
   ]
  },
  {
   "cell_type": "markdown",
   "id": "0b54e611",
   "metadata": {
    "papermill": {
     "duration": 0.013157,
     "end_time": "2022-07-19T21:19:04.205000",
     "exception": false,
     "start_time": "2022-07-19T21:19:04.191843",
     "status": "completed"
    },
    "tags": []
   },
   "source": [
    "<div style=\"background-color:rgba(128, 0, 128, 0.6);border-radius:5px;display:fill\"><h1 style=\"text-align: center;padding: 12px 0px 12px 0px;\">Load Train/Test Data</h1>\n",
    "</div>\n",
    "\n",
    "- train.csv - Data used to build our machine learning model\n",
    "- test.csv - Data used to build our machine learning model. Does not contain the target variable\n",
    "- sample_submission.csv - A file in the proper format to submit test predictions"
   ]
  },
  {
   "cell_type": "code",
   "execution_count": 8,
   "id": "7cf15115",
   "metadata": {
    "execution": {
     "iopub.execute_input": "2022-07-19T21:19:04.234933Z",
     "iopub.status.busy": "2022-07-19T21:19:04.234163Z",
     "iopub.status.idle": "2022-07-19T21:19:04.340937Z",
     "shell.execute_reply": "2022-07-19T21:19:04.339300Z"
    },
    "papermill": {
     "duration": 0.124945,
     "end_time": "2022-07-19T21:19:04.343690",
     "exception": false,
     "start_time": "2022-07-19T21:19:04.218745",
     "status": "completed"
    },
    "tags": []
   },
   "outputs": [
    {
     "name": "stdout",
     "output_type": "stream",
     "text": [
      "train data: Rows=7613, Columns=5\n",
      "test data : Rows=3263, Columns=4\n"
     ]
    }
   ],
   "source": [
    "train, test, sample_submission = read_data(data_dir)"
   ]
  },
  {
   "cell_type": "code",
   "execution_count": 9,
   "id": "7bf3e080",
   "metadata": {
    "execution": {
     "iopub.execute_input": "2022-07-19T21:19:04.372007Z",
     "iopub.status.busy": "2022-07-19T21:19:04.371564Z",
     "iopub.status.idle": "2022-07-19T21:19:04.401028Z",
     "shell.execute_reply": "2022-07-19T21:19:04.399705Z"
    },
    "papermill": {
     "duration": 0.047257,
     "end_time": "2022-07-19T21:19:04.404337",
     "exception": false,
     "start_time": "2022-07-19T21:19:04.357080",
     "status": "completed"
    },
    "tags": []
   },
   "outputs": [
    {
     "data": {
      "text/html": [
       "<div>\n",
       "<style scoped>\n",
       "    .dataframe tbody tr th:only-of-type {\n",
       "        vertical-align: middle;\n",
       "    }\n",
       "\n",
       "    .dataframe tbody tr th {\n",
       "        vertical-align: top;\n",
       "    }\n",
       "\n",
       "    .dataframe thead th {\n",
       "        text-align: right;\n",
       "    }\n",
       "</style>\n",
       "<table border=\"1\" class=\"dataframe\">\n",
       "  <thead>\n",
       "    <tr style=\"text-align: right;\">\n",
       "      <th></th>\n",
       "      <th>id</th>\n",
       "      <th>keyword</th>\n",
       "      <th>location</th>\n",
       "      <th>text</th>\n",
       "      <th>target</th>\n",
       "    </tr>\n",
       "  </thead>\n",
       "  <tbody>\n",
       "    <tr>\n",
       "      <th>0</th>\n",
       "      <td>1</td>\n",
       "      <td>NaN</td>\n",
       "      <td>NaN</td>\n",
       "      <td>Our Deeds are the Reason of this #earthquake M...</td>\n",
       "      <td>1</td>\n",
       "    </tr>\n",
       "    <tr>\n",
       "      <th>1</th>\n",
       "      <td>4</td>\n",
       "      <td>NaN</td>\n",
       "      <td>NaN</td>\n",
       "      <td>Forest fire near La Ronge Sask. Canada</td>\n",
       "      <td>1</td>\n",
       "    </tr>\n",
       "    <tr>\n",
       "      <th>2</th>\n",
       "      <td>5</td>\n",
       "      <td>NaN</td>\n",
       "      <td>NaN</td>\n",
       "      <td>All residents asked to 'shelter in place' are ...</td>\n",
       "      <td>1</td>\n",
       "    </tr>\n",
       "    <tr>\n",
       "      <th>3</th>\n",
       "      <td>6</td>\n",
       "      <td>NaN</td>\n",
       "      <td>NaN</td>\n",
       "      <td>13,000 people receive #wildfires evacuation or...</td>\n",
       "      <td>1</td>\n",
       "    </tr>\n",
       "    <tr>\n",
       "      <th>4</th>\n",
       "      <td>7</td>\n",
       "      <td>NaN</td>\n",
       "      <td>NaN</td>\n",
       "      <td>Just got sent this photo from Ruby #Alaska as ...</td>\n",
       "      <td>1</td>\n",
       "    </tr>\n",
       "  </tbody>\n",
       "</table>\n",
       "</div>"
      ],
      "text/plain": [
       "   id keyword location                                               text  \\\n",
       "0   1     NaN      NaN  Our Deeds are the Reason of this #earthquake M...   \n",
       "1   4     NaN      NaN             Forest fire near La Ronge Sask. Canada   \n",
       "2   5     NaN      NaN  All residents asked to 'shelter in place' are ...   \n",
       "3   6     NaN      NaN  13,000 people receive #wildfires evacuation or...   \n",
       "4   7     NaN      NaN  Just got sent this photo from Ruby #Alaska as ...   \n",
       "\n",
       "   target  \n",
       "0       1  \n",
       "1       1  \n",
       "2       1  \n",
       "3       1  \n",
       "4       1  "
      ]
     },
     "execution_count": 9,
     "metadata": {},
     "output_type": "execute_result"
    }
   ],
   "source": [
    "train.head()"
   ]
  },
  {
   "cell_type": "code",
   "execution_count": 10,
   "id": "fb03989d",
   "metadata": {
    "execution": {
     "iopub.execute_input": "2022-07-19T21:19:04.435224Z",
     "iopub.status.busy": "2022-07-19T21:19:04.434667Z",
     "iopub.status.idle": "2022-07-19T21:19:04.448101Z",
     "shell.execute_reply": "2022-07-19T21:19:04.446626Z"
    },
    "papermill": {
     "duration": 0.031415,
     "end_time": "2022-07-19T21:19:04.450357",
     "exception": false,
     "start_time": "2022-07-19T21:19:04.418942",
     "status": "completed"
    },
    "tags": []
   },
   "outputs": [],
   "source": [
    "FEATURES = [\n",
    "    col\n",
    "    for col in train.columns\n",
    "    if col\n",
    "    not in [\n",
    "        \"Id\",\n",
    "        TARGET,\n",
    "        #         TARGET_ENC,\n",
    "    ]\n",
    "]"
   ]
  },
  {
   "cell_type": "code",
   "execution_count": 11,
   "id": "22d837c9",
   "metadata": {
    "execution": {
     "iopub.execute_input": "2022-07-19T21:19:04.480040Z",
     "iopub.status.busy": "2022-07-19T21:19:04.478498Z",
     "iopub.status.idle": "2022-07-19T21:19:04.502579Z",
     "shell.execute_reply": "2022-07-19T21:19:04.501467Z"
    },
    "papermill": {
     "duration": 0.041636,
     "end_time": "2022-07-19T21:19:04.505421",
     "exception": false,
     "start_time": "2022-07-19T21:19:04.463785",
     "status": "completed"
    },
    "tags": []
   },
   "outputs": [],
   "source": [
    "y = train[TARGET]\n",
    "X = train[FEATURES].copy()\n",
    "\n",
    "X_test = test[FEATURES].copy()"
   ]
  },
  {
   "cell_type": "code",
   "execution_count": 12,
   "id": "3bb1c119",
   "metadata": {
    "execution": {
     "iopub.execute_input": "2022-07-19T21:19:04.535947Z",
     "iopub.status.busy": "2022-07-19T21:19:04.534995Z",
     "iopub.status.idle": "2022-07-19T21:19:04.541478Z",
     "shell.execute_reply": "2022-07-19T21:19:04.540549Z"
    },
    "papermill": {
     "duration": 0.024117,
     "end_time": "2022-07-19T21:19:04.543649",
     "exception": false,
     "start_time": "2022-07-19T21:19:04.519532",
     "status": "completed"
    },
    "tags": []
   },
   "outputs": [],
   "source": [
    "# # Normalize the data\n",
    "# X = X / 255.0\n",
    "# X_test = X_test / 255.0"
   ]
  },
  {
   "cell_type": "code",
   "execution_count": 13,
   "id": "741ea0e8",
   "metadata": {
    "execution": {
     "iopub.execute_input": "2022-07-19T21:19:04.578981Z",
     "iopub.status.busy": "2022-07-19T21:19:04.578240Z",
     "iopub.status.idle": "2022-07-19T21:19:04.583249Z",
     "shell.execute_reply": "2022-07-19T21:19:04.582429Z"
    },
    "papermill": {
     "duration": 0.027434,
     "end_time": "2022-07-19T21:19:04.585928",
     "exception": false,
     "start_time": "2022-07-19T21:19:04.558494",
     "status": "completed"
    },
    "tags": []
   },
   "outputs": [],
   "source": [
    "# X = X.values.reshape(-1, 28, 28, 1)\n",
    "# X_test = X_test.values.reshape(-1, 28, 28, 1)"
   ]
  },
  {
   "cell_type": "code",
   "execution_count": 14,
   "id": "0f8655d0",
   "metadata": {
    "execution": {
     "iopub.execute_input": "2022-07-19T21:19:04.624243Z",
     "iopub.status.busy": "2022-07-19T21:19:04.623490Z",
     "iopub.status.idle": "2022-07-19T21:19:04.628558Z",
     "shell.execute_reply": "2022-07-19T21:19:04.627659Z"
    },
    "papermill": {
     "duration": 0.026828,
     "end_time": "2022-07-19T21:19:04.631075",
     "exception": false,
     "start_time": "2022-07-19T21:19:04.604247",
     "status": "completed"
    },
    "tags": []
   },
   "outputs": [],
   "source": [
    "# X[:3]"
   ]
  },
  {
   "cell_type": "code",
   "execution_count": 15,
   "id": "b91c3405",
   "metadata": {
    "execution": {
     "iopub.execute_input": "2022-07-19T21:19:04.663872Z",
     "iopub.status.busy": "2022-07-19T21:19:04.662464Z",
     "iopub.status.idle": "2022-07-19T21:19:04.667929Z",
     "shell.execute_reply": "2022-07-19T21:19:04.667087Z"
    },
    "papermill": {
     "duration": 0.024499,
     "end_time": "2022-07-19T21:19:04.670324",
     "exception": false,
     "start_time": "2022-07-19T21:19:04.645825",
     "status": "completed"
    },
    "tags": []
   },
   "outputs": [],
   "source": [
    "# from keras.utils.np_utils import to_categorical\n",
    "\n",
    "# y = to_categorical(y)"
   ]
  },
  {
   "cell_type": "code",
   "execution_count": 16,
   "id": "bd02a9ff",
   "metadata": {
    "execution": {
     "iopub.execute_input": "2022-07-19T21:19:04.704083Z",
     "iopub.status.busy": "2022-07-19T21:19:04.702738Z",
     "iopub.status.idle": "2022-07-19T21:19:04.712673Z",
     "shell.execute_reply": "2022-07-19T21:19:04.711767Z"
    },
    "papermill": {
     "duration": 0.029118,
     "end_time": "2022-07-19T21:19:04.715088",
     "exception": false,
     "start_time": "2022-07-19T21:19:04.685970",
     "status": "completed"
    },
    "tags": []
   },
   "outputs": [
    {
     "data": {
      "text/plain": [
       "0    1\n",
       "1    1\n",
       "2    1\n",
       "3    1\n",
       "4    1\n",
       "Name: target, dtype: int64"
      ]
     },
     "execution_count": 16,
     "metadata": {},
     "output_type": "execute_result"
    }
   ],
   "source": [
    "y[:5]"
   ]
  },
  {
   "cell_type": "markdown",
   "id": "31d562a5",
   "metadata": {
    "execution": {
     "iopub.execute_input": "2022-07-19T19:44:01.140457Z",
     "iopub.status.busy": "2022-07-19T19:44:01.139714Z",
     "iopub.status.idle": "2022-07-19T19:44:01.157867Z",
     "shell.execute_reply": "2022-07-19T19:44:01.154383Z",
     "shell.execute_reply.started": "2022-07-19T19:44:01.140426Z"
    },
    "papermill": {
     "duration": 0.015868,
     "end_time": "2022-07-19T21:19:04.745988",
     "exception": false,
     "start_time": "2022-07-19T21:19:04.730120",
     "status": "completed"
    },
    "tags": []
   },
   "source": [
    "Tokenize then pad sequence.\n",
    "\n",
    "### Vectorization vs Tokenization\n",
    "\n",
    "- https://datascience.stackexchange.com/questions/104859/what-is-the-difference-between-textvectorization-and-tokenizer\n",
    "- https://stackoverflow.com/questions/71002866/difference-between-tokenizer-and-textvectorization-layer-in-tensorflow\n",
    "- [You should try the new TensorFlow’s TextVectorization layer](https://towardsdatascience.com/you-should-try-the-new-tensorflows-textvectorization-layer-a80b3c6b00ee)"
   ]
  },
  {
   "cell_type": "code",
   "execution_count": 17,
   "id": "adbbe057",
   "metadata": {
    "execution": {
     "iopub.execute_input": "2022-07-19T21:19:04.778124Z",
     "iopub.status.busy": "2022-07-19T21:19:04.777390Z",
     "iopub.status.idle": "2022-07-19T21:19:05.042366Z",
     "shell.execute_reply": "2022-07-19T21:19:05.041501Z"
    },
    "papermill": {
     "duration": 0.284443,
     "end_time": "2022-07-19T21:19:05.045169",
     "exception": false,
     "start_time": "2022-07-19T21:19:04.760726",
     "status": "completed"
    },
    "tags": []
   },
   "outputs": [
    {
     "data": {
      "text/plain": [
       "22702"
      ]
     },
     "execution_count": 17,
     "metadata": {},
     "output_type": "execute_result"
    }
   ],
   "source": [
    "tokenizer = tf.keras.preprocessing.text.Tokenizer()\n",
    "tokenizer.oov_token = \"<OOV>\"\n",
    "tokenizer.fit_on_texts(train.text)\n",
    "vocab = tokenizer.word_index\n",
    "vocabCount = len(vocab) + 1\n",
    "\n",
    "vocabCount"
   ]
  },
  {
   "cell_type": "code",
   "execution_count": 18,
   "id": "8d260bec",
   "metadata": {
    "execution": {
     "iopub.execute_input": "2022-07-19T21:19:05.075345Z",
     "iopub.status.busy": "2022-07-19T21:19:05.074143Z",
     "iopub.status.idle": "2022-07-19T21:19:05.292631Z",
     "shell.execute_reply": "2022-07-19T21:19:05.291391Z"
    },
    "papermill": {
     "duration": 0.236583,
     "end_time": "2022-07-19T21:19:05.295362",
     "exception": false,
     "start_time": "2022-07-19T21:19:05.058779",
     "status": "completed"
    },
    "tags": []
   },
   "outputs": [
    {
     "data": {
      "text/plain": [
       "(7613, 33)"
      ]
     },
     "execution_count": 18,
     "metadata": {},
     "output_type": "execute_result"
    }
   ],
   "source": [
    "train = tf.keras.preprocessing.sequence.pad_sequences(\n",
    "    tokenizer.texts_to_sequences(train.text.to_numpy()), padding=\"pre\"\n",
    ")\n",
    "train.shape"
   ]
  },
  {
   "cell_type": "code",
   "execution_count": 19,
   "id": "667977f9",
   "metadata": {
    "execution": {
     "iopub.execute_input": "2022-07-19T21:19:05.326725Z",
     "iopub.status.busy": "2022-07-19T21:19:05.325863Z",
     "iopub.status.idle": "2022-07-19T21:19:05.343746Z",
     "shell.execute_reply": "2022-07-19T21:19:05.342366Z"
    },
    "papermill": {
     "duration": 0.036574,
     "end_time": "2022-07-19T21:19:05.346482",
     "exception": false,
     "start_time": "2022-07-19T21:19:05.309908",
     "status": "completed"
    },
    "tags": []
   },
   "outputs": [
    {
     "data": {
      "text/plain": [
       "((6851, 4), (6851,), (762, 4), (762,))"
      ]
     },
     "execution_count": 19,
     "metadata": {},
     "output_type": "execute_result"
    }
   ],
   "source": [
    "X_train, X_valid, y_train, y_valid = train_test_split(\n",
    "    X,\n",
    "    y,\n",
    "    test_size=0.1,\n",
    "    random_state=42,\n",
    ")\n",
    "X_train.shape, y_train.shape, X_valid.shape, y_valid.shape"
   ]
  },
  {
   "cell_type": "code",
   "execution_count": 20,
   "id": "09d35a2f",
   "metadata": {
    "execution": {
     "iopub.execute_input": "2022-07-19T21:19:05.376722Z",
     "iopub.status.busy": "2022-07-19T21:19:05.375938Z",
     "iopub.status.idle": "2022-07-19T21:19:05.385030Z",
     "shell.execute_reply": "2022-07-19T21:19:05.383706Z"
    },
    "papermill": {
     "duration": 0.027432,
     "end_time": "2022-07-19T21:19:05.387870",
     "exception": false,
     "start_time": "2022-07-19T21:19:05.360438",
     "status": "completed"
    },
    "tags": []
   },
   "outputs": [
    {
     "data": {
      "text/plain": [
       "pandas.core.frame.DataFrame"
      ]
     },
     "execution_count": 20,
     "metadata": {},
     "output_type": "execute_result"
    }
   ],
   "source": [
    "type(X_train)"
   ]
  },
  {
   "cell_type": "markdown",
   "id": "a554e174",
   "metadata": {
    "papermill": {
     "duration": 0.014824,
     "end_time": "2022-07-19T21:19:05.420592",
     "exception": false,
     "start_time": "2022-07-19T21:19:05.405768",
     "status": "completed"
    },
    "tags": []
   },
   "source": [
    "<div style=\"background-color:rgba(128, 0, 128, 0.6);border-radius:5px;display:fill\"><h1 style=\"text-align: center;padding: 12px 0px 12px 0px;\">Create Models</h1>\n",
    "</div>"
   ]
  },
  {
   "cell_type": "code",
   "execution_count": 21,
   "id": "10986eaf",
   "metadata": {
    "execution": {
     "iopub.execute_input": "2022-07-19T21:19:05.450739Z",
     "iopub.status.busy": "2022-07-19T21:19:05.450223Z",
     "iopub.status.idle": "2022-07-19T21:19:05.458182Z",
     "shell.execute_reply": "2022-07-19T21:19:05.456912Z"
    },
    "papermill": {
     "duration": 0.02585,
     "end_time": "2022-07-19T21:19:05.460377",
     "exception": false,
     "start_time": "2022-07-19T21:19:05.434527",
     "status": "completed"
    },
    "tags": []
   },
   "outputs": [],
   "source": [
    "def get_rnn_model01(vocabCount):\n",
    "    pass"
   ]
  },
  {
   "cell_type": "code",
   "execution_count": 22,
   "id": "8f2fadfc",
   "metadata": {
    "execution": {
     "iopub.execute_input": "2022-07-19T21:19:05.493933Z",
     "iopub.status.busy": "2022-07-19T21:19:05.492062Z",
     "iopub.status.idle": "2022-07-19T21:19:05.500267Z",
     "shell.execute_reply": "2022-07-19T21:19:05.498696Z"
    },
    "papermill": {
     "duration": 0.02775,
     "end_time": "2022-07-19T21:19:05.503196",
     "exception": false,
     "start_time": "2022-07-19T21:19:05.475446",
     "status": "completed"
    },
    "tags": []
   },
   "outputs": [],
   "source": [
    "def get_lstm_model01(vocabCount):\n",
    "    pass"
   ]
  },
  {
   "cell_type": "code",
   "execution_count": 23,
   "id": "646d08a0",
   "metadata": {
    "execution": {
     "iopub.execute_input": "2022-07-19T21:19:05.537118Z",
     "iopub.status.busy": "2022-07-19T21:19:05.535951Z",
     "iopub.status.idle": "2022-07-19T21:19:05.547255Z",
     "shell.execute_reply": "2022-07-19T21:19:05.546248Z"
    },
    "papermill": {
     "duration": 0.030629,
     "end_time": "2022-07-19T21:19:05.549887",
     "exception": false,
     "start_time": "2022-07-19T21:19:05.519258",
     "status": "completed"
    },
    "tags": []
   },
   "outputs": [],
   "source": [
    "def custom_standardization_fn(string_tensor):\n",
    "    lowercase_string = tf.strings.lower(string_tensor)\n",
    "    return tf.strings.regex_replace(\n",
    "        lowercase_string, f\"[{re.escape(string.punctuation)}]\", \"\"\n",
    "    )"
   ]
  },
  {
   "cell_type": "code",
   "execution_count": 24,
   "id": "3e69da39",
   "metadata": {
    "execution": {
     "iopub.execute_input": "2022-07-19T21:19:05.580760Z",
     "iopub.status.busy": "2022-07-19T21:19:05.579894Z",
     "iopub.status.idle": "2022-07-19T21:19:05.626756Z",
     "shell.execute_reply": "2022-07-19T21:19:05.624949Z"
    },
    "papermill": {
     "duration": 0.066342,
     "end_time": "2022-07-19T21:19:05.630022",
     "exception": false,
     "start_time": "2022-07-19T21:19:05.563680",
     "status": "completed"
    },
    "tags": []
   },
   "outputs": [],
   "source": [
    "from tensorflow.keras.layers.experimental.preprocessing import TextVectorization\n",
    "from keras.metrics import AUC\n",
    "from keras import optimizers, losses\n",
    "\n",
    "\n",
    "def get_tf_model01(vocabCount):\n",
    "    #     print(f\"x_shape=\")\n",
    "    #     input_shape = (height, width, channels)\n",
    "    #     inputs = keras.Input(shape=(28, 28, 1))\n",
    "    vocab_size = 23_000\n",
    "    embed_size = 100\n",
    "    doc_length = vocabCount + 1\n",
    "    max_length = 15\n",
    "\n",
    "    #     text_vectorizer = TextVectorization(max_tokens=vocab_size,\n",
    "    #                                        standardize=custom_standardization_fn,\n",
    "    #                                            output_mode=\"int\",)\n",
    "    text_vectorizer = TextVectorization(output_mode=\"int\")\n",
    "    text_vectorizer.adapt(X_train.text)\n",
    "\n",
    "    embedding_layer = keras.layers.Embedding(\n",
    "        input_dim=vocab_size,  # set input shape\n",
    "        #         standardize=custom_standardization_fn,\n",
    "        #         split=\"whitespace\",\n",
    "        #         ngrams=None,\n",
    "        #         output_mode=\"int\",\n",
    "        output_dim=128,  # set size of embedding vector\n",
    "        embeddings_initializer=\"uniform\",  # default, intialize randomly\n",
    "        input_length=max_length,  # how long is each input\n",
    "        name=\"embedding_1\",\n",
    "    )\n",
    "\n",
    "    #     tf.keras.layers.TextVectorization(\n",
    "    #         max_tokens=None, standardize='lower_and_strip_punctuation',\n",
    "    #         split='whitespace', ngrams=None, output_mode='int',\n",
    "    #         output_sequence_length=None, pad_to_max_tokens=False, vocabulary=None,\n",
    "    #         idf_weights=None, sparse=False, ragged=False, **kwargs\n",
    "    # )\n",
    "\n",
    "    words_in_vocab = text_vectorizer.get_vocabulary()\n",
    "    #     print(f\"Vocab={words_in_vocab}\")\n",
    "    #     inputs = keras.Input((doc_length,))\n",
    "    text_input = keras.Input(shape=(1,), dtype=tf.string, name=\"text_input_layer\")\n",
    "    #     inputs = keras.Input(shape=(1,), name=\"text_input_layer\")\n",
    "    x = text_vectorizer(text_input)\n",
    "    #     embedding_layer = keras.layers.Embedding(\n",
    "    #         input_dim=vocabCount + 1, output_dim=64, input_length=31\n",
    "    #     )(x)\n",
    "    x = embedding_layer(x)\n",
    "    x = keras.layers.GlobalAveragePooling1D()(x)\n",
    "    #     x = keras.layers.MaxPooling2d((2, 2))(x)\n",
    "    #     x = keras.layers.Conv2D(\n",
    "    #         128, activation=\"relu\", padding=\"same\", kernel_initializer=\"he_normal\"\n",
    "    #     )(x)\n",
    "    #     x = keras.layers.Flatten()(x)\n",
    "    #     x = keras.layers.BatchNormalization()(x)\n",
    "\n",
    "    #     x = keras.layers.Dense(128, activation=\"relu\")(x)\n",
    "\n",
    "    #     x = keras.layers.Dense(64, activation=\"relu\")(x)\n",
    "    #     x = keras.layers.BatchNormalization()(x)\n",
    "    x = keras.layers.Dense(32, activation=\"relu\")(x)\n",
    "    #     x = keras.layers.BatchNormalization()(x)\n",
    "    #     x = keras.layers.Dropout(0.1)(x)\n",
    "\n",
    "    outputs = keras.layers.Dense(1, activation=\"sigmoid\")(x)\n",
    "\n",
    "    model = keras.Model(text_input, outputs, name=\"Dense_Model\")\n",
    "\n",
    "    model.compile(\n",
    "        loss=\"binary_crossentropy\",\n",
    "        optimizer=\"adam\",\n",
    "        metrics=[\"accuracy\", AUC(name=\"auc\")],\n",
    "        #         metrics=[AUC(name = 'auc')])\n",
    "    )\n",
    "\n",
    "    #     model.compile(\n",
    "    #         optimizer=tf.keras.optimizers.Adam(learning_rate=0.01),\n",
    "    #         loss=\"accuracy\",\n",
    "    #     )\n",
    "\n",
    "    return model"
   ]
  },
  {
   "cell_type": "code",
   "execution_count": 25,
   "id": "f20d27b3",
   "metadata": {
    "execution": {
     "iopub.execute_input": "2022-07-19T21:19:05.665239Z",
     "iopub.status.busy": "2022-07-19T21:19:05.664685Z",
     "iopub.status.idle": "2022-07-19T21:19:05.678173Z",
     "shell.execute_reply": "2022-07-19T21:19:05.676760Z"
    },
    "papermill": {
     "duration": 0.034935,
     "end_time": "2022-07-19T21:19:05.680453",
     "exception": false,
     "start_time": "2022-07-19T21:19:05.645518",
     "status": "completed"
    },
    "tags": []
   },
   "outputs": [
    {
     "data": {
      "text/plain": [
       "4"
      ]
     },
     "execution_count": 25,
     "metadata": {},
     "output_type": "execute_result"
    }
   ],
   "source": [
    "X_train.shape[1]"
   ]
  },
  {
   "cell_type": "code",
   "execution_count": 26,
   "id": "6af4dd57",
   "metadata": {
    "execution": {
     "iopub.execute_input": "2022-07-19T21:19:05.712693Z",
     "iopub.status.busy": "2022-07-19T21:19:05.711399Z",
     "iopub.status.idle": "2022-07-19T21:19:05.719709Z",
     "shell.execute_reply": "2022-07-19T21:19:05.718750Z"
    },
    "papermill": {
     "duration": 0.026896,
     "end_time": "2022-07-19T21:19:05.722087",
     "exception": false,
     "start_time": "2022-07-19T21:19:05.695191",
     "status": "completed"
    },
    "tags": []
   },
   "outputs": [
    {
     "data": {
      "text/plain": [
       "7613"
      ]
     },
     "execution_count": 26,
     "metadata": {},
     "output_type": "execute_result"
    }
   ],
   "source": [
    "X.shape[0]"
   ]
  },
  {
   "cell_type": "code",
   "execution_count": 27,
   "id": "0e54ed31",
   "metadata": {
    "execution": {
     "iopub.execute_input": "2022-07-19T21:19:05.755079Z",
     "iopub.status.busy": "2022-07-19T21:19:05.754103Z",
     "iopub.status.idle": "2022-07-19T21:19:06.591715Z",
     "shell.execute_reply": "2022-07-19T21:19:06.589744Z"
    },
    "papermill": {
     "duration": 0.858354,
     "end_time": "2022-07-19T21:19:06.595632",
     "exception": false,
     "start_time": "2022-07-19T21:19:05.737278",
     "status": "completed"
    },
    "tags": []
   },
   "outputs": [
    {
     "name": "stderr",
     "output_type": "stream",
     "text": [
      "2022-07-19 21:19:05.799930: I tensorflow/core/common_runtime/process_util.cc:146] Creating new thread pool with default inter op setting: 2. Tune using inter_op_parallelism_threads for best performance.\n",
      "2022-07-19 21:19:05.924170: I tensorflow/compiler/mlir/mlir_graph_optimization_pass.cc:185] None of the MLIR Optimization Passes are enabled (registered 2)\n"
     ]
    },
    {
     "name": "stdout",
     "output_type": "stream",
     "text": [
      "Model: \"Dense_Model\"\n",
      "_________________________________________________________________\n",
      "Layer (type)                 Output Shape              Param #   \n",
      "=================================================================\n",
      "text_input_layer (InputLayer [(None, 1)]               0         \n",
      "_________________________________________________________________\n",
      "text_vectorization (TextVect (None, None)              0         \n",
      "_________________________________________________________________\n",
      "embedding_1 (Embedding)      (None, None, 128)         2944000   \n",
      "_________________________________________________________________\n",
      "global_average_pooling1d (Gl (None, 128)               0         \n",
      "_________________________________________________________________\n",
      "dense (Dense)                (None, 32)                4128      \n",
      "_________________________________________________________________\n",
      "dense_1 (Dense)              (None, 1)                 33        \n",
      "=================================================================\n",
      "Total params: 2,948,161\n",
      "Trainable params: 2,948,161\n",
      "Non-trainable params: 0\n",
      "_________________________________________________________________\n"
     ]
    }
   ],
   "source": [
    "model = get_tf_model01(vocabCount)\n",
    "\n",
    "model.summary()"
   ]
  },
  {
   "cell_type": "code",
   "execution_count": 28,
   "id": "ff675e10",
   "metadata": {
    "execution": {
     "iopub.execute_input": "2022-07-19T21:19:06.639268Z",
     "iopub.status.busy": "2022-07-19T21:19:06.638813Z",
     "iopub.status.idle": "2022-07-19T21:19:07.880084Z",
     "shell.execute_reply": "2022-07-19T21:19:07.878625Z"
    },
    "papermill": {
     "duration": 1.265631,
     "end_time": "2022-07-19T21:19:07.882924",
     "exception": false,
     "start_time": "2022-07-19T21:19:06.617293",
     "status": "completed"
    },
    "tags": []
   },
   "outputs": [
    {
     "data": {
      "image/png": "[encoded data removed]",
      "text/plain": [
       "<IPython.core.display.Image object>"
      ]
     },
     "execution_count": 28,
     "metadata": {},
     "output_type": "execute_result"
    }
   ],
   "source": [
    "keras.utils.plot_model(model)"
   ]
  },
  {
   "cell_type": "code",
   "execution_count": 29,
   "id": "4e573a8d",
   "metadata": {
    "execution": {
     "iopub.execute_input": "2022-07-19T21:19:07.916494Z",
     "iopub.status.busy": "2022-07-19T21:19:07.915767Z",
     "iopub.status.idle": "2022-07-19T21:19:07.928012Z",
     "shell.execute_reply": "2022-07-19T21:19:07.927059Z"
    },
    "papermill": {
     "duration": 0.032118,
     "end_time": "2022-07-19T21:19:07.930603",
     "exception": false,
     "start_time": "2022-07-19T21:19:07.898485",
     "status": "completed"
    },
    "tags": []
   },
   "outputs": [],
   "source": [
    "X_train = X_train.text\n",
    "X_valid = X_valid.text\n",
    "X_test = X_test.text"
   ]
  },
  {
   "cell_type": "code",
   "execution_count": 30,
   "id": "8710ebd3",
   "metadata": {
    "execution": {
     "iopub.execute_input": "2022-07-19T21:19:07.963172Z",
     "iopub.status.busy": "2022-07-19T21:19:07.962487Z",
     "iopub.status.idle": "2022-07-19T21:19:07.977114Z",
     "shell.execute_reply": "2022-07-19T21:19:07.975930Z"
    },
    "papermill": {
     "duration": 0.033991,
     "end_time": "2022-07-19T21:19:07.979773",
     "exception": false,
     "start_time": "2022-07-19T21:19:07.945782",
     "status": "completed"
    },
    "tags": []
   },
   "outputs": [],
   "source": [
    "from keras.callbacks import *\n",
    "\n",
    "lr = ReduceLROnPlateau(\n",
    "    monitor=\"val_auc\", mode=\"max\", factor=0.7, patience=4, verbose=False\n",
    ")\n",
    "es = EarlyStopping(\n",
    "    monitor=\"val_auc\", mode=\"max\", patience=10, verbose=False, restore_best_weights=True\n",
    ")"
   ]
  },
  {
   "cell_type": "code",
   "execution_count": 31,
   "id": "786a2341",
   "metadata": {
    "execution": {
     "iopub.execute_input": "2022-07-19T21:19:08.012838Z",
     "iopub.status.busy": "2022-07-19T21:19:08.011331Z",
     "iopub.status.idle": "2022-07-19T21:19:22.444028Z",
     "shell.execute_reply": "2022-07-19T21:19:22.442760Z"
    },
    "papermill": {
     "duration": 14.4518,
     "end_time": "2022-07-19T21:19:22.446673",
     "exception": false,
     "start_time": "2022-07-19T21:19:07.994873",
     "status": "completed"
    },
    "tags": []
   },
   "outputs": [
    {
     "name": "stdout",
     "output_type": "stream",
     "text": [
      "Epoch 1/10\n",
      "43/43 [==============================] - 3s 40ms/step - loss: 0.6784 - accuracy: 0.5710 - auc: 0.5773 - val_loss: 0.6623 - val_accuracy: 0.5660 - val_auc: 0.7741\n",
      "Epoch 2/10\n",
      "43/43 [==============================] - 1s 28ms/step - loss: 0.6107 - accuracy: 0.6856 - auc: 0.8595 - val_loss: 0.5712 - val_accuracy: 0.7352 - val_auc: 0.8457\n",
      "Epoch 3/10\n",
      "43/43 [==============================] - 1s 27ms/step - loss: 0.4537 - accuracy: 0.8445 - auc: 0.9161 - val_loss: 0.4765 - val_accuracy: 0.7965 - val_auc: 0.8526\n",
      "Epoch 4/10\n",
      "43/43 [==============================] - 1s 30ms/step - loss: 0.3106 - accuracy: 0.8958 - auc: 0.9539 - val_loss: 0.4545 - val_accuracy: 0.8053 - val_auc: 0.8587\n",
      "Epoch 5/10\n",
      "43/43 [==============================] - 1s 27ms/step - loss: 0.2168 - accuracy: 0.9328 - auc: 0.9777 - val_loss: 0.4633 - val_accuracy: 0.7965 - val_auc: 0.8573\n",
      "Epoch 6/10\n",
      "43/43 [==============================] - 1s 27ms/step - loss: 0.1535 - accuracy: 0.9542 - auc: 0.9902 - val_loss: 0.4825 - val_accuracy: 0.7921 - val_auc: 0.8552\n",
      "Epoch 7/10\n",
      "43/43 [==============================] - 1s 28ms/step - loss: 0.1105 - accuracy: 0.9695 - auc: 0.9954 - val_loss: 0.5061 - val_accuracy: 0.7907 - val_auc: 0.8510\n",
      "Epoch 8/10\n",
      "43/43 [==============================] - 1s 28ms/step - loss: 0.0810 - accuracy: 0.9783 - auc: 0.9978 - val_loss: 0.5348 - val_accuracy: 0.7885 - val_auc: 0.8476\n",
      "Epoch 9/10\n",
      "43/43 [==============================] - 1s 29ms/step - loss: 0.0608 - accuracy: 0.9856 - auc: 0.9989 - val_loss: 0.5537 - val_accuracy: 0.7848 - val_auc: 0.8457\n",
      "Epoch 10/10\n",
      "43/43 [==============================] - 1s 27ms/step - loss: 0.0495 - accuracy: 0.9883 - auc: 0.9994 - val_loss: 0.5747 - val_accuracy: 0.7819 - val_auc: 0.8429\n",
      "CPU times: user 26 s, sys: 1.19 s, total: 27.2 s\n",
      "Wall time: 14.4 s\n"
     ]
    }
   ],
   "source": [
    "%%time\n",
    "\n",
    "history = model.fit(\n",
    "    X_train,\n",
    "    y_train,\n",
    "    batch_size=128,\n",
    "    epochs=10,\n",
    "    # Suppress logging.\n",
    "    verbose=1,\n",
    "    callbacks=[es,lr],\n",
    "    # Calculate validation results on 20% of the training data.\n",
    "    validation_split = 0.2\n",
    ")"
   ]
  },
  {
   "cell_type": "code",
   "execution_count": 32,
   "id": "25fd4c80",
   "metadata": {
    "execution": {
     "iopub.execute_input": "2022-07-19T21:19:22.511869Z",
     "iopub.status.busy": "2022-07-19T21:19:22.511030Z",
     "iopub.status.idle": "2022-07-19T21:19:23.273033Z",
     "shell.execute_reply": "2022-07-19T21:19:23.271407Z"
    },
    "papermill": {
     "duration": 0.797645,
     "end_time": "2022-07-19T21:19:23.275646",
     "exception": false,
     "start_time": "2022-07-19T21:19:22.478001",
     "status": "completed"
    },
    "tags": []
   },
   "outputs": [
    {
     "data": {
      "image/png": "[encoded data removed]",
      "text/plain": [
       "<Figure size 432x288 with 1 Axes>"
      ]
     },
     "metadata": {
      "needs_background": "light"
     },
     "output_type": "display_data"
    },
    {
     "data": {
      "image/png": "[encoded data removed]",
      "text/plain": [
       "<Figure size 432x288 with 1 Axes>"
      ]
     },
     "metadata": {
      "needs_background": "light"
     },
     "output_type": "display_data"
    }
   ],
   "source": [
    "acc = history.history[\"accuracy\"]\n",
    "val_acc = history.history[\"val_accuracy\"]\n",
    "loss = history.history[\"loss\"]\n",
    "val_loss = history.history[\"val_loss\"]\n",
    "\n",
    "epochs = range(1, len(acc) + 1)\n",
    "\n",
    "plt.plot(epochs, acc, \"bo\", label=\"Training acc\")\n",
    "plt.plot(epochs, val_acc, \"b\", label=\"Validation acc\")\n",
    "plt.title(\"Training and validation accuracy\")\n",
    "plt.legend()\n",
    "\n",
    "plt.figure()\n",
    "\n",
    "plt.plot(epochs, loss, \"bo\", label=\"Training loss\")\n",
    "plt.plot(epochs, val_loss, \"b\", label=\"Validation loss\")\n",
    "plt.title(\"Training and validation loss\")\n",
    "plt.legend()\n",
    "\n",
    "plt.show()"
   ]
  },
  {
   "cell_type": "markdown",
   "id": "ce9301ae",
   "metadata": {
    "papermill": {
     "duration": 0.031472,
     "end_time": "2022-07-19T21:19:23.338668",
     "exception": false,
     "start_time": "2022-07-19T21:19:23.307196",
     "status": "completed"
    },
    "tags": []
   },
   "source": [
    "## Predict and Score"
   ]
  },
  {
   "cell_type": "code",
   "execution_count": 33,
   "id": "efac8ffb",
   "metadata": {
    "execution": {
     "iopub.execute_input": "2022-07-19T21:19:23.405261Z",
     "iopub.status.busy": "2022-07-19T21:19:23.404122Z",
     "iopub.status.idle": "2022-07-19T21:19:23.541185Z",
     "shell.execute_reply": "2022-07-19T21:19:23.539773Z"
    },
    "papermill": {
     "duration": 0.173457,
     "end_time": "2022-07-19T21:19:23.543942",
     "exception": false,
     "start_time": "2022-07-19T21:19:23.370485",
     "status": "completed"
    },
    "tags": []
   },
   "outputs": [
    {
     "name": "stdout",
     "output_type": "stream",
     "text": [
      "24/24 [==============================] - 0s 2ms/step - loss: 0.6549 - accuracy: 0.7612 - auc: 0.8222\n"
     ]
    },
    {
     "data": {
      "text/plain": [
       "(0.76115483045578, 0.8221796154975891)"
      ]
     },
     "execution_count": 33,
     "metadata": {},
     "output_type": "execute_result"
    }
   ],
   "source": [
    "test_loss, test_acc, test_auc = model.evaluate(X_valid, y_valid)\n",
    "test_acc, test_auc"
   ]
  },
  {
   "cell_type": "code",
   "execution_count": 34,
   "id": "7c0105f4",
   "metadata": {
    "execution": {
     "iopub.execute_input": "2022-07-19T21:19:23.611022Z",
     "iopub.status.busy": "2022-07-19T21:19:23.610100Z",
     "iopub.status.idle": "2022-07-19T21:19:23.871965Z",
     "shell.execute_reply": "2022-07-19T21:19:23.871051Z"
    },
    "papermill": {
     "duration": 0.298104,
     "end_time": "2022-07-19T21:19:23.874582",
     "exception": false,
     "start_time": "2022-07-19T21:19:23.576478",
     "status": "completed"
    },
    "tags": []
   },
   "outputs": [
    {
     "data": {
      "text/plain": [
       "array([[0.02149257],\n",
       "       [0.09009317],\n",
       "       [0.54777396],\n",
       "       [0.00292367],\n",
       "       [0.4870343 ]], dtype=float32)"
      ]
     },
     "execution_count": 34,
     "metadata": {},
     "output_type": "execute_result"
    }
   ],
   "source": [
    "valid_preds = model.predict(X_valid)\n",
    "valid_preds[:5]"
   ]
  },
  {
   "cell_type": "code",
   "execution_count": 35,
   "id": "7b094853",
   "metadata": {
    "execution": {
     "iopub.execute_input": "2022-07-19T21:19:23.941510Z",
     "iopub.status.busy": "2022-07-19T21:19:23.941089Z",
     "iopub.status.idle": "2022-07-19T21:19:23.949439Z",
     "shell.execute_reply": "2022-07-19T21:19:23.947950Z"
    },
    "papermill": {
     "duration": 0.04553,
     "end_time": "2022-07-19T21:19:23.952102",
     "exception": false,
     "start_time": "2022-07-19T21:19:23.906572",
     "status": "completed"
    },
    "tags": []
   },
   "outputs": [],
   "source": [
    "valid_preds = np.argmax(valid_preds, axis=1)"
   ]
  },
  {
   "cell_type": "code",
   "execution_count": 36,
   "id": "4ca06ad4",
   "metadata": {
    "execution": {
     "iopub.execute_input": "2022-07-19T21:19:24.017973Z",
     "iopub.status.busy": "2022-07-19T21:19:24.017272Z",
     "iopub.status.idle": "2022-07-19T21:19:24.022998Z",
     "shell.execute_reply": "2022-07-19T21:19:24.021925Z"
    },
    "papermill": {
     "duration": 0.04137,
     "end_time": "2022-07-19T21:19:24.025284",
     "exception": false,
     "start_time": "2022-07-19T21:19:23.983914",
     "status": "completed"
    },
    "tags": []
   },
   "outputs": [],
   "source": [
    "# show_scores(y_valid, valid_preds)"
   ]
  },
  {
   "cell_type": "code",
   "execution_count": 37,
   "id": "189c4941",
   "metadata": {
    "execution": {
     "iopub.execute_input": "2022-07-19T21:19:24.091979Z",
     "iopub.status.busy": "2022-07-19T21:19:24.091497Z",
     "iopub.status.idle": "2022-07-19T21:19:24.322121Z",
     "shell.execute_reply": "2022-07-19T21:19:24.321148Z"
    },
    "papermill": {
     "duration": 0.266843,
     "end_time": "2022-07-19T21:19:24.324208",
     "exception": false,
     "start_time": "2022-07-19T21:19:24.057365",
     "status": "completed"
    },
    "tags": []
   },
   "outputs": [
    {
     "data": {
      "text/plain": [
       "array([[0.6144739 ],\n",
       "       [0.57798386],\n",
       "       [0.9925473 ],\n",
       "       [0.62329876],\n",
       "       [0.9969506 ]], dtype=float32)"
      ]
     },
     "execution_count": 37,
     "metadata": {},
     "output_type": "execute_result"
    }
   ],
   "source": [
    "preds = model.predict(X_test)\n",
    "preds[:5]"
   ]
  },
  {
   "cell_type": "code",
   "execution_count": 38,
   "id": "bda8f828",
   "metadata": {
    "execution": {
     "iopub.execute_input": "2022-07-19T21:19:24.392647Z",
     "iopub.status.busy": "2022-07-19T21:19:24.391447Z",
     "iopub.status.idle": "2022-07-19T21:19:24.398370Z",
     "shell.execute_reply": "2022-07-19T21:19:24.397596Z"
    },
    "papermill": {
     "duration": 0.044031,
     "end_time": "2022-07-19T21:19:24.400525",
     "exception": false,
     "start_time": "2022-07-19T21:19:24.356494",
     "status": "completed"
    },
    "tags": []
   },
   "outputs": [],
   "source": [
    "preds = np.argmax(preds, axis=1)"
   ]
  },
  {
   "cell_type": "markdown",
   "id": "1179e0cc",
   "metadata": {
    "papermill": {
     "duration": 0.031922,
     "end_time": "2022-07-19T21:19:24.464835",
     "exception": false,
     "start_time": "2022-07-19T21:19:24.432913",
     "status": "completed"
    },
    "tags": []
   },
   "source": [
    "## Submission"
   ]
  },
  {
   "cell_type": "code",
   "execution_count": 39,
   "id": "72afab56",
   "metadata": {
    "execution": {
     "iopub.execute_input": "2022-07-19T21:19:24.532599Z",
     "iopub.status.busy": "2022-07-19T21:19:24.532156Z",
     "iopub.status.idle": "2022-07-19T21:19:24.562411Z",
     "shell.execute_reply": "2022-07-19T21:19:24.561467Z"
    },
    "papermill": {
     "duration": 0.066514,
     "end_time": "2022-07-19T21:19:24.564791",
     "exception": false,
     "start_time": "2022-07-19T21:19:24.498277",
     "status": "completed"
    },
    "tags": []
   },
   "outputs": [
    {
     "data": {
      "text/html": [
       "<div>\n",
       "<style scoped>\n",
       "    .dataframe tbody tr th:only-of-type {\n",
       "        vertical-align: middle;\n",
       "    }\n",
       "\n",
       "    .dataframe tbody tr th {\n",
       "        vertical-align: top;\n",
       "    }\n",
       "\n",
       "    .dataframe thead th {\n",
       "        text-align: right;\n",
       "    }\n",
       "</style>\n",
       "<table border=\"1\" class=\"dataframe\">\n",
       "  <thead>\n",
       "    <tr style=\"text-align: right;\">\n",
       "      <th></th>\n",
       "      <th>id</th>\n",
       "      <th>target</th>\n",
       "    </tr>\n",
       "  </thead>\n",
       "  <tbody>\n",
       "    <tr>\n",
       "      <th>0</th>\n",
       "      <td>0</td>\n",
       "      <td>0</td>\n",
       "    </tr>\n",
       "    <tr>\n",
       "      <th>1</th>\n",
       "      <td>2</td>\n",
       "      <td>0</td>\n",
       "    </tr>\n",
       "    <tr>\n",
       "      <th>2</th>\n",
       "      <td>3</td>\n",
       "      <td>0</td>\n",
       "    </tr>\n",
       "    <tr>\n",
       "      <th>3</th>\n",
       "      <td>9</td>\n",
       "      <td>0</td>\n",
       "    </tr>\n",
       "    <tr>\n",
       "      <th>4</th>\n",
       "      <td>11</td>\n",
       "      <td>0</td>\n",
       "    </tr>\n",
       "    <tr>\n",
       "      <th>...</th>\n",
       "      <td>...</td>\n",
       "      <td>...</td>\n",
       "    </tr>\n",
       "    <tr>\n",
       "      <th>95</th>\n",
       "      <td>323</td>\n",
       "      <td>0</td>\n",
       "    </tr>\n",
       "    <tr>\n",
       "      <th>96</th>\n",
       "      <td>324</td>\n",
       "      <td>0</td>\n",
       "    </tr>\n",
       "    <tr>\n",
       "      <th>97</th>\n",
       "      <td>325</td>\n",
       "      <td>0</td>\n",
       "    </tr>\n",
       "    <tr>\n",
       "      <th>98</th>\n",
       "      <td>326</td>\n",
       "      <td>0</td>\n",
       "    </tr>\n",
       "    <tr>\n",
       "      <th>99</th>\n",
       "      <td>333</td>\n",
       "      <td>0</td>\n",
       "    </tr>\n",
       "  </tbody>\n",
       "</table>\n",
       "<p>100 rows × 2 columns</p>\n",
       "</div>"
      ],
      "text/plain": [
       "     id  target\n",
       "0     0       0\n",
       "1     2       0\n",
       "2     3       0\n",
       "3     9       0\n",
       "4    11       0\n",
       "..  ...     ...\n",
       "95  323       0\n",
       "96  324       0\n",
       "97  325       0\n",
       "98  326       0\n",
       "99  333       0\n",
       "\n",
       "[100 rows x 2 columns]"
      ]
     },
     "execution_count": 39,
     "metadata": {},
     "output_type": "execute_result"
    }
   ],
   "source": [
    "# Different TARGET name used in test.csv\n",
    "ss = create_submission(\"\", TARGET, preds)\n",
    "ss[:100]"
   ]
  },
  {
   "cell_type": "code",
   "execution_count": 40,
   "id": "732ed6b8",
   "metadata": {
    "execution": {
     "iopub.execute_input": "2022-07-19T21:19:24.631953Z",
     "iopub.status.busy": "2022-07-19T21:19:24.630836Z",
     "iopub.status.idle": "2022-07-19T21:19:24.642528Z",
     "shell.execute_reply": "2022-07-19T21:19:24.641641Z"
    },
    "papermill": {
     "duration": 0.047639,
     "end_time": "2022-07-19T21:19:24.644849",
     "exception": false,
     "start_time": "2022-07-19T21:19:24.597210",
     "status": "completed"
    },
    "tags": []
   },
   "outputs": [
    {
     "data": {
      "text/plain": [
       "0    3263\n",
       "Name: target, dtype: int64"
      ]
     },
     "execution_count": 40,
     "metadata": {},
     "output_type": "execute_result"
    }
   ],
   "source": [
    "ss[TARGET].value_counts()"
   ]
  },
  {
   "cell_type": "code",
   "execution_count": null,
   "id": "bc8e805a",
   "metadata": {
    "papermill": {
     "duration": 0.032142,
     "end_time": "2022-07-19T21:19:24.710203",
     "exception": false,
     "start_time": "2022-07-19T21:19:24.678061",
     "status": "completed"
    },
    "tags": []
   },
   "outputs": [],
   "source": []
  }
 ],
 "metadata": {
  "kernelspec": {
   "display_name": "Python 3",
   "language": "python",
   "name": "python3"
  },
  "language_info": {
   "codemirror_mode": {
    "name": "ipython",
    "version": 3
   },
   "file_extension": ".py",
   "mimetype": "text/x-python",
   "name": "python",
   "nbconvert_exporter": "python",
   "pygments_lexer": "ipython3",
   "version": "3.7.12"
  },
  "papermill": {
   "default_parameters": {},
   "duration": 64.375854,
   "end_time": "2022-07-19T21:19:27.936849",
   "environment_variables": {},
   "exception": null,
   "input_path": "__notebook__.ipynb",
   "output_path": "__notebook__.ipynb",
   "parameters": {},
   "start_time": "2022-07-19T21:18:23.560995",
   "version": "2.3.4"
  }
 },
 "nbformat": 4,
 "nbformat_minor": 5
}
