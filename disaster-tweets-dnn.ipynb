{
 "cells": [
  {
   "cell_type": "markdown",
   "id": "55ca97f2",
   "metadata": {
    "papermill": {
     "duration": 0.015889,
     "end_time": "2022-07-19T21:33:24.178991",
     "exception": false,
     "start_time": "2022-07-19T21:33:24.163102",
     "status": "completed"
    },
    "tags": []
   },
   "source": [
    "<div style=\"background-color:rgba(128, 0, 128, 0.6);border-radius:5px;display:fill\"><h1 style=\"text-align: center;padding: 12px 0px 12px 0px;\">Disaster Tweets: DNN</h1>\n",
    "</div>\n",
    "\n",
    "Problem Type: Binary-classification\n",
    "\n",
    "## Evaluation Metric\n",
    "\n",
    "F1-Score"
   ]
  },
  {
   "cell_type": "code",
   "execution_count": 1,
   "id": "52c119db",
   "metadata": {
    "execution": {
     "iopub.execute_input": "2022-07-19T21:33:24.212298Z",
     "iopub.status.busy": "2022-07-19T21:33:24.211607Z",
     "iopub.status.idle": "2022-07-19T21:33:41.635951Z",
     "shell.execute_reply": "2022-07-19T21:33:41.634527Z"
    },
    "papermill": {
     "duration": 17.444284,
     "end_time": "2022-07-19T21:33:41.639148",
     "exception": false,
     "start_time": "2022-07-19T21:33:24.194864",
     "status": "completed"
    },
    "tags": []
   },
   "outputs": [
    {
     "name": "stdout",
     "output_type": "stream",
     "text": [
      "\u001b[33mWARNING: Running pip as the 'root' user can result in broken permissions and conflicting behaviour with the system package manager. It is recommended to use a virtual environment instead: https://pip.pypa.io/warnings/venv\u001b[0m\u001b[33m\r\n",
      "\u001b[0m"
     ]
    }
   ],
   "source": [
    "# Black formatter https://black.readthedocs.io/en/stable/\n",
    "\n",
    "! pip install nb-black > /dev/null\n",
    "\n",
    "%load_ext lab_black"
   ]
  },
  {
   "cell_type": "markdown",
   "id": "576f75ee",
   "metadata": {
    "papermill": {
     "duration": 0.013734,
     "end_time": "2022-07-19T21:33:41.667194",
     "exception": false,
     "start_time": "2022-07-19T21:33:41.653460",
     "status": "completed"
    },
    "tags": []
   },
   "source": [
    "<div style=\"background-color:rgba(128, 0, 128, 0.6);border-radius:5px;display:fill\"><h1 style=\"text-align: center;padding: 12px 0px 12px 0px;\">Configuration</h1>\n",
    "</div>"
   ]
  },
  {
   "cell_type": "code",
   "execution_count": 2,
   "id": "4f03a3bd",
   "metadata": {
    "execution": {
     "iopub.execute_input": "2022-07-19T21:33:41.698506Z",
     "iopub.status.busy": "2022-07-19T21:33:41.697991Z",
     "iopub.status.idle": "2022-07-19T21:33:41.705041Z",
     "shell.execute_reply": "2022-07-19T21:33:41.704086Z"
    },
    "papermill": {
     "duration": 0.024819,
     "end_time": "2022-07-19T21:33:41.707246",
     "exception": false,
     "start_time": "2022-07-19T21:33:41.682427",
     "status": "completed"
    },
    "tags": []
   },
   "outputs": [],
   "source": [
    "data_dir = \"../input/nlp-getting-started/\""
   ]
  },
  {
   "cell_type": "code",
   "execution_count": 3,
   "id": "5026df1d",
   "metadata": {
    "execution": {
     "iopub.execute_input": "2022-07-19T21:33:41.737990Z",
     "iopub.status.busy": "2022-07-19T21:33:41.737539Z",
     "iopub.status.idle": "2022-07-19T21:33:41.744465Z",
     "shell.execute_reply": "2022-07-19T21:33:41.743107Z"
    },
    "papermill": {
     "duration": 0.025421,
     "end_time": "2022-07-19T21:33:41.747028",
     "exception": false,
     "start_time": "2022-07-19T21:33:41.721607",
     "status": "completed"
    },
    "tags": []
   },
   "outputs": [],
   "source": [
    "TARGET = \"target\""
   ]
  },
  {
   "cell_type": "markdown",
   "id": "4eca2660",
   "metadata": {
    "papermill": {
     "duration": 0.013626,
     "end_time": "2022-07-19T21:33:41.774951",
     "exception": false,
     "start_time": "2022-07-19T21:33:41.761325",
     "status": "completed"
    },
    "tags": []
   },
   "source": [
    "<div style=\"background-color:rgba(128, 0, 128, 0.6);border-radius:5px;display:fill\"><h1 style=\"text-align: center;padding: 12px 0px 12px 0px;\">Import Libraries</h1>\n",
    "</div>\n",
    "\n",
    "A best practise is to include all libraries here.  However, I will put a few imports farther down where they are first used so beginners can learn with an \"as needed\" approach."
   ]
  },
  {
   "cell_type": "code",
   "execution_count": 4,
   "id": "5a53d3cc",
   "metadata": {
    "execution": {
     "iopub.execute_input": "2022-07-19T21:33:41.804484Z",
     "iopub.status.busy": "2022-07-19T21:33:41.804076Z",
     "iopub.status.idle": "2022-07-19T21:33:52.369444Z",
     "shell.execute_reply": "2022-07-19T21:33:52.368202Z"
    },
    "papermill": {
     "duration": 10.583902,
     "end_time": "2022-07-19T21:33:52.372707",
     "exception": false,
     "start_time": "2022-07-19T21:33:41.788805",
     "status": "completed"
    },
    "tags": []
   },
   "outputs": [],
   "source": [
    "import os\n",
    "import time\n",
    "from pathlib import Path\n",
    "\n",
    "import pandas as pd\n",
    "import numpy as np\n",
    "\n",
    "from sklearn.model_selection import train_test_split\n",
    "\n",
    "from sklearn.metrics import f1_score\n",
    "\n",
    "# Visualization Libraries\n",
    "import matplotlib.pylab as plt\n",
    "import seaborn as sns\n",
    "\n",
    "import tensorflow as tf\n",
    "from tensorflow import keras\n",
    "from tensorflow.keras import layers"
   ]
  },
  {
   "cell_type": "markdown",
   "id": "04b6fc56",
   "metadata": {
    "papermill": {
     "duration": 0.014559,
     "end_time": "2022-07-19T21:33:52.402638",
     "exception": false,
     "start_time": "2022-07-19T21:33:52.388079",
     "status": "completed"
    },
    "tags": []
   },
   "source": [
    "<div style=\"background-color:rgba(128, 0, 128, 0.6);border-radius:5px;display:fill\"><h1 style=\"text-align: center;padding: 12px 0px 12px 0px;\">Library</h1>\n",
    "</div>\n",
    "\n",
    "Creating a few functions that we will reuse in each project."
   ]
  },
  {
   "cell_type": "code",
   "execution_count": 5,
   "id": "f127b4d0",
   "metadata": {
    "execution": {
     "iopub.execute_input": "2022-07-19T21:33:52.434577Z",
     "iopub.status.busy": "2022-07-19T21:33:52.433907Z",
     "iopub.status.idle": "2022-07-19T21:33:52.451658Z",
     "shell.execute_reply": "2022-07-19T21:33:52.450455Z"
    },
    "papermill": {
     "duration": 0.037201,
     "end_time": "2022-07-19T21:33:52.454391",
     "exception": false,
     "start_time": "2022-07-19T21:33:52.417190",
     "status": "completed"
    },
    "tags": []
   },
   "outputs": [],
   "source": [
    "def read_data(path):\n",
    "    data_dir = Path(path)\n",
    "\n",
    "    train = pd.read_csv(data_dir / \"train.csv\")\n",
    "    test = pd.read_csv(data_dir / \"test.csv\")\n",
    "    submission_df = pd.read_csv(data_dir / \"sample_submission.csv\")\n",
    "\n",
    "    print(f\"train data: Rows={train.shape[0]}, Columns={train.shape[1]}\")\n",
    "    print(f\"test data : Rows={test.shape[0]}, Columns={test.shape[1]}\")\n",
    "    return train, test, submission_df"
   ]
  },
  {
   "cell_type": "code",
   "execution_count": 6,
   "id": "6df3ee7b",
   "metadata": {
    "execution": {
     "iopub.execute_input": "2022-07-19T21:33:52.485172Z",
     "iopub.status.busy": "2022-07-19T21:33:52.484771Z",
     "iopub.status.idle": "2022-07-19T21:33:52.499848Z",
     "shell.execute_reply": "2022-07-19T21:33:52.498685Z"
    },
    "papermill": {
     "duration": 0.033383,
     "end_time": "2022-07-19T21:33:52.502421",
     "exception": false,
     "start_time": "2022-07-19T21:33:52.469038",
     "status": "completed"
    },
    "tags": []
   },
   "outputs": [],
   "source": [
    "def create_submission(model_name, target, preds, is_log_target=False):\n",
    "    if is_log_target:\n",
    "        #         preds = np.exp(preds)\n",
    "        preds = np.expm1(preds)\n",
    "\n",
    "    sample_submission[target] = preds\n",
    "    if len(model_name) > 0:\n",
    "        sample_submission.to_csv(f\"submission_{model_name}.csv\", index=False)\n",
    "    else:\n",
    "        sample_submission.to_csv(f\"submission.csv\", index=False)\n",
    "\n",
    "    return sample_submission"
   ]
  },
  {
   "cell_type": "code",
   "execution_count": 7,
   "id": "dcddd5ff",
   "metadata": {
    "execution": {
     "iopub.execute_input": "2022-07-19T21:33:52.533715Z",
     "iopub.status.busy": "2022-07-19T21:33:52.532827Z",
     "iopub.status.idle": "2022-07-19T21:33:52.548464Z",
     "shell.execute_reply": "2022-07-19T21:33:52.547065Z"
    },
    "papermill": {
     "duration": 0.03427,
     "end_time": "2022-07-19T21:33:52.551361",
     "exception": false,
     "start_time": "2022-07-19T21:33:52.517091",
     "status": "completed"
    },
    "tags": []
   },
   "outputs": [],
   "source": [
    "from sklearn.metrics import mean_absolute_error, mean_squared_error, f1_score\n",
    "\n",
    "\n",
    "def show_scores(gt, yhat):\n",
    "    f1 = f1_score(gt, yhat, average=\"macro\")\n",
    "    mse = mean_squared_error(gt, yhat)\n",
    "    mae = mean_absolute_error(gt, yhat)\n",
    "    rmse = np.sqrt(mse)\n",
    "    #     r2_square = r2_score(gt, yhat)\n",
    "\n",
    "    print(f\"f1: {f1:.4f}\")"
   ]
  },
  {
   "cell_type": "markdown",
   "id": "4700a1af",
   "metadata": {
    "papermill": {
     "duration": 0.013825,
     "end_time": "2022-07-19T21:33:52.580110",
     "exception": false,
     "start_time": "2022-07-19T21:33:52.566285",
     "status": "completed"
    },
    "tags": []
   },
   "source": [
    "<div style=\"background-color:rgba(128, 0, 128, 0.6);border-radius:5px;display:fill\"><h1 style=\"text-align: center;padding: 12px 0px 12px 0px;\">Load Train/Test Data</h1>\n",
    "</div>\n",
    "\n",
    "- train.csv - Data used to build our machine learning model\n",
    "- test.csv - Data used to build our machine learning model. Does not contain the target variable\n",
    "- sample_submission.csv - A file in the proper format to submit test predictions"
   ]
  },
  {
   "cell_type": "code",
   "execution_count": 8,
   "id": "ef4e172a",
   "metadata": {
    "execution": {
     "iopub.execute_input": "2022-07-19T21:33:52.610751Z",
     "iopub.status.busy": "2022-07-19T21:33:52.610297Z",
     "iopub.status.idle": "2022-07-19T21:33:52.704530Z",
     "shell.execute_reply": "2022-07-19T21:33:52.702419Z"
    },
    "papermill": {
     "duration": 0.113017,
     "end_time": "2022-07-19T21:33:52.707180",
     "exception": false,
     "start_time": "2022-07-19T21:33:52.594163",
     "status": "completed"
    },
    "tags": []
   },
   "outputs": [
    {
     "name": "stdout",
     "output_type": "stream",
     "text": [
      "train data: Rows=7613, Columns=5\n",
      "test data : Rows=3263, Columns=4\n"
     ]
    }
   ],
   "source": [
    "train, test, sample_submission = read_data(data_dir)"
   ]
  },
  {
   "cell_type": "code",
   "execution_count": 9,
   "id": "2facbeb0",
   "metadata": {
    "execution": {
     "iopub.execute_input": "2022-07-19T21:33:52.739577Z",
     "iopub.status.busy": "2022-07-19T21:33:52.738461Z",
     "iopub.status.idle": "2022-07-19T21:33:52.763997Z",
     "shell.execute_reply": "2022-07-19T21:33:52.762497Z"
    },
    "papermill": {
     "duration": 0.044395,
     "end_time": "2022-07-19T21:33:52.766676",
     "exception": false,
     "start_time": "2022-07-19T21:33:52.722281",
     "status": "completed"
    },
    "tags": []
   },
   "outputs": [
    {
     "data": {
      "text/html": [
       "<div>\n",
       "<style scoped>\n",
       "    .dataframe tbody tr th:only-of-type {\n",
       "        vertical-align: middle;\n",
       "    }\n",
       "\n",
       "    .dataframe tbody tr th {\n",
       "        vertical-align: top;\n",
       "    }\n",
       "\n",
       "    .dataframe thead th {\n",
       "        text-align: right;\n",
       "    }\n",
       "</style>\n",
       "<table border=\"1\" class=\"dataframe\">\n",
       "  <thead>\n",
       "    <tr style=\"text-align: right;\">\n",
       "      <th></th>\n",
       "      <th>id</th>\n",
       "      <th>keyword</th>\n",
       "      <th>location</th>\n",
       "      <th>text</th>\n",
       "      <th>target</th>\n",
       "    </tr>\n",
       "  </thead>\n",
       "  <tbody>\n",
       "    <tr>\n",
       "      <th>0</th>\n",
       "      <td>1</td>\n",
       "      <td>NaN</td>\n",
       "      <td>NaN</td>\n",
       "      <td>Our Deeds are the Reason of this #earthquake M...</td>\n",
       "      <td>1</td>\n",
       "    </tr>\n",
       "    <tr>\n",
       "      <th>1</th>\n",
       "      <td>4</td>\n",
       "      <td>NaN</td>\n",
       "      <td>NaN</td>\n",
       "      <td>Forest fire near La Ronge Sask. Canada</td>\n",
       "      <td>1</td>\n",
       "    </tr>\n",
       "    <tr>\n",
       "      <th>2</th>\n",
       "      <td>5</td>\n",
       "      <td>NaN</td>\n",
       "      <td>NaN</td>\n",
       "      <td>All residents asked to 'shelter in place' are ...</td>\n",
       "      <td>1</td>\n",
       "    </tr>\n",
       "    <tr>\n",
       "      <th>3</th>\n",
       "      <td>6</td>\n",
       "      <td>NaN</td>\n",
       "      <td>NaN</td>\n",
       "      <td>13,000 people receive #wildfires evacuation or...</td>\n",
       "      <td>1</td>\n",
       "    </tr>\n",
       "    <tr>\n",
       "      <th>4</th>\n",
       "      <td>7</td>\n",
       "      <td>NaN</td>\n",
       "      <td>NaN</td>\n",
       "      <td>Just got sent this photo from Ruby #Alaska as ...</td>\n",
       "      <td>1</td>\n",
       "    </tr>\n",
       "  </tbody>\n",
       "</table>\n",
       "</div>"
      ],
      "text/plain": [
       "   id keyword location                                               text  \\\n",
       "0   1     NaN      NaN  Our Deeds are the Reason of this #earthquake M...   \n",
       "1   4     NaN      NaN             Forest fire near La Ronge Sask. Canada   \n",
       "2   5     NaN      NaN  All residents asked to 'shelter in place' are ...   \n",
       "3   6     NaN      NaN  13,000 people receive #wildfires evacuation or...   \n",
       "4   7     NaN      NaN  Just got sent this photo from Ruby #Alaska as ...   \n",
       "\n",
       "   target  \n",
       "0       1  \n",
       "1       1  \n",
       "2       1  \n",
       "3       1  \n",
       "4       1  "
      ]
     },
     "execution_count": 9,
     "metadata": {},
     "output_type": "execute_result"
    }
   ],
   "source": [
    "train.head()"
   ]
  },
  {
   "cell_type": "code",
   "execution_count": 10,
   "id": "1539ba14",
   "metadata": {
    "execution": {
     "iopub.execute_input": "2022-07-19T21:33:52.798730Z",
     "iopub.status.busy": "2022-07-19T21:33:52.798277Z",
     "iopub.status.idle": "2022-07-19T21:33:52.810636Z",
     "shell.execute_reply": "2022-07-19T21:33:52.809279Z"
    },
    "papermill": {
     "duration": 0.032675,
     "end_time": "2022-07-19T21:33:52.814069",
     "exception": false,
     "start_time": "2022-07-19T21:33:52.781394",
     "status": "completed"
    },
    "tags": []
   },
   "outputs": [],
   "source": [
    "FEATURES = [\n",
    "    col\n",
    "    for col in train.columns\n",
    "    if col\n",
    "    not in [\n",
    "        \"Id\",\n",
    "        TARGET,\n",
    "        #         TARGET_ENC,\n",
    "    ]\n",
    "]"
   ]
  },
  {
   "cell_type": "code",
   "execution_count": 11,
   "id": "8abf19d3",
   "metadata": {
    "execution": {
     "iopub.execute_input": "2022-07-19T21:33:52.844721Z",
     "iopub.status.busy": "2022-07-19T21:33:52.844267Z",
     "iopub.status.idle": "2022-07-19T21:33:52.862997Z",
     "shell.execute_reply": "2022-07-19T21:33:52.861936Z"
    },
    "papermill": {
     "duration": 0.03781,
     "end_time": "2022-07-19T21:33:52.866226",
     "exception": false,
     "start_time": "2022-07-19T21:33:52.828416",
     "status": "completed"
    },
    "tags": []
   },
   "outputs": [],
   "source": [
    "y = train[TARGET]\n",
    "X = train[FEATURES].copy()\n",
    "\n",
    "X_test = test[FEATURES].copy()"
   ]
  },
  {
   "cell_type": "code",
   "execution_count": 12,
   "id": "e33c1eb1",
   "metadata": {
    "execution": {
     "iopub.execute_input": "2022-07-19T21:33:52.897757Z",
     "iopub.status.busy": "2022-07-19T21:33:52.897307Z",
     "iopub.status.idle": "2022-07-19T21:33:52.903067Z",
     "shell.execute_reply": "2022-07-19T21:33:52.901675Z"
    },
    "papermill": {
     "duration": 0.024788,
     "end_time": "2022-07-19T21:33:52.905773",
     "exception": false,
     "start_time": "2022-07-19T21:33:52.880985",
     "status": "completed"
    },
    "tags": []
   },
   "outputs": [],
   "source": [
    "# # Normalize the data\n",
    "# X = X / 255.0\n",
    "# X_test = X_test / 255.0"
   ]
  },
  {
   "cell_type": "code",
   "execution_count": 13,
   "id": "e8ea5e27",
   "metadata": {
    "execution": {
     "iopub.execute_input": "2022-07-19T21:33:52.937659Z",
     "iopub.status.busy": "2022-07-19T21:33:52.936851Z",
     "iopub.status.idle": "2022-07-19T21:33:52.942564Z",
     "shell.execute_reply": "2022-07-19T21:33:52.941679Z"
    },
    "papermill": {
     "duration": 0.024317,
     "end_time": "2022-07-19T21:33:52.945118",
     "exception": false,
     "start_time": "2022-07-19T21:33:52.920801",
     "status": "completed"
    },
    "tags": []
   },
   "outputs": [],
   "source": [
    "# X = X.values.reshape(-1, 28, 28, 1)\n",
    "# X_test = X_test.values.reshape(-1, 28, 28, 1)"
   ]
  },
  {
   "cell_type": "code",
   "execution_count": 14,
   "id": "cef46f03",
   "metadata": {
    "execution": {
     "iopub.execute_input": "2022-07-19T21:33:52.976720Z",
     "iopub.status.busy": "2022-07-19T21:33:52.976288Z",
     "iopub.status.idle": "2022-07-19T21:33:52.981963Z",
     "shell.execute_reply": "2022-07-19T21:33:52.980627Z"
    },
    "papermill": {
     "duration": 0.024688,
     "end_time": "2022-07-19T21:33:52.984526",
     "exception": false,
     "start_time": "2022-07-19T21:33:52.959838",
     "status": "completed"
    },
    "tags": []
   },
   "outputs": [],
   "source": [
    "# X[:3]"
   ]
  },
  {
   "cell_type": "code",
   "execution_count": 15,
   "id": "954bc6d0",
   "metadata": {
    "execution": {
     "iopub.execute_input": "2022-07-19T21:33:53.015805Z",
     "iopub.status.busy": "2022-07-19T21:33:53.015334Z",
     "iopub.status.idle": "2022-07-19T21:33:53.020857Z",
     "shell.execute_reply": "2022-07-19T21:33:53.019302Z"
    },
    "papermill": {
     "duration": 0.024359,
     "end_time": "2022-07-19T21:33:53.023423",
     "exception": false,
     "start_time": "2022-07-19T21:33:52.999064",
     "status": "completed"
    },
    "tags": []
   },
   "outputs": [],
   "source": [
    "# from keras.utils.np_utils import to_categorical\n",
    "\n",
    "# y = to_categorical(y)"
   ]
  },
  {
   "cell_type": "code",
   "execution_count": 16,
   "id": "35aeabdc",
   "metadata": {
    "execution": {
     "iopub.execute_input": "2022-07-19T21:33:53.054852Z",
     "iopub.status.busy": "2022-07-19T21:33:53.054052Z",
     "iopub.status.idle": "2022-07-19T21:33:53.064187Z",
     "shell.execute_reply": "2022-07-19T21:33:53.063151Z"
    },
    "papermill": {
     "duration": 0.028847,
     "end_time": "2022-07-19T21:33:53.066800",
     "exception": false,
     "start_time": "2022-07-19T21:33:53.037953",
     "status": "completed"
    },
    "tags": []
   },
   "outputs": [
    {
     "data": {
      "text/plain": [
       "0    1\n",
       "1    1\n",
       "2    1\n",
       "3    1\n",
       "4    1\n",
       "Name: target, dtype: int64"
      ]
     },
     "execution_count": 16,
     "metadata": {},
     "output_type": "execute_result"
    }
   ],
   "source": [
    "y[:5]"
   ]
  },
  {
   "cell_type": "markdown",
   "id": "0fc598f4",
   "metadata": {
    "execution": {
     "iopub.execute_input": "2022-07-19T19:44:01.140457Z",
     "iopub.status.busy": "2022-07-19T19:44:01.139714Z",
     "iopub.status.idle": "2022-07-19T19:44:01.157867Z",
     "shell.execute_reply": "2022-07-19T19:44:01.154383Z",
     "shell.execute_reply.started": "2022-07-19T19:44:01.140426Z"
    },
    "papermill": {
     "duration": 0.014028,
     "end_time": "2022-07-19T21:33:53.095260",
     "exception": false,
     "start_time": "2022-07-19T21:33:53.081232",
     "status": "completed"
    },
    "tags": []
   },
   "source": [
    "Tokenize then pad sequence.\n",
    "\n",
    "### Vectorization vs Tokenization\n",
    "\n",
    "- https://datascience.stackexchange.com/questions/104859/what-is-the-difference-between-textvectorization-and-tokenizer\n",
    "- https://stackoverflow.com/questions/71002866/difference-between-tokenizer-and-textvectorization-layer-in-tensorflow\n",
    "- [You should try the new TensorFlow’s TextVectorization layer](https://towardsdatascience.com/you-should-try-the-new-tensorflows-textvectorization-layer-a80b3c6b00ee)"
   ]
  },
  {
   "cell_type": "code",
   "execution_count": 17,
   "id": "3a2a543f",
   "metadata": {
    "execution": {
     "iopub.execute_input": "2022-07-19T21:33:53.127606Z",
     "iopub.status.busy": "2022-07-19T21:33:53.126817Z",
     "iopub.status.idle": "2022-07-19T21:33:53.368093Z",
     "shell.execute_reply": "2022-07-19T21:33:53.366646Z"
    },
    "papermill": {
     "duration": 0.260445,
     "end_time": "2022-07-19T21:33:53.370622",
     "exception": false,
     "start_time": "2022-07-19T21:33:53.110177",
     "status": "completed"
    },
    "tags": []
   },
   "outputs": [
    {
     "data": {
      "text/plain": [
       "22702"
      ]
     },
     "execution_count": 17,
     "metadata": {},
     "output_type": "execute_result"
    }
   ],
   "source": [
    "tokenizer = tf.keras.preprocessing.text.Tokenizer()\n",
    "tokenizer.oov_token = \"<OOV>\"\n",
    "tokenizer.fit_on_texts(train.text)\n",
    "vocab = tokenizer.word_index\n",
    "vocabCount = len(vocab) + 1\n",
    "\n",
    "vocabCount"
   ]
  },
  {
   "cell_type": "code",
   "execution_count": 18,
   "id": "8dfbfd00",
   "metadata": {
    "execution": {
     "iopub.execute_input": "2022-07-19T21:33:53.402318Z",
     "iopub.status.busy": "2022-07-19T21:33:53.401542Z",
     "iopub.status.idle": "2022-07-19T21:33:53.599554Z",
     "shell.execute_reply": "2022-07-19T21:33:53.598648Z"
    },
    "papermill": {
     "duration": 0.216937,
     "end_time": "2022-07-19T21:33:53.602175",
     "exception": false,
     "start_time": "2022-07-19T21:33:53.385238",
     "status": "completed"
    },
    "tags": []
   },
   "outputs": [
    {
     "data": {
      "text/plain": [
       "(7613, 33)"
      ]
     },
     "execution_count": 18,
     "metadata": {},
     "output_type": "execute_result"
    }
   ],
   "source": [
    "train = tf.keras.preprocessing.sequence.pad_sequences(\n",
    "    tokenizer.texts_to_sequences(train.text.to_numpy()), padding=\"pre\"\n",
    ")\n",
    "train.shape"
   ]
  },
  {
   "cell_type": "code",
   "execution_count": 19,
   "id": "ee1c73d5",
   "metadata": {
    "execution": {
     "iopub.execute_input": "2022-07-19T21:33:53.634450Z",
     "iopub.status.busy": "2022-07-19T21:33:53.633241Z",
     "iopub.status.idle": "2022-07-19T21:33:53.652191Z",
     "shell.execute_reply": "2022-07-19T21:33:53.650887Z"
    },
    "papermill": {
     "duration": 0.037913,
     "end_time": "2022-07-19T21:33:53.655187",
     "exception": false,
     "start_time": "2022-07-19T21:33:53.617274",
     "status": "completed"
    },
    "tags": []
   },
   "outputs": [
    {
     "data": {
      "text/plain": [
       "((6851, 4), (6851,), (762, 4), (762,))"
      ]
     },
     "execution_count": 19,
     "metadata": {},
     "output_type": "execute_result"
    }
   ],
   "source": [
    "X_train, X_valid, y_train, y_valid = train_test_split(\n",
    "    X,\n",
    "    y,\n",
    "    test_size=0.1,\n",
    "    random_state=42,\n",
    ")\n",
    "X_train.shape, y_train.shape, X_valid.shape, y_valid.shape"
   ]
  },
  {
   "cell_type": "code",
   "execution_count": 20,
   "id": "09b602bd",
   "metadata": {
    "execution": {
     "iopub.execute_input": "2022-07-19T21:33:53.687300Z",
     "iopub.status.busy": "2022-07-19T21:33:53.686474Z",
     "iopub.status.idle": "2022-07-19T21:33:53.695384Z",
     "shell.execute_reply": "2022-07-19T21:33:53.694501Z"
    },
    "papermill": {
     "duration": 0.027742,
     "end_time": "2022-07-19T21:33:53.697806",
     "exception": false,
     "start_time": "2022-07-19T21:33:53.670064",
     "status": "completed"
    },
    "tags": []
   },
   "outputs": [
    {
     "data": {
      "text/plain": [
       "pandas.core.frame.DataFrame"
      ]
     },
     "execution_count": 20,
     "metadata": {},
     "output_type": "execute_result"
    }
   ],
   "source": [
    "type(X_train)"
   ]
  },
  {
   "cell_type": "markdown",
   "id": "52babad6",
   "metadata": {
    "papermill": {
     "duration": 0.014329,
     "end_time": "2022-07-19T21:33:53.726945",
     "exception": false,
     "start_time": "2022-07-19T21:33:53.712616",
     "status": "completed"
    },
    "tags": []
   },
   "source": [
    "<div style=\"background-color:rgba(128, 0, 128, 0.6);border-radius:5px;display:fill\"><h1 style=\"text-align: center;padding: 12px 0px 12px 0px;\">Create Models</h1>\n",
    "</div>"
   ]
  },
  {
   "cell_type": "code",
   "execution_count": 21,
   "id": "dde65915",
   "metadata": {
    "execution": {
     "iopub.execute_input": "2022-07-19T21:33:53.758799Z",
     "iopub.status.busy": "2022-07-19T21:33:53.758003Z",
     "iopub.status.idle": "2022-07-19T21:33:53.764658Z",
     "shell.execute_reply": "2022-07-19T21:33:53.763684Z"
    },
    "papermill": {
     "duration": 0.025606,
     "end_time": "2022-07-19T21:33:53.767249",
     "exception": false,
     "start_time": "2022-07-19T21:33:53.741643",
     "status": "completed"
    },
    "tags": []
   },
   "outputs": [],
   "source": [
    "def get_rnn_model01(vocabCount):\n",
    "    pass"
   ]
  },
  {
   "cell_type": "code",
   "execution_count": 22,
   "id": "2fd16564",
   "metadata": {
    "execution": {
     "iopub.execute_input": "2022-07-19T21:33:53.799776Z",
     "iopub.status.busy": "2022-07-19T21:33:53.798936Z",
     "iopub.status.idle": "2022-07-19T21:33:53.805625Z",
     "shell.execute_reply": "2022-07-19T21:33:53.804700Z"
    },
    "papermill": {
     "duration": 0.026027,
     "end_time": "2022-07-19T21:33:53.808161",
     "exception": false,
     "start_time": "2022-07-19T21:33:53.782134",
     "status": "completed"
    },
    "tags": []
   },
   "outputs": [],
   "source": [
    "def get_lstm_model01(vocabCount):\n",
    "    pass"
   ]
  },
  {
   "cell_type": "code",
   "execution_count": 23,
   "id": "1bc0ecb9",
   "metadata": {
    "execution": {
     "iopub.execute_input": "2022-07-19T21:33:53.839803Z",
     "iopub.status.busy": "2022-07-19T21:33:53.838995Z",
     "iopub.status.idle": "2022-07-19T21:33:53.849432Z",
     "shell.execute_reply": "2022-07-19T21:33:53.848544Z"
    },
    "papermill": {
     "duration": 0.029139,
     "end_time": "2022-07-19T21:33:53.852024",
     "exception": false,
     "start_time": "2022-07-19T21:33:53.822885",
     "status": "completed"
    },
    "tags": []
   },
   "outputs": [],
   "source": [
    "def custom_standardization_fn(string_tensor):\n",
    "    lowercase_string = tf.strings.lower(string_tensor)\n",
    "    return tf.strings.regex_replace(\n",
    "        lowercase_string, f\"[{re.escape(string.punctuation)}]\", \"\"\n",
    "    )"
   ]
  },
  {
   "cell_type": "code",
   "execution_count": 24,
   "id": "76021f97",
   "metadata": {
    "execution": {
     "iopub.execute_input": "2022-07-19T21:33:53.883993Z",
     "iopub.status.busy": "2022-07-19T21:33:53.883070Z",
     "iopub.status.idle": "2022-07-19T21:33:53.926262Z",
     "shell.execute_reply": "2022-07-19T21:33:53.925130Z"
    },
    "papermill": {
     "duration": 0.062136,
     "end_time": "2022-07-19T21:33:53.928944",
     "exception": false,
     "start_time": "2022-07-19T21:33:53.866808",
     "status": "completed"
    },
    "tags": []
   },
   "outputs": [],
   "source": [
    "from tensorflow.keras.layers.experimental.preprocessing import TextVectorization\n",
    "from keras.metrics import AUC\n",
    "from keras import optimizers, losses\n",
    "\n",
    "\n",
    "def get_tf_model01(vocabCount):\n",
    "    #     print(f\"x_shape=\")\n",
    "    #     input_shape = (height, width, channels)\n",
    "    #     inputs = keras.Input(shape=(28, 28, 1))\n",
    "    vocab_size = 23_000\n",
    "    embed_size = 100\n",
    "    doc_length = vocabCount + 1\n",
    "    max_length = 15\n",
    "\n",
    "    #     text_vectorizer = TextVectorization(max_tokens=vocab_size,\n",
    "    #                                        standardize=custom_standardization_fn,\n",
    "    #                                            output_mode=\"int\",)\n",
    "    text_vectorizer = TextVectorization(output_mode=\"int\")\n",
    "    text_vectorizer.adapt(X_train.text)\n",
    "\n",
    "    embedding_layer = keras.layers.Embedding(\n",
    "        input_dim=vocab_size,  # set input shape\n",
    "        #         standardize=custom_standardization_fn,\n",
    "        #         split=\"whitespace\",\n",
    "        #         ngrams=None,\n",
    "        #         output_mode=\"int\",\n",
    "        output_dim=128,  # set size of embedding vector\n",
    "        embeddings_initializer=\"uniform\",  # default, intialize randomly\n",
    "        input_length=max_length,  # how long is each input\n",
    "        name=\"embedding_1\",\n",
    "    )\n",
    "\n",
    "    #     tf.keras.layers.TextVectorization(\n",
    "    #         max_tokens=None, standardize='lower_and_strip_punctuation',\n",
    "    #         split='whitespace', ngrams=None, output_mode='int',\n",
    "    #         output_sequence_length=None, pad_to_max_tokens=False, vocabulary=None,\n",
    "    #         idf_weights=None, sparse=False, ragged=False, **kwargs\n",
    "    # )\n",
    "\n",
    "    words_in_vocab = text_vectorizer.get_vocabulary()\n",
    "    #     print(f\"Vocab={words_in_vocab}\")\n",
    "    #     inputs = keras.Input((doc_length,))\n",
    "    text_input = keras.Input(shape=(1,), dtype=tf.string, name=\"text_input_layer\")\n",
    "    #     inputs = keras.Input(shape=(1,), name=\"text_input_layer\")\n",
    "    x = text_vectorizer(text_input)\n",
    "    #     embedding_layer = keras.layers.Embedding(\n",
    "    #         input_dim=vocabCount + 1, output_dim=64, input_length=31\n",
    "    #     )(x)\n",
    "    x = embedding_layer(x)\n",
    "    x = keras.layers.GlobalAveragePooling1D()(x)\n",
    "    #     x = keras.layers.MaxPooling2d((2, 2))(x)\n",
    "    #     x = keras.layers.Conv2D(\n",
    "    #         128, activation=\"relu\", padding=\"same\", kernel_initializer=\"he_normal\"\n",
    "    #     )(x)\n",
    "    #     x = keras.layers.Flatten()(x)\n",
    "    #     x = keras.layers.BatchNormalization()(x)\n",
    "\n",
    "    #     x = keras.layers.Dense(128, activation=\"relu\")(x)\n",
    "\n",
    "    #     x = keras.layers.Dense(64, activation=\"relu\")(x)\n",
    "    #     x = keras.layers.BatchNormalization()(x)\n",
    "    x = keras.layers.Dense(32, activation=\"relu\")(x)\n",
    "    #     x = keras.layers.BatchNormalization()(x)\n",
    "    #     x = keras.layers.Dropout(0.1)(x)\n",
    "\n",
    "    outputs = keras.layers.Dense(1, activation=\"sigmoid\")(x)\n",
    "\n",
    "    model = keras.Model(text_input, outputs, name=\"Dense_Model\")\n",
    "\n",
    "    model.compile(\n",
    "        loss=\"binary_crossentropy\",\n",
    "        optimizer=\"adam\",\n",
    "        metrics=[\"accuracy\", AUC(name=\"auc\")],\n",
    "        #         metrics=[AUC(name = 'auc')])\n",
    "    )\n",
    "\n",
    "    #     model.compile(\n",
    "    #         optimizer=tf.keras.optimizers.Adam(learning_rate=0.01),\n",
    "    #         loss=\"accuracy\",\n",
    "    #     )\n",
    "\n",
    "    return model"
   ]
  },
  {
   "cell_type": "code",
   "execution_count": 25,
   "id": "af2a746e",
   "metadata": {
    "execution": {
     "iopub.execute_input": "2022-07-19T21:33:53.960815Z",
     "iopub.status.busy": "2022-07-19T21:33:53.960380Z",
     "iopub.status.idle": "2022-07-19T21:33:53.969851Z",
     "shell.execute_reply": "2022-07-19T21:33:53.968475Z"
    },
    "papermill": {
     "duration": 0.028349,
     "end_time": "2022-07-19T21:33:53.972559",
     "exception": false,
     "start_time": "2022-07-19T21:33:53.944210",
     "status": "completed"
    },
    "tags": []
   },
   "outputs": [
    {
     "data": {
      "text/plain": [
       "4"
      ]
     },
     "execution_count": 25,
     "metadata": {},
     "output_type": "execute_result"
    }
   ],
   "source": [
    "X_train.shape[1]"
   ]
  },
  {
   "cell_type": "code",
   "execution_count": 26,
   "id": "fd51dd1e",
   "metadata": {
    "execution": {
     "iopub.execute_input": "2022-07-19T21:33:54.005685Z",
     "iopub.status.busy": "2022-07-19T21:33:54.004975Z",
     "iopub.status.idle": "2022-07-19T21:33:54.012538Z",
     "shell.execute_reply": "2022-07-19T21:33:54.011559Z"
    },
    "papermill": {
     "duration": 0.026919,
     "end_time": "2022-07-19T21:33:54.014921",
     "exception": false,
     "start_time": "2022-07-19T21:33:53.988002",
     "status": "completed"
    },
    "tags": []
   },
   "outputs": [
    {
     "data": {
      "text/plain": [
       "7613"
      ]
     },
     "execution_count": 26,
     "metadata": {},
     "output_type": "execute_result"
    }
   ],
   "source": [
    "X.shape[0]"
   ]
  },
  {
   "cell_type": "code",
   "execution_count": 27,
   "id": "213f54c1",
   "metadata": {
    "execution": {
     "iopub.execute_input": "2022-07-19T21:33:54.047717Z",
     "iopub.status.busy": "2022-07-19T21:33:54.047044Z",
     "iopub.status.idle": "2022-07-19T21:33:54.806015Z",
     "shell.execute_reply": "2022-07-19T21:33:54.804349Z"
    },
    "papermill": {
     "duration": 0.778292,
     "end_time": "2022-07-19T21:33:54.808746",
     "exception": false,
     "start_time": "2022-07-19T21:33:54.030454",
     "status": "completed"
    },
    "tags": []
   },
   "outputs": [
    {
     "name": "stderr",
     "output_type": "stream",
     "text": [
      "2022-07-19 21:33:54.087827: I tensorflow/core/common_runtime/process_util.cc:146] Creating new thread pool with default inter op setting: 2. Tune using inter_op_parallelism_threads for best performance.\n",
      "2022-07-19 21:33:54.197976: I tensorflow/compiler/mlir/mlir_graph_optimization_pass.cc:185] None of the MLIR Optimization Passes are enabled (registered 2)\n"
     ]
    },
    {
     "name": "stdout",
     "output_type": "stream",
     "text": [
      "Model: \"Dense_Model\"\n",
      "_________________________________________________________________\n",
      "Layer (type)                 Output Shape              Param #   \n",
      "=================================================================\n",
      "text_input_layer (InputLayer [(None, 1)]               0         \n",
      "_________________________________________________________________\n",
      "text_vectorization (TextVect (None, None)              0         \n",
      "_________________________________________________________________\n",
      "embedding_1 (Embedding)      (None, None, 128)         2944000   \n",
      "_________________________________________________________________\n",
      "global_average_pooling1d (Gl (None, 128)               0         \n",
      "_________________________________________________________________\n",
      "dense (Dense)                (None, 32)                4128      \n",
      "_________________________________________________________________\n",
      "dense_1 (Dense)              (None, 1)                 33        \n",
      "=================================================================\n",
      "Total params: 2,948,161\n",
      "Trainable params: 2,948,161\n",
      "Non-trainable params: 0\n",
      "_________________________________________________________________\n"
     ]
    }
   ],
   "source": [
    "model = get_tf_model01(vocabCount)\n",
    "\n",
    "model.summary()"
   ]
  },
  {
   "cell_type": "code",
   "execution_count": 28,
   "id": "ce021e38",
   "metadata": {
    "execution": {
     "iopub.execute_input": "2022-07-19T21:33:54.841635Z",
     "iopub.status.busy": "2022-07-19T21:33:54.841223Z",
     "iopub.status.idle": "2022-07-19T21:33:56.020751Z",
     "shell.execute_reply": "2022-07-19T21:33:56.018992Z"
    },
    "papermill": {
     "duration": 1.199222,
     "end_time": "2022-07-19T21:33:56.023550",
     "exception": false,
     "start_time": "2022-07-19T21:33:54.824328",
     "status": "completed"
    },
    "tags": []
   },
   "outputs": [
    {
     "data": {
      "image/png": "[encoded data removed]",
      "text/plain": [
       "<IPython.core.display.Image object>"
      ]
     },
     "execution_count": 28,
     "metadata": {},
     "output_type": "execute_result"
    }
   ],
   "source": [
    "keras.utils.plot_model(model)"
   ]
  },
  {
   "cell_type": "code",
   "execution_count": 29,
   "id": "48dc51a0",
   "metadata": {
    "execution": {
     "iopub.execute_input": "2022-07-19T21:33:56.059333Z",
     "iopub.status.busy": "2022-07-19T21:33:56.058905Z",
     "iopub.status.idle": "2022-07-19T21:33:56.070770Z",
     "shell.execute_reply": "2022-07-19T21:33:56.069471Z"
    },
    "papermill": {
     "duration": 0.033012,
     "end_time": "2022-07-19T21:33:56.073402",
     "exception": false,
     "start_time": "2022-07-19T21:33:56.040390",
     "status": "completed"
    },
    "tags": []
   },
   "outputs": [],
   "source": [
    "X_train = X_train.text\n",
    "X_valid = X_valid.text\n",
    "X_test = X_test.text"
   ]
  },
  {
   "cell_type": "code",
   "execution_count": 30,
   "id": "8e689f78",
   "metadata": {
    "execution": {
     "iopub.execute_input": "2022-07-19T21:33:56.107761Z",
     "iopub.status.busy": "2022-07-19T21:33:56.107339Z",
     "iopub.status.idle": "2022-07-19T21:33:56.123445Z",
     "shell.execute_reply": "2022-07-19T21:33:56.122252Z"
    },
    "papermill": {
     "duration": 0.036606,
     "end_time": "2022-07-19T21:33:56.126319",
     "exception": false,
     "start_time": "2022-07-19T21:33:56.089713",
     "status": "completed"
    },
    "tags": []
   },
   "outputs": [],
   "source": [
    "from keras.callbacks import *\n",
    "\n",
    "lr = ReduceLROnPlateau(\n",
    "    monitor=\"val_auc\", mode=\"max\", factor=0.7, patience=4, verbose=False\n",
    ")\n",
    "es = EarlyStopping(\n",
    "    monitor=\"val_auc\", mode=\"max\", patience=10, verbose=False, restore_best_weights=True\n",
    ")"
   ]
  },
  {
   "cell_type": "code",
   "execution_count": 31,
   "id": "814193e8",
   "metadata": {
    "execution": {
     "iopub.execute_input": "2022-07-19T21:33:56.162162Z",
     "iopub.status.busy": "2022-07-19T21:33:56.161791Z",
     "iopub.status.idle": "2022-07-19T21:34:09.302939Z",
     "shell.execute_reply": "2022-07-19T21:34:09.301717Z"
    },
    "papermill": {
     "duration": 13.162798,
     "end_time": "2022-07-19T21:34:09.305484",
     "exception": false,
     "start_time": "2022-07-19T21:33:56.142686",
     "status": "completed"
    },
    "tags": []
   },
   "outputs": [
    {
     "name": "stdout",
     "output_type": "stream",
     "text": [
      "Epoch 1/10\n",
      "43/43 [==============================] - 3s 41ms/step - loss: 0.6746 - accuracy: 0.5752 - auc: 0.5974 - val_loss: 0.6544 - val_accuracy: 0.5784 - val_auc: 0.8124\n",
      "Epoch 2/10\n",
      "43/43 [==============================] - 1s 26ms/step - loss: 0.5898 - accuracy: 0.7084 - auc: 0.8793 - val_loss: 0.5515 - val_accuracy: 0.7557 - val_auc: 0.8413\n",
      "Epoch 3/10\n",
      "43/43 [==============================] - 1s 24ms/step - loss: 0.4222 - accuracy: 0.8549 - auc: 0.9243 - val_loss: 0.4710 - val_accuracy: 0.7987 - val_auc: 0.8530\n",
      "Epoch 4/10\n",
      "43/43 [==============================] - 1s 25ms/step - loss: 0.2842 - accuracy: 0.9044 - auc: 0.9621 - val_loss: 0.4595 - val_accuracy: 0.7987 - val_auc: 0.8554\n",
      "Epoch 5/10\n",
      "43/43 [==============================] - 1s 24ms/step - loss: 0.1966 - accuracy: 0.9380 - auc: 0.9828 - val_loss: 0.4715 - val_accuracy: 0.7907 - val_auc: 0.8551\n",
      "Epoch 6/10\n",
      "43/43 [==============================] - 1s 24ms/step - loss: 0.1362 - accuracy: 0.9602 - auc: 0.9930 - val_loss: 0.4989 - val_accuracy: 0.7812 - val_auc: 0.8508\n",
      "Epoch 7/10\n",
      "43/43 [==============================] - 1s 24ms/step - loss: 0.0982 - accuracy: 0.9723 - auc: 0.9965 - val_loss: 0.5205 - val_accuracy: 0.7958 - val_auc: 0.8489\n",
      "Epoch 8/10\n",
      "43/43 [==============================] - 1s 24ms/step - loss: 0.0718 - accuracy: 0.9818 - auc: 0.9985 - val_loss: 0.5504 - val_accuracy: 0.7929 - val_auc: 0.8460\n",
      "Epoch 9/10\n",
      "43/43 [==============================] - 1s 24ms/step - loss: 0.0543 - accuracy: 0.9872 - auc: 0.9994 - val_loss: 0.5659 - val_accuracy: 0.7914 - val_auc: 0.8448\n",
      "Epoch 10/10\n",
      "43/43 [==============================] - 1s 25ms/step - loss: 0.0446 - accuracy: 0.9905 - auc: 0.9997 - val_loss: 0.5865 - val_accuracy: 0.7863 - val_auc: 0.8440\n",
      "CPU times: user 24.6 s, sys: 1.1 s, total: 25.7 s\n",
      "Wall time: 13.1 s\n"
     ]
    }
   ],
   "source": [
    "%%time\n",
    "\n",
    "history = model.fit(\n",
    "    X_train,\n",
    "    y_train,\n",
    "    batch_size=128,\n",
    "    epochs=10,\n",
    "    # Suppress logging.\n",
    "    verbose=1,\n",
    "    callbacks=[es,lr],\n",
    "    # Calculate validation results on 20% of the training data.\n",
    "    validation_split = 0.2\n",
    ")"
   ]
  },
  {
   "cell_type": "code",
   "execution_count": 32,
   "id": "a6477318",
   "metadata": {
    "execution": {
     "iopub.execute_input": "2022-07-19T21:34:09.366419Z",
     "iopub.status.busy": "2022-07-19T21:34:09.365744Z",
     "iopub.status.idle": "2022-07-19T21:34:10.165495Z",
     "shell.execute_reply": "2022-07-19T21:34:10.164253Z"
    },
    "papermill": {
     "duration": 0.834241,
     "end_time": "2022-07-19T21:34:10.169093",
     "exception": false,
     "start_time": "2022-07-19T21:34:09.334852",
     "status": "completed"
    },
    "tags": []
   },
   "outputs": [
    {
     "data": {
      "image/png": "[encoded data removed]",
      "text/plain": [
       "<Figure size 432x288 with 1 Axes>"
      ]
     },
     "metadata": {
      "needs_background": "light"
     },
     "output_type": "display_data"
    },
    {
     "data": {
      "image/png": "[encoded data removed]",
      "text/plain": [
       "<Figure size 432x288 with 1 Axes>"
      ]
     },
     "metadata": {
      "needs_background": "light"
     },
     "output_type": "display_data"
    }
   ],
   "source": [
    "acc = history.history[\"accuracy\"]\n",
    "val_acc = history.history[\"val_accuracy\"]\n",
    "loss = history.history[\"loss\"]\n",
    "val_loss = history.history[\"val_loss\"]\n",
    "\n",
    "epochs = range(1, len(acc) + 1)\n",
    "\n",
    "plt.plot(epochs, acc, \"bo\", label=\"Training acc\")\n",
    "plt.plot(epochs, val_acc, \"b\", label=\"Validation acc\")\n",
    "plt.title(\"Training and validation accuracy\")\n",
    "plt.legend()\n",
    "\n",
    "plt.figure()\n",
    "\n",
    "plt.plot(epochs, loss, \"bo\", label=\"Training loss\")\n",
    "plt.plot(epochs, val_loss, \"b\", label=\"Validation loss\")\n",
    "plt.title(\"Training and validation loss\")\n",
    "plt.legend()\n",
    "\n",
    "plt.show()"
   ]
  },
  {
   "cell_type": "markdown",
   "id": "0412176f",
   "metadata": {
    "papermill": {
     "duration": 0.02948,
     "end_time": "2022-07-19T21:34:10.235218",
     "exception": false,
     "start_time": "2022-07-19T21:34:10.205738",
     "status": "completed"
    },
    "tags": []
   },
   "source": [
    "## Predict and Score"
   ]
  },
  {
   "cell_type": "code",
   "execution_count": 33,
   "id": "b3e9963b",
   "metadata": {
    "execution": {
     "iopub.execute_input": "2022-07-19T21:34:10.297159Z",
     "iopub.status.busy": "2022-07-19T21:34:10.295850Z",
     "iopub.status.idle": "2022-07-19T21:34:10.563509Z",
     "shell.execute_reply": "2022-07-19T21:34:10.561946Z"
    },
    "papermill": {
     "duration": 0.30144,
     "end_time": "2022-07-19T21:34:10.566342",
     "exception": false,
     "start_time": "2022-07-19T21:34:10.264902",
     "status": "completed"
    },
    "tags": []
   },
   "outputs": [
    {
     "name": "stdout",
     "output_type": "stream",
     "text": [
      "24/24 [==============================] - 0s 8ms/step - loss: 0.6672 - accuracy: 0.7638 - auc: 0.8251\n"
     ]
    },
    {
     "data": {
      "text/plain": [
       "(0.7637795209884644, 0.8251453638076782)"
      ]
     },
     "execution_count": 33,
     "metadata": {},
     "output_type": "execute_result"
    }
   ],
   "source": [
    "test_loss, test_acc, test_auc = model.evaluate(X_valid, y_valid)\n",
    "test_acc, test_auc"
   ]
  },
  {
   "cell_type": "code",
   "execution_count": 34,
   "id": "d6a32ef2",
   "metadata": {
    "execution": {
     "iopub.execute_input": "2022-07-19T21:34:10.629180Z",
     "iopub.status.busy": "2022-07-19T21:34:10.628313Z",
     "iopub.status.idle": "2022-07-19T21:34:10.872534Z",
     "shell.execute_reply": "2022-07-19T21:34:10.871185Z"
    },
    "papermill": {
     "duration": 0.278761,
     "end_time": "2022-07-19T21:34:10.875481",
     "exception": false,
     "start_time": "2022-07-19T21:34:10.596720",
     "status": "completed"
    },
    "tags": []
   },
   "outputs": [
    {
     "data": {
      "text/plain": [
       "array([[0.01562271],\n",
       "       [0.1007342 ],\n",
       "       [0.55378926],\n",
       "       [0.00061348],\n",
       "       [0.5705232 ]], dtype=float32)"
      ]
     },
     "execution_count": 34,
     "metadata": {},
     "output_type": "execute_result"
    }
   ],
   "source": [
    "valid_preds = model.predict(X_valid)\n",
    "valid_preds[:5]"
   ]
  },
  {
   "cell_type": "code",
   "execution_count": 35,
   "id": "49def4eb",
   "metadata": {
    "execution": {
     "iopub.execute_input": "2022-07-19T21:34:10.937901Z",
     "iopub.status.busy": "2022-07-19T21:34:10.937112Z",
     "iopub.status.idle": "2022-07-19T21:34:10.946666Z",
     "shell.execute_reply": "2022-07-19T21:34:10.945832Z"
    },
    "papermill": {
     "duration": 0.043457,
     "end_time": "2022-07-19T21:34:10.949032",
     "exception": false,
     "start_time": "2022-07-19T21:34:10.905575",
     "status": "completed"
    },
    "tags": []
   },
   "outputs": [
    {
     "data": {
      "text/plain": [
       "array([[0.01562271],\n",
       "       [0.1007342 ],\n",
       "       [0.55378926],\n",
       "       [0.00061348],\n",
       "       [0.5705232 ]], dtype=float32)"
      ]
     },
     "execution_count": 35,
     "metadata": {},
     "output_type": "execute_result"
    }
   ],
   "source": [
    "valid_preds[:5]"
   ]
  },
  {
   "cell_type": "code",
   "execution_count": 36,
   "id": "c9a8c0fe",
   "metadata": {
    "execution": {
     "iopub.execute_input": "2022-07-19T21:34:11.012107Z",
     "iopub.status.busy": "2022-07-19T21:34:11.009957Z",
     "iopub.status.idle": "2022-07-19T21:34:11.019706Z",
     "shell.execute_reply": "2022-07-19T21:34:11.018796Z"
    },
    "papermill": {
     "duration": 0.043149,
     "end_time": "2022-07-19T21:34:11.021919",
     "exception": false,
     "start_time": "2022-07-19T21:34:10.978770",
     "status": "completed"
    },
    "tags": []
   },
   "outputs": [
    {
     "data": {
      "text/plain": [
       "array([1.56227052e-02, 1.00734204e-01, 5.53789258e-01, 6.13480806e-04,\n",
       "       5.70523202e-01, 1.31467491e-01, 1.98376179e-03, 6.21244192e-01,\n",
       "       4.25172746e-02, 9.77556586e-01], dtype=float32)"
      ]
     },
     "execution_count": 36,
     "metadata": {},
     "output_type": "execute_result"
    }
   ],
   "source": [
    "valid_preds.squeeze()[:10]"
   ]
  },
  {
   "cell_type": "code",
   "execution_count": 37,
   "id": "2cce6d86",
   "metadata": {
    "execution": {
     "iopub.execute_input": "2022-07-19T21:34:11.083711Z",
     "iopub.status.busy": "2022-07-19T21:34:11.083272Z",
     "iopub.status.idle": "2022-07-19T21:34:11.091434Z",
     "shell.execute_reply": "2022-07-19T21:34:11.090639Z"
    },
    "papermill": {
     "duration": 0.041838,
     "end_time": "2022-07-19T21:34:11.093749",
     "exception": false,
     "start_time": "2022-07-19T21:34:11.051911",
     "status": "completed"
    },
    "tags": []
   },
   "outputs": [
    {
     "data": {
      "text/plain": [
       "array([1.56227052e-02, 1.00734204e-01, 5.53789258e-01, 6.13480806e-04,\n",
       "       5.70523202e-01, 1.31467491e-01, 1.98376179e-03, 6.21244192e-01,\n",
       "       4.25172746e-02, 9.77556586e-01], dtype=float32)"
      ]
     },
     "execution_count": 37,
     "metadata": {},
     "output_type": "execute_result"
    }
   ],
   "source": [
    "valid_preds.ravel()[:10]"
   ]
  },
  {
   "cell_type": "code",
   "execution_count": 38,
   "id": "69221713",
   "metadata": {
    "execution": {
     "iopub.execute_input": "2022-07-19T21:34:11.156680Z",
     "iopub.status.busy": "2022-07-19T21:34:11.155990Z",
     "iopub.status.idle": "2022-07-19T21:34:11.162923Z",
     "shell.execute_reply": "2022-07-19T21:34:11.161950Z"
    },
    "papermill": {
     "duration": 0.040937,
     "end_time": "2022-07-19T21:34:11.165234",
     "exception": false,
     "start_time": "2022-07-19T21:34:11.124297",
     "status": "completed"
    },
    "tags": []
   },
   "outputs": [],
   "source": [
    "valid_preds = np.argmax(valid_preds, axis=1)"
   ]
  },
  {
   "cell_type": "code",
   "execution_count": 39,
   "id": "3082bb4c",
   "metadata": {
    "execution": {
     "iopub.execute_input": "2022-07-19T21:34:11.229061Z",
     "iopub.status.busy": "2022-07-19T21:34:11.228401Z",
     "iopub.status.idle": "2022-07-19T21:34:11.232968Z",
     "shell.execute_reply": "2022-07-19T21:34:11.232184Z"
    },
    "papermill": {
     "duration": 0.039102,
     "end_time": "2022-07-19T21:34:11.235129",
     "exception": false,
     "start_time": "2022-07-19T21:34:11.196027",
     "status": "completed"
    },
    "tags": []
   },
   "outputs": [],
   "source": [
    "# show_scores(y_valid, valid_preds)"
   ]
  },
  {
   "cell_type": "code",
   "execution_count": 40,
   "id": "b3933950",
   "metadata": {
    "execution": {
     "iopub.execute_input": "2022-07-19T21:34:11.297129Z",
     "iopub.status.busy": "2022-07-19T21:34:11.296457Z",
     "iopub.status.idle": "2022-07-19T21:34:11.525158Z",
     "shell.execute_reply": "2022-07-19T21:34:11.523898Z"
    },
    "papermill": {
     "duration": 0.262895,
     "end_time": "2022-07-19T21:34:11.528028",
     "exception": false,
     "start_time": "2022-07-19T21:34:11.265133",
     "status": "completed"
    },
    "tags": []
   },
   "outputs": [
    {
     "data": {
      "text/plain": [
       "array([0.5567146 , 0.5875972 , 0.99074256, 0.524126  , 0.997056  ],\n",
       "      dtype=float32)"
      ]
     },
     "execution_count": 40,
     "metadata": {},
     "output_type": "execute_result"
    }
   ],
   "source": [
    "preds = model.predict(X_test).ravel()\n",
    "preds[:5]"
   ]
  },
  {
   "cell_type": "code",
   "execution_count": 41,
   "id": "f3640b0a",
   "metadata": {
    "execution": {
     "iopub.execute_input": "2022-07-19T21:34:11.602993Z",
     "iopub.status.busy": "2022-07-19T21:34:11.602140Z",
     "iopub.status.idle": "2022-07-19T21:34:11.623280Z",
     "shell.execute_reply": "2022-07-19T21:34:11.621960Z"
    },
    "papermill": {
     "duration": 0.062221,
     "end_time": "2022-07-19T21:34:11.626357",
     "exception": false,
     "start_time": "2022-07-19T21:34:11.564136",
     "status": "completed"
    },
    "tags": []
   },
   "outputs": [
    {
     "data": {
      "text/plain": [
       "array([0, 1])"
      ]
     },
     "execution_count": 41,
     "metadata": {},
     "output_type": "execute_result"
    }
   ],
   "source": [
    "preds = (preds > 0.5).astype(int)\n",
    "np.unique(preds)"
   ]
  },
  {
   "cell_type": "code",
   "execution_count": 42,
   "id": "48ffcdec",
   "metadata": {
    "execution": {
     "iopub.execute_input": "2022-07-19T21:34:11.703822Z",
     "iopub.status.busy": "2022-07-19T21:34:11.703095Z",
     "iopub.status.idle": "2022-07-19T21:34:11.709960Z",
     "shell.execute_reply": "2022-07-19T21:34:11.708744Z"
    },
    "papermill": {
     "duration": 0.049155,
     "end_time": "2022-07-19T21:34:11.712704",
     "exception": false,
     "start_time": "2022-07-19T21:34:11.663549",
     "status": "completed"
    },
    "tags": []
   },
   "outputs": [],
   "source": [
    "# preds = np.argmax(preds, axis=1)"
   ]
  },
  {
   "cell_type": "markdown",
   "id": "9763441b",
   "metadata": {
    "papermill": {
     "duration": 0.034479,
     "end_time": "2022-07-19T21:34:11.782363",
     "exception": false,
     "start_time": "2022-07-19T21:34:11.747884",
     "status": "completed"
    },
    "tags": []
   },
   "source": [
    "## Submission"
   ]
  },
  {
   "cell_type": "code",
   "execution_count": 43,
   "id": "fdf29d44",
   "metadata": {
    "execution": {
     "iopub.execute_input": "2022-07-19T21:34:11.852980Z",
     "iopub.status.busy": "2022-07-19T21:34:11.852119Z",
     "iopub.status.idle": "2022-07-19T21:34:11.884492Z",
     "shell.execute_reply": "2022-07-19T21:34:11.883102Z"
    },
    "papermill": {
     "duration": 0.06969,
     "end_time": "2022-07-19T21:34:11.887207",
     "exception": false,
     "start_time": "2022-07-19T21:34:11.817517",
     "status": "completed"
    },
    "tags": []
   },
   "outputs": [
    {
     "data": {
      "text/html": [
       "<div>\n",
       "<style scoped>\n",
       "    .dataframe tbody tr th:only-of-type {\n",
       "        vertical-align: middle;\n",
       "    }\n",
       "\n",
       "    .dataframe tbody tr th {\n",
       "        vertical-align: top;\n",
       "    }\n",
       "\n",
       "    .dataframe thead th {\n",
       "        text-align: right;\n",
       "    }\n",
       "</style>\n",
       "<table border=\"1\" class=\"dataframe\">\n",
       "  <thead>\n",
       "    <tr style=\"text-align: right;\">\n",
       "      <th></th>\n",
       "      <th>id</th>\n",
       "      <th>target</th>\n",
       "    </tr>\n",
       "  </thead>\n",
       "  <tbody>\n",
       "    <tr>\n",
       "      <th>0</th>\n",
       "      <td>0</td>\n",
       "      <td>1</td>\n",
       "    </tr>\n",
       "    <tr>\n",
       "      <th>1</th>\n",
       "      <td>2</td>\n",
       "      <td>1</td>\n",
       "    </tr>\n",
       "    <tr>\n",
       "      <th>2</th>\n",
       "      <td>3</td>\n",
       "      <td>1</td>\n",
       "    </tr>\n",
       "    <tr>\n",
       "      <th>3</th>\n",
       "      <td>9</td>\n",
       "      <td>1</td>\n",
       "    </tr>\n",
       "    <tr>\n",
       "      <th>4</th>\n",
       "      <td>11</td>\n",
       "      <td>1</td>\n",
       "    </tr>\n",
       "    <tr>\n",
       "      <th>...</th>\n",
       "      <td>...</td>\n",
       "      <td>...</td>\n",
       "    </tr>\n",
       "    <tr>\n",
       "      <th>95</th>\n",
       "      <td>323</td>\n",
       "      <td>0</td>\n",
       "    </tr>\n",
       "    <tr>\n",
       "      <th>96</th>\n",
       "      <td>324</td>\n",
       "      <td>0</td>\n",
       "    </tr>\n",
       "    <tr>\n",
       "      <th>97</th>\n",
       "      <td>325</td>\n",
       "      <td>1</td>\n",
       "    </tr>\n",
       "    <tr>\n",
       "      <th>98</th>\n",
       "      <td>326</td>\n",
       "      <td>0</td>\n",
       "    </tr>\n",
       "    <tr>\n",
       "      <th>99</th>\n",
       "      <td>333</td>\n",
       "      <td>0</td>\n",
       "    </tr>\n",
       "  </tbody>\n",
       "</table>\n",
       "<p>100 rows × 2 columns</p>\n",
       "</div>"
      ],
      "text/plain": [
       "     id  target\n",
       "0     0       1\n",
       "1     2       1\n",
       "2     3       1\n",
       "3     9       1\n",
       "4    11       1\n",
       "..  ...     ...\n",
       "95  323       0\n",
       "96  324       0\n",
       "97  325       1\n",
       "98  326       0\n",
       "99  333       0\n",
       "\n",
       "[100 rows x 2 columns]"
      ]
     },
     "execution_count": 43,
     "metadata": {},
     "output_type": "execute_result"
    }
   ],
   "source": [
    "# Different TARGET name used in test.csv\n",
    "ss = create_submission(\"\", TARGET, preds)\n",
    "ss[:100]"
   ]
  },
  {
   "cell_type": "code",
   "execution_count": 44,
   "id": "a372075e",
   "metadata": {
    "execution": {
     "iopub.execute_input": "2022-07-19T21:34:11.962966Z",
     "iopub.status.busy": "2022-07-19T21:34:11.961546Z",
     "iopub.status.idle": "2022-07-19T21:34:11.976902Z",
     "shell.execute_reply": "2022-07-19T21:34:11.975828Z"
    },
    "papermill": {
     "duration": 0.057241,
     "end_time": "2022-07-19T21:34:11.979767",
     "exception": false,
     "start_time": "2022-07-19T21:34:11.922526",
     "status": "completed"
    },
    "tags": []
   },
   "outputs": [
    {
     "data": {
      "text/plain": [
       "0    1912\n",
       "1    1351\n",
       "Name: target, dtype: int64"
      ]
     },
     "execution_count": 44,
     "metadata": {},
     "output_type": "execute_result"
    }
   ],
   "source": [
    "ss[TARGET].value_counts()"
   ]
  },
  {
   "cell_type": "code",
   "execution_count": null,
   "id": "da80b9df",
   "metadata": {
    "papermill": {
     "duration": 0.031253,
     "end_time": "2022-07-19T21:34:12.046175",
     "exception": false,
     "start_time": "2022-07-19T21:34:12.014922",
     "status": "completed"
    },
    "tags": []
   },
   "outputs": [],
   "source": []
  }
 ],
 "metadata": {
  "kernelspec": {
   "display_name": "Python 3",
   "language": "python",
   "name": "python3"
  },
  "language_info": {
   "codemirror_mode": {
    "name": "ipython",
    "version": 3
   },
   "file_extension": ".py",
   "mimetype": "text/x-python",
   "name": "python",
   "nbconvert_exporter": "python",
   "pygments_lexer": "ipython3",
   "version": "3.7.12"
  },
  "papermill": {
   "default_parameters": {},
   "duration": 61.680044,
   "end_time": "2022-07-19T21:34:15.559461",
   "environment_variables": {},
   "exception": null,
   "input_path": "__notebook__.ipynb",
   "output_path": "__notebook__.ipynb",
   "parameters": {},
   "start_time": "2022-07-19T21:33:13.879417",
   "version": "2.3.4"
  }
 },
 "nbformat": 4,
 "nbformat_minor": 5
}
